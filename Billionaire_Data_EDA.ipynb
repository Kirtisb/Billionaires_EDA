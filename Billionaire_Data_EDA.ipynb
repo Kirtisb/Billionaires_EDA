{
 "cells": [
  {
   "cell_type": "markdown",
   "id": "3a752d4f",
   "metadata": {},
   "source": [
    "# Billionaires Statistics Dataset - Exploratory Data Analysis"
   ]
  },
  {
   "cell_type": "markdown",
   "id": "87ef3499",
   "metadata": {},
   "source": [
    "## 1. Data Loading"
   ]
  },
  {
   "cell_type": "code",
   "execution_count": 138,
   "id": "efa12a3a",
   "metadata": {},
   "outputs": [],
   "source": [
    "import pandas as pd # data processing, CSV file I/O (e.g. pd.read_csv)\n",
    "import numpy as np # linear algebra\n",
    "import matplotlib.pyplot as plt\n",
    "import seaborn as sns\n",
    "import plotly.express as px \n",
    "import plotly.graph_objects as go\n",
    "from wordcloud import WordCloud"
   ]
  },
  {
   "cell_type": "code",
   "execution_count": 139,
   "id": "1c779fb0",
   "metadata": {},
   "outputs": [],
   "source": [
    "#Import Data\n",
    "df = pd.read_csv('/Users/mad_over_minions/Desktop/Billionaires Statistics Dataset.csv')"
   ]
  },
  {
   "cell_type": "code",
   "execution_count": 140,
   "id": "9682b111",
   "metadata": {
    "scrolled": false
   },
   "outputs": [
    {
     "data": {
      "text/html": [
       "<div>\n",
       "<style scoped>\n",
       "    .dataframe tbody tr th:only-of-type {\n",
       "        vertical-align: middle;\n",
       "    }\n",
       "\n",
       "    .dataframe tbody tr th {\n",
       "        vertical-align: top;\n",
       "    }\n",
       "\n",
       "    .dataframe thead th {\n",
       "        text-align: right;\n",
       "    }\n",
       "</style>\n",
       "<table border=\"1\" class=\"dataframe\">\n",
       "  <thead>\n",
       "    <tr style=\"text-align: right;\">\n",
       "      <th></th>\n",
       "      <th>rank</th>\n",
       "      <th>finalWorth</th>\n",
       "      <th>category</th>\n",
       "      <th>personName</th>\n",
       "      <th>age</th>\n",
       "      <th>country</th>\n",
       "      <th>city</th>\n",
       "      <th>source</th>\n",
       "      <th>industries</th>\n",
       "      <th>countryOfCitizenship</th>\n",
       "      <th>...</th>\n",
       "      <th>cpi_change_country</th>\n",
       "      <th>gdp_country</th>\n",
       "      <th>gross_tertiary_education_enrollment</th>\n",
       "      <th>gross_primary_education_enrollment_country</th>\n",
       "      <th>life_expectancy_country</th>\n",
       "      <th>tax_revenue_country_country</th>\n",
       "      <th>total_tax_rate_country</th>\n",
       "      <th>population_country</th>\n",
       "      <th>latitude_country</th>\n",
       "      <th>longitude_country</th>\n",
       "    </tr>\n",
       "  </thead>\n",
       "  <tbody>\n",
       "    <tr>\n",
       "      <th>0</th>\n",
       "      <td>1</td>\n",
       "      <td>211000</td>\n",
       "      <td>Fashion &amp; Retail</td>\n",
       "      <td>Bernard Arnault &amp; family</td>\n",
       "      <td>74.0</td>\n",
       "      <td>France</td>\n",
       "      <td>Paris</td>\n",
       "      <td>LVMH</td>\n",
       "      <td>Fashion &amp; Retail</td>\n",
       "      <td>France</td>\n",
       "      <td>...</td>\n",
       "      <td>1.1</td>\n",
       "      <td>$2,715,518,274,227</td>\n",
       "      <td>65.6</td>\n",
       "      <td>102.5</td>\n",
       "      <td>82.5</td>\n",
       "      <td>24.2</td>\n",
       "      <td>60.7</td>\n",
       "      <td>67059887.0</td>\n",
       "      <td>46.227638</td>\n",
       "      <td>2.213749</td>\n",
       "    </tr>\n",
       "    <tr>\n",
       "      <th>1</th>\n",
       "      <td>2</td>\n",
       "      <td>180000</td>\n",
       "      <td>Automotive</td>\n",
       "      <td>Elon Musk</td>\n",
       "      <td>51.0</td>\n",
       "      <td>United States</td>\n",
       "      <td>Austin</td>\n",
       "      <td>Tesla, SpaceX</td>\n",
       "      <td>Automotive</td>\n",
       "      <td>United States</td>\n",
       "      <td>...</td>\n",
       "      <td>7.5</td>\n",
       "      <td>$21,427,700,000,000</td>\n",
       "      <td>88.2</td>\n",
       "      <td>101.8</td>\n",
       "      <td>78.5</td>\n",
       "      <td>9.6</td>\n",
       "      <td>36.6</td>\n",
       "      <td>328239523.0</td>\n",
       "      <td>37.090240</td>\n",
       "      <td>-95.712891</td>\n",
       "    </tr>\n",
       "    <tr>\n",
       "      <th>2</th>\n",
       "      <td>3</td>\n",
       "      <td>114000</td>\n",
       "      <td>Technology</td>\n",
       "      <td>Jeff Bezos</td>\n",
       "      <td>59.0</td>\n",
       "      <td>United States</td>\n",
       "      <td>Medina</td>\n",
       "      <td>Amazon</td>\n",
       "      <td>Technology</td>\n",
       "      <td>United States</td>\n",
       "      <td>...</td>\n",
       "      <td>7.5</td>\n",
       "      <td>$21,427,700,000,000</td>\n",
       "      <td>88.2</td>\n",
       "      <td>101.8</td>\n",
       "      <td>78.5</td>\n",
       "      <td>9.6</td>\n",
       "      <td>36.6</td>\n",
       "      <td>328239523.0</td>\n",
       "      <td>37.090240</td>\n",
       "      <td>-95.712891</td>\n",
       "    </tr>\n",
       "    <tr>\n",
       "      <th>3</th>\n",
       "      <td>4</td>\n",
       "      <td>107000</td>\n",
       "      <td>Technology</td>\n",
       "      <td>Larry Ellison</td>\n",
       "      <td>78.0</td>\n",
       "      <td>United States</td>\n",
       "      <td>Lanai</td>\n",
       "      <td>Oracle</td>\n",
       "      <td>Technology</td>\n",
       "      <td>United States</td>\n",
       "      <td>...</td>\n",
       "      <td>7.5</td>\n",
       "      <td>$21,427,700,000,000</td>\n",
       "      <td>88.2</td>\n",
       "      <td>101.8</td>\n",
       "      <td>78.5</td>\n",
       "      <td>9.6</td>\n",
       "      <td>36.6</td>\n",
       "      <td>328239523.0</td>\n",
       "      <td>37.090240</td>\n",
       "      <td>-95.712891</td>\n",
       "    </tr>\n",
       "    <tr>\n",
       "      <th>4</th>\n",
       "      <td>5</td>\n",
       "      <td>106000</td>\n",
       "      <td>Finance &amp; Investments</td>\n",
       "      <td>Warren Buffett</td>\n",
       "      <td>92.0</td>\n",
       "      <td>United States</td>\n",
       "      <td>Omaha</td>\n",
       "      <td>Berkshire Hathaway</td>\n",
       "      <td>Finance &amp; Investments</td>\n",
       "      <td>United States</td>\n",
       "      <td>...</td>\n",
       "      <td>7.5</td>\n",
       "      <td>$21,427,700,000,000</td>\n",
       "      <td>88.2</td>\n",
       "      <td>101.8</td>\n",
       "      <td>78.5</td>\n",
       "      <td>9.6</td>\n",
       "      <td>36.6</td>\n",
       "      <td>328239523.0</td>\n",
       "      <td>37.090240</td>\n",
       "      <td>-95.712891</td>\n",
       "    </tr>\n",
       "  </tbody>\n",
       "</table>\n",
       "<p>5 rows × 35 columns</p>\n",
       "</div>"
      ],
      "text/plain": [
       "   rank  finalWorth               category                personName   age  \\\n",
       "0     1      211000       Fashion & Retail  Bernard Arnault & family  74.0   \n",
       "1     2      180000             Automotive                 Elon Musk  51.0   \n",
       "2     3      114000             Technology                Jeff Bezos  59.0   \n",
       "3     4      107000             Technology             Larry Ellison  78.0   \n",
       "4     5      106000  Finance & Investments            Warren Buffett  92.0   \n",
       "\n",
       "         country    city              source             industries  \\\n",
       "0         France   Paris                LVMH       Fashion & Retail   \n",
       "1  United States  Austin       Tesla, SpaceX             Automotive   \n",
       "2  United States  Medina              Amazon             Technology   \n",
       "3  United States   Lanai              Oracle             Technology   \n",
       "4  United States   Omaha  Berkshire Hathaway  Finance & Investments   \n",
       "\n",
       "  countryOfCitizenship  ... cpi_change_country           gdp_country  \\\n",
       "0               France  ...                1.1   $2,715,518,274,227    \n",
       "1        United States  ...                7.5  $21,427,700,000,000    \n",
       "2        United States  ...                7.5  $21,427,700,000,000    \n",
       "3        United States  ...                7.5  $21,427,700,000,000    \n",
       "4        United States  ...                7.5  $21,427,700,000,000    \n",
       "\n",
       "  gross_tertiary_education_enrollment  \\\n",
       "0                                65.6   \n",
       "1                                88.2   \n",
       "2                                88.2   \n",
       "3                                88.2   \n",
       "4                                88.2   \n",
       "\n",
       "  gross_primary_education_enrollment_country life_expectancy_country  \\\n",
       "0                                      102.5                    82.5   \n",
       "1                                      101.8                    78.5   \n",
       "2                                      101.8                    78.5   \n",
       "3                                      101.8                    78.5   \n",
       "4                                      101.8                    78.5   \n",
       "\n",
       "  tax_revenue_country_country total_tax_rate_country population_country  \\\n",
       "0                        24.2                   60.7         67059887.0   \n",
       "1                         9.6                   36.6        328239523.0   \n",
       "2                         9.6                   36.6        328239523.0   \n",
       "3                         9.6                   36.6        328239523.0   \n",
       "4                         9.6                   36.6        328239523.0   \n",
       "\n",
       "  latitude_country longitude_country  \n",
       "0        46.227638          2.213749  \n",
       "1        37.090240        -95.712891  \n",
       "2        37.090240        -95.712891  \n",
       "3        37.090240        -95.712891  \n",
       "4        37.090240        -95.712891  \n",
       "\n",
       "[5 rows x 35 columns]"
      ]
     },
     "execution_count": 140,
     "metadata": {},
     "output_type": "execute_result"
    }
   ],
   "source": [
    "df.head()"
   ]
  },
  {
   "cell_type": "code",
   "execution_count": 141,
   "id": "c6fbf164",
   "metadata": {},
   "outputs": [
    {
     "name": "stdout",
     "output_type": "stream",
     "text": [
      "<class 'pandas.core.frame.DataFrame'>\n",
      "RangeIndex: 2640 entries, 0 to 2639\n",
      "Data columns (total 35 columns):\n",
      " #   Column                                      Non-Null Count  Dtype  \n",
      "---  ------                                      --------------  -----  \n",
      " 0   rank                                        2640 non-null   int64  \n",
      " 1   finalWorth                                  2640 non-null   int64  \n",
      " 2   category                                    2640 non-null   object \n",
      " 3   personName                                  2640 non-null   object \n",
      " 4   age                                         2575 non-null   float64\n",
      " 5   country                                     2602 non-null   object \n",
      " 6   city                                        2568 non-null   object \n",
      " 7   source                                      2640 non-null   object \n",
      " 8   industries                                  2640 non-null   object \n",
      " 9   countryOfCitizenship                        2640 non-null   object \n",
      " 10  organization                                325 non-null    object \n",
      " 11  selfMade                                    2640 non-null   bool   \n",
      " 12  status                                      2640 non-null   object \n",
      " 13  gender                                      2640 non-null   object \n",
      " 14  birthDate                                   2564 non-null   object \n",
      " 15  lastName                                    2640 non-null   object \n",
      " 16  firstName                                   2637 non-null   object \n",
      " 17  title                                       339 non-null    object \n",
      " 18  date                                        2640 non-null   object \n",
      " 19  state                                       753 non-null    object \n",
      " 20  residenceStateRegion                        747 non-null    object \n",
      " 21  birthYear                                   2564 non-null   float64\n",
      " 22  birthMonth                                  2564 non-null   float64\n",
      " 23  birthDay                                    2564 non-null   float64\n",
      " 24  cpi_country                                 2456 non-null   float64\n",
      " 25  cpi_change_country                          2456 non-null   float64\n",
      " 26  gdp_country                                 2476 non-null   object \n",
      " 27  gross_tertiary_education_enrollment         2458 non-null   float64\n",
      " 28  gross_primary_education_enrollment_country  2459 non-null   float64\n",
      " 29  life_expectancy_country                     2458 non-null   float64\n",
      " 30  tax_revenue_country_country                 2457 non-null   float64\n",
      " 31  total_tax_rate_country                      2458 non-null   float64\n",
      " 32  population_country                          2476 non-null   float64\n",
      " 33  latitude_country                            2476 non-null   float64\n",
      " 34  longitude_country                           2476 non-null   float64\n",
      "dtypes: bool(1), float64(14), int64(2), object(18)\n",
      "memory usage: 704.0+ KB\n"
     ]
    }
   ],
   "source": [
    "df.info()"
   ]
  },
  {
   "cell_type": "code",
   "execution_count": 142,
   "id": "ad9f9c61",
   "metadata": {},
   "outputs": [
    {
     "data": {
      "text/plain": [
       "Index(['rank', 'finalWorth', 'category', 'personName', 'age', 'country',\n",
       "       'city', 'source', 'industries', 'countryOfCitizenship', 'organization',\n",
       "       'selfMade', 'status', 'gender', 'birthDate', 'lastName', 'firstName',\n",
       "       'title', 'date', 'state', 'residenceStateRegion', 'birthYear',\n",
       "       'birthMonth', 'birthDay', 'cpi_country', 'cpi_change_country',\n",
       "       'gdp_country', 'gross_tertiary_education_enrollment',\n",
       "       'gross_primary_education_enrollment_country', 'life_expectancy_country',\n",
       "       'tax_revenue_country_country', 'total_tax_rate_country',\n",
       "       'population_country', 'latitude_country', 'longitude_country'],\n",
       "      dtype='object')"
      ]
     },
     "execution_count": 142,
     "metadata": {},
     "output_type": "execute_result"
    }
   ],
   "source": [
    "df.columns"
   ]
  },
  {
   "cell_type": "code",
   "execution_count": 143,
   "id": "5e51261d",
   "metadata": {},
   "outputs": [
    {
     "data": {
      "text/plain": [
       "rank                                             0\n",
       "finalWorth                                       0\n",
       "category                                         0\n",
       "personName                                       0\n",
       "age                                             65\n",
       "country                                         38\n",
       "city                                            72\n",
       "source                                           0\n",
       "industries                                       0\n",
       "countryOfCitizenship                             0\n",
       "organization                                  2315\n",
       "selfMade                                         0\n",
       "status                                           0\n",
       "gender                                           0\n",
       "birthDate                                       76\n",
       "lastName                                         0\n",
       "firstName                                        3\n",
       "title                                         2301\n",
       "date                                             0\n",
       "state                                         1887\n",
       "residenceStateRegion                          1893\n",
       "birthYear                                       76\n",
       "birthMonth                                      76\n",
       "birthDay                                        76\n",
       "cpi_country                                    184\n",
       "cpi_change_country                             184\n",
       "gdp_country                                    164\n",
       "gross_tertiary_education_enrollment            182\n",
       "gross_primary_education_enrollment_country     181\n",
       "life_expectancy_country                        182\n",
       "tax_revenue_country_country                    183\n",
       "total_tax_rate_country                         182\n",
       "population_country                             164\n",
       "latitude_country                               164\n",
       "longitude_country                              164\n",
       "dtype: int64"
      ]
     },
     "execution_count": 143,
     "metadata": {},
     "output_type": "execute_result"
    }
   ],
   "source": [
    "df.isnull().sum()"
   ]
  },
  {
   "cell_type": "markdown",
   "id": "1a484c33",
   "metadata": {},
   "source": [
    "## 2. Data Cleaning"
   ]
  },
  {
   "cell_type": "code",
   "execution_count": 144,
   "id": "59806253",
   "metadata": {},
   "outputs": [
    {
     "data": {
      "text/html": [
       "<div>\n",
       "<style scoped>\n",
       "    .dataframe tbody tr th:only-of-type {\n",
       "        vertical-align: middle;\n",
       "    }\n",
       "\n",
       "    .dataframe tbody tr th {\n",
       "        vertical-align: top;\n",
       "    }\n",
       "\n",
       "    .dataframe thead th {\n",
       "        text-align: right;\n",
       "    }\n",
       "</style>\n",
       "<table border=\"1\" class=\"dataframe\">\n",
       "  <thead>\n",
       "    <tr style=\"text-align: right;\">\n",
       "      <th></th>\n",
       "      <th>rank</th>\n",
       "      <th>finalWorth</th>\n",
       "      <th>age</th>\n",
       "      <th>birthYear</th>\n",
       "      <th>birthMonth</th>\n",
       "      <th>birthDay</th>\n",
       "      <th>cpi_country</th>\n",
       "      <th>cpi_change_country</th>\n",
       "      <th>gross_tertiary_education_enrollment</th>\n",
       "      <th>gross_primary_education_enrollment_country</th>\n",
       "      <th>life_expectancy_country</th>\n",
       "      <th>tax_revenue_country_country</th>\n",
       "      <th>total_tax_rate_country</th>\n",
       "      <th>population_country</th>\n",
       "      <th>latitude_country</th>\n",
       "      <th>longitude_country</th>\n",
       "    </tr>\n",
       "  </thead>\n",
       "  <tbody>\n",
       "    <tr>\n",
       "      <th>count</th>\n",
       "      <td>2640.000000</td>\n",
       "      <td>2640.000000</td>\n",
       "      <td>2575.000000</td>\n",
       "      <td>2564.000000</td>\n",
       "      <td>2564.000000</td>\n",
       "      <td>2564.000000</td>\n",
       "      <td>2456.000000</td>\n",
       "      <td>2456.000000</td>\n",
       "      <td>2458.000000</td>\n",
       "      <td>2459.000000</td>\n",
       "      <td>2458.000000</td>\n",
       "      <td>2457.000000</td>\n",
       "      <td>2458.000000</td>\n",
       "      <td>2.476000e+03</td>\n",
       "      <td>2476.000000</td>\n",
       "      <td>2476.000000</td>\n",
       "    </tr>\n",
       "    <tr>\n",
       "      <th>mean</th>\n",
       "      <td>1289.159091</td>\n",
       "      <td>4623.787879</td>\n",
       "      <td>65.140194</td>\n",
       "      <td>1957.183307</td>\n",
       "      <td>5.740250</td>\n",
       "      <td>12.099844</td>\n",
       "      <td>127.755204</td>\n",
       "      <td>4.364169</td>\n",
       "      <td>67.225671</td>\n",
       "      <td>102.858520</td>\n",
       "      <td>78.122823</td>\n",
       "      <td>12.546235</td>\n",
       "      <td>43.963344</td>\n",
       "      <td>5.102053e+08</td>\n",
       "      <td>34.903592</td>\n",
       "      <td>12.583156</td>\n",
       "    </tr>\n",
       "    <tr>\n",
       "      <th>std</th>\n",
       "      <td>739.693726</td>\n",
       "      <td>9834.240939</td>\n",
       "      <td>13.258098</td>\n",
       "      <td>13.282516</td>\n",
       "      <td>3.710085</td>\n",
       "      <td>9.918876</td>\n",
       "      <td>26.452951</td>\n",
       "      <td>3.623763</td>\n",
       "      <td>21.343426</td>\n",
       "      <td>4.710977</td>\n",
       "      <td>3.730099</td>\n",
       "      <td>5.368625</td>\n",
       "      <td>12.145296</td>\n",
       "      <td>5.542447e+08</td>\n",
       "      <td>17.003497</td>\n",
       "      <td>86.762989</td>\n",
       "    </tr>\n",
       "    <tr>\n",
       "      <th>min</th>\n",
       "      <td>1.000000</td>\n",
       "      <td>1000.000000</td>\n",
       "      <td>18.000000</td>\n",
       "      <td>1921.000000</td>\n",
       "      <td>1.000000</td>\n",
       "      <td>1.000000</td>\n",
       "      <td>99.550000</td>\n",
       "      <td>-1.900000</td>\n",
       "      <td>4.000000</td>\n",
       "      <td>84.700000</td>\n",
       "      <td>54.300000</td>\n",
       "      <td>0.100000</td>\n",
       "      <td>9.900000</td>\n",
       "      <td>3.801900e+04</td>\n",
       "      <td>-40.900557</td>\n",
       "      <td>-106.346771</td>\n",
       "    </tr>\n",
       "    <tr>\n",
       "      <th>25%</th>\n",
       "      <td>659.000000</td>\n",
       "      <td>1500.000000</td>\n",
       "      <td>56.000000</td>\n",
       "      <td>1948.000000</td>\n",
       "      <td>2.000000</td>\n",
       "      <td>1.000000</td>\n",
       "      <td>117.240000</td>\n",
       "      <td>1.700000</td>\n",
       "      <td>50.600000</td>\n",
       "      <td>100.200000</td>\n",
       "      <td>77.000000</td>\n",
       "      <td>9.600000</td>\n",
       "      <td>36.600000</td>\n",
       "      <td>6.683440e+07</td>\n",
       "      <td>35.861660</td>\n",
       "      <td>-95.712891</td>\n",
       "    </tr>\n",
       "    <tr>\n",
       "      <th>50%</th>\n",
       "      <td>1312.000000</td>\n",
       "      <td>2300.000000</td>\n",
       "      <td>65.000000</td>\n",
       "      <td>1957.000000</td>\n",
       "      <td>6.000000</td>\n",
       "      <td>11.000000</td>\n",
       "      <td>117.240000</td>\n",
       "      <td>2.900000</td>\n",
       "      <td>65.600000</td>\n",
       "      <td>101.800000</td>\n",
       "      <td>78.500000</td>\n",
       "      <td>9.600000</td>\n",
       "      <td>41.200000</td>\n",
       "      <td>3.282395e+08</td>\n",
       "      <td>37.090240</td>\n",
       "      <td>10.451526</td>\n",
       "    </tr>\n",
       "    <tr>\n",
       "      <th>75%</th>\n",
       "      <td>1905.000000</td>\n",
       "      <td>4200.000000</td>\n",
       "      <td>75.000000</td>\n",
       "      <td>1966.000000</td>\n",
       "      <td>9.000000</td>\n",
       "      <td>21.000000</td>\n",
       "      <td>125.080000</td>\n",
       "      <td>7.500000</td>\n",
       "      <td>88.200000</td>\n",
       "      <td>102.600000</td>\n",
       "      <td>80.900000</td>\n",
       "      <td>12.800000</td>\n",
       "      <td>59.100000</td>\n",
       "      <td>1.366418e+09</td>\n",
       "      <td>40.463667</td>\n",
       "      <td>104.195397</td>\n",
       "    </tr>\n",
       "    <tr>\n",
       "      <th>max</th>\n",
       "      <td>2540.000000</td>\n",
       "      <td>211000.000000</td>\n",
       "      <td>101.000000</td>\n",
       "      <td>2004.000000</td>\n",
       "      <td>12.000000</td>\n",
       "      <td>31.000000</td>\n",
       "      <td>288.570000</td>\n",
       "      <td>53.500000</td>\n",
       "      <td>136.600000</td>\n",
       "      <td>142.100000</td>\n",
       "      <td>84.200000</td>\n",
       "      <td>37.200000</td>\n",
       "      <td>106.300000</td>\n",
       "      <td>1.397715e+09</td>\n",
       "      <td>61.924110</td>\n",
       "      <td>174.885971</td>\n",
       "    </tr>\n",
       "  </tbody>\n",
       "</table>\n",
       "</div>"
      ],
      "text/plain": [
       "              rank     finalWorth          age    birthYear   birthMonth  \\\n",
       "count  2640.000000    2640.000000  2575.000000  2564.000000  2564.000000   \n",
       "mean   1289.159091    4623.787879    65.140194  1957.183307     5.740250   \n",
       "std     739.693726    9834.240939    13.258098    13.282516     3.710085   \n",
       "min       1.000000    1000.000000    18.000000  1921.000000     1.000000   \n",
       "25%     659.000000    1500.000000    56.000000  1948.000000     2.000000   \n",
       "50%    1312.000000    2300.000000    65.000000  1957.000000     6.000000   \n",
       "75%    1905.000000    4200.000000    75.000000  1966.000000     9.000000   \n",
       "max    2540.000000  211000.000000   101.000000  2004.000000    12.000000   \n",
       "\n",
       "          birthDay  cpi_country  cpi_change_country  \\\n",
       "count  2564.000000  2456.000000         2456.000000   \n",
       "mean     12.099844   127.755204            4.364169   \n",
       "std       9.918876    26.452951            3.623763   \n",
       "min       1.000000    99.550000           -1.900000   \n",
       "25%       1.000000   117.240000            1.700000   \n",
       "50%      11.000000   117.240000            2.900000   \n",
       "75%      21.000000   125.080000            7.500000   \n",
       "max      31.000000   288.570000           53.500000   \n",
       "\n",
       "       gross_tertiary_education_enrollment  \\\n",
       "count                          2458.000000   \n",
       "mean                             67.225671   \n",
       "std                              21.343426   \n",
       "min                               4.000000   \n",
       "25%                              50.600000   \n",
       "50%                              65.600000   \n",
       "75%                              88.200000   \n",
       "max                             136.600000   \n",
       "\n",
       "       gross_primary_education_enrollment_country  life_expectancy_country  \\\n",
       "count                                 2459.000000              2458.000000   \n",
       "mean                                   102.858520                78.122823   \n",
       "std                                      4.710977                 3.730099   \n",
       "min                                     84.700000                54.300000   \n",
       "25%                                    100.200000                77.000000   \n",
       "50%                                    101.800000                78.500000   \n",
       "75%                                    102.600000                80.900000   \n",
       "max                                    142.100000                84.200000   \n",
       "\n",
       "       tax_revenue_country_country  total_tax_rate_country  \\\n",
       "count                  2457.000000             2458.000000   \n",
       "mean                     12.546235               43.963344   \n",
       "std                       5.368625               12.145296   \n",
       "min                       0.100000                9.900000   \n",
       "25%                       9.600000               36.600000   \n",
       "50%                       9.600000               41.200000   \n",
       "75%                      12.800000               59.100000   \n",
       "max                      37.200000              106.300000   \n",
       "\n",
       "       population_country  latitude_country  longitude_country  \n",
       "count        2.476000e+03       2476.000000        2476.000000  \n",
       "mean         5.102053e+08         34.903592          12.583156  \n",
       "std          5.542447e+08         17.003497          86.762989  \n",
       "min          3.801900e+04        -40.900557        -106.346771  \n",
       "25%          6.683440e+07         35.861660         -95.712891  \n",
       "50%          3.282395e+08         37.090240          10.451526  \n",
       "75%          1.366418e+09         40.463667         104.195397  \n",
       "max          1.397715e+09         61.924110         174.885971  "
      ]
     },
     "execution_count": 144,
     "metadata": {},
     "output_type": "execute_result"
    }
   ],
   "source": [
    "df.describe()"
   ]
  },
  {
   "cell_type": "code",
   "execution_count": 145,
   "id": "ecd12c6c",
   "metadata": {},
   "outputs": [
    {
     "data": {
      "text/html": [
       "<div>\n",
       "<style scoped>\n",
       "    .dataframe tbody tr th:only-of-type {\n",
       "        vertical-align: middle;\n",
       "    }\n",
       "\n",
       "    .dataframe tbody tr th {\n",
       "        vertical-align: top;\n",
       "    }\n",
       "\n",
       "    .dataframe thead th {\n",
       "        text-align: right;\n",
       "    }\n",
       "</style>\n",
       "<table border=\"1\" class=\"dataframe\">\n",
       "  <thead>\n",
       "    <tr style=\"text-align: right;\">\n",
       "      <th></th>\n",
       "      <th>Missing_Number</th>\n",
       "      <th>Missing_Percent</th>\n",
       "    </tr>\n",
       "  </thead>\n",
       "  <tbody>\n",
       "    <tr>\n",
       "      <th>organization</th>\n",
       "      <td>2315</td>\n",
       "      <td>87.689394</td>\n",
       "    </tr>\n",
       "    <tr>\n",
       "      <th>title</th>\n",
       "      <td>2301</td>\n",
       "      <td>87.159091</td>\n",
       "    </tr>\n",
       "    <tr>\n",
       "      <th>residenceStateRegion</th>\n",
       "      <td>1893</td>\n",
       "      <td>71.704545</td>\n",
       "    </tr>\n",
       "    <tr>\n",
       "      <th>state</th>\n",
       "      <td>1887</td>\n",
       "      <td>71.477273</td>\n",
       "    </tr>\n",
       "    <tr>\n",
       "      <th>cpi_country</th>\n",
       "      <td>184</td>\n",
       "      <td>6.969697</td>\n",
       "    </tr>\n",
       "    <tr>\n",
       "      <th>cpi_change_country</th>\n",
       "      <td>184</td>\n",
       "      <td>6.969697</td>\n",
       "    </tr>\n",
       "    <tr>\n",
       "      <th>tax_revenue_country_country</th>\n",
       "      <td>183</td>\n",
       "      <td>6.931818</td>\n",
       "    </tr>\n",
       "    <tr>\n",
       "      <th>gross_tertiary_education_enrollment</th>\n",
       "      <td>182</td>\n",
       "      <td>6.893939</td>\n",
       "    </tr>\n",
       "    <tr>\n",
       "      <th>total_tax_rate_country</th>\n",
       "      <td>182</td>\n",
       "      <td>6.893939</td>\n",
       "    </tr>\n",
       "    <tr>\n",
       "      <th>life_expectancy_country</th>\n",
       "      <td>182</td>\n",
       "      <td>6.893939</td>\n",
       "    </tr>\n",
       "    <tr>\n",
       "      <th>gross_primary_education_enrollment_country</th>\n",
       "      <td>181</td>\n",
       "      <td>6.856061</td>\n",
       "    </tr>\n",
       "    <tr>\n",
       "      <th>latitude_country</th>\n",
       "      <td>164</td>\n",
       "      <td>6.212121</td>\n",
       "    </tr>\n",
       "    <tr>\n",
       "      <th>population_country</th>\n",
       "      <td>164</td>\n",
       "      <td>6.212121</td>\n",
       "    </tr>\n",
       "    <tr>\n",
       "      <th>longitude_country</th>\n",
       "      <td>164</td>\n",
       "      <td>6.212121</td>\n",
       "    </tr>\n",
       "    <tr>\n",
       "      <th>gdp_country</th>\n",
       "      <td>164</td>\n",
       "      <td>6.212121</td>\n",
       "    </tr>\n",
       "    <tr>\n",
       "      <th>birthDay</th>\n",
       "      <td>76</td>\n",
       "      <td>2.878788</td>\n",
       "    </tr>\n",
       "    <tr>\n",
       "      <th>birthMonth</th>\n",
       "      <td>76</td>\n",
       "      <td>2.878788</td>\n",
       "    </tr>\n",
       "    <tr>\n",
       "      <th>birthYear</th>\n",
       "      <td>76</td>\n",
       "      <td>2.878788</td>\n",
       "    </tr>\n",
       "    <tr>\n",
       "      <th>birthDate</th>\n",
       "      <td>76</td>\n",
       "      <td>2.878788</td>\n",
       "    </tr>\n",
       "    <tr>\n",
       "      <th>city</th>\n",
       "      <td>72</td>\n",
       "      <td>2.727273</td>\n",
       "    </tr>\n",
       "    <tr>\n",
       "      <th>age</th>\n",
       "      <td>65</td>\n",
       "      <td>2.462121</td>\n",
       "    </tr>\n",
       "    <tr>\n",
       "      <th>country</th>\n",
       "      <td>38</td>\n",
       "      <td>1.439394</td>\n",
       "    </tr>\n",
       "  </tbody>\n",
       "</table>\n",
       "</div>"
      ],
      "text/plain": [
       "                                            Missing_Number  Missing_Percent\n",
       "organization                                          2315        87.689394\n",
       "title                                                 2301        87.159091\n",
       "residenceStateRegion                                  1893        71.704545\n",
       "state                                                 1887        71.477273\n",
       "cpi_country                                            184         6.969697\n",
       "cpi_change_country                                     184         6.969697\n",
       "tax_revenue_country_country                            183         6.931818\n",
       "gross_tertiary_education_enrollment                    182         6.893939\n",
       "total_tax_rate_country                                 182         6.893939\n",
       "life_expectancy_country                                182         6.893939\n",
       "gross_primary_education_enrollment_country             181         6.856061\n",
       "latitude_country                                       164         6.212121\n",
       "population_country                                     164         6.212121\n",
       "longitude_country                                      164         6.212121\n",
       "gdp_country                                            164         6.212121\n",
       "birthDay                                                76         2.878788\n",
       "birthMonth                                              76         2.878788\n",
       "birthYear                                               76         2.878788\n",
       "birthDate                                               76         2.878788\n",
       "city                                                    72         2.727273\n",
       "age                                                     65         2.462121\n",
       "country                                                 38         1.439394"
      ]
     },
     "execution_count": 145,
     "metadata": {},
     "output_type": "execute_result"
    }
   ],
   "source": [
    "def missing(df):\n",
    "    missing_values = df.isnull().sum()\n",
    "    missing_percent = (missing_values / len(df)) * 100\n",
    "    missing_df = pd.concat([missing_values, missing_percent], axis=1, keys=['Missing_Number', 'Missing_Percent'])\n",
    "    high_missing_df = missing_df[missing_df['Missing_Percent']>1]\n",
    "    # Sort the DataFrame by 'Missing_Percent' in ascending order\n",
    "    high_missing_df_sorted = high_missing_df.sort_values(by='Missing_Percent', ascending=False)\n",
    "    \n",
    "    return high_missing_df_sorted\n",
    "missing(df)"
   ]
  },
  {
   "cell_type": "code",
   "execution_count": 146,
   "id": "38643505",
   "metadata": {},
   "outputs": [],
   "source": [
    "#drop these columns organization,resident state region,state\n",
    "df=df.drop(columns=['state','organization','residenceStateRegion','birthDay','birthMonth','birthYear','birthDate'])\n"
   ]
  },
  {
   "cell_type": "code",
   "execution_count": 147,
   "id": "23d5954c",
   "metadata": {},
   "outputs": [],
   "source": [
    "# Replacing Missing Values in Country Column by Mode because of few values\n",
    "most_frequent_country = df['country'].mode()[0]\n",
    "df['country'].fillna(most_frequent_country, inplace=True)"
   ]
  },
  {
   "cell_type": "code",
   "execution_count": 148,
   "id": "e2e5b206",
   "metadata": {},
   "outputs": [],
   "source": [
    "#imputing values of below columns using the specific country as reference, as these values remain same for that specific country\n",
    "columns_to_impute = [\n",
    "    'gross_tertiary_education_enrollment',\n",
    "    'gross_primary_education_enrollment_country',\n",
    "    'life_expectancy_country',\n",
    "    'tax_revenue_country_country',\n",
    "    'total_tax_rate_country',\n",
    "    'population_country',\n",
    "    'latitude_country',\n",
    "    'longitude_country',\n",
    "    'cpi_country',\n",
    "    'cpi_change_country'\n",
    "]\n",
    "\n",
    "# Impute missing values for each specified column based on 'country'\n",
    "df[columns_to_impute] = df.groupby('country')[columns_to_impute].transform(lambda x: x.fillna(x.mean() if not x.mode().empty else np.nan))\n",
    "\n",
    "# If there are still missing values after group-wise imputation, fill them with the overall mean\n",
    "df[columns_to_impute] = df[columns_to_impute].apply(lambda x: x.fillna(x.mean() if not x.mode().empty else np.nan))\n",
    "\n"
   ]
  },
  {
   "cell_type": "code",
   "execution_count": 149,
   "id": "5dbb4ab5",
   "metadata": {},
   "outputs": [],
   "source": [
    "# Replace $ and , and convert to numeric\n",
    "df['gdp_country'] = pd.to_numeric(df['gdp_country'].replace('[\\$,]', '', regex=True), errors='coerce')\n",
    "\n",
    "# Impute missing values based on 'country'\n",
    "df['gdp_country'] = df.groupby('country')['gdp_country'].transform(lambda x: x.fillna(x.mean() if not x.mode().empty else np.nan))\n",
    "\n",
    "# If there are still missing values after group-wise imputation, fill them with the overall mean\n",
    "df['gdp_country'].fillna(df['gdp_country'].mean(), inplace=True)"
   ]
  },
  {
   "cell_type": "code",
   "execution_count": 150,
   "id": "2205fcdd",
   "metadata": {},
   "outputs": [],
   "source": [
    "#Impute missing values in city based on 'country'\n",
    "df['city'] = df.groupby('country')['city'].transform(lambda x: x.fillna(x.mode().iloc[0] if not x.mode().empty else np.nan))\n",
    "df['city'].fillna(df['city'].mode()[0], inplace=True)"
   ]
  },
  {
   "cell_type": "code",
   "execution_count": 151,
   "id": "d89613c1",
   "metadata": {},
   "outputs": [
    {
     "data": {
      "text/plain": [
       "rank                                             0\n",
       "finalWorth                                       0\n",
       "category                                         0\n",
       "personName                                       0\n",
       "age                                             65\n",
       "country                                          0\n",
       "city                                             0\n",
       "source                                           0\n",
       "industries                                       0\n",
       "countryOfCitizenship                             0\n",
       "selfMade                                         0\n",
       "status                                           0\n",
       "gender                                           0\n",
       "lastName                                         0\n",
       "firstName                                        3\n",
       "title                                         2301\n",
       "date                                             0\n",
       "cpi_country                                      0\n",
       "cpi_change_country                               0\n",
       "gdp_country                                      0\n",
       "gross_tertiary_education_enrollment              0\n",
       "gross_primary_education_enrollment_country       0\n",
       "life_expectancy_country                          0\n",
       "tax_revenue_country_country                      0\n",
       "total_tax_rate_country                           0\n",
       "population_country                               0\n",
       "latitude_country                                 0\n",
       "longitude_country                                0\n",
       "dtype: int64"
      ]
     },
     "execution_count": 151,
     "metadata": {},
     "output_type": "execute_result"
    }
   ],
   "source": [
    "df.isnull().sum()"
   ]
  },
  {
   "cell_type": "markdown",
   "id": "df0a4fdb",
   "metadata": {},
   "source": [
    "## 3.Data visualizations"
   ]
  },
  {
   "cell_type": "code",
   "execution_count": 248,
   "id": "d09184d7",
   "metadata": {},
   "outputs": [
    {
     "data": {
      "application/vnd.plotly.v1+json": {
       "config": {
        "plotlyServerURL": "https://plot.ly"
       },
       "data": [
        {
         "coloraxis": "coloraxis",
         "geo": "geo",
         "hovertemplate": "country=%{location}<br>Number of Billionaires=%{z}<extra></extra>",
         "locationmode": "country names",
         "locations": [
          "United States",
          "China",
          "India",
          "Germany",
          "United Kingdom",
          "Russia",
          "Switzerland",
          "Hong Kong",
          "Italy",
          "Singapore",
          "Brazil",
          "Australia",
          "Taiwan",
          "Canada",
          "Japan",
          "France",
          "South Korea",
          "Thailand",
          "Sweden",
          "Israel",
          "Turkey",
          "Spain",
          "Indonesia",
          "United Arab Emirates",
          "Monaco",
          "Philippines",
          "Mexico",
          "Austria",
          "Malaysia",
          "Netherlands",
          "Norway",
          "Denmark",
          "Kazakhstan",
          "Finland",
          "Czech Republic",
          "Vietnam",
          "Ukraine",
          "Chile",
          "Poland",
          "Cyprus",
          "South Africa",
          "Egypt",
          "Ireland",
          "Argentina",
          "Hungary",
          "Romania",
          "Greece",
          "Nigeria",
          "Belgium",
          "Cayman Islands",
          "Qatar",
          "Lebanon",
          "Slovakia",
          "Bermuda",
          "Morocco",
          "Peru",
          "Bahamas",
          "New Zealand",
          "Turks and Caicos Islands",
          "Nepal",
          "Uruguay",
          "Tanzania",
          "Andorra",
          "Bahrain",
          "Colombia",
          "Liechtenstein",
          "Guernsey",
          "Oman",
          "Cambodia",
          "British Virgin Islands",
          "Luxembourg",
          "Latvia",
          "Algeria",
          "Portugal",
          "Georgia",
          "Eswatini (Swaziland)",
          "Uzbekistan",
          "Armenia"
         ],
         "name": "",
         "type": "choropleth",
         "z": [
          792,
          523,
          157,
          102,
          82,
          79,
          78,
          68,
          55,
          46,
          44,
          43,
          43,
          42,
          38,
          35,
          29,
          28,
          26,
          26,
          25,
          25,
          25,
          17,
          17,
          14,
          13,
          11,
          11,
          10,
          9,
          7,
          7,
          7,
          7,
          6,
          6,
          6,
          5,
          5,
          5,
          4,
          4,
          4,
          3,
          3,
          3,
          3,
          3,
          3,
          2,
          2,
          2,
          2,
          2,
          2,
          2,
          2,
          1,
          1,
          1,
          1,
          1,
          1,
          1,
          1,
          1,
          1,
          1,
          1,
          1,
          1,
          1,
          1,
          1,
          1,
          1,
          1
         ]
        }
       ],
       "layout": {
        "coloraxis": {
         "colorbar": {
          "tickformat": ",",
          "title": {
           "text": "Number of Billionaires"
          }
         },
         "colorscale": [
          [
           0,
           "#0d0887"
          ],
          [
           0.1111111111111111,
           "#46039f"
          ],
          [
           0.2222222222222222,
           "#7201a8"
          ],
          [
           0.3333333333333333,
           "#9c179e"
          ],
          [
           0.4444444444444444,
           "#bd3786"
          ],
          [
           0.5555555555555556,
           "#d8576b"
          ],
          [
           0.6666666666666666,
           "#ed7953"
          ],
          [
           0.7777777777777778,
           "#fb9f3a"
          ],
          [
           0.8888888888888888,
           "#fdca26"
          ],
          [
           1,
           "#f0f921"
          ]
         ]
        },
        "geo": {
         "center": {},
         "domain": {
          "x": [
           0,
           1
          ],
          "y": [
           0,
           1
          ]
         },
         "landcolor": "white",
         "showcoastlines": true,
         "showland": true
        },
        "height": 500,
        "legend": {
         "tracegroupgap": 0
        },
        "margin": {
         "b": 0,
         "l": 0,
         "r": 0,
         "t": 50
        },
        "template": {
         "data": {
          "bar": [
           {
            "error_x": {
             "color": "#2a3f5f"
            },
            "error_y": {
             "color": "#2a3f5f"
            },
            "marker": {
             "line": {
              "color": "#E5ECF6",
              "width": 0.5
             },
             "pattern": {
              "fillmode": "overlay",
              "size": 10,
              "solidity": 0.2
             }
            },
            "type": "bar"
           }
          ],
          "barpolar": [
           {
            "marker": {
             "line": {
              "color": "#E5ECF6",
              "width": 0.5
             },
             "pattern": {
              "fillmode": "overlay",
              "size": 10,
              "solidity": 0.2
             }
            },
            "type": "barpolar"
           }
          ],
          "carpet": [
           {
            "aaxis": {
             "endlinecolor": "#2a3f5f",
             "gridcolor": "white",
             "linecolor": "white",
             "minorgridcolor": "white",
             "startlinecolor": "#2a3f5f"
            },
            "baxis": {
             "endlinecolor": "#2a3f5f",
             "gridcolor": "white",
             "linecolor": "white",
             "minorgridcolor": "white",
             "startlinecolor": "#2a3f5f"
            },
            "type": "carpet"
           }
          ],
          "choropleth": [
           {
            "colorbar": {
             "outlinewidth": 0,
             "ticks": ""
            },
            "type": "choropleth"
           }
          ],
          "contour": [
           {
            "colorbar": {
             "outlinewidth": 0,
             "ticks": ""
            },
            "colorscale": [
             [
              0,
              "#0d0887"
             ],
             [
              0.1111111111111111,
              "#46039f"
             ],
             [
              0.2222222222222222,
              "#7201a8"
             ],
             [
              0.3333333333333333,
              "#9c179e"
             ],
             [
              0.4444444444444444,
              "#bd3786"
             ],
             [
              0.5555555555555556,
              "#d8576b"
             ],
             [
              0.6666666666666666,
              "#ed7953"
             ],
             [
              0.7777777777777778,
              "#fb9f3a"
             ],
             [
              0.8888888888888888,
              "#fdca26"
             ],
             [
              1,
              "#f0f921"
             ]
            ],
            "type": "contour"
           }
          ],
          "contourcarpet": [
           {
            "colorbar": {
             "outlinewidth": 0,
             "ticks": ""
            },
            "type": "contourcarpet"
           }
          ],
          "heatmap": [
           {
            "colorbar": {
             "outlinewidth": 0,
             "ticks": ""
            },
            "colorscale": [
             [
              0,
              "#0d0887"
             ],
             [
              0.1111111111111111,
              "#46039f"
             ],
             [
              0.2222222222222222,
              "#7201a8"
             ],
             [
              0.3333333333333333,
              "#9c179e"
             ],
             [
              0.4444444444444444,
              "#bd3786"
             ],
             [
              0.5555555555555556,
              "#d8576b"
             ],
             [
              0.6666666666666666,
              "#ed7953"
             ],
             [
              0.7777777777777778,
              "#fb9f3a"
             ],
             [
              0.8888888888888888,
              "#fdca26"
             ],
             [
              1,
              "#f0f921"
             ]
            ],
            "type": "heatmap"
           }
          ],
          "heatmapgl": [
           {
            "colorbar": {
             "outlinewidth": 0,
             "ticks": ""
            },
            "colorscale": [
             [
              0,
              "#0d0887"
             ],
             [
              0.1111111111111111,
              "#46039f"
             ],
             [
              0.2222222222222222,
              "#7201a8"
             ],
             [
              0.3333333333333333,
              "#9c179e"
             ],
             [
              0.4444444444444444,
              "#bd3786"
             ],
             [
              0.5555555555555556,
              "#d8576b"
             ],
             [
              0.6666666666666666,
              "#ed7953"
             ],
             [
              0.7777777777777778,
              "#fb9f3a"
             ],
             [
              0.8888888888888888,
              "#fdca26"
             ],
             [
              1,
              "#f0f921"
             ]
            ],
            "type": "heatmapgl"
           }
          ],
          "histogram": [
           {
            "marker": {
             "pattern": {
              "fillmode": "overlay",
              "size": 10,
              "solidity": 0.2
             }
            },
            "type": "histogram"
           }
          ],
          "histogram2d": [
           {
            "colorbar": {
             "outlinewidth": 0,
             "ticks": ""
            },
            "colorscale": [
             [
              0,
              "#0d0887"
             ],
             [
              0.1111111111111111,
              "#46039f"
             ],
             [
              0.2222222222222222,
              "#7201a8"
             ],
             [
              0.3333333333333333,
              "#9c179e"
             ],
             [
              0.4444444444444444,
              "#bd3786"
             ],
             [
              0.5555555555555556,
              "#d8576b"
             ],
             [
              0.6666666666666666,
              "#ed7953"
             ],
             [
              0.7777777777777778,
              "#fb9f3a"
             ],
             [
              0.8888888888888888,
              "#fdca26"
             ],
             [
              1,
              "#f0f921"
             ]
            ],
            "type": "histogram2d"
           }
          ],
          "histogram2dcontour": [
           {
            "colorbar": {
             "outlinewidth": 0,
             "ticks": ""
            },
            "colorscale": [
             [
              0,
              "#0d0887"
             ],
             [
              0.1111111111111111,
              "#46039f"
             ],
             [
              0.2222222222222222,
              "#7201a8"
             ],
             [
              0.3333333333333333,
              "#9c179e"
             ],
             [
              0.4444444444444444,
              "#bd3786"
             ],
             [
              0.5555555555555556,
              "#d8576b"
             ],
             [
              0.6666666666666666,
              "#ed7953"
             ],
             [
              0.7777777777777778,
              "#fb9f3a"
             ],
             [
              0.8888888888888888,
              "#fdca26"
             ],
             [
              1,
              "#f0f921"
             ]
            ],
            "type": "histogram2dcontour"
           }
          ],
          "mesh3d": [
           {
            "colorbar": {
             "outlinewidth": 0,
             "ticks": ""
            },
            "type": "mesh3d"
           }
          ],
          "parcoords": [
           {
            "line": {
             "colorbar": {
              "outlinewidth": 0,
              "ticks": ""
             }
            },
            "type": "parcoords"
           }
          ],
          "pie": [
           {
            "automargin": true,
            "type": "pie"
           }
          ],
          "scatter": [
           {
            "fillpattern": {
             "fillmode": "overlay",
             "size": 10,
             "solidity": 0.2
            },
            "type": "scatter"
           }
          ],
          "scatter3d": [
           {
            "line": {
             "colorbar": {
              "outlinewidth": 0,
              "ticks": ""
             }
            },
            "marker": {
             "colorbar": {
              "outlinewidth": 0,
              "ticks": ""
             }
            },
            "type": "scatter3d"
           }
          ],
          "scattercarpet": [
           {
            "marker": {
             "colorbar": {
              "outlinewidth": 0,
              "ticks": ""
             }
            },
            "type": "scattercarpet"
           }
          ],
          "scattergeo": [
           {
            "marker": {
             "colorbar": {
              "outlinewidth": 0,
              "ticks": ""
             }
            },
            "type": "scattergeo"
           }
          ],
          "scattergl": [
           {
            "marker": {
             "colorbar": {
              "outlinewidth": 0,
              "ticks": ""
             }
            },
            "type": "scattergl"
           }
          ],
          "scattermapbox": [
           {
            "marker": {
             "colorbar": {
              "outlinewidth": 0,
              "ticks": ""
             }
            },
            "type": "scattermapbox"
           }
          ],
          "scatterpolar": [
           {
            "marker": {
             "colorbar": {
              "outlinewidth": 0,
              "ticks": ""
             }
            },
            "type": "scatterpolar"
           }
          ],
          "scatterpolargl": [
           {
            "marker": {
             "colorbar": {
              "outlinewidth": 0,
              "ticks": ""
             }
            },
            "type": "scatterpolargl"
           }
          ],
          "scatterternary": [
           {
            "marker": {
             "colorbar": {
              "outlinewidth": 0,
              "ticks": ""
             }
            },
            "type": "scatterternary"
           }
          ],
          "surface": [
           {
            "colorbar": {
             "outlinewidth": 0,
             "ticks": ""
            },
            "colorscale": [
             [
              0,
              "#0d0887"
             ],
             [
              0.1111111111111111,
              "#46039f"
             ],
             [
              0.2222222222222222,
              "#7201a8"
             ],
             [
              0.3333333333333333,
              "#9c179e"
             ],
             [
              0.4444444444444444,
              "#bd3786"
             ],
             [
              0.5555555555555556,
              "#d8576b"
             ],
             [
              0.6666666666666666,
              "#ed7953"
             ],
             [
              0.7777777777777778,
              "#fb9f3a"
             ],
             [
              0.8888888888888888,
              "#fdca26"
             ],
             [
              1,
              "#f0f921"
             ]
            ],
            "type": "surface"
           }
          ],
          "table": [
           {
            "cells": {
             "fill": {
              "color": "#EBF0F8"
             },
             "line": {
              "color": "white"
             }
            },
            "header": {
             "fill": {
              "color": "#C8D4E3"
             },
             "line": {
              "color": "white"
             }
            },
            "type": "table"
           }
          ]
         },
         "layout": {
          "annotationdefaults": {
           "arrowcolor": "#2a3f5f",
           "arrowhead": 0,
           "arrowwidth": 1
          },
          "autotypenumbers": "strict",
          "coloraxis": {
           "colorbar": {
            "outlinewidth": 0,
            "ticks": ""
           }
          },
          "colorscale": {
           "diverging": [
            [
             0,
             "#8e0152"
            ],
            [
             0.1,
             "#c51b7d"
            ],
            [
             0.2,
             "#de77ae"
            ],
            [
             0.3,
             "#f1b6da"
            ],
            [
             0.4,
             "#fde0ef"
            ],
            [
             0.5,
             "#f7f7f7"
            ],
            [
             0.6,
             "#e6f5d0"
            ],
            [
             0.7,
             "#b8e186"
            ],
            [
             0.8,
             "#7fbc41"
            ],
            [
             0.9,
             "#4d9221"
            ],
            [
             1,
             "#276419"
            ]
           ],
           "sequential": [
            [
             0,
             "#0d0887"
            ],
            [
             0.1111111111111111,
             "#46039f"
            ],
            [
             0.2222222222222222,
             "#7201a8"
            ],
            [
             0.3333333333333333,
             "#9c179e"
            ],
            [
             0.4444444444444444,
             "#bd3786"
            ],
            [
             0.5555555555555556,
             "#d8576b"
            ],
            [
             0.6666666666666666,
             "#ed7953"
            ],
            [
             0.7777777777777778,
             "#fb9f3a"
            ],
            [
             0.8888888888888888,
             "#fdca26"
            ],
            [
             1,
             "#f0f921"
            ]
           ],
           "sequentialminus": [
            [
             0,
             "#0d0887"
            ],
            [
             0.1111111111111111,
             "#46039f"
            ],
            [
             0.2222222222222222,
             "#7201a8"
            ],
            [
             0.3333333333333333,
             "#9c179e"
            ],
            [
             0.4444444444444444,
             "#bd3786"
            ],
            [
             0.5555555555555556,
             "#d8576b"
            ],
            [
             0.6666666666666666,
             "#ed7953"
            ],
            [
             0.7777777777777778,
             "#fb9f3a"
            ],
            [
             0.8888888888888888,
             "#fdca26"
            ],
            [
             1,
             "#f0f921"
            ]
           ]
          },
          "colorway": [
           "#636efa",
           "#EF553B",
           "#00cc96",
           "#ab63fa",
           "#FFA15A",
           "#19d3f3",
           "#FF6692",
           "#B6E880",
           "#FF97FF",
           "#FECB52"
          ],
          "font": {
           "color": "#2a3f5f"
          },
          "geo": {
           "bgcolor": "white",
           "lakecolor": "white",
           "landcolor": "#E5ECF6",
           "showlakes": true,
           "showland": true,
           "subunitcolor": "white"
          },
          "hoverlabel": {
           "align": "left"
          },
          "hovermode": "closest",
          "mapbox": {
           "style": "light"
          },
          "paper_bgcolor": "white",
          "plot_bgcolor": "#E5ECF6",
          "polar": {
           "angularaxis": {
            "gridcolor": "white",
            "linecolor": "white",
            "ticks": ""
           },
           "bgcolor": "#E5ECF6",
           "radialaxis": {
            "gridcolor": "white",
            "linecolor": "white",
            "ticks": ""
           }
          },
          "scene": {
           "xaxis": {
            "backgroundcolor": "#E5ECF6",
            "gridcolor": "white",
            "gridwidth": 2,
            "linecolor": "white",
            "showbackground": true,
            "ticks": "",
            "zerolinecolor": "white"
           },
           "yaxis": {
            "backgroundcolor": "#E5ECF6",
            "gridcolor": "white",
            "gridwidth": 2,
            "linecolor": "white",
            "showbackground": true,
            "ticks": "",
            "zerolinecolor": "white"
           },
           "zaxis": {
            "backgroundcolor": "#E5ECF6",
            "gridcolor": "white",
            "gridwidth": 2,
            "linecolor": "white",
            "showbackground": true,
            "ticks": "",
            "zerolinecolor": "white"
           }
          },
          "shapedefaults": {
           "line": {
            "color": "#2a3f5f"
           }
          },
          "ternary": {
           "aaxis": {
            "gridcolor": "white",
            "linecolor": "white",
            "ticks": ""
           },
           "baxis": {
            "gridcolor": "white",
            "linecolor": "white",
            "ticks": ""
           },
           "bgcolor": "#E5ECF6",
           "caxis": {
            "gridcolor": "white",
            "linecolor": "white",
            "ticks": ""
           }
          },
          "title": {
           "x": 0.05
          },
          "xaxis": {
           "automargin": true,
           "gridcolor": "white",
           "linecolor": "white",
           "ticks": "",
           "title": {
            "standoff": 15
           },
           "zerolinecolor": "white",
           "zerolinewidth": 2
          },
          "yaxis": {
           "automargin": true,
           "gridcolor": "white",
           "linecolor": "white",
           "ticks": "",
           "title": {
            "standoff": 15
           },
           "zerolinecolor": "white",
           "zerolinewidth": 2
          }
         }
        },
        "title": {
         "text": "Number of Billionaires by Country"
        },
        "width": 800
       }
      },
      "text/html": [
       "<div>                            <div id=\"d27ea3fc-cf4a-417d-8a87-5a7af9375671\" class=\"plotly-graph-div\" style=\"height:500px; width:800px;\"></div>            <script type=\"text/javascript\">                require([\"plotly\"], function(Plotly) {                    window.PLOTLYENV=window.PLOTLYENV || {};                                    if (document.getElementById(\"d27ea3fc-cf4a-417d-8a87-5a7af9375671\")) {                    Plotly.newPlot(                        \"d27ea3fc-cf4a-417d-8a87-5a7af9375671\",                        [{\"coloraxis\":\"coloraxis\",\"geo\":\"geo\",\"hovertemplate\":\"country=%{location}<br>Number of Billionaires=%{z}<extra></extra>\",\"locationmode\":\"country names\",\"locations\":[\"United States\",\"China\",\"India\",\"Germany\",\"United Kingdom\",\"Russia\",\"Switzerland\",\"Hong Kong\",\"Italy\",\"Singapore\",\"Brazil\",\"Australia\",\"Taiwan\",\"Canada\",\"Japan\",\"France\",\"South Korea\",\"Thailand\",\"Sweden\",\"Israel\",\"Turkey\",\"Spain\",\"Indonesia\",\"United Arab Emirates\",\"Monaco\",\"Philippines\",\"Mexico\",\"Austria\",\"Malaysia\",\"Netherlands\",\"Norway\",\"Denmark\",\"Kazakhstan\",\"Finland\",\"Czech Republic\",\"Vietnam\",\"Ukraine\",\"Chile\",\"Poland\",\"Cyprus\",\"South Africa\",\"Egypt\",\"Ireland\",\"Argentina\",\"Hungary\",\"Romania\",\"Greece\",\"Nigeria\",\"Belgium\",\"Cayman Islands\",\"Qatar\",\"Lebanon\",\"Slovakia\",\"Bermuda\",\"Morocco\",\"Peru\",\"Bahamas\",\"New Zealand\",\"Turks and Caicos Islands\",\"Nepal\",\"Uruguay\",\"Tanzania\",\"Andorra\",\"Bahrain\",\"Colombia\",\"Liechtenstein\",\"Guernsey\",\"Oman\",\"Cambodia\",\"British Virgin Islands\",\"Luxembourg\",\"Latvia\",\"Algeria\",\"Portugal\",\"Georgia\",\"Eswatini (Swaziland)\",\"Uzbekistan\",\"Armenia\"],\"name\":\"\",\"z\":[792,523,157,102,82,79,78,68,55,46,44,43,43,42,38,35,29,28,26,26,25,25,25,17,17,14,13,11,11,10,9,7,7,7,7,6,6,6,5,5,5,4,4,4,3,3,3,3,3,3,2,2,2,2,2,2,2,2,1,1,1,1,1,1,1,1,1,1,1,1,1,1,1,1,1,1,1,1],\"type\":\"choropleth\"}],                        {\"template\":{\"data\":{\"histogram2dcontour\":[{\"type\":\"histogram2dcontour\",\"colorbar\":{\"outlinewidth\":0,\"ticks\":\"\"},\"colorscale\":[[0.0,\"#0d0887\"],[0.1111111111111111,\"#46039f\"],[0.2222222222222222,\"#7201a8\"],[0.3333333333333333,\"#9c179e\"],[0.4444444444444444,\"#bd3786\"],[0.5555555555555556,\"#d8576b\"],[0.6666666666666666,\"#ed7953\"],[0.7777777777777778,\"#fb9f3a\"],[0.8888888888888888,\"#fdca26\"],[1.0,\"#f0f921\"]]}],\"choropleth\":[{\"type\":\"choropleth\",\"colorbar\":{\"outlinewidth\":0,\"ticks\":\"\"}}],\"histogram2d\":[{\"type\":\"histogram2d\",\"colorbar\":{\"outlinewidth\":0,\"ticks\":\"\"},\"colorscale\":[[0.0,\"#0d0887\"],[0.1111111111111111,\"#46039f\"],[0.2222222222222222,\"#7201a8\"],[0.3333333333333333,\"#9c179e\"],[0.4444444444444444,\"#bd3786\"],[0.5555555555555556,\"#d8576b\"],[0.6666666666666666,\"#ed7953\"],[0.7777777777777778,\"#fb9f3a\"],[0.8888888888888888,\"#fdca26\"],[1.0,\"#f0f921\"]]}],\"heatmap\":[{\"type\":\"heatmap\",\"colorbar\":{\"outlinewidth\":0,\"ticks\":\"\"},\"colorscale\":[[0.0,\"#0d0887\"],[0.1111111111111111,\"#46039f\"],[0.2222222222222222,\"#7201a8\"],[0.3333333333333333,\"#9c179e\"],[0.4444444444444444,\"#bd3786\"],[0.5555555555555556,\"#d8576b\"],[0.6666666666666666,\"#ed7953\"],[0.7777777777777778,\"#fb9f3a\"],[0.8888888888888888,\"#fdca26\"],[1.0,\"#f0f921\"]]}],\"heatmapgl\":[{\"type\":\"heatmapgl\",\"colorbar\":{\"outlinewidth\":0,\"ticks\":\"\"},\"colorscale\":[[0.0,\"#0d0887\"],[0.1111111111111111,\"#46039f\"],[0.2222222222222222,\"#7201a8\"],[0.3333333333333333,\"#9c179e\"],[0.4444444444444444,\"#bd3786\"],[0.5555555555555556,\"#d8576b\"],[0.6666666666666666,\"#ed7953\"],[0.7777777777777778,\"#fb9f3a\"],[0.8888888888888888,\"#fdca26\"],[1.0,\"#f0f921\"]]}],\"contourcarpet\":[{\"type\":\"contourcarpet\",\"colorbar\":{\"outlinewidth\":0,\"ticks\":\"\"}}],\"contour\":[{\"type\":\"contour\",\"colorbar\":{\"outlinewidth\":0,\"ticks\":\"\"},\"colorscale\":[[0.0,\"#0d0887\"],[0.1111111111111111,\"#46039f\"],[0.2222222222222222,\"#7201a8\"],[0.3333333333333333,\"#9c179e\"],[0.4444444444444444,\"#bd3786\"],[0.5555555555555556,\"#d8576b\"],[0.6666666666666666,\"#ed7953\"],[0.7777777777777778,\"#fb9f3a\"],[0.8888888888888888,\"#fdca26\"],[1.0,\"#f0f921\"]]}],\"surface\":[{\"type\":\"surface\",\"colorbar\":{\"outlinewidth\":0,\"ticks\":\"\"},\"colorscale\":[[0.0,\"#0d0887\"],[0.1111111111111111,\"#46039f\"],[0.2222222222222222,\"#7201a8\"],[0.3333333333333333,\"#9c179e\"],[0.4444444444444444,\"#bd3786\"],[0.5555555555555556,\"#d8576b\"],[0.6666666666666666,\"#ed7953\"],[0.7777777777777778,\"#fb9f3a\"],[0.8888888888888888,\"#fdca26\"],[1.0,\"#f0f921\"]]}],\"mesh3d\":[{\"type\":\"mesh3d\",\"colorbar\":{\"outlinewidth\":0,\"ticks\":\"\"}}],\"scatter\":[{\"fillpattern\":{\"fillmode\":\"overlay\",\"size\":10,\"solidity\":0.2},\"type\":\"scatter\"}],\"parcoords\":[{\"type\":\"parcoords\",\"line\":{\"colorbar\":{\"outlinewidth\":0,\"ticks\":\"\"}}}],\"scatterpolargl\":[{\"type\":\"scatterpolargl\",\"marker\":{\"colorbar\":{\"outlinewidth\":0,\"ticks\":\"\"}}}],\"bar\":[{\"error_x\":{\"color\":\"#2a3f5f\"},\"error_y\":{\"color\":\"#2a3f5f\"},\"marker\":{\"line\":{\"color\":\"#E5ECF6\",\"width\":0.5},\"pattern\":{\"fillmode\":\"overlay\",\"size\":10,\"solidity\":0.2}},\"type\":\"bar\"}],\"scattergeo\":[{\"type\":\"scattergeo\",\"marker\":{\"colorbar\":{\"outlinewidth\":0,\"ticks\":\"\"}}}],\"scatterpolar\":[{\"type\":\"scatterpolar\",\"marker\":{\"colorbar\":{\"outlinewidth\":0,\"ticks\":\"\"}}}],\"histogram\":[{\"marker\":{\"pattern\":{\"fillmode\":\"overlay\",\"size\":10,\"solidity\":0.2}},\"type\":\"histogram\"}],\"scattergl\":[{\"type\":\"scattergl\",\"marker\":{\"colorbar\":{\"outlinewidth\":0,\"ticks\":\"\"}}}],\"scatter3d\":[{\"type\":\"scatter3d\",\"line\":{\"colorbar\":{\"outlinewidth\":0,\"ticks\":\"\"}},\"marker\":{\"colorbar\":{\"outlinewidth\":0,\"ticks\":\"\"}}}],\"scattermapbox\":[{\"type\":\"scattermapbox\",\"marker\":{\"colorbar\":{\"outlinewidth\":0,\"ticks\":\"\"}}}],\"scatterternary\":[{\"type\":\"scatterternary\",\"marker\":{\"colorbar\":{\"outlinewidth\":0,\"ticks\":\"\"}}}],\"scattercarpet\":[{\"type\":\"scattercarpet\",\"marker\":{\"colorbar\":{\"outlinewidth\":0,\"ticks\":\"\"}}}],\"carpet\":[{\"aaxis\":{\"endlinecolor\":\"#2a3f5f\",\"gridcolor\":\"white\",\"linecolor\":\"white\",\"minorgridcolor\":\"white\",\"startlinecolor\":\"#2a3f5f\"},\"baxis\":{\"endlinecolor\":\"#2a3f5f\",\"gridcolor\":\"white\",\"linecolor\":\"white\",\"minorgridcolor\":\"white\",\"startlinecolor\":\"#2a3f5f\"},\"type\":\"carpet\"}],\"table\":[{\"cells\":{\"fill\":{\"color\":\"#EBF0F8\"},\"line\":{\"color\":\"white\"}},\"header\":{\"fill\":{\"color\":\"#C8D4E3\"},\"line\":{\"color\":\"white\"}},\"type\":\"table\"}],\"barpolar\":[{\"marker\":{\"line\":{\"color\":\"#E5ECF6\",\"width\":0.5},\"pattern\":{\"fillmode\":\"overlay\",\"size\":10,\"solidity\":0.2}},\"type\":\"barpolar\"}],\"pie\":[{\"automargin\":true,\"type\":\"pie\"}]},\"layout\":{\"autotypenumbers\":\"strict\",\"colorway\":[\"#636efa\",\"#EF553B\",\"#00cc96\",\"#ab63fa\",\"#FFA15A\",\"#19d3f3\",\"#FF6692\",\"#B6E880\",\"#FF97FF\",\"#FECB52\"],\"font\":{\"color\":\"#2a3f5f\"},\"hovermode\":\"closest\",\"hoverlabel\":{\"align\":\"left\"},\"paper_bgcolor\":\"white\",\"plot_bgcolor\":\"#E5ECF6\",\"polar\":{\"bgcolor\":\"#E5ECF6\",\"angularaxis\":{\"gridcolor\":\"white\",\"linecolor\":\"white\",\"ticks\":\"\"},\"radialaxis\":{\"gridcolor\":\"white\",\"linecolor\":\"white\",\"ticks\":\"\"}},\"ternary\":{\"bgcolor\":\"#E5ECF6\",\"aaxis\":{\"gridcolor\":\"white\",\"linecolor\":\"white\",\"ticks\":\"\"},\"baxis\":{\"gridcolor\":\"white\",\"linecolor\":\"white\",\"ticks\":\"\"},\"caxis\":{\"gridcolor\":\"white\",\"linecolor\":\"white\",\"ticks\":\"\"}},\"coloraxis\":{\"colorbar\":{\"outlinewidth\":0,\"ticks\":\"\"}},\"colorscale\":{\"sequential\":[[0.0,\"#0d0887\"],[0.1111111111111111,\"#46039f\"],[0.2222222222222222,\"#7201a8\"],[0.3333333333333333,\"#9c179e\"],[0.4444444444444444,\"#bd3786\"],[0.5555555555555556,\"#d8576b\"],[0.6666666666666666,\"#ed7953\"],[0.7777777777777778,\"#fb9f3a\"],[0.8888888888888888,\"#fdca26\"],[1.0,\"#f0f921\"]],\"sequentialminus\":[[0.0,\"#0d0887\"],[0.1111111111111111,\"#46039f\"],[0.2222222222222222,\"#7201a8\"],[0.3333333333333333,\"#9c179e\"],[0.4444444444444444,\"#bd3786\"],[0.5555555555555556,\"#d8576b\"],[0.6666666666666666,\"#ed7953\"],[0.7777777777777778,\"#fb9f3a\"],[0.8888888888888888,\"#fdca26\"],[1.0,\"#f0f921\"]],\"diverging\":[[0,\"#8e0152\"],[0.1,\"#c51b7d\"],[0.2,\"#de77ae\"],[0.3,\"#f1b6da\"],[0.4,\"#fde0ef\"],[0.5,\"#f7f7f7\"],[0.6,\"#e6f5d0\"],[0.7,\"#b8e186\"],[0.8,\"#7fbc41\"],[0.9,\"#4d9221\"],[1,\"#276419\"]]},\"xaxis\":{\"gridcolor\":\"white\",\"linecolor\":\"white\",\"ticks\":\"\",\"title\":{\"standoff\":15},\"zerolinecolor\":\"white\",\"automargin\":true,\"zerolinewidth\":2},\"yaxis\":{\"gridcolor\":\"white\",\"linecolor\":\"white\",\"ticks\":\"\",\"title\":{\"standoff\":15},\"zerolinecolor\":\"white\",\"automargin\":true,\"zerolinewidth\":2},\"scene\":{\"xaxis\":{\"backgroundcolor\":\"#E5ECF6\",\"gridcolor\":\"white\",\"linecolor\":\"white\",\"showbackground\":true,\"ticks\":\"\",\"zerolinecolor\":\"white\",\"gridwidth\":2},\"yaxis\":{\"backgroundcolor\":\"#E5ECF6\",\"gridcolor\":\"white\",\"linecolor\":\"white\",\"showbackground\":true,\"ticks\":\"\",\"zerolinecolor\":\"white\",\"gridwidth\":2},\"zaxis\":{\"backgroundcolor\":\"#E5ECF6\",\"gridcolor\":\"white\",\"linecolor\":\"white\",\"showbackground\":true,\"ticks\":\"\",\"zerolinecolor\":\"white\",\"gridwidth\":2}},\"shapedefaults\":{\"line\":{\"color\":\"#2a3f5f\"}},\"annotationdefaults\":{\"arrowcolor\":\"#2a3f5f\",\"arrowhead\":0,\"arrowwidth\":1},\"geo\":{\"bgcolor\":\"white\",\"landcolor\":\"#E5ECF6\",\"subunitcolor\":\"white\",\"showland\":true,\"showlakes\":true,\"lakecolor\":\"white\"},\"title\":{\"x\":0.05},\"mapbox\":{\"style\":\"light\"}}},\"geo\":{\"domain\":{\"x\":[0.0,1.0],\"y\":[0.0,1.0]},\"center\":{},\"showcoastlines\":true,\"showland\":true,\"landcolor\":\"white\"},\"coloraxis\":{\"colorbar\":{\"title\":{\"text\":\"Number of Billionaires\"},\"tickformat\":\",\"},\"colorscale\":[[0.0,\"#0d0887\"],[0.1111111111111111,\"#46039f\"],[0.2222222222222222,\"#7201a8\"],[0.3333333333333333,\"#9c179e\"],[0.4444444444444444,\"#bd3786\"],[0.5555555555555556,\"#d8576b\"],[0.6666666666666666,\"#ed7953\"],[0.7777777777777778,\"#fb9f3a\"],[0.8888888888888888,\"#fdca26\"],[1.0,\"#f0f921\"]]},\"legend\":{\"tracegroupgap\":0},\"title\":{\"text\":\"Number of Billionaires by Country\"},\"margin\":{\"l\":0,\"r\":0,\"b\":0,\"t\":50},\"width\":800,\"height\":500},                        {\"responsive\": true}                    ).then(function(){\n",
       "                            \n",
       "var gd = document.getElementById('d27ea3fc-cf4a-417d-8a87-5a7af9375671');\n",
       "var x = new MutationObserver(function (mutations, observer) {{\n",
       "        var display = window.getComputedStyle(gd).display;\n",
       "        if (!display || display === 'none') {{\n",
       "            console.log([gd, 'removed!']);\n",
       "            Plotly.purge(gd);\n",
       "            observer.disconnect();\n",
       "        }}\n",
       "}});\n",
       "\n",
       "// Listen for the removal of the full notebook cells\n",
       "var notebookContainer = gd.closest('#notebook-container');\n",
       "if (notebookContainer) {{\n",
       "    x.observe(notebookContainer, {childList: true});\n",
       "}}\n",
       "\n",
       "// Listen for the clearing of the current output cell\n",
       "var outputEl = gd.closest('.output');\n",
       "if (outputEl) {{\n",
       "    x.observe(outputEl, {childList: true});\n",
       "}}\n",
       "\n",
       "                        })                };                });            </script>        </div>"
      ]
     },
     "metadata": {},
     "output_type": "display_data"
    },
    {
     "data": {
      "application/vnd.plotly.v1+json": {
       "config": {
        "plotlyServerURL": "https://plot.ly"
       },
       "data": [
        {
         "branchvalues": "total",
         "customdata": [
          [
           523
          ],
          [
           102
          ],
          [
           68
          ],
          [
           157
          ],
          [
           55
          ],
          [
           79
          ],
          [
           46
          ],
          [
           78
          ],
          [
           82
          ],
          [
           792
          ]
         ],
         "domain": {
          "x": [
           0,
           1
          ],
          "y": [
           0,
           1
          ]
         },
         "hovertemplate": "labels=%{label}<br>count_sum=%{value}<br>parent=%{parent}<br>id=%{id}<br>count=%{color}<extra></extra>",
         "ids": [
          "China",
          "Germany",
          "Hong Kong",
          "India",
          "Italy",
          "Russia",
          "Singapore",
          "Switzerland",
          "United Kingdom",
          "United States"
         ],
         "labels": [
          "China",
          "Germany",
          "Hong Kong",
          "India",
          "Italy",
          "Russia",
          "Singapore",
          "Switzerland",
          "United Kingdom",
          "United States"
         ],
         "marker": {
          "coloraxis": "coloraxis",
          "colors": [
           523,
           102,
           68,
           157,
           55,
           79,
           46,
           78,
           82,
           792
          ]
         },
         "name": "",
         "parents": [
          "",
          "",
          "",
          "",
          "",
          "",
          "",
          "",
          "",
          ""
         ],
         "textinfo": "label+value",
         "type": "treemap",
         "values": [
          523,
          102,
          68,
          157,
          55,
          79,
          46,
          78,
          82,
          792
         ]
        }
       ],
       "layout": {
        "coloraxis": {
         "colorbar": {
          "title": {
           "text": "count"
          }
         },
         "colorscale": [
          [
           0,
           "#0d0887"
          ],
          [
           0.1111111111111111,
           "#46039f"
          ],
          [
           0.2222222222222222,
           "#7201a8"
          ],
          [
           0.3333333333333333,
           "#9c179e"
          ],
          [
           0.4444444444444444,
           "#bd3786"
          ],
          [
           0.5555555555555556,
           "#d8576b"
          ],
          [
           0.6666666666666666,
           "#ed7953"
          ],
          [
           0.7777777777777778,
           "#fb9f3a"
          ],
          [
           0.8888888888888888,
           "#fdca26"
          ],
          [
           1,
           "#f0f921"
          ]
         ]
        },
        "height": 500,
        "legend": {
         "tracegroupgap": 0
        },
        "margin": {
         "b": 0,
         "l": 0,
         "r": 0,
         "t": 50
        },
        "template": {
         "data": {
          "bar": [
           {
            "error_x": {
             "color": "#2a3f5f"
            },
            "error_y": {
             "color": "#2a3f5f"
            },
            "marker": {
             "line": {
              "color": "#E5ECF6",
              "width": 0.5
             },
             "pattern": {
              "fillmode": "overlay",
              "size": 10,
              "solidity": 0.2
             }
            },
            "type": "bar"
           }
          ],
          "barpolar": [
           {
            "marker": {
             "line": {
              "color": "#E5ECF6",
              "width": 0.5
             },
             "pattern": {
              "fillmode": "overlay",
              "size": 10,
              "solidity": 0.2
             }
            },
            "type": "barpolar"
           }
          ],
          "carpet": [
           {
            "aaxis": {
             "endlinecolor": "#2a3f5f",
             "gridcolor": "white",
             "linecolor": "white",
             "minorgridcolor": "white",
             "startlinecolor": "#2a3f5f"
            },
            "baxis": {
             "endlinecolor": "#2a3f5f",
             "gridcolor": "white",
             "linecolor": "white",
             "minorgridcolor": "white",
             "startlinecolor": "#2a3f5f"
            },
            "type": "carpet"
           }
          ],
          "choropleth": [
           {
            "colorbar": {
             "outlinewidth": 0,
             "ticks": ""
            },
            "type": "choropleth"
           }
          ],
          "contour": [
           {
            "colorbar": {
             "outlinewidth": 0,
             "ticks": ""
            },
            "colorscale": [
             [
              0,
              "#0d0887"
             ],
             [
              0.1111111111111111,
              "#46039f"
             ],
             [
              0.2222222222222222,
              "#7201a8"
             ],
             [
              0.3333333333333333,
              "#9c179e"
             ],
             [
              0.4444444444444444,
              "#bd3786"
             ],
             [
              0.5555555555555556,
              "#d8576b"
             ],
             [
              0.6666666666666666,
              "#ed7953"
             ],
             [
              0.7777777777777778,
              "#fb9f3a"
             ],
             [
              0.8888888888888888,
              "#fdca26"
             ],
             [
              1,
              "#f0f921"
             ]
            ],
            "type": "contour"
           }
          ],
          "contourcarpet": [
           {
            "colorbar": {
             "outlinewidth": 0,
             "ticks": ""
            },
            "type": "contourcarpet"
           }
          ],
          "heatmap": [
           {
            "colorbar": {
             "outlinewidth": 0,
             "ticks": ""
            },
            "colorscale": [
             [
              0,
              "#0d0887"
             ],
             [
              0.1111111111111111,
              "#46039f"
             ],
             [
              0.2222222222222222,
              "#7201a8"
             ],
             [
              0.3333333333333333,
              "#9c179e"
             ],
             [
              0.4444444444444444,
              "#bd3786"
             ],
             [
              0.5555555555555556,
              "#d8576b"
             ],
             [
              0.6666666666666666,
              "#ed7953"
             ],
             [
              0.7777777777777778,
              "#fb9f3a"
             ],
             [
              0.8888888888888888,
              "#fdca26"
             ],
             [
              1,
              "#f0f921"
             ]
            ],
            "type": "heatmap"
           }
          ],
          "heatmapgl": [
           {
            "colorbar": {
             "outlinewidth": 0,
             "ticks": ""
            },
            "colorscale": [
             [
              0,
              "#0d0887"
             ],
             [
              0.1111111111111111,
              "#46039f"
             ],
             [
              0.2222222222222222,
              "#7201a8"
             ],
             [
              0.3333333333333333,
              "#9c179e"
             ],
             [
              0.4444444444444444,
              "#bd3786"
             ],
             [
              0.5555555555555556,
              "#d8576b"
             ],
             [
              0.6666666666666666,
              "#ed7953"
             ],
             [
              0.7777777777777778,
              "#fb9f3a"
             ],
             [
              0.8888888888888888,
              "#fdca26"
             ],
             [
              1,
              "#f0f921"
             ]
            ],
            "type": "heatmapgl"
           }
          ],
          "histogram": [
           {
            "marker": {
             "pattern": {
              "fillmode": "overlay",
              "size": 10,
              "solidity": 0.2
             }
            },
            "type": "histogram"
           }
          ],
          "histogram2d": [
           {
            "colorbar": {
             "outlinewidth": 0,
             "ticks": ""
            },
            "colorscale": [
             [
              0,
              "#0d0887"
             ],
             [
              0.1111111111111111,
              "#46039f"
             ],
             [
              0.2222222222222222,
              "#7201a8"
             ],
             [
              0.3333333333333333,
              "#9c179e"
             ],
             [
              0.4444444444444444,
              "#bd3786"
             ],
             [
              0.5555555555555556,
              "#d8576b"
             ],
             [
              0.6666666666666666,
              "#ed7953"
             ],
             [
              0.7777777777777778,
              "#fb9f3a"
             ],
             [
              0.8888888888888888,
              "#fdca26"
             ],
             [
              1,
              "#f0f921"
             ]
            ],
            "type": "histogram2d"
           }
          ],
          "histogram2dcontour": [
           {
            "colorbar": {
             "outlinewidth": 0,
             "ticks": ""
            },
            "colorscale": [
             [
              0,
              "#0d0887"
             ],
             [
              0.1111111111111111,
              "#46039f"
             ],
             [
              0.2222222222222222,
              "#7201a8"
             ],
             [
              0.3333333333333333,
              "#9c179e"
             ],
             [
              0.4444444444444444,
              "#bd3786"
             ],
             [
              0.5555555555555556,
              "#d8576b"
             ],
             [
              0.6666666666666666,
              "#ed7953"
             ],
             [
              0.7777777777777778,
              "#fb9f3a"
             ],
             [
              0.8888888888888888,
              "#fdca26"
             ],
             [
              1,
              "#f0f921"
             ]
            ],
            "type": "histogram2dcontour"
           }
          ],
          "mesh3d": [
           {
            "colorbar": {
             "outlinewidth": 0,
             "ticks": ""
            },
            "type": "mesh3d"
           }
          ],
          "parcoords": [
           {
            "line": {
             "colorbar": {
              "outlinewidth": 0,
              "ticks": ""
             }
            },
            "type": "parcoords"
           }
          ],
          "pie": [
           {
            "automargin": true,
            "type": "pie"
           }
          ],
          "scatter": [
           {
            "fillpattern": {
             "fillmode": "overlay",
             "size": 10,
             "solidity": 0.2
            },
            "type": "scatter"
           }
          ],
          "scatter3d": [
           {
            "line": {
             "colorbar": {
              "outlinewidth": 0,
              "ticks": ""
             }
            },
            "marker": {
             "colorbar": {
              "outlinewidth": 0,
              "ticks": ""
             }
            },
            "type": "scatter3d"
           }
          ],
          "scattercarpet": [
           {
            "marker": {
             "colorbar": {
              "outlinewidth": 0,
              "ticks": ""
             }
            },
            "type": "scattercarpet"
           }
          ],
          "scattergeo": [
           {
            "marker": {
             "colorbar": {
              "outlinewidth": 0,
              "ticks": ""
             }
            },
            "type": "scattergeo"
           }
          ],
          "scattergl": [
           {
            "marker": {
             "colorbar": {
              "outlinewidth": 0,
              "ticks": ""
             }
            },
            "type": "scattergl"
           }
          ],
          "scattermapbox": [
           {
            "marker": {
             "colorbar": {
              "outlinewidth": 0,
              "ticks": ""
             }
            },
            "type": "scattermapbox"
           }
          ],
          "scatterpolar": [
           {
            "marker": {
             "colorbar": {
              "outlinewidth": 0,
              "ticks": ""
             }
            },
            "type": "scatterpolar"
           }
          ],
          "scatterpolargl": [
           {
            "marker": {
             "colorbar": {
              "outlinewidth": 0,
              "ticks": ""
             }
            },
            "type": "scatterpolargl"
           }
          ],
          "scatterternary": [
           {
            "marker": {
             "colorbar": {
              "outlinewidth": 0,
              "ticks": ""
             }
            },
            "type": "scatterternary"
           }
          ],
          "surface": [
           {
            "colorbar": {
             "outlinewidth": 0,
             "ticks": ""
            },
            "colorscale": [
             [
              0,
              "#0d0887"
             ],
             [
              0.1111111111111111,
              "#46039f"
             ],
             [
              0.2222222222222222,
              "#7201a8"
             ],
             [
              0.3333333333333333,
              "#9c179e"
             ],
             [
              0.4444444444444444,
              "#bd3786"
             ],
             [
              0.5555555555555556,
              "#d8576b"
             ],
             [
              0.6666666666666666,
              "#ed7953"
             ],
             [
              0.7777777777777778,
              "#fb9f3a"
             ],
             [
              0.8888888888888888,
              "#fdca26"
             ],
             [
              1,
              "#f0f921"
             ]
            ],
            "type": "surface"
           }
          ],
          "table": [
           {
            "cells": {
             "fill": {
              "color": "#EBF0F8"
             },
             "line": {
              "color": "white"
             }
            },
            "header": {
             "fill": {
              "color": "#C8D4E3"
             },
             "line": {
              "color": "white"
             }
            },
            "type": "table"
           }
          ]
         },
         "layout": {
          "annotationdefaults": {
           "arrowcolor": "#2a3f5f",
           "arrowhead": 0,
           "arrowwidth": 1
          },
          "autotypenumbers": "strict",
          "coloraxis": {
           "colorbar": {
            "outlinewidth": 0,
            "ticks": ""
           }
          },
          "colorscale": {
           "diverging": [
            [
             0,
             "#8e0152"
            ],
            [
             0.1,
             "#c51b7d"
            ],
            [
             0.2,
             "#de77ae"
            ],
            [
             0.3,
             "#f1b6da"
            ],
            [
             0.4,
             "#fde0ef"
            ],
            [
             0.5,
             "#f7f7f7"
            ],
            [
             0.6,
             "#e6f5d0"
            ],
            [
             0.7,
             "#b8e186"
            ],
            [
             0.8,
             "#7fbc41"
            ],
            [
             0.9,
             "#4d9221"
            ],
            [
             1,
             "#276419"
            ]
           ],
           "sequential": [
            [
             0,
             "#0d0887"
            ],
            [
             0.1111111111111111,
             "#46039f"
            ],
            [
             0.2222222222222222,
             "#7201a8"
            ],
            [
             0.3333333333333333,
             "#9c179e"
            ],
            [
             0.4444444444444444,
             "#bd3786"
            ],
            [
             0.5555555555555556,
             "#d8576b"
            ],
            [
             0.6666666666666666,
             "#ed7953"
            ],
            [
             0.7777777777777778,
             "#fb9f3a"
            ],
            [
             0.8888888888888888,
             "#fdca26"
            ],
            [
             1,
             "#f0f921"
            ]
           ],
           "sequentialminus": [
            [
             0,
             "#0d0887"
            ],
            [
             0.1111111111111111,
             "#46039f"
            ],
            [
             0.2222222222222222,
             "#7201a8"
            ],
            [
             0.3333333333333333,
             "#9c179e"
            ],
            [
             0.4444444444444444,
             "#bd3786"
            ],
            [
             0.5555555555555556,
             "#d8576b"
            ],
            [
             0.6666666666666666,
             "#ed7953"
            ],
            [
             0.7777777777777778,
             "#fb9f3a"
            ],
            [
             0.8888888888888888,
             "#fdca26"
            ],
            [
             1,
             "#f0f921"
            ]
           ]
          },
          "colorway": [
           "#636efa",
           "#EF553B",
           "#00cc96",
           "#ab63fa",
           "#FFA15A",
           "#19d3f3",
           "#FF6692",
           "#B6E880",
           "#FF97FF",
           "#FECB52"
          ],
          "font": {
           "color": "#2a3f5f"
          },
          "geo": {
           "bgcolor": "white",
           "lakecolor": "white",
           "landcolor": "#E5ECF6",
           "showlakes": true,
           "showland": true,
           "subunitcolor": "white"
          },
          "hoverlabel": {
           "align": "left"
          },
          "hovermode": "closest",
          "mapbox": {
           "style": "light"
          },
          "paper_bgcolor": "white",
          "plot_bgcolor": "#E5ECF6",
          "polar": {
           "angularaxis": {
            "gridcolor": "white",
            "linecolor": "white",
            "ticks": ""
           },
           "bgcolor": "#E5ECF6",
           "radialaxis": {
            "gridcolor": "white",
            "linecolor": "white",
            "ticks": ""
           }
          },
          "scene": {
           "xaxis": {
            "backgroundcolor": "#E5ECF6",
            "gridcolor": "white",
            "gridwidth": 2,
            "linecolor": "white",
            "showbackground": true,
            "ticks": "",
            "zerolinecolor": "white"
           },
           "yaxis": {
            "backgroundcolor": "#E5ECF6",
            "gridcolor": "white",
            "gridwidth": 2,
            "linecolor": "white",
            "showbackground": true,
            "ticks": "",
            "zerolinecolor": "white"
           },
           "zaxis": {
            "backgroundcolor": "#E5ECF6",
            "gridcolor": "white",
            "gridwidth": 2,
            "linecolor": "white",
            "showbackground": true,
            "ticks": "",
            "zerolinecolor": "white"
           }
          },
          "shapedefaults": {
           "line": {
            "color": "#2a3f5f"
           }
          },
          "ternary": {
           "aaxis": {
            "gridcolor": "white",
            "linecolor": "white",
            "ticks": ""
           },
           "baxis": {
            "gridcolor": "white",
            "linecolor": "white",
            "ticks": ""
           },
           "bgcolor": "#E5ECF6",
           "caxis": {
            "gridcolor": "white",
            "linecolor": "white",
            "ticks": ""
           }
          },
          "title": {
           "x": 0.05
          },
          "xaxis": {
           "automargin": true,
           "gridcolor": "white",
           "linecolor": "white",
           "ticks": "",
           "title": {
            "standoff": 15
           },
           "zerolinecolor": "white",
           "zerolinewidth": 2
          },
          "yaxis": {
           "automargin": true,
           "gridcolor": "white",
           "linecolor": "white",
           "ticks": "",
           "title": {
            "standoff": 15
           },
           "zerolinecolor": "white",
           "zerolinewidth": 2
          }
         }
        },
        "title": {
         "text": "Top 10 countries with most billionaires"
        },
        "width": 800
       }
      },
      "text/html": [
       "<div>                            <div id=\"05ac03aa-a06b-4960-976c-93026fb71b32\" class=\"plotly-graph-div\" style=\"height:500px; width:800px;\"></div>            <script type=\"text/javascript\">                require([\"plotly\"], function(Plotly) {                    window.PLOTLYENV=window.PLOTLYENV || {};                                    if (document.getElementById(\"05ac03aa-a06b-4960-976c-93026fb71b32\")) {                    Plotly.newPlot(                        \"05ac03aa-a06b-4960-976c-93026fb71b32\",                        [{\"branchvalues\":\"total\",\"customdata\":[[523.0],[102.0],[68.0],[157.0],[55.0],[79.0],[46.0],[78.0],[82.0],[792.0]],\"domain\":{\"x\":[0.0,1.0],\"y\":[0.0,1.0]},\"hovertemplate\":\"labels=%{label}<br>count_sum=%{value}<br>parent=%{parent}<br>id=%{id}<br>count=%{color}<extra></extra>\",\"ids\":[\"China\",\"Germany\",\"Hong Kong\",\"India\",\"Italy\",\"Russia\",\"Singapore\",\"Switzerland\",\"United Kingdom\",\"United States\"],\"labels\":[\"China\",\"Germany\",\"Hong Kong\",\"India\",\"Italy\",\"Russia\",\"Singapore\",\"Switzerland\",\"United Kingdom\",\"United States\"],\"marker\":{\"coloraxis\":\"coloraxis\",\"colors\":[523.0,102.0,68.0,157.0,55.0,79.0,46.0,78.0,82.0,792.0]},\"name\":\"\",\"parents\":[\"\",\"\",\"\",\"\",\"\",\"\",\"\",\"\",\"\",\"\"],\"values\":[523,102,68,157,55,79,46,78,82,792],\"type\":\"treemap\",\"textinfo\":\"label+value\"}],                        {\"template\":{\"data\":{\"histogram2dcontour\":[{\"type\":\"histogram2dcontour\",\"colorbar\":{\"outlinewidth\":0,\"ticks\":\"\"},\"colorscale\":[[0.0,\"#0d0887\"],[0.1111111111111111,\"#46039f\"],[0.2222222222222222,\"#7201a8\"],[0.3333333333333333,\"#9c179e\"],[0.4444444444444444,\"#bd3786\"],[0.5555555555555556,\"#d8576b\"],[0.6666666666666666,\"#ed7953\"],[0.7777777777777778,\"#fb9f3a\"],[0.8888888888888888,\"#fdca26\"],[1.0,\"#f0f921\"]]}],\"choropleth\":[{\"type\":\"choropleth\",\"colorbar\":{\"outlinewidth\":0,\"ticks\":\"\"}}],\"histogram2d\":[{\"type\":\"histogram2d\",\"colorbar\":{\"outlinewidth\":0,\"ticks\":\"\"},\"colorscale\":[[0.0,\"#0d0887\"],[0.1111111111111111,\"#46039f\"],[0.2222222222222222,\"#7201a8\"],[0.3333333333333333,\"#9c179e\"],[0.4444444444444444,\"#bd3786\"],[0.5555555555555556,\"#d8576b\"],[0.6666666666666666,\"#ed7953\"],[0.7777777777777778,\"#fb9f3a\"],[0.8888888888888888,\"#fdca26\"],[1.0,\"#f0f921\"]]}],\"heatmap\":[{\"type\":\"heatmap\",\"colorbar\":{\"outlinewidth\":0,\"ticks\":\"\"},\"colorscale\":[[0.0,\"#0d0887\"],[0.1111111111111111,\"#46039f\"],[0.2222222222222222,\"#7201a8\"],[0.3333333333333333,\"#9c179e\"],[0.4444444444444444,\"#bd3786\"],[0.5555555555555556,\"#d8576b\"],[0.6666666666666666,\"#ed7953\"],[0.7777777777777778,\"#fb9f3a\"],[0.8888888888888888,\"#fdca26\"],[1.0,\"#f0f921\"]]}],\"heatmapgl\":[{\"type\":\"heatmapgl\",\"colorbar\":{\"outlinewidth\":0,\"ticks\":\"\"},\"colorscale\":[[0.0,\"#0d0887\"],[0.1111111111111111,\"#46039f\"],[0.2222222222222222,\"#7201a8\"],[0.3333333333333333,\"#9c179e\"],[0.4444444444444444,\"#bd3786\"],[0.5555555555555556,\"#d8576b\"],[0.6666666666666666,\"#ed7953\"],[0.7777777777777778,\"#fb9f3a\"],[0.8888888888888888,\"#fdca26\"],[1.0,\"#f0f921\"]]}],\"contourcarpet\":[{\"type\":\"contourcarpet\",\"colorbar\":{\"outlinewidth\":0,\"ticks\":\"\"}}],\"contour\":[{\"type\":\"contour\",\"colorbar\":{\"outlinewidth\":0,\"ticks\":\"\"},\"colorscale\":[[0.0,\"#0d0887\"],[0.1111111111111111,\"#46039f\"],[0.2222222222222222,\"#7201a8\"],[0.3333333333333333,\"#9c179e\"],[0.4444444444444444,\"#bd3786\"],[0.5555555555555556,\"#d8576b\"],[0.6666666666666666,\"#ed7953\"],[0.7777777777777778,\"#fb9f3a\"],[0.8888888888888888,\"#fdca26\"],[1.0,\"#f0f921\"]]}],\"surface\":[{\"type\":\"surface\",\"colorbar\":{\"outlinewidth\":0,\"ticks\":\"\"},\"colorscale\":[[0.0,\"#0d0887\"],[0.1111111111111111,\"#46039f\"],[0.2222222222222222,\"#7201a8\"],[0.3333333333333333,\"#9c179e\"],[0.4444444444444444,\"#bd3786\"],[0.5555555555555556,\"#d8576b\"],[0.6666666666666666,\"#ed7953\"],[0.7777777777777778,\"#fb9f3a\"],[0.8888888888888888,\"#fdca26\"],[1.0,\"#f0f921\"]]}],\"mesh3d\":[{\"type\":\"mesh3d\",\"colorbar\":{\"outlinewidth\":0,\"ticks\":\"\"}}],\"scatter\":[{\"fillpattern\":{\"fillmode\":\"overlay\",\"size\":10,\"solidity\":0.2},\"type\":\"scatter\"}],\"parcoords\":[{\"type\":\"parcoords\",\"line\":{\"colorbar\":{\"outlinewidth\":0,\"ticks\":\"\"}}}],\"scatterpolargl\":[{\"type\":\"scatterpolargl\",\"marker\":{\"colorbar\":{\"outlinewidth\":0,\"ticks\":\"\"}}}],\"bar\":[{\"error_x\":{\"color\":\"#2a3f5f\"},\"error_y\":{\"color\":\"#2a3f5f\"},\"marker\":{\"line\":{\"color\":\"#E5ECF6\",\"width\":0.5},\"pattern\":{\"fillmode\":\"overlay\",\"size\":10,\"solidity\":0.2}},\"type\":\"bar\"}],\"scattergeo\":[{\"type\":\"scattergeo\",\"marker\":{\"colorbar\":{\"outlinewidth\":0,\"ticks\":\"\"}}}],\"scatterpolar\":[{\"type\":\"scatterpolar\",\"marker\":{\"colorbar\":{\"outlinewidth\":0,\"ticks\":\"\"}}}],\"histogram\":[{\"marker\":{\"pattern\":{\"fillmode\":\"overlay\",\"size\":10,\"solidity\":0.2}},\"type\":\"histogram\"}],\"scattergl\":[{\"type\":\"scattergl\",\"marker\":{\"colorbar\":{\"outlinewidth\":0,\"ticks\":\"\"}}}],\"scatter3d\":[{\"type\":\"scatter3d\",\"line\":{\"colorbar\":{\"outlinewidth\":0,\"ticks\":\"\"}},\"marker\":{\"colorbar\":{\"outlinewidth\":0,\"ticks\":\"\"}}}],\"scattermapbox\":[{\"type\":\"scattermapbox\",\"marker\":{\"colorbar\":{\"outlinewidth\":0,\"ticks\":\"\"}}}],\"scatterternary\":[{\"type\":\"scatterternary\",\"marker\":{\"colorbar\":{\"outlinewidth\":0,\"ticks\":\"\"}}}],\"scattercarpet\":[{\"type\":\"scattercarpet\",\"marker\":{\"colorbar\":{\"outlinewidth\":0,\"ticks\":\"\"}}}],\"carpet\":[{\"aaxis\":{\"endlinecolor\":\"#2a3f5f\",\"gridcolor\":\"white\",\"linecolor\":\"white\",\"minorgridcolor\":\"white\",\"startlinecolor\":\"#2a3f5f\"},\"baxis\":{\"endlinecolor\":\"#2a3f5f\",\"gridcolor\":\"white\",\"linecolor\":\"white\",\"minorgridcolor\":\"white\",\"startlinecolor\":\"#2a3f5f\"},\"type\":\"carpet\"}],\"table\":[{\"cells\":{\"fill\":{\"color\":\"#EBF0F8\"},\"line\":{\"color\":\"white\"}},\"header\":{\"fill\":{\"color\":\"#C8D4E3\"},\"line\":{\"color\":\"white\"}},\"type\":\"table\"}],\"barpolar\":[{\"marker\":{\"line\":{\"color\":\"#E5ECF6\",\"width\":0.5},\"pattern\":{\"fillmode\":\"overlay\",\"size\":10,\"solidity\":0.2}},\"type\":\"barpolar\"}],\"pie\":[{\"automargin\":true,\"type\":\"pie\"}]},\"layout\":{\"autotypenumbers\":\"strict\",\"colorway\":[\"#636efa\",\"#EF553B\",\"#00cc96\",\"#ab63fa\",\"#FFA15A\",\"#19d3f3\",\"#FF6692\",\"#B6E880\",\"#FF97FF\",\"#FECB52\"],\"font\":{\"color\":\"#2a3f5f\"},\"hovermode\":\"closest\",\"hoverlabel\":{\"align\":\"left\"},\"paper_bgcolor\":\"white\",\"plot_bgcolor\":\"#E5ECF6\",\"polar\":{\"bgcolor\":\"#E5ECF6\",\"angularaxis\":{\"gridcolor\":\"white\",\"linecolor\":\"white\",\"ticks\":\"\"},\"radialaxis\":{\"gridcolor\":\"white\",\"linecolor\":\"white\",\"ticks\":\"\"}},\"ternary\":{\"bgcolor\":\"#E5ECF6\",\"aaxis\":{\"gridcolor\":\"white\",\"linecolor\":\"white\",\"ticks\":\"\"},\"baxis\":{\"gridcolor\":\"white\",\"linecolor\":\"white\",\"ticks\":\"\"},\"caxis\":{\"gridcolor\":\"white\",\"linecolor\":\"white\",\"ticks\":\"\"}},\"coloraxis\":{\"colorbar\":{\"outlinewidth\":0,\"ticks\":\"\"}},\"colorscale\":{\"sequential\":[[0.0,\"#0d0887\"],[0.1111111111111111,\"#46039f\"],[0.2222222222222222,\"#7201a8\"],[0.3333333333333333,\"#9c179e\"],[0.4444444444444444,\"#bd3786\"],[0.5555555555555556,\"#d8576b\"],[0.6666666666666666,\"#ed7953\"],[0.7777777777777778,\"#fb9f3a\"],[0.8888888888888888,\"#fdca26\"],[1.0,\"#f0f921\"]],\"sequentialminus\":[[0.0,\"#0d0887\"],[0.1111111111111111,\"#46039f\"],[0.2222222222222222,\"#7201a8\"],[0.3333333333333333,\"#9c179e\"],[0.4444444444444444,\"#bd3786\"],[0.5555555555555556,\"#d8576b\"],[0.6666666666666666,\"#ed7953\"],[0.7777777777777778,\"#fb9f3a\"],[0.8888888888888888,\"#fdca26\"],[1.0,\"#f0f921\"]],\"diverging\":[[0,\"#8e0152\"],[0.1,\"#c51b7d\"],[0.2,\"#de77ae\"],[0.3,\"#f1b6da\"],[0.4,\"#fde0ef\"],[0.5,\"#f7f7f7\"],[0.6,\"#e6f5d0\"],[0.7,\"#b8e186\"],[0.8,\"#7fbc41\"],[0.9,\"#4d9221\"],[1,\"#276419\"]]},\"xaxis\":{\"gridcolor\":\"white\",\"linecolor\":\"white\",\"ticks\":\"\",\"title\":{\"standoff\":15},\"zerolinecolor\":\"white\",\"automargin\":true,\"zerolinewidth\":2},\"yaxis\":{\"gridcolor\":\"white\",\"linecolor\":\"white\",\"ticks\":\"\",\"title\":{\"standoff\":15},\"zerolinecolor\":\"white\",\"automargin\":true,\"zerolinewidth\":2},\"scene\":{\"xaxis\":{\"backgroundcolor\":\"#E5ECF6\",\"gridcolor\":\"white\",\"linecolor\":\"white\",\"showbackground\":true,\"ticks\":\"\",\"zerolinecolor\":\"white\",\"gridwidth\":2},\"yaxis\":{\"backgroundcolor\":\"#E5ECF6\",\"gridcolor\":\"white\",\"linecolor\":\"white\",\"showbackground\":true,\"ticks\":\"\",\"zerolinecolor\":\"white\",\"gridwidth\":2},\"zaxis\":{\"backgroundcolor\":\"#E5ECF6\",\"gridcolor\":\"white\",\"linecolor\":\"white\",\"showbackground\":true,\"ticks\":\"\",\"zerolinecolor\":\"white\",\"gridwidth\":2}},\"shapedefaults\":{\"line\":{\"color\":\"#2a3f5f\"}},\"annotationdefaults\":{\"arrowcolor\":\"#2a3f5f\",\"arrowhead\":0,\"arrowwidth\":1},\"geo\":{\"bgcolor\":\"white\",\"landcolor\":\"#E5ECF6\",\"subunitcolor\":\"white\",\"showland\":true,\"showlakes\":true,\"lakecolor\":\"white\"},\"title\":{\"x\":0.05},\"mapbox\":{\"style\":\"light\"}}},\"coloraxis\":{\"colorbar\":{\"title\":{\"text\":\"count\"}},\"colorscale\":[[0.0,\"#0d0887\"],[0.1111111111111111,\"#46039f\"],[0.2222222222222222,\"#7201a8\"],[0.3333333333333333,\"#9c179e\"],[0.4444444444444444,\"#bd3786\"],[0.5555555555555556,\"#d8576b\"],[0.6666666666666666,\"#ed7953\"],[0.7777777777777778,\"#fb9f3a\"],[0.8888888888888888,\"#fdca26\"],[1.0,\"#f0f921\"]]},\"legend\":{\"tracegroupgap\":0},\"title\":{\"text\":\"Top 10 countries with most billionaires\"},\"margin\":{\"l\":0,\"r\":0,\"b\":0,\"t\":50},\"width\":800,\"height\":500},                        {\"responsive\": true}                    ).then(function(){\n",
       "                            \n",
       "var gd = document.getElementById('05ac03aa-a06b-4960-976c-93026fb71b32');\n",
       "var x = new MutationObserver(function (mutations, observer) {{\n",
       "        var display = window.getComputedStyle(gd).display;\n",
       "        if (!display || display === 'none') {{\n",
       "            console.log([gd, 'removed!']);\n",
       "            Plotly.purge(gd);\n",
       "            observer.disconnect();\n",
       "        }}\n",
       "}});\n",
       "\n",
       "// Listen for the removal of the full notebook cells\n",
       "var notebookContainer = gd.closest('#notebook-container');\n",
       "if (notebookContainer) {{\n",
       "    x.observe(notebookContainer, {childList: true});\n",
       "}}\n",
       "\n",
       "// Listen for the clearing of the current output cell\n",
       "var outputEl = gd.closest('.output');\n",
       "if (outputEl) {{\n",
       "    x.observe(outputEl, {childList: true});\n",
       "}}\n",
       "\n",
       "                        })                };                });            </script>        </div>"
      ]
     },
     "metadata": {},
     "output_type": "display_data"
    }
   ],
   "source": [
    "#1.World stats on Billionaires and where they are from\n",
    "\n",
    "# Choropleth Map\n",
    "billionaires_count = df['country'].value_counts().reset_index().rename(columns={'index': 'country'})\n",
    "\n",
    "fig_choropleth = px.choropleth(billionaires_count, \n",
    "                                locations='country',\n",
    "                                color='count',\n",
    "                                color_continuous_scale='plasma',\n",
    "                                title='Number of Billionaires by Country',\n",
    "                                labels={'count': 'Number of Billionaires'},\n",
    "                                locationmode='country names')\n",
    "\n",
    "fig_bar = px.bar(billionaires_count, \n",
    "                x='country', \n",
    "                y='count',\n",
    "                color='count',\n",
    "                title='Number of Billionaires Globally',\n",
    "                labels={'count': 'Number of Billionaires'},\n",
    "                color_continuous_scale='plasma',  # Choose a color scale\n",
    "                )\n",
    "\n",
    "fig_choropleth.update_layout(\n",
    "    geo=dict(showcoastlines=True, showland=True, landcolor=\"white\"),\n",
    "    coloraxis_colorbar=dict(title='Number of Billionaires', tickformat=','),\n",
    "    margin=dict(l=0, r=0, b=0, t=50),  # Adjust margins\n",
    "    width=800,  # Set the width of the figure\n",
    "    height=500,  # Set the height of the figure\n",
    ")\n",
    "fig_choropleth.show()\n",
    "\n",
    "#Top 10 countries with most billionaires\n",
    "df_country = df['country'].value_counts().reset_index().sort_values(by='count', ascending=False)\n",
    "\n",
    "# Create a Treemap for the number of billionaires by industry\n",
    "fig = px.treemap(df_country.head(10), \n",
    "                 values='count', \n",
    "                 path=['country'], \n",
    "                 title='Top 10 countries with most billionaires',\n",
    "                 color='count', \n",
    "                 color_continuous_scale='plasma'\n",
    "                )\n",
    "fig.update_traces(textinfo=\"label+value\")\n",
    "fig.update_layout(margin=dict(l=0, r=0, b=0, t=50),  # Adjust margins\n",
    "    width=800,  # Set the width of the figure\n",
    "    height=500,)\n",
    "fig.show()\n",
    "\n"
   ]
  },
  {
   "cell_type": "code",
   "execution_count": 243,
   "id": "17152cb5",
   "metadata": {},
   "outputs": [
    {
     "data": {
      "image/png": "[encoded data removed]",
      "text/plain": [
       "<Figure size 1000x600 with 1 Axes>"
      ]
     },
     "metadata": {},
     "output_type": "display_data"
    },
    {
     "data": {
      "image/png": "[encoded data removed]",
      "text/plain": [
       "<Figure size 1500x600 with 1 Axes>"
      ]
     },
     "metadata": {},
     "output_type": "display_data"
    }
   ],
   "source": [
    "#2. Age distribution of Billionaires\n",
    "plt.figure(figsize=(10, 6))\n",
    "ax = sns.histplot(df['age'], bins=20, kde=True, color='#377EB8', edgecolor='black', linewidth=1.2)\n",
    "\n",
    "# Customizing the plot\n",
    "plt.xlabel('Age')\n",
    "plt.ylabel('Count')\n",
    "plt.title('Age Distribution of Billionaires')\n",
    "plt.xlim(df['age'].min(), df['age'].max())\n",
    "\n",
    "# Adding data labels on top of the bars\n",
    "for p in ax.patches:\n",
    "    ax.annotate(f'{p.get_height():,.0f}', (p.get_x() + p.get_width() / 2., p.get_height()), \n",
    "                ha='center', va='center', xytext=(0, 10), textcoords='offset points', fontsize=10)\n",
    "\n",
    "# Removing top and right spines for aesthetics\n",
    "sns.despine(top=True, right=True)\n",
    "\n",
    "# Show the plot\n",
    "plt.show()\n",
    "\n",
    "#Avg age of billionaire's vs life expectency in each country\n",
    "d= df[['country','age', 'life_expectancy_country']]\n",
    "avg_age = d.groupby('country')[['age','life_expectancy_country']].mean().reset_index()\n",
    "avg_age.columns = ['Country', 'Avg age of billionaires', 'Life Expectancy']\n",
    "countries = ['United States','China', 'India','Germany','United Kingdom','Switzerland','Hong Kong',\n",
    "            'Russia', 'Italy','Singapore',]\n",
    "top_countries_age = avg_age.loc[avg_age['Country'].isin(countries)]\n",
    "top_countries_age.fillna(85.39)\n",
    "              \n",
    "# Melt the DataFrame to convert it to long format\n",
    "df_long = pd.melt(top_countries_age, id_vars='Country', var_name='Variable', value_name='Value')\n",
    "\n",
    "plt.figure(figsize=(15, 6))\n",
    "# Create a barplot with color\n",
    "c_plot = sns.barplot(x='Country', y='Value', hue='Variable', data=df_long, palette='Set1')\n",
    "\n",
    "# Removing top and right spines for aesthetics\n",
    "sns.despine(top=True, right=True)\n",
    "\n",
    "# Customize the plot\n",
    "plt.title('Age comparison of Billionaires w.r.t Life Expectancy')\n",
    "plt.xlabel('Country')\n",
    "plt.ylabel('Age')\n",
    "plt.legend(title='Variable', bbox_to_anchor=(1.01, 1), loc='upper left')  # Adjust legend position\n",
    "\n",
    "for p in c_plot.patches:\n",
    "    c_plot.annotate (f'{p.get_height():.0f}', (p.get_x() + p.get_width() / 2., p.get_height()),\n",
    "                    ha='center', va='center', xytext=(0, 10), textcoords='offset points')\n",
    "\n",
    "plt.show()\n"
   ]
  },
  {
   "cell_type": "code",
   "execution_count": 107,
   "id": "c3f6da7e",
   "metadata": {},
   "outputs": [
    {
     "data": {
      "application/vnd.plotly.v1+json": {
       "config": {
        "plotlyServerURL": "https://plot.ly"
       },
       "data": [
        {
         "alignmentgroup": "True",
         "hovertemplate": "Industry=%{x}<br>Number of Billionaires=%{marker.color}<extra></extra>",
         "legendgroup": "",
         "marker": {
          "color": [
           372,
           324,
           314,
           266,
           212,
           201,
           193,
           187,
           100,
           91,
           74,
           73,
           53,
           45,
           40,
           39,
           31,
           25
          ],
          "coloraxis": "coloraxis",
          "pattern": {
           "shape": ""
          }
         },
         "name": "",
         "offsetgroup": "",
         "orientation": "v",
         "showlegend": false,
         "textposition": "auto",
         "type": "bar",
         "x": [
          "Finance & Investments",
          "Manufacturing",
          "Technology",
          "Fashion & Retail",
          "Food & Beverage",
          "Healthcare",
          "Real Estate",
          "Diversified",
          "Energy",
          "Media & Entertainment",
          "Metals & Mining",
          "Automotive",
          "Service",
          "Construction & Engineering",
          "Logistics",
          "Sports",
          "Telecom",
          "Gambling & Casinos"
         ],
         "xaxis": "x",
         "y": [
          372,
          324,
          314,
          266,
          212,
          201,
          193,
          187,
          100,
          91,
          74,
          73,
          53,
          45,
          40,
          39,
          31,
          25
         ],
         "yaxis": "y"
        }
       ],
       "layout": {
        "barmode": "relative",
        "coloraxis": {
         "colorbar": {
          "title": {
           "text": "Number of Billionaires"
          }
         },
         "colorscale": [
          [
           0,
           "#440154"
          ],
          [
           0.1111111111111111,
           "#482878"
          ],
          [
           0.2222222222222222,
           "#3e4989"
          ],
          [
           0.3333333333333333,
           "#31688e"
          ],
          [
           0.4444444444444444,
           "#26828e"
          ],
          [
           0.5555555555555556,
           "#1f9e89"
          ],
          [
           0.6666666666666666,
           "#35b779"
          ],
          [
           0.7777777777777778,
           "#6ece58"
          ],
          [
           0.8888888888888888,
           "#b5de2b"
          ],
          [
           1,
           "#fde725"
          ]
         ]
        },
        "legend": {
         "tracegroupgap": 0
        },
        "template": {
         "data": {
          "bar": [
           {
            "error_x": {
             "color": "#2a3f5f"
            },
            "error_y": {
             "color": "#2a3f5f"
            },
            "marker": {
             "line": {
              "color": "#E5ECF6",
              "width": 0.5
             },
             "pattern": {
              "fillmode": "overlay",
              "size": 10,
              "solidity": 0.2
             }
            },
            "type": "bar"
           }
          ],
          "barpolar": [
           {
            "marker": {
             "line": {
              "color": "#E5ECF6",
              "width": 0.5
             },
             "pattern": {
              "fillmode": "overlay",
              "size": 10,
              "solidity": 0.2
             }
            },
            "type": "barpolar"
           }
          ],
          "carpet": [
           {
            "aaxis": {
             "endlinecolor": "#2a3f5f",
             "gridcolor": "white",
             "linecolor": "white",
             "minorgridcolor": "white",
             "startlinecolor": "#2a3f5f"
            },
            "baxis": {
             "endlinecolor": "#2a3f5f",
             "gridcolor": "white",
             "linecolor": "white",
             "minorgridcolor": "white",
             "startlinecolor": "#2a3f5f"
            },
            "type": "carpet"
           }
          ],
          "choropleth": [
           {
            "colorbar": {
             "outlinewidth": 0,
             "ticks": ""
            },
            "type": "choropleth"
           }
          ],
          "contour": [
           {
            "colorbar": {
             "outlinewidth": 0,
             "ticks": ""
            },
            "colorscale": [
             [
              0,
              "#0d0887"
             ],
             [
              0.1111111111111111,
              "#46039f"
             ],
             [
              0.2222222222222222,
              "#7201a8"
             ],
             [
              0.3333333333333333,
              "#9c179e"
             ],
             [
              0.4444444444444444,
              "#bd3786"
             ],
             [
              0.5555555555555556,
              "#d8576b"
             ],
             [
              0.6666666666666666,
              "#ed7953"
             ],
             [
              0.7777777777777778,
              "#fb9f3a"
             ],
             [
              0.8888888888888888,
              "#fdca26"
             ],
             [
              1,
              "#f0f921"
             ]
            ],
            "type": "contour"
           }
          ],
          "contourcarpet": [
           {
            "colorbar": {
             "outlinewidth": 0,
             "ticks": ""
            },
            "type": "contourcarpet"
           }
          ],
          "heatmap": [
           {
            "colorbar": {
             "outlinewidth": 0,
             "ticks": ""
            },
            "colorscale": [
             [
              0,
              "#0d0887"
             ],
             [
              0.1111111111111111,
              "#46039f"
             ],
             [
              0.2222222222222222,
              "#7201a8"
             ],
             [
              0.3333333333333333,
              "#9c179e"
             ],
             [
              0.4444444444444444,
              "#bd3786"
             ],
             [
              0.5555555555555556,
              "#d8576b"
             ],
             [
              0.6666666666666666,
              "#ed7953"
             ],
             [
              0.7777777777777778,
              "#fb9f3a"
             ],
             [
              0.8888888888888888,
              "#fdca26"
             ],
             [
              1,
              "#f0f921"
             ]
            ],
            "type": "heatmap"
           }
          ],
          "heatmapgl": [
           {
            "colorbar": {
             "outlinewidth": 0,
             "ticks": ""
            },
            "colorscale": [
             [
              0,
              "#0d0887"
             ],
             [
              0.1111111111111111,
              "#46039f"
             ],
             [
              0.2222222222222222,
              "#7201a8"
             ],
             [
              0.3333333333333333,
              "#9c179e"
             ],
             [
              0.4444444444444444,
              "#bd3786"
             ],
             [
              0.5555555555555556,
              "#d8576b"
             ],
             [
              0.6666666666666666,
              "#ed7953"
             ],
             [
              0.7777777777777778,
              "#fb9f3a"
             ],
             [
              0.8888888888888888,
              "#fdca26"
             ],
             [
              1,
              "#f0f921"
             ]
            ],
            "type": "heatmapgl"
           }
          ],
          "histogram": [
           {
            "marker": {
             "pattern": {
              "fillmode": "overlay",
              "size": 10,
              "solidity": 0.2
             }
            },
            "type": "histogram"
           }
          ],
          "histogram2d": [
           {
            "colorbar": {
             "outlinewidth": 0,
             "ticks": ""
            },
            "colorscale": [
             [
              0,
              "#0d0887"
             ],
             [
              0.1111111111111111,
              "#46039f"
             ],
             [
              0.2222222222222222,
              "#7201a8"
             ],
             [
              0.3333333333333333,
              "#9c179e"
             ],
             [
              0.4444444444444444,
              "#bd3786"
             ],
             [
              0.5555555555555556,
              "#d8576b"
             ],
             [
              0.6666666666666666,
              "#ed7953"
             ],
             [
              0.7777777777777778,
              "#fb9f3a"
             ],
             [
              0.8888888888888888,
              "#fdca26"
             ],
             [
              1,
              "#f0f921"
             ]
            ],
            "type": "histogram2d"
           }
          ],
          "histogram2dcontour": [
           {
            "colorbar": {
             "outlinewidth": 0,
             "ticks": ""
            },
            "colorscale": [
             [
              0,
              "#0d0887"
             ],
             [
              0.1111111111111111,
              "#46039f"
             ],
             [
              0.2222222222222222,
              "#7201a8"
             ],
             [
              0.3333333333333333,
              "#9c179e"
             ],
             [
              0.4444444444444444,
              "#bd3786"
             ],
             [
              0.5555555555555556,
              "#d8576b"
             ],
             [
              0.6666666666666666,
              "#ed7953"
             ],
             [
              0.7777777777777778,
              "#fb9f3a"
             ],
             [
              0.8888888888888888,
              "#fdca26"
             ],
             [
              1,
              "#f0f921"
             ]
            ],
            "type": "histogram2dcontour"
           }
          ],
          "mesh3d": [
           {
            "colorbar": {
             "outlinewidth": 0,
             "ticks": ""
            },
            "type": "mesh3d"
           }
          ],
          "parcoords": [
           {
            "line": {
             "colorbar": {
              "outlinewidth": 0,
              "ticks": ""
             }
            },
            "type": "parcoords"
           }
          ],
          "pie": [
           {
            "automargin": true,
            "type": "pie"
           }
          ],
          "scatter": [
           {
            "fillpattern": {
             "fillmode": "overlay",
             "size": 10,
             "solidity": 0.2
            },
            "type": "scatter"
           }
          ],
          "scatter3d": [
           {
            "line": {
             "colorbar": {
              "outlinewidth": 0,
              "ticks": ""
             }
            },
            "marker": {
             "colorbar": {
              "outlinewidth": 0,
              "ticks": ""
             }
            },
            "type": "scatter3d"
           }
          ],
          "scattercarpet": [
           {
            "marker": {
             "colorbar": {
              "outlinewidth": 0,
              "ticks": ""
             }
            },
            "type": "scattercarpet"
           }
          ],
          "scattergeo": [
           {
            "marker": {
             "colorbar": {
              "outlinewidth": 0,
              "ticks": ""
             }
            },
            "type": "scattergeo"
           }
          ],
          "scattergl": [
           {
            "marker": {
             "colorbar": {
              "outlinewidth": 0,
              "ticks": ""
             }
            },
            "type": "scattergl"
           }
          ],
          "scattermapbox": [
           {
            "marker": {
             "colorbar": {
              "outlinewidth": 0,
              "ticks": ""
             }
            },
            "type": "scattermapbox"
           }
          ],
          "scatterpolar": [
           {
            "marker": {
             "colorbar": {
              "outlinewidth": 0,
              "ticks": ""
             }
            },
            "type": "scatterpolar"
           }
          ],
          "scatterpolargl": [
           {
            "marker": {
             "colorbar": {
              "outlinewidth": 0,
              "ticks": ""
             }
            },
            "type": "scatterpolargl"
           }
          ],
          "scatterternary": [
           {
            "marker": {
             "colorbar": {
              "outlinewidth": 0,
              "ticks": ""
             }
            },
            "type": "scatterternary"
           }
          ],
          "surface": [
           {
            "colorbar": {
             "outlinewidth": 0,
             "ticks": ""
            },
            "colorscale": [
             [
              0,
              "#0d0887"
             ],
             [
              0.1111111111111111,
              "#46039f"
             ],
             [
              0.2222222222222222,
              "#7201a8"
             ],
             [
              0.3333333333333333,
              "#9c179e"
             ],
             [
              0.4444444444444444,
              "#bd3786"
             ],
             [
              0.5555555555555556,
              "#d8576b"
             ],
             [
              0.6666666666666666,
              "#ed7953"
             ],
             [
              0.7777777777777778,
              "#fb9f3a"
             ],
             [
              0.8888888888888888,
              "#fdca26"
             ],
             [
              1,
              "#f0f921"
             ]
            ],
            "type": "surface"
           }
          ],
          "table": [
           {
            "cells": {
             "fill": {
              "color": "#EBF0F8"
             },
             "line": {
              "color": "white"
             }
            },
            "header": {
             "fill": {
              "color": "#C8D4E3"
             },
             "line": {
              "color": "white"
             }
            },
            "type": "table"
           }
          ]
         },
         "layout": {
          "annotationdefaults": {
           "arrowcolor": "#2a3f5f",
           "arrowhead": 0,
           "arrowwidth": 1
          },
          "autotypenumbers": "strict",
          "coloraxis": {
           "colorbar": {
            "outlinewidth": 0,
            "ticks": ""
           }
          },
          "colorscale": {
           "diverging": [
            [
             0,
             "#8e0152"
            ],
            [
             0.1,
             "#c51b7d"
            ],
            [
             0.2,
             "#de77ae"
            ],
            [
             0.3,
             "#f1b6da"
            ],
            [
             0.4,
             "#fde0ef"
            ],
            [
             0.5,
             "#f7f7f7"
            ],
            [
             0.6,
             "#e6f5d0"
            ],
            [
             0.7,
             "#b8e186"
            ],
            [
             0.8,
             "#7fbc41"
            ],
            [
             0.9,
             "#4d9221"
            ],
            [
             1,
             "#276419"
            ]
           ],
           "sequential": [
            [
             0,
             "#0d0887"
            ],
            [
             0.1111111111111111,
             "#46039f"
            ],
            [
             0.2222222222222222,
             "#7201a8"
            ],
            [
             0.3333333333333333,
             "#9c179e"
            ],
            [
             0.4444444444444444,
             "#bd3786"
            ],
            [
             0.5555555555555556,
             "#d8576b"
            ],
            [
             0.6666666666666666,
             "#ed7953"
            ],
            [
             0.7777777777777778,
             "#fb9f3a"
            ],
            [
             0.8888888888888888,
             "#fdca26"
            ],
            [
             1,
             "#f0f921"
            ]
           ],
           "sequentialminus": [
            [
             0,
             "#0d0887"
            ],
            [
             0.1111111111111111,
             "#46039f"
            ],
            [
             0.2222222222222222,
             "#7201a8"
            ],
            [
             0.3333333333333333,
             "#9c179e"
            ],
            [
             0.4444444444444444,
             "#bd3786"
            ],
            [
             0.5555555555555556,
             "#d8576b"
            ],
            [
             0.6666666666666666,
             "#ed7953"
            ],
            [
             0.7777777777777778,
             "#fb9f3a"
            ],
            [
             0.8888888888888888,
             "#fdca26"
            ],
            [
             1,
             "#f0f921"
            ]
           ]
          },
          "colorway": [
           "#636efa",
           "#EF553B",
           "#00cc96",
           "#ab63fa",
           "#FFA15A",
           "#19d3f3",
           "#FF6692",
           "#B6E880",
           "#FF97FF",
           "#FECB52"
          ],
          "font": {
           "color": "#2a3f5f"
          },
          "geo": {
           "bgcolor": "white",
           "lakecolor": "white",
           "landcolor": "#E5ECF6",
           "showlakes": true,
           "showland": true,
           "subunitcolor": "white"
          },
          "hoverlabel": {
           "align": "left"
          },
          "hovermode": "closest",
          "mapbox": {
           "style": "light"
          },
          "paper_bgcolor": "white",
          "plot_bgcolor": "#E5ECF6",
          "polar": {
           "angularaxis": {
            "gridcolor": "white",
            "linecolor": "white",
            "ticks": ""
           },
           "bgcolor": "#E5ECF6",
           "radialaxis": {
            "gridcolor": "white",
            "linecolor": "white",
            "ticks": ""
           }
          },
          "scene": {
           "xaxis": {
            "backgroundcolor": "#E5ECF6",
            "gridcolor": "white",
            "gridwidth": 2,
            "linecolor": "white",
            "showbackground": true,
            "ticks": "",
            "zerolinecolor": "white"
           },
           "yaxis": {
            "backgroundcolor": "#E5ECF6",
            "gridcolor": "white",
            "gridwidth": 2,
            "linecolor": "white",
            "showbackground": true,
            "ticks": "",
            "zerolinecolor": "white"
           },
           "zaxis": {
            "backgroundcolor": "#E5ECF6",
            "gridcolor": "white",
            "gridwidth": 2,
            "linecolor": "white",
            "showbackground": true,
            "ticks": "",
            "zerolinecolor": "white"
           }
          },
          "shapedefaults": {
           "line": {
            "color": "#2a3f5f"
           }
          },
          "ternary": {
           "aaxis": {
            "gridcolor": "white",
            "linecolor": "white",
            "ticks": ""
           },
           "baxis": {
            "gridcolor": "white",
            "linecolor": "white",
            "ticks": ""
           },
           "bgcolor": "#E5ECF6",
           "caxis": {
            "gridcolor": "white",
            "linecolor": "white",
            "ticks": ""
           }
          },
          "title": {
           "x": 0.05
          },
          "xaxis": {
           "automargin": true,
           "gridcolor": "white",
           "linecolor": "white",
           "ticks": "",
           "title": {
            "standoff": 15
           },
           "zerolinecolor": "white",
           "zerolinewidth": 2
          },
          "yaxis": {
           "automargin": true,
           "gridcolor": "white",
           "linecolor": "white",
           "ticks": "",
           "title": {
            "standoff": 15
           },
           "zerolinecolor": "white",
           "zerolinewidth": 2
          }
         }
        },
        "title": {
         "text": "Number of Billionaires by Industry"
        },
        "xaxis": {
         "anchor": "y",
         "domain": [
          0,
          1
         ],
         "title": {
          "text": "Industry"
         }
        },
        "yaxis": {
         "anchor": "x",
         "domain": [
          0,
          1
         ],
         "title": {
          "text": "Number of Billionaires"
         }
        }
       }
      },
      "text/html": [
       "<div>                            <div id=\"294c8a3e-4adc-4d63-8db2-f179fb855e0e\" class=\"plotly-graph-div\" style=\"height:525px; width:100%;\"></div>            <script type=\"text/javascript\">                require([\"plotly\"], function(Plotly) {                    window.PLOTLYENV=window.PLOTLYENV || {};                                    if (document.getElementById(\"294c8a3e-4adc-4d63-8db2-f179fb855e0e\")) {                    Plotly.newPlot(                        \"294c8a3e-4adc-4d63-8db2-f179fb855e0e\",                        [{\"alignmentgroup\":\"True\",\"hovertemplate\":\"Industry=%{x}<br>Number of Billionaires=%{marker.color}<extra></extra>\",\"legendgroup\":\"\",\"marker\":{\"color\":[372,324,314,266,212,201,193,187,100,91,74,73,53,45,40,39,31,25],\"coloraxis\":\"coloraxis\",\"pattern\":{\"shape\":\"\"}},\"name\":\"\",\"offsetgroup\":\"\",\"orientation\":\"v\",\"showlegend\":false,\"textposition\":\"auto\",\"x\":[\"Finance & Investments\",\"Manufacturing\",\"Technology\",\"Fashion & Retail\",\"Food & Beverage\",\"Healthcare\",\"Real Estate\",\"Diversified\",\"Energy\",\"Media & Entertainment\",\"Metals & Mining\",\"Automotive\",\"Service\",\"Construction & Engineering\",\"Logistics\",\"Sports\",\"Telecom\",\"Gambling & Casinos\"],\"xaxis\":\"x\",\"y\":[372,324,314,266,212,201,193,187,100,91,74,73,53,45,40,39,31,25],\"yaxis\":\"y\",\"type\":\"bar\"}],                        {\"template\":{\"data\":{\"histogram2dcontour\":[{\"type\":\"histogram2dcontour\",\"colorbar\":{\"outlinewidth\":0,\"ticks\":\"\"},\"colorscale\":[[0.0,\"#0d0887\"],[0.1111111111111111,\"#46039f\"],[0.2222222222222222,\"#7201a8\"],[0.3333333333333333,\"#9c179e\"],[0.4444444444444444,\"#bd3786\"],[0.5555555555555556,\"#d8576b\"],[0.6666666666666666,\"#ed7953\"],[0.7777777777777778,\"#fb9f3a\"],[0.8888888888888888,\"#fdca26\"],[1.0,\"#f0f921\"]]}],\"choropleth\":[{\"type\":\"choropleth\",\"colorbar\":{\"outlinewidth\":0,\"ticks\":\"\"}}],\"histogram2d\":[{\"type\":\"histogram2d\",\"colorbar\":{\"outlinewidth\":0,\"ticks\":\"\"},\"colorscale\":[[0.0,\"#0d0887\"],[0.1111111111111111,\"#46039f\"],[0.2222222222222222,\"#7201a8\"],[0.3333333333333333,\"#9c179e\"],[0.4444444444444444,\"#bd3786\"],[0.5555555555555556,\"#d8576b\"],[0.6666666666666666,\"#ed7953\"],[0.7777777777777778,\"#fb9f3a\"],[0.8888888888888888,\"#fdca26\"],[1.0,\"#f0f921\"]]}],\"heatmap\":[{\"type\":\"heatmap\",\"colorbar\":{\"outlinewidth\":0,\"ticks\":\"\"},\"colorscale\":[[0.0,\"#0d0887\"],[0.1111111111111111,\"#46039f\"],[0.2222222222222222,\"#7201a8\"],[0.3333333333333333,\"#9c179e\"],[0.4444444444444444,\"#bd3786\"],[0.5555555555555556,\"#d8576b\"],[0.6666666666666666,\"#ed7953\"],[0.7777777777777778,\"#fb9f3a\"],[0.8888888888888888,\"#fdca26\"],[1.0,\"#f0f921\"]]}],\"heatmapgl\":[{\"type\":\"heatmapgl\",\"colorbar\":{\"outlinewidth\":0,\"ticks\":\"\"},\"colorscale\":[[0.0,\"#0d0887\"],[0.1111111111111111,\"#46039f\"],[0.2222222222222222,\"#7201a8\"],[0.3333333333333333,\"#9c179e\"],[0.4444444444444444,\"#bd3786\"],[0.5555555555555556,\"#d8576b\"],[0.6666666666666666,\"#ed7953\"],[0.7777777777777778,\"#fb9f3a\"],[0.8888888888888888,\"#fdca26\"],[1.0,\"#f0f921\"]]}],\"contourcarpet\":[{\"type\":\"contourcarpet\",\"colorbar\":{\"outlinewidth\":0,\"ticks\":\"\"}}],\"contour\":[{\"type\":\"contour\",\"colorbar\":{\"outlinewidth\":0,\"ticks\":\"\"},\"colorscale\":[[0.0,\"#0d0887\"],[0.1111111111111111,\"#46039f\"],[0.2222222222222222,\"#7201a8\"],[0.3333333333333333,\"#9c179e\"],[0.4444444444444444,\"#bd3786\"],[0.5555555555555556,\"#d8576b\"],[0.6666666666666666,\"#ed7953\"],[0.7777777777777778,\"#fb9f3a\"],[0.8888888888888888,\"#fdca26\"],[1.0,\"#f0f921\"]]}],\"surface\":[{\"type\":\"surface\",\"colorbar\":{\"outlinewidth\":0,\"ticks\":\"\"},\"colorscale\":[[0.0,\"#0d0887\"],[0.1111111111111111,\"#46039f\"],[0.2222222222222222,\"#7201a8\"],[0.3333333333333333,\"#9c179e\"],[0.4444444444444444,\"#bd3786\"],[0.5555555555555556,\"#d8576b\"],[0.6666666666666666,\"#ed7953\"],[0.7777777777777778,\"#fb9f3a\"],[0.8888888888888888,\"#fdca26\"],[1.0,\"#f0f921\"]]}],\"mesh3d\":[{\"type\":\"mesh3d\",\"colorbar\":{\"outlinewidth\":0,\"ticks\":\"\"}}],\"scatter\":[{\"fillpattern\":{\"fillmode\":\"overlay\",\"size\":10,\"solidity\":0.2},\"type\":\"scatter\"}],\"parcoords\":[{\"type\":\"parcoords\",\"line\":{\"colorbar\":{\"outlinewidth\":0,\"ticks\":\"\"}}}],\"scatterpolargl\":[{\"type\":\"scatterpolargl\",\"marker\":{\"colorbar\":{\"outlinewidth\":0,\"ticks\":\"\"}}}],\"bar\":[{\"error_x\":{\"color\":\"#2a3f5f\"},\"error_y\":{\"color\":\"#2a3f5f\"},\"marker\":{\"line\":{\"color\":\"#E5ECF6\",\"width\":0.5},\"pattern\":{\"fillmode\":\"overlay\",\"size\":10,\"solidity\":0.2}},\"type\":\"bar\"}],\"scattergeo\":[{\"type\":\"scattergeo\",\"marker\":{\"colorbar\":{\"outlinewidth\":0,\"ticks\":\"\"}}}],\"scatterpolar\":[{\"type\":\"scatterpolar\",\"marker\":{\"colorbar\":{\"outlinewidth\":0,\"ticks\":\"\"}}}],\"histogram\":[{\"marker\":{\"pattern\":{\"fillmode\":\"overlay\",\"size\":10,\"solidity\":0.2}},\"type\":\"histogram\"}],\"scattergl\":[{\"type\":\"scattergl\",\"marker\":{\"colorbar\":{\"outlinewidth\":0,\"ticks\":\"\"}}}],\"scatter3d\":[{\"type\":\"scatter3d\",\"line\":{\"colorbar\":{\"outlinewidth\":0,\"ticks\":\"\"}},\"marker\":{\"colorbar\":{\"outlinewidth\":0,\"ticks\":\"\"}}}],\"scattermapbox\":[{\"type\":\"scattermapbox\",\"marker\":{\"colorbar\":{\"outlinewidth\":0,\"ticks\":\"\"}}}],\"scatterternary\":[{\"type\":\"scatterternary\",\"marker\":{\"colorbar\":{\"outlinewidth\":0,\"ticks\":\"\"}}}],\"scattercarpet\":[{\"type\":\"scattercarpet\",\"marker\":{\"colorbar\":{\"outlinewidth\":0,\"ticks\":\"\"}}}],\"carpet\":[{\"aaxis\":{\"endlinecolor\":\"#2a3f5f\",\"gridcolor\":\"white\",\"linecolor\":\"white\",\"minorgridcolor\":\"white\",\"startlinecolor\":\"#2a3f5f\"},\"baxis\":{\"endlinecolor\":\"#2a3f5f\",\"gridcolor\":\"white\",\"linecolor\":\"white\",\"minorgridcolor\":\"white\",\"startlinecolor\":\"#2a3f5f\"},\"type\":\"carpet\"}],\"table\":[{\"cells\":{\"fill\":{\"color\":\"#EBF0F8\"},\"line\":{\"color\":\"white\"}},\"header\":{\"fill\":{\"color\":\"#C8D4E3\"},\"line\":{\"color\":\"white\"}},\"type\":\"table\"}],\"barpolar\":[{\"marker\":{\"line\":{\"color\":\"#E5ECF6\",\"width\":0.5},\"pattern\":{\"fillmode\":\"overlay\",\"size\":10,\"solidity\":0.2}},\"type\":\"barpolar\"}],\"pie\":[{\"automargin\":true,\"type\":\"pie\"}]},\"layout\":{\"autotypenumbers\":\"strict\",\"colorway\":[\"#636efa\",\"#EF553B\",\"#00cc96\",\"#ab63fa\",\"#FFA15A\",\"#19d3f3\",\"#FF6692\",\"#B6E880\",\"#FF97FF\",\"#FECB52\"],\"font\":{\"color\":\"#2a3f5f\"},\"hovermode\":\"closest\",\"hoverlabel\":{\"align\":\"left\"},\"paper_bgcolor\":\"white\",\"plot_bgcolor\":\"#E5ECF6\",\"polar\":{\"bgcolor\":\"#E5ECF6\",\"angularaxis\":{\"gridcolor\":\"white\",\"linecolor\":\"white\",\"ticks\":\"\"},\"radialaxis\":{\"gridcolor\":\"white\",\"linecolor\":\"white\",\"ticks\":\"\"}},\"ternary\":{\"bgcolor\":\"#E5ECF6\",\"aaxis\":{\"gridcolor\":\"white\",\"linecolor\":\"white\",\"ticks\":\"\"},\"baxis\":{\"gridcolor\":\"white\",\"linecolor\":\"white\",\"ticks\":\"\"},\"caxis\":{\"gridcolor\":\"white\",\"linecolor\":\"white\",\"ticks\":\"\"}},\"coloraxis\":{\"colorbar\":{\"outlinewidth\":0,\"ticks\":\"\"}},\"colorscale\":{\"sequential\":[[0.0,\"#0d0887\"],[0.1111111111111111,\"#46039f\"],[0.2222222222222222,\"#7201a8\"],[0.3333333333333333,\"#9c179e\"],[0.4444444444444444,\"#bd3786\"],[0.5555555555555556,\"#d8576b\"],[0.6666666666666666,\"#ed7953\"],[0.7777777777777778,\"#fb9f3a\"],[0.8888888888888888,\"#fdca26\"],[1.0,\"#f0f921\"]],\"sequentialminus\":[[0.0,\"#0d0887\"],[0.1111111111111111,\"#46039f\"],[0.2222222222222222,\"#7201a8\"],[0.3333333333333333,\"#9c179e\"],[0.4444444444444444,\"#bd3786\"],[0.5555555555555556,\"#d8576b\"],[0.6666666666666666,\"#ed7953\"],[0.7777777777777778,\"#fb9f3a\"],[0.8888888888888888,\"#fdca26\"],[1.0,\"#f0f921\"]],\"diverging\":[[0,\"#8e0152\"],[0.1,\"#c51b7d\"],[0.2,\"#de77ae\"],[0.3,\"#f1b6da\"],[0.4,\"#fde0ef\"],[0.5,\"#f7f7f7\"],[0.6,\"#e6f5d0\"],[0.7,\"#b8e186\"],[0.8,\"#7fbc41\"],[0.9,\"#4d9221\"],[1,\"#276419\"]]},\"xaxis\":{\"gridcolor\":\"white\",\"linecolor\":\"white\",\"ticks\":\"\",\"title\":{\"standoff\":15},\"zerolinecolor\":\"white\",\"automargin\":true,\"zerolinewidth\":2},\"yaxis\":{\"gridcolor\":\"white\",\"linecolor\":\"white\",\"ticks\":\"\",\"title\":{\"standoff\":15},\"zerolinecolor\":\"white\",\"automargin\":true,\"zerolinewidth\":2},\"scene\":{\"xaxis\":{\"backgroundcolor\":\"#E5ECF6\",\"gridcolor\":\"white\",\"linecolor\":\"white\",\"showbackground\":true,\"ticks\":\"\",\"zerolinecolor\":\"white\",\"gridwidth\":2},\"yaxis\":{\"backgroundcolor\":\"#E5ECF6\",\"gridcolor\":\"white\",\"linecolor\":\"white\",\"showbackground\":true,\"ticks\":\"\",\"zerolinecolor\":\"white\",\"gridwidth\":2},\"zaxis\":{\"backgroundcolor\":\"#E5ECF6\",\"gridcolor\":\"white\",\"linecolor\":\"white\",\"showbackground\":true,\"ticks\":\"\",\"zerolinecolor\":\"white\",\"gridwidth\":2}},\"shapedefaults\":{\"line\":{\"color\":\"#2a3f5f\"}},\"annotationdefaults\":{\"arrowcolor\":\"#2a3f5f\",\"arrowhead\":0,\"arrowwidth\":1},\"geo\":{\"bgcolor\":\"white\",\"landcolor\":\"#E5ECF6\",\"subunitcolor\":\"white\",\"showland\":true,\"showlakes\":true,\"lakecolor\":\"white\"},\"title\":{\"x\":0.05},\"mapbox\":{\"style\":\"light\"}}},\"xaxis\":{\"anchor\":\"y\",\"domain\":[0.0,1.0],\"title\":{\"text\":\"Industry\"}},\"yaxis\":{\"anchor\":\"x\",\"domain\":[0.0,1.0],\"title\":{\"text\":\"Number of Billionaires\"}},\"coloraxis\":{\"colorbar\":{\"title\":{\"text\":\"Number of Billionaires\"}},\"colorscale\":[[0.0,\"#440154\"],[0.1111111111111111,\"#482878\"],[0.2222222222222222,\"#3e4989\"],[0.3333333333333333,\"#31688e\"],[0.4444444444444444,\"#26828e\"],[0.5555555555555556,\"#1f9e89\"],[0.6666666666666666,\"#35b779\"],[0.7777777777777778,\"#6ece58\"],[0.8888888888888888,\"#b5de2b\"],[1.0,\"#fde725\"]]},\"legend\":{\"tracegroupgap\":0},\"title\":{\"text\":\"Number of Billionaires by Industry\"},\"barmode\":\"relative\"},                        {\"responsive\": true}                    ).then(function(){\n",
       "                            \n",
       "var gd = document.getElementById('294c8a3e-4adc-4d63-8db2-f179fb855e0e');\n",
       "var x = new MutationObserver(function (mutations, observer) {{\n",
       "        var display = window.getComputedStyle(gd).display;\n",
       "        if (!display || display === 'none') {{\n",
       "            console.log([gd, 'removed!']);\n",
       "            Plotly.purge(gd);\n",
       "            observer.disconnect();\n",
       "        }}\n",
       "}});\n",
       "\n",
       "// Listen for the removal of the full notebook cells\n",
       "var notebookContainer = gd.closest('#notebook-container');\n",
       "if (notebookContainer) {{\n",
       "    x.observe(notebookContainer, {childList: true});\n",
       "}}\n",
       "\n",
       "// Listen for the clearing of the current output cell\n",
       "var outputEl = gd.closest('.output');\n",
       "if (outputEl) {{\n",
       "    x.observe(outputEl, {childList: true});\n",
       "}}\n",
       "\n",
       "                        })                };                });            </script>        </div>"
      ]
     },
     "metadata": {},
     "output_type": "display_data"
    },
    {
     "data": {
      "application/vnd.plotly.v1+json": {
       "config": {
        "plotlyServerURL": "https://plot.ly"
       },
       "data": [
        {
         "labels": [
          "Finance & Investments",
          "Manufacturing",
          "Technology",
          "Fashion & Retail",
          "Food & Beverage",
          "Healthcare",
          "Real Estate",
          "Diversified",
          "Energy",
          "Media & Entertainment",
          "Metals & Mining",
          "Automotive",
          "Service",
          "Construction & Engineering",
          "Logistics",
          "Sports",
          "Telecom",
          "Gambling & Casinos"
         ],
         "parents": [
          "",
          "",
          "",
          "",
          "",
          "",
          "",
          "",
          "",
          "",
          "",
          "",
          "",
          "",
          "",
          "",
          "",
          ""
         ],
         "textinfo": "label+percent entry",
         "type": "sunburst",
         "values": [
          525300,
          118500,
          905200,
          453500,
          1698800,
          1605100,
          957200,
          120500,
          643200,
          239500,
          1019000,
          427500,
          446800,
          657400,
          173400,
          134500,
          1877900,
          203500
         ]
        }
       ],
       "layout": {
        "height": 500,
        "margin": {
         "b": 50,
         "l": 50,
         "r": 50,
         "t": 50
        },
        "paper_bgcolor": "white",
        "sunburstcolorway": [
         "#636efa",
         "#ef553b",
         "#00cc96",
         "#ab63fa",
         "#19d3f3",
         "#ff7f0e",
         "#d62728",
         "#9467bd",
         "#8c564b"
        ],
        "template": {
         "data": {
          "bar": [
           {
            "error_x": {
             "color": "#2a3f5f"
            },
            "error_y": {
             "color": "#2a3f5f"
            },
            "marker": {
             "line": {
              "color": "#E5ECF6",
              "width": 0.5
             },
             "pattern": {
              "fillmode": "overlay",
              "size": 10,
              "solidity": 0.2
             }
            },
            "type": "bar"
           }
          ],
          "barpolar": [
           {
            "marker": {
             "line": {
              "color": "#E5ECF6",
              "width": 0.5
             },
             "pattern": {
              "fillmode": "overlay",
              "size": 10,
              "solidity": 0.2
             }
            },
            "type": "barpolar"
           }
          ],
          "carpet": [
           {
            "aaxis": {
             "endlinecolor": "#2a3f5f",
             "gridcolor": "white",
             "linecolor": "white",
             "minorgridcolor": "white",
             "startlinecolor": "#2a3f5f"
            },
            "baxis": {
             "endlinecolor": "#2a3f5f",
             "gridcolor": "white",
             "linecolor": "white",
             "minorgridcolor": "white",
             "startlinecolor": "#2a3f5f"
            },
            "type": "carpet"
           }
          ],
          "choropleth": [
           {
            "colorbar": {
             "outlinewidth": 0,
             "ticks": ""
            },
            "type": "choropleth"
           }
          ],
          "contour": [
           {
            "colorbar": {
             "outlinewidth": 0,
             "ticks": ""
            },
            "colorscale": [
             [
              0,
              "#0d0887"
             ],
             [
              0.1111111111111111,
              "#46039f"
             ],
             [
              0.2222222222222222,
              "#7201a8"
             ],
             [
              0.3333333333333333,
              "#9c179e"
             ],
             [
              0.4444444444444444,
              "#bd3786"
             ],
             [
              0.5555555555555556,
              "#d8576b"
             ],
             [
              0.6666666666666666,
              "#ed7953"
             ],
             [
              0.7777777777777778,
              "#fb9f3a"
             ],
             [
              0.8888888888888888,
              "#fdca26"
             ],
             [
              1,
              "#f0f921"
             ]
            ],
            "type": "contour"
           }
          ],
          "contourcarpet": [
           {
            "colorbar": {
             "outlinewidth": 0,
             "ticks": ""
            },
            "type": "contourcarpet"
           }
          ],
          "heatmap": [
           {
            "colorbar": {
             "outlinewidth": 0,
             "ticks": ""
            },
            "colorscale": [
             [
              0,
              "#0d0887"
             ],
             [
              0.1111111111111111,
              "#46039f"
             ],
             [
              0.2222222222222222,
              "#7201a8"
             ],
             [
              0.3333333333333333,
              "#9c179e"
             ],
             [
              0.4444444444444444,
              "#bd3786"
             ],
             [
              0.5555555555555556,
              "#d8576b"
             ],
             [
              0.6666666666666666,
              "#ed7953"
             ],
             [
              0.7777777777777778,
              "#fb9f3a"
             ],
             [
              0.8888888888888888,
              "#fdca26"
             ],
             [
              1,
              "#f0f921"
             ]
            ],
            "type": "heatmap"
           }
          ],
          "heatmapgl": [
           {
            "colorbar": {
             "outlinewidth": 0,
             "ticks": ""
            },
            "colorscale": [
             [
              0,
              "#0d0887"
             ],
             [
              0.1111111111111111,
              "#46039f"
             ],
             [
              0.2222222222222222,
              "#7201a8"
             ],
             [
              0.3333333333333333,
              "#9c179e"
             ],
             [
              0.4444444444444444,
              "#bd3786"
             ],
             [
              0.5555555555555556,
              "#d8576b"
             ],
             [
              0.6666666666666666,
              "#ed7953"
             ],
             [
              0.7777777777777778,
              "#fb9f3a"
             ],
             [
              0.8888888888888888,
              "#fdca26"
             ],
             [
              1,
              "#f0f921"
             ]
            ],
            "type": "heatmapgl"
           }
          ],
          "histogram": [
           {
            "marker": {
             "pattern": {
              "fillmode": "overlay",
              "size": 10,
              "solidity": 0.2
             }
            },
            "type": "histogram"
           }
          ],
          "histogram2d": [
           {
            "colorbar": {
             "outlinewidth": 0,
             "ticks": ""
            },
            "colorscale": [
             [
              0,
              "#0d0887"
             ],
             [
              0.1111111111111111,
              "#46039f"
             ],
             [
              0.2222222222222222,
              "#7201a8"
             ],
             [
              0.3333333333333333,
              "#9c179e"
             ],
             [
              0.4444444444444444,
              "#bd3786"
             ],
             [
              0.5555555555555556,
              "#d8576b"
             ],
             [
              0.6666666666666666,
              "#ed7953"
             ],
             [
              0.7777777777777778,
              "#fb9f3a"
             ],
             [
              0.8888888888888888,
              "#fdca26"
             ],
             [
              1,
              "#f0f921"
             ]
            ],
            "type": "histogram2d"
           }
          ],
          "histogram2dcontour": [
           {
            "colorbar": {
             "outlinewidth": 0,
             "ticks": ""
            },
            "colorscale": [
             [
              0,
              "#0d0887"
             ],
             [
              0.1111111111111111,
              "#46039f"
             ],
             [
              0.2222222222222222,
              "#7201a8"
             ],
             [
              0.3333333333333333,
              "#9c179e"
             ],
             [
              0.4444444444444444,
              "#bd3786"
             ],
             [
              0.5555555555555556,
              "#d8576b"
             ],
             [
              0.6666666666666666,
              "#ed7953"
             ],
             [
              0.7777777777777778,
              "#fb9f3a"
             ],
             [
              0.8888888888888888,
              "#fdca26"
             ],
             [
              1,
              "#f0f921"
             ]
            ],
            "type": "histogram2dcontour"
           }
          ],
          "mesh3d": [
           {
            "colorbar": {
             "outlinewidth": 0,
             "ticks": ""
            },
            "type": "mesh3d"
           }
          ],
          "parcoords": [
           {
            "line": {
             "colorbar": {
              "outlinewidth": 0,
              "ticks": ""
             }
            },
            "type": "parcoords"
           }
          ],
          "pie": [
           {
            "automargin": true,
            "type": "pie"
           }
          ],
          "scatter": [
           {
            "fillpattern": {
             "fillmode": "overlay",
             "size": 10,
             "solidity": 0.2
            },
            "type": "scatter"
           }
          ],
          "scatter3d": [
           {
            "line": {
             "colorbar": {
              "outlinewidth": 0,
              "ticks": ""
             }
            },
            "marker": {
             "colorbar": {
              "outlinewidth": 0,
              "ticks": ""
             }
            },
            "type": "scatter3d"
           }
          ],
          "scattercarpet": [
           {
            "marker": {
             "colorbar": {
              "outlinewidth": 0,
              "ticks": ""
             }
            },
            "type": "scattercarpet"
           }
          ],
          "scattergeo": [
           {
            "marker": {
             "colorbar": {
              "outlinewidth": 0,
              "ticks": ""
             }
            },
            "type": "scattergeo"
           }
          ],
          "scattergl": [
           {
            "marker": {
             "colorbar": {
              "outlinewidth": 0,
              "ticks": ""
             }
            },
            "type": "scattergl"
           }
          ],
          "scattermapbox": [
           {
            "marker": {
             "colorbar": {
              "outlinewidth": 0,
              "ticks": ""
             }
            },
            "type": "scattermapbox"
           }
          ],
          "scatterpolar": [
           {
            "marker": {
             "colorbar": {
              "outlinewidth": 0,
              "ticks": ""
             }
            },
            "type": "scatterpolar"
           }
          ],
          "scatterpolargl": [
           {
            "marker": {
             "colorbar": {
              "outlinewidth": 0,
              "ticks": ""
             }
            },
            "type": "scatterpolargl"
           }
          ],
          "scatterternary": [
           {
            "marker": {
             "colorbar": {
              "outlinewidth": 0,
              "ticks": ""
             }
            },
            "type": "scatterternary"
           }
          ],
          "surface": [
           {
            "colorbar": {
             "outlinewidth": 0,
             "ticks": ""
            },
            "colorscale": [
             [
              0,
              "#0d0887"
             ],
             [
              0.1111111111111111,
              "#46039f"
             ],
             [
              0.2222222222222222,
              "#7201a8"
             ],
             [
              0.3333333333333333,
              "#9c179e"
             ],
             [
              0.4444444444444444,
              "#bd3786"
             ],
             [
              0.5555555555555556,
              "#d8576b"
             ],
             [
              0.6666666666666666,
              "#ed7953"
             ],
             [
              0.7777777777777778,
              "#fb9f3a"
             ],
             [
              0.8888888888888888,
              "#fdca26"
             ],
             [
              1,
              "#f0f921"
             ]
            ],
            "type": "surface"
           }
          ],
          "table": [
           {
            "cells": {
             "fill": {
              "color": "#EBF0F8"
             },
             "line": {
              "color": "white"
             }
            },
            "header": {
             "fill": {
              "color": "#C8D4E3"
             },
             "line": {
              "color": "white"
             }
            },
            "type": "table"
           }
          ]
         },
         "layout": {
          "annotationdefaults": {
           "arrowcolor": "#2a3f5f",
           "arrowhead": 0,
           "arrowwidth": 1
          },
          "autotypenumbers": "strict",
          "coloraxis": {
           "colorbar": {
            "outlinewidth": 0,
            "ticks": ""
           }
          },
          "colorscale": {
           "diverging": [
            [
             0,
             "#8e0152"
            ],
            [
             0.1,
             "#c51b7d"
            ],
            [
             0.2,
             "#de77ae"
            ],
            [
             0.3,
             "#f1b6da"
            ],
            [
             0.4,
             "#fde0ef"
            ],
            [
             0.5,
             "#f7f7f7"
            ],
            [
             0.6,
             "#e6f5d0"
            ],
            [
             0.7,
             "#b8e186"
            ],
            [
             0.8,
             "#7fbc41"
            ],
            [
             0.9,
             "#4d9221"
            ],
            [
             1,
             "#276419"
            ]
           ],
           "sequential": [
            [
             0,
             "#0d0887"
            ],
            [
             0.1111111111111111,
             "#46039f"
            ],
            [
             0.2222222222222222,
             "#7201a8"
            ],
            [
             0.3333333333333333,
             "#9c179e"
            ],
            [
             0.4444444444444444,
             "#bd3786"
            ],
            [
             0.5555555555555556,
             "#d8576b"
            ],
            [
             0.6666666666666666,
             "#ed7953"
            ],
            [
             0.7777777777777778,
             "#fb9f3a"
            ],
            [
             0.8888888888888888,
             "#fdca26"
            ],
            [
             1,
             "#f0f921"
            ]
           ],
           "sequentialminus": [
            [
             0,
             "#0d0887"
            ],
            [
             0.1111111111111111,
             "#46039f"
            ],
            [
             0.2222222222222222,
             "#7201a8"
            ],
            [
             0.3333333333333333,
             "#9c179e"
            ],
            [
             0.4444444444444444,
             "#bd3786"
            ],
            [
             0.5555555555555556,
             "#d8576b"
            ],
            [
             0.6666666666666666,
             "#ed7953"
            ],
            [
             0.7777777777777778,
             "#fb9f3a"
            ],
            [
             0.8888888888888888,
             "#fdca26"
            ],
            [
             1,
             "#f0f921"
            ]
           ]
          },
          "colorway": [
           "#636efa",
           "#EF553B",
           "#00cc96",
           "#ab63fa",
           "#FFA15A",
           "#19d3f3",
           "#FF6692",
           "#B6E880",
           "#FF97FF",
           "#FECB52"
          ],
          "font": {
           "color": "#2a3f5f"
          },
          "geo": {
           "bgcolor": "white",
           "lakecolor": "white",
           "landcolor": "#E5ECF6",
           "showlakes": true,
           "showland": true,
           "subunitcolor": "white"
          },
          "hoverlabel": {
           "align": "left"
          },
          "hovermode": "closest",
          "mapbox": {
           "style": "light"
          },
          "paper_bgcolor": "white",
          "plot_bgcolor": "#E5ECF6",
          "polar": {
           "angularaxis": {
            "gridcolor": "white",
            "linecolor": "white",
            "ticks": ""
           },
           "bgcolor": "#E5ECF6",
           "radialaxis": {
            "gridcolor": "white",
            "linecolor": "white",
            "ticks": ""
           }
          },
          "scene": {
           "xaxis": {
            "backgroundcolor": "#E5ECF6",
            "gridcolor": "white",
            "gridwidth": 2,
            "linecolor": "white",
            "showbackground": true,
            "ticks": "",
            "zerolinecolor": "white"
           },
           "yaxis": {
            "backgroundcolor": "#E5ECF6",
            "gridcolor": "white",
            "gridwidth": 2,
            "linecolor": "white",
            "showbackground": true,
            "ticks": "",
            "zerolinecolor": "white"
           },
           "zaxis": {
            "backgroundcolor": "#E5ECF6",
            "gridcolor": "white",
            "gridwidth": 2,
            "linecolor": "white",
            "showbackground": true,
            "ticks": "",
            "zerolinecolor": "white"
           }
          },
          "shapedefaults": {
           "line": {
            "color": "#2a3f5f"
           }
          },
          "ternary": {
           "aaxis": {
            "gridcolor": "white",
            "linecolor": "white",
            "ticks": ""
           },
           "baxis": {
            "gridcolor": "white",
            "linecolor": "white",
            "ticks": ""
           },
           "bgcolor": "#E5ECF6",
           "caxis": {
            "gridcolor": "white",
            "linecolor": "white",
            "ticks": ""
           }
          },
          "title": {
           "x": 0.05
          },
          "xaxis": {
           "automargin": true,
           "gridcolor": "white",
           "linecolor": "white",
           "ticks": "",
           "title": {
            "standoff": 15
           },
           "zerolinecolor": "white",
           "zerolinewidth": 2
          },
          "yaxis": {
           "automargin": true,
           "gridcolor": "white",
           "linecolor": "white",
           "ticks": "",
           "title": {
            "standoff": 15
           },
           "zerolinecolor": "white",
           "zerolinewidth": 2
          }
         }
        },
        "title": {
         "text": "Industry Contribution in Wealth"
        },
        "width": 700
       }
      },
      "text/html": [
       "<div>                            <div id=\"1be0b490-7264-4be9-8f6b-f658aa392a6e\" class=\"plotly-graph-div\" style=\"height:500px; width:700px;\"></div>            <script type=\"text/javascript\">                require([\"plotly\"], function(Plotly) {                    window.PLOTLYENV=window.PLOTLYENV || {};                                    if (document.getElementById(\"1be0b490-7264-4be9-8f6b-f658aa392a6e\")) {                    Plotly.newPlot(                        \"1be0b490-7264-4be9-8f6b-f658aa392a6e\",                        [{\"labels\":[\"Finance & Investments\",\"Manufacturing\",\"Technology\",\"Fashion & Retail\",\"Food & Beverage\",\"Healthcare\",\"Real Estate\",\"Diversified\",\"Energy\",\"Media & Entertainment\",\"Metals & Mining\",\"Automotive\",\"Service\",\"Construction & Engineering\",\"Logistics\",\"Sports\",\"Telecom\",\"Gambling & Casinos\"],\"parents\":[\"\",\"\",\"\",\"\",\"\",\"\",\"\",\"\",\"\",\"\",\"\",\"\",\"\",\"\",\"\",\"\",\"\",\"\"],\"textinfo\":\"label+percent entry\",\"values\":[525300,118500,905200,453500,1698800,1605100,957200,120500,643200,239500,1019000,427500,446800,657400,173400,134500,1877900,203500],\"type\":\"sunburst\"}],                        {\"template\":{\"data\":{\"histogram2dcontour\":[{\"type\":\"histogram2dcontour\",\"colorbar\":{\"outlinewidth\":0,\"ticks\":\"\"},\"colorscale\":[[0.0,\"#0d0887\"],[0.1111111111111111,\"#46039f\"],[0.2222222222222222,\"#7201a8\"],[0.3333333333333333,\"#9c179e\"],[0.4444444444444444,\"#bd3786\"],[0.5555555555555556,\"#d8576b\"],[0.6666666666666666,\"#ed7953\"],[0.7777777777777778,\"#fb9f3a\"],[0.8888888888888888,\"#fdca26\"],[1.0,\"#f0f921\"]]}],\"choropleth\":[{\"type\":\"choropleth\",\"colorbar\":{\"outlinewidth\":0,\"ticks\":\"\"}}],\"histogram2d\":[{\"type\":\"histogram2d\",\"colorbar\":{\"outlinewidth\":0,\"ticks\":\"\"},\"colorscale\":[[0.0,\"#0d0887\"],[0.1111111111111111,\"#46039f\"],[0.2222222222222222,\"#7201a8\"],[0.3333333333333333,\"#9c179e\"],[0.4444444444444444,\"#bd3786\"],[0.5555555555555556,\"#d8576b\"],[0.6666666666666666,\"#ed7953\"],[0.7777777777777778,\"#fb9f3a\"],[0.8888888888888888,\"#fdca26\"],[1.0,\"#f0f921\"]]}],\"heatmap\":[{\"type\":\"heatmap\",\"colorbar\":{\"outlinewidth\":0,\"ticks\":\"\"},\"colorscale\":[[0.0,\"#0d0887\"],[0.1111111111111111,\"#46039f\"],[0.2222222222222222,\"#7201a8\"],[0.3333333333333333,\"#9c179e\"],[0.4444444444444444,\"#bd3786\"],[0.5555555555555556,\"#d8576b\"],[0.6666666666666666,\"#ed7953\"],[0.7777777777777778,\"#fb9f3a\"],[0.8888888888888888,\"#fdca26\"],[1.0,\"#f0f921\"]]}],\"heatmapgl\":[{\"type\":\"heatmapgl\",\"colorbar\":{\"outlinewidth\":0,\"ticks\":\"\"},\"colorscale\":[[0.0,\"#0d0887\"],[0.1111111111111111,\"#46039f\"],[0.2222222222222222,\"#7201a8\"],[0.3333333333333333,\"#9c179e\"],[0.4444444444444444,\"#bd3786\"],[0.5555555555555556,\"#d8576b\"],[0.6666666666666666,\"#ed7953\"],[0.7777777777777778,\"#fb9f3a\"],[0.8888888888888888,\"#fdca26\"],[1.0,\"#f0f921\"]]}],\"contourcarpet\":[{\"type\":\"contourcarpet\",\"colorbar\":{\"outlinewidth\":0,\"ticks\":\"\"}}],\"contour\":[{\"type\":\"contour\",\"colorbar\":{\"outlinewidth\":0,\"ticks\":\"\"},\"colorscale\":[[0.0,\"#0d0887\"],[0.1111111111111111,\"#46039f\"],[0.2222222222222222,\"#7201a8\"],[0.3333333333333333,\"#9c179e\"],[0.4444444444444444,\"#bd3786\"],[0.5555555555555556,\"#d8576b\"],[0.6666666666666666,\"#ed7953\"],[0.7777777777777778,\"#fb9f3a\"],[0.8888888888888888,\"#fdca26\"],[1.0,\"#f0f921\"]]}],\"surface\":[{\"type\":\"surface\",\"colorbar\":{\"outlinewidth\":0,\"ticks\":\"\"},\"colorscale\":[[0.0,\"#0d0887\"],[0.1111111111111111,\"#46039f\"],[0.2222222222222222,\"#7201a8\"],[0.3333333333333333,\"#9c179e\"],[0.4444444444444444,\"#bd3786\"],[0.5555555555555556,\"#d8576b\"],[0.6666666666666666,\"#ed7953\"],[0.7777777777777778,\"#fb9f3a\"],[0.8888888888888888,\"#fdca26\"],[1.0,\"#f0f921\"]]}],\"mesh3d\":[{\"type\":\"mesh3d\",\"colorbar\":{\"outlinewidth\":0,\"ticks\":\"\"}}],\"scatter\":[{\"fillpattern\":{\"fillmode\":\"overlay\",\"size\":10,\"solidity\":0.2},\"type\":\"scatter\"}],\"parcoords\":[{\"type\":\"parcoords\",\"line\":{\"colorbar\":{\"outlinewidth\":0,\"ticks\":\"\"}}}],\"scatterpolargl\":[{\"type\":\"scatterpolargl\",\"marker\":{\"colorbar\":{\"outlinewidth\":0,\"ticks\":\"\"}}}],\"bar\":[{\"error_x\":{\"color\":\"#2a3f5f\"},\"error_y\":{\"color\":\"#2a3f5f\"},\"marker\":{\"line\":{\"color\":\"#E5ECF6\",\"width\":0.5},\"pattern\":{\"fillmode\":\"overlay\",\"size\":10,\"solidity\":0.2}},\"type\":\"bar\"}],\"scattergeo\":[{\"type\":\"scattergeo\",\"marker\":{\"colorbar\":{\"outlinewidth\":0,\"ticks\":\"\"}}}],\"scatterpolar\":[{\"type\":\"scatterpolar\",\"marker\":{\"colorbar\":{\"outlinewidth\":0,\"ticks\":\"\"}}}],\"histogram\":[{\"marker\":{\"pattern\":{\"fillmode\":\"overlay\",\"size\":10,\"solidity\":0.2}},\"type\":\"histogram\"}],\"scattergl\":[{\"type\":\"scattergl\",\"marker\":{\"colorbar\":{\"outlinewidth\":0,\"ticks\":\"\"}}}],\"scatter3d\":[{\"type\":\"scatter3d\",\"line\":{\"colorbar\":{\"outlinewidth\":0,\"ticks\":\"\"}},\"marker\":{\"colorbar\":{\"outlinewidth\":0,\"ticks\":\"\"}}}],\"scattermapbox\":[{\"type\":\"scattermapbox\",\"marker\":{\"colorbar\":{\"outlinewidth\":0,\"ticks\":\"\"}}}],\"scatterternary\":[{\"type\":\"scatterternary\",\"marker\":{\"colorbar\":{\"outlinewidth\":0,\"ticks\":\"\"}}}],\"scattercarpet\":[{\"type\":\"scattercarpet\",\"marker\":{\"colorbar\":{\"outlinewidth\":0,\"ticks\":\"\"}}}],\"carpet\":[{\"aaxis\":{\"endlinecolor\":\"#2a3f5f\",\"gridcolor\":\"white\",\"linecolor\":\"white\",\"minorgridcolor\":\"white\",\"startlinecolor\":\"#2a3f5f\"},\"baxis\":{\"endlinecolor\":\"#2a3f5f\",\"gridcolor\":\"white\",\"linecolor\":\"white\",\"minorgridcolor\":\"white\",\"startlinecolor\":\"#2a3f5f\"},\"type\":\"carpet\"}],\"table\":[{\"cells\":{\"fill\":{\"color\":\"#EBF0F8\"},\"line\":{\"color\":\"white\"}},\"header\":{\"fill\":{\"color\":\"#C8D4E3\"},\"line\":{\"color\":\"white\"}},\"type\":\"table\"}],\"barpolar\":[{\"marker\":{\"line\":{\"color\":\"#E5ECF6\",\"width\":0.5},\"pattern\":{\"fillmode\":\"overlay\",\"size\":10,\"solidity\":0.2}},\"type\":\"barpolar\"}],\"pie\":[{\"automargin\":true,\"type\":\"pie\"}]},\"layout\":{\"autotypenumbers\":\"strict\",\"colorway\":[\"#636efa\",\"#EF553B\",\"#00cc96\",\"#ab63fa\",\"#FFA15A\",\"#19d3f3\",\"#FF6692\",\"#B6E880\",\"#FF97FF\",\"#FECB52\"],\"font\":{\"color\":\"#2a3f5f\"},\"hovermode\":\"closest\",\"hoverlabel\":{\"align\":\"left\"},\"paper_bgcolor\":\"white\",\"plot_bgcolor\":\"#E5ECF6\",\"polar\":{\"bgcolor\":\"#E5ECF6\",\"angularaxis\":{\"gridcolor\":\"white\",\"linecolor\":\"white\",\"ticks\":\"\"},\"radialaxis\":{\"gridcolor\":\"white\",\"linecolor\":\"white\",\"ticks\":\"\"}},\"ternary\":{\"bgcolor\":\"#E5ECF6\",\"aaxis\":{\"gridcolor\":\"white\",\"linecolor\":\"white\",\"ticks\":\"\"},\"baxis\":{\"gridcolor\":\"white\",\"linecolor\":\"white\",\"ticks\":\"\"},\"caxis\":{\"gridcolor\":\"white\",\"linecolor\":\"white\",\"ticks\":\"\"}},\"coloraxis\":{\"colorbar\":{\"outlinewidth\":0,\"ticks\":\"\"}},\"colorscale\":{\"sequential\":[[0.0,\"#0d0887\"],[0.1111111111111111,\"#46039f\"],[0.2222222222222222,\"#7201a8\"],[0.3333333333333333,\"#9c179e\"],[0.4444444444444444,\"#bd3786\"],[0.5555555555555556,\"#d8576b\"],[0.6666666666666666,\"#ed7953\"],[0.7777777777777778,\"#fb9f3a\"],[0.8888888888888888,\"#fdca26\"],[1.0,\"#f0f921\"]],\"sequentialminus\":[[0.0,\"#0d0887\"],[0.1111111111111111,\"#46039f\"],[0.2222222222222222,\"#7201a8\"],[0.3333333333333333,\"#9c179e\"],[0.4444444444444444,\"#bd3786\"],[0.5555555555555556,\"#d8576b\"],[0.6666666666666666,\"#ed7953\"],[0.7777777777777778,\"#fb9f3a\"],[0.8888888888888888,\"#fdca26\"],[1.0,\"#f0f921\"]],\"diverging\":[[0,\"#8e0152\"],[0.1,\"#c51b7d\"],[0.2,\"#de77ae\"],[0.3,\"#f1b6da\"],[0.4,\"#fde0ef\"],[0.5,\"#f7f7f7\"],[0.6,\"#e6f5d0\"],[0.7,\"#b8e186\"],[0.8,\"#7fbc41\"],[0.9,\"#4d9221\"],[1,\"#276419\"]]},\"xaxis\":{\"gridcolor\":\"white\",\"linecolor\":\"white\",\"ticks\":\"\",\"title\":{\"standoff\":15},\"zerolinecolor\":\"white\",\"automargin\":true,\"zerolinewidth\":2},\"yaxis\":{\"gridcolor\":\"white\",\"linecolor\":\"white\",\"ticks\":\"\",\"title\":{\"standoff\":15},\"zerolinecolor\":\"white\",\"automargin\":true,\"zerolinewidth\":2},\"scene\":{\"xaxis\":{\"backgroundcolor\":\"#E5ECF6\",\"gridcolor\":\"white\",\"linecolor\":\"white\",\"showbackground\":true,\"ticks\":\"\",\"zerolinecolor\":\"white\",\"gridwidth\":2},\"yaxis\":{\"backgroundcolor\":\"#E5ECF6\",\"gridcolor\":\"white\",\"linecolor\":\"white\",\"showbackground\":true,\"ticks\":\"\",\"zerolinecolor\":\"white\",\"gridwidth\":2},\"zaxis\":{\"backgroundcolor\":\"#E5ECF6\",\"gridcolor\":\"white\",\"linecolor\":\"white\",\"showbackground\":true,\"ticks\":\"\",\"zerolinecolor\":\"white\",\"gridwidth\":2}},\"shapedefaults\":{\"line\":{\"color\":\"#2a3f5f\"}},\"annotationdefaults\":{\"arrowcolor\":\"#2a3f5f\",\"arrowhead\":0,\"arrowwidth\":1},\"geo\":{\"bgcolor\":\"white\",\"landcolor\":\"#E5ECF6\",\"subunitcolor\":\"white\",\"showland\":true,\"showlakes\":true,\"lakecolor\":\"white\"},\"title\":{\"x\":0.05},\"mapbox\":{\"style\":\"light\"}}},\"margin\":{\"t\":50,\"l\":50,\"r\":50,\"b\":50},\"title\":{\"text\":\"Industry Contribution in Wealth\"},\"width\":700,\"height\":500,\"paper_bgcolor\":\"white\",\"sunburstcolorway\":[\"#636efa\",\"#ef553b\",\"#00cc96\",\"#ab63fa\",\"#19d3f3\",\"#ff7f0e\",\"#d62728\",\"#9467bd\",\"#8c564b\"]},                        {\"responsive\": true}                    ).then(function(){\n",
       "                            \n",
       "var gd = document.getElementById('1be0b490-7264-4be9-8f6b-f658aa392a6e');\n",
       "var x = new MutationObserver(function (mutations, observer) {{\n",
       "        var display = window.getComputedStyle(gd).display;\n",
       "        if (!display || display === 'none') {{\n",
       "            console.log([gd, 'removed!']);\n",
       "            Plotly.purge(gd);\n",
       "            observer.disconnect();\n",
       "        }}\n",
       "}});\n",
       "\n",
       "// Listen for the removal of the full notebook cells\n",
       "var notebookContainer = gd.closest('#notebook-container');\n",
       "if (notebookContainer) {{\n",
       "    x.observe(notebookContainer, {childList: true});\n",
       "}}\n",
       "\n",
       "// Listen for the clearing of the current output cell\n",
       "var outputEl = gd.closest('.output');\n",
       "if (outputEl) {{\n",
       "    x.observe(outputEl, {childList: true});\n",
       "}}\n",
       "\n",
       "                        })                };                });            </script>        </div>"
      ]
     },
     "metadata": {},
     "output_type": "display_data"
    }
   ],
   "source": [
    "#3. No of Billionaires in each industry and percentage contribution of wealth by industries\n",
    "# Get the count of billionaires by industry\n",
    "df_industry_count = df['industries'].value_counts().reset_index()\n",
    "\n",
    "# Create an interactive bar plot for the number of billionaires by industry\n",
    "fig = px.bar(df_industry_count, \n",
    "              x='industries', \n",
    "              y='count', \n",
    "              orientation='v',  # Horizontal orientation for better readability\n",
    "              title='Number of Billionaires by Industry',\n",
    "              labels={'count': 'Number of Billionaires', 'industries': 'Industry'},\n",
    "              color='count',  # Color by count for visual emphasis\n",
    "              color_continuous_scale='Viridis',  # Choose a color scale\n",
    "              )\n",
    "fig.show()\n",
    "\n",
    "import plotly.graph_objects as go\n",
    "\n",
    "# Get unique industries and calculate total wealth\n",
    "industries = df['industries'].value_counts().index.tolist()\n",
    "total_wealth = df['finalWorth'].sum()\n",
    "\n",
    "# Calculate wealth for each industry\n",
    "industry_data = df.groupby('industries')['finalWorth'].sum().reset_index()\n",
    "\n",
    "# Calculate percentage contributions\n",
    "industry_data['percentage'] = (industry_data['finalWorth'] / total_wealth) * 100\n",
    "\n",
    "# Create a sunburst chart\n",
    "fig1 = go.Figure(go.Sunburst(\n",
    "    labels=industries,\n",
    "    parents=[''] * len(industries),\n",
    "    values=industry_data['finalWorth'],\n",
    "    textinfo='label+percent entry',\n",
    "))\n",
    "#fig = px.pie(df, names='Category', values='Values', hole=0.4)\n",
    "\n",
    "# Update layout for better visualization\n",
    "fig1.update_layout(\n",
    "    title='Industry Contribution in Wealth',\n",
    "    width=700,\n",
    "    height=500,\n",
    "    margin=dict(t=50, l=50, r=50, b=50),  # Adjust margin\n",
    "    paper_bgcolor=\"white\",  # Set white background\n",
    "    sunburstcolorway=[\"#636efa\", \"#ef553b\", \"#00cc96\", \"#ab63fa\", \"#19d3f3\", \"#ff7f0e\", \"#d62728\", \"#9467bd\", \"#8c564b\"],  # Custom color palette\n",
    "    )\n",
    "\n",
    "# Show the plot\n",
    "fig1.show()\n"
   ]
  },
  {
   "cell_type": "code",
   "execution_count": 183,
   "id": "055ddb40",
   "metadata": {},
   "outputs": [
    {
     "data": {
      "image/png": "[encoded data removed]",
      "text/plain": [
       "<Figure size 1200x500 with 6 Axes>"
      ]
     },
     "metadata": {},
     "output_type": "display_data"
    }
   ],
   "source": [
    "#4.How does gdp,cpi and tax affect the wealthiness of these billionaire's\n",
    "\n",
    "gdp_worth = df.groupby('countryOfCitizenship')[['finalWorth','gdp_country']].mean().reset_index()\n",
    "cpi_worth = df.groupby('countryOfCitizenship')[['finalWorth','cpi_country']].mean().reset_index()\n",
    "cpi_change_worth = df.groupby('countryOfCitizenship')[['finalWorth','cpi_change_country']].mean().reset_index()\n",
    "tax_worth = df.groupby('countryOfCitizenship')[['finalWorth','tax_revenue_country_country']].mean().reset_index()\n",
    "total_tax_worth = df.groupby('countryOfCitizenship')[['finalWorth','total_tax_rate_country']].mean().reset_index()\n",
    "\n",
    "fig, axes = plt.subplots(2,3, figsize=(12,5))\n",
    "\n",
    "## Plot the relationship between the country's GDP and the mean net worth of billionaires from that country\n",
    "sns.scatterplot(data=gdp_worth, x='gdp_country', y='finalWorth', ax=axes[0,0])\n",
    "axes[0,0].set_xlabel('GDP')\n",
    "axes[0,0].set_ylabel('Mean Net Worth by Country')\n",
    "\n",
    "## Plot the relationship between the country's CPI and the mean net worth of billionaires from that country\n",
    "sns.scatterplot(data=cpi_worth, x='cpi_country', y='finalWorth', ax=axes[0,1])\n",
    "axes[0,1].set_xlabel('CPI')\n",
    "axes[0,1].set_ylabel('Mean Net Worth by Country')\n",
    "\n",
    "## Plot the relationship between the country's CPI change and the mean net worth of billionaires from that country\n",
    "sns.scatterplot(data=cpi_change_worth, x='cpi_change_country', y='finalWorth', ax=axes[0,2])\n",
    "axes[0,1].set_xlabel('CPI Change')\n",
    "axes[0,1].set_ylabel('Mean Net Worth by Country')\n",
    "\n",
    "## Plot the relationship between the country's tax revenue and the mean net worth of billionaires from that country\n",
    "sns.scatterplot(data=tax_worth, x='tax_revenue_country_country', y='finalWorth', ax=axes[1,0])\n",
    "axes[1,0].set_xlabel('Tax Revenue')\n",
    "axes[1,0].set_ylabel('Mean Net Worth by Country')\n",
    "\n",
    "sns.scatterplot(data=total_tax_worth, x='total_tax_rate_country', y='finalWorth', ax=axes[1,1])\n",
    "\n",
    "plt.tight_layout()\n",
    "plt.show()"
   ]
  },
  {
   "cell_type": "code",
   "execution_count": 170,
   "id": "73767240",
   "metadata": {},
   "outputs": [
    {
     "data": {
      "application/vnd.plotly.v1+json": {
       "config": {
        "plotlyServerURL": "https://plot.ly"
       },
       "data": [
        {
         "domain": {
          "x": [
           0,
           1
          ],
          "y": [
           0,
           1
          ]
         },
         "hole": 0.4,
         "hovertemplate": "selfMade_indicator=%{label}<extra></extra>",
         "labels": [
          "Inherited Wealth",
          "Self Made Billionaires",
          "Self Made Billionaires",
          "Self Made Billionaires",
          "Self Made Billionaires",
          "Self Made Billionaires",
          "Self Made Billionaires",
          "Self Made Billionaires",
          "Inherited Wealth",
          "Self Made Billionaires",
          "Inherited Wealth",
          "Self Made Billionaires",
          "Self Made Billionaires",
          "Self Made Billionaires",
          "Self Made Billionaires",
          "Self Made Billionaires",
          "Inherited Wealth",
          "Inherited Wealth",
          "Inherited Wealth",
          "Inherited Wealth",
          "Inherited Wealth",
          "Inherited Wealth",
          "Self Made Billionaires",
          "Self Made Billionaires",
          "Self Made Billionaires",
          "Self Made Billionaires",
          "Inherited Wealth",
          "Self Made Billionaires",
          "Inherited Wealth",
          "Inherited Wealth",
          "Inherited Wealth",
          "Inherited Wealth",
          "Self Made Billionaires",
          "Self Made Billionaires",
          "Inherited Wealth",
          "Self Made Billionaires",
          "Inherited Wealth",
          "Self Made Billionaires",
          "Self Made Billionaires",
          "Self Made Billionaires",
          "Inherited Wealth",
          "Inherited Wealth",
          "Self Made Billionaires",
          "Self Made Billionaires",
          "Self Made Billionaires",
          "Self Made Billionaires",
          "Self Made Billionaires",
          "Self Made Billionaires",
          "Self Made Billionaires",
          "Self Made Billionaires",
          "Inherited Wealth",
          "Inherited Wealth",
          "Self Made Billionaires",
          "Inherited Wealth",
          "Self Made Billionaires",
          "Self Made Billionaires",
          "Self Made Billionaires",
          "Self Made Billionaires",
          "Inherited Wealth",
          "Inherited Wealth",
          "Inherited Wealth",
          "Self Made Billionaires",
          "Self Made Billionaires",
          "Self Made Billionaires",
          "Inherited Wealth",
          "Inherited Wealth",
          "Self Made Billionaires",
          "Inherited Wealth",
          "Self Made Billionaires",
          "Self Made Billionaires",
          "Inherited Wealth",
          "Inherited Wealth",
          "Self Made Billionaires",
          "Inherited Wealth",
          "Self Made Billionaires",
          "Self Made Billionaires",
          "Inherited Wealth",
          "Self Made Billionaires",
          "Self Made Billionaires",
          "Self Made Billionaires",
          "Self Made Billionaires",
          "Self Made Billionaires",
          "Self Made Billionaires",
          "Self Made Billionaires",
          "Self Made Billionaires",
          "Inherited Wealth",
          "Self Made Billionaires",
          "Self Made Billionaires",
          "Self Made Billionaires",
          "Self Made Billionaires",
          "Self Made Billionaires",
          "Self Made Billionaires",
          "Inherited Wealth",
          "Self Made Billionaires",
          "Self Made Billionaires",
          "Inherited Wealth",
          "Self Made Billionaires",
          "Self Made Billionaires",
          "Inherited Wealth",
          "Inherited Wealth",
          "Inherited Wealth",
          "Inherited Wealth",
          "Self Made Billionaires",
          "Inherited Wealth",
          "Self Made Billionaires",
          "Self Made Billionaires",
          "Self Made Billionaires",
          "Inherited Wealth",
          "Inherited Wealth",
          "Self Made Billionaires",
          "Inherited Wealth",
          "Self Made Billionaires",
          "Self Made Billionaires",
          "Self Made Billionaires",
          "Self Made Billionaires",
          "Inherited Wealth",
          "Self Made Billionaires",
          "Self Made Billionaires",
          "Inherited Wealth",
          "Self Made Billionaires",
          "Self Made Billionaires",
          "Self Made Billionaires",
          "Self Made Billionaires",
          "Inherited Wealth",
          "Self Made Billionaires",
          "Inherited Wealth",
          "Inherited Wealth",
          "Self Made Billionaires",
          "Self Made Billionaires",
          "Self Made Billionaires",
          "Self Made Billionaires",
          "Self Made Billionaires",
          "Self Made Billionaires",
          "Inherited Wealth",
          "Self Made Billionaires",
          "Self Made Billionaires",
          "Self Made Billionaires",
          "Self Made Billionaires",
          "Self Made Billionaires",
          "Self Made Billionaires",
          "Self Made Billionaires",
          "Self Made Billionaires",
          "Self Made Billionaires",
          "Self Made Billionaires",
          "Inherited Wealth",
          "Self Made Billionaires",
          "Self Made Billionaires",
          "Self Made Billionaires",
          "Self Made Billionaires",
          "Self Made Billionaires",
          "Self Made Billionaires",
          "Self Made Billionaires",
          "Self Made Billionaires",
          "Self Made Billionaires",
          "Inherited Wealth",
          "Self Made Billionaires",
          "Self Made Billionaires",
          "Inherited Wealth",
          "Self Made Billionaires",
          "Self Made Billionaires",
          "Inherited Wealth",
          "Self Made Billionaires",
          "Inherited Wealth",
          "Inherited Wealth",
          "Self Made Billionaires",
          "Self Made Billionaires",
          "Self Made Billionaires",
          "Self Made Billionaires",
          "Self Made Billionaires",
          "Self Made Billionaires",
          "Self Made Billionaires",
          "Inherited Wealth",
          "Self Made Billionaires",
          "Self Made Billionaires",
          "Self Made Billionaires",
          "Self Made Billionaires",
          "Inherited Wealth",
          "Inherited Wealth",
          "Self Made Billionaires",
          "Inherited Wealth",
          "Self Made Billionaires",
          "Self Made Billionaires",
          "Self Made Billionaires",
          "Self Made Billionaires",
          "Inherited Wealth",
          "Inherited Wealth",
          "Inherited Wealth",
          "Inherited Wealth",
          "Self Made Billionaires",
          "Self Made Billionaires",
          "Self Made Billionaires",
          "Self Made Billionaires",
          "Inherited Wealth",
          "Self Made Billionaires",
          "Inherited Wealth",
          "Self Made Billionaires",
          "Self Made Billionaires",
          "Inherited Wealth",
          "Inherited Wealth",
          "Inherited Wealth",
          "Inherited Wealth",
          "Inherited Wealth",
          "Self Made Billionaires",
          "Inherited Wealth",
          "Self Made Billionaires",
          "Self Made Billionaires",
          "Self Made Billionaires",
          "Self Made Billionaires",
          "Inherited Wealth",
          "Self Made Billionaires",
          "Self Made Billionaires",
          "Inherited Wealth",
          "Self Made Billionaires",
          "Self Made Billionaires",
          "Self Made Billionaires",
          "Self Made Billionaires",
          "Inherited Wealth",
          "Self Made Billionaires",
          "Self Made Billionaires",
          "Inherited Wealth",
          "Inherited Wealth",
          "Inherited Wealth",
          "Self Made Billionaires",
          "Self Made Billionaires",
          "Self Made Billionaires",
          "Self Made Billionaires",
          "Self Made Billionaires",
          "Self Made Billionaires",
          "Inherited Wealth",
          "Self Made Billionaires",
          "Inherited Wealth",
          "Self Made Billionaires",
          "Self Made Billionaires",
          "Inherited Wealth",
          "Self Made Billionaires",
          "Self Made Billionaires",
          "Self Made Billionaires",
          "Self Made Billionaires",
          "Self Made Billionaires",
          "Inherited Wealth",
          "Self Made Billionaires",
          "Inherited Wealth",
          "Inherited Wealth",
          "Inherited Wealth",
          "Inherited Wealth",
          "Self Made Billionaires",
          "Inherited Wealth",
          "Inherited Wealth",
          "Self Made Billionaires",
          "Self Made Billionaires",
          "Inherited Wealth",
          "Self Made Billionaires",
          "Inherited Wealth",
          "Self Made Billionaires",
          "Inherited Wealth",
          "Inherited Wealth",
          "Inherited Wealth",
          "Self Made Billionaires",
          "Inherited Wealth",
          "Self Made Billionaires",
          "Self Made Billionaires",
          "Self Made Billionaires",
          "Self Made Billionaires",
          "Self Made Billionaires",
          "Self Made Billionaires",
          "Self Made Billionaires",
          "Inherited Wealth",
          "Self Made Billionaires",
          "Self Made Billionaires",
          "Inherited Wealth",
          "Inherited Wealth",
          "Self Made Billionaires",
          "Self Made Billionaires",
          "Self Made Billionaires",
          "Self Made Billionaires",
          "Self Made Billionaires",
          "Self Made Billionaires",
          "Self Made Billionaires",
          "Self Made Billionaires",
          "Self Made Billionaires",
          "Self Made Billionaires",
          "Inherited Wealth",
          "Inherited Wealth",
          "Self Made Billionaires",
          "Self Made Billionaires",
          "Self Made Billionaires",
          "Self Made Billionaires",
          "Self Made Billionaires",
          "Self Made Billionaires",
          "Self Made Billionaires",
          "Self Made Billionaires",
          "Self Made Billionaires",
          "Self Made Billionaires",
          "Inherited Wealth",
          "Self Made Billionaires",
          "Inherited Wealth",
          "Self Made Billionaires",
          "Self Made Billionaires",
          "Self Made Billionaires",
          "Inherited Wealth",
          "Self Made Billionaires",
          "Self Made Billionaires",
          "Self Made Billionaires",
          "Self Made Billionaires",
          "Self Made Billionaires",
          "Inherited Wealth",
          "Self Made Billionaires",
          "Inherited Wealth",
          "Self Made Billionaires",
          "Inherited Wealth",
          "Self Made Billionaires",
          "Inherited Wealth",
          "Self Made Billionaires",
          "Inherited Wealth",
          "Inherited Wealth",
          "Self Made Billionaires",
          "Self Made Billionaires",
          "Self Made Billionaires",
          "Self Made Billionaires",
          "Self Made Billionaires",
          "Self Made Billionaires",
          "Self Made Billionaires",
          "Inherited Wealth",
          "Self Made Billionaires",
          "Self Made Billionaires",
          "Self Made Billionaires",
          "Inherited Wealth",
          "Self Made Billionaires",
          "Inherited Wealth",
          "Inherited Wealth",
          "Self Made Billionaires",
          "Self Made Billionaires",
          "Self Made Billionaires",
          "Self Made Billionaires",
          "Self Made Billionaires",
          "Inherited Wealth",
          "Self Made Billionaires",
          "Inherited Wealth",
          "Inherited Wealth",
          "Inherited Wealth",
          "Self Made Billionaires",
          "Self Made Billionaires",
          "Self Made Billionaires",
          "Inherited Wealth",
          "Inherited Wealth",
          "Inherited Wealth",
          "Self Made Billionaires",
          "Self Made Billionaires",
          "Self Made Billionaires",
          "Inherited Wealth",
          "Inherited Wealth",
          "Inherited Wealth",
          "Self Made Billionaires",
          "Self Made Billionaires",
          "Inherited Wealth",
          "Inherited Wealth",
          "Inherited Wealth",
          "Self Made Billionaires",
          "Self Made Billionaires",
          "Self Made Billionaires",
          "Self Made Billionaires",
          "Self Made Billionaires",
          "Self Made Billionaires",
          "Inherited Wealth",
          "Self Made Billionaires",
          "Self Made Billionaires",
          "Inherited Wealth",
          "Inherited Wealth",
          "Inherited Wealth",
          "Inherited Wealth",
          "Self Made Billionaires",
          "Self Made Billionaires",
          "Inherited Wealth",
          "Self Made Billionaires",
          "Self Made Billionaires",
          "Inherited Wealth",
          "Self Made Billionaires",
          "Self Made Billionaires",
          "Self Made Billionaires",
          "Inherited Wealth",
          "Self Made Billionaires",
          "Self Made Billionaires",
          "Inherited Wealth",
          "Inherited Wealth",
          "Inherited Wealth",
          "Inherited Wealth",
          "Self Made Billionaires",
          "Self Made Billionaires",
          "Inherited Wealth",
          "Self Made Billionaires",
          "Inherited Wealth",
          "Self Made Billionaires",
          "Inherited Wealth",
          "Self Made Billionaires",
          "Self Made Billionaires",
          "Self Made Billionaires",
          "Self Made Billionaires",
          "Self Made Billionaires",
          "Self Made Billionaires",
          "Self Made Billionaires",
          "Self Made Billionaires",
          "Self Made Billionaires",
          "Self Made Billionaires",
          "Self Made Billionaires",
          "Inherited Wealth",
          "Self Made Billionaires",
          "Self Made Billionaires",
          "Inherited Wealth",
          "Self Made Billionaires",
          "Self Made Billionaires",
          "Inherited Wealth",
          "Self Made Billionaires",
          "Self Made Billionaires",
          "Self Made Billionaires",
          "Self Made Billionaires",
          "Self Made Billionaires",
          "Self Made Billionaires",
          "Self Made Billionaires",
          "Self Made Billionaires",
          "Inherited Wealth",
          "Inherited Wealth",
          "Inherited Wealth",
          "Self Made Billionaires",
          "Self Made Billionaires",
          "Self Made Billionaires",
          "Self Made Billionaires",
          "Self Made Billionaires",
          "Self Made Billionaires",
          "Self Made Billionaires",
          "Self Made Billionaires",
          "Inherited Wealth",
          "Self Made Billionaires",
          "Self Made Billionaires",
          "Self Made Billionaires",
          "Self Made Billionaires",
          "Self Made Billionaires",
          "Self Made Billionaires",
          "Inherited Wealth",
          "Self Made Billionaires",
          "Self Made Billionaires",
          "Inherited Wealth",
          "Self Made Billionaires",
          "Inherited Wealth",
          "Self Made Billionaires",
          "Self Made Billionaires",
          "Self Made Billionaires",
          "Self Made Billionaires",
          "Inherited Wealth",
          "Inherited Wealth",
          "Inherited Wealth",
          "Inherited Wealth",
          "Inherited Wealth",
          "Inherited Wealth",
          "Inherited Wealth",
          "Inherited Wealth",
          "Inherited Wealth",
          "Self Made Billionaires",
          "Inherited Wealth",
          "Self Made Billionaires",
          "Self Made Billionaires",
          "Inherited Wealth",
          "Inherited Wealth",
          "Self Made Billionaires",
          "Self Made Billionaires",
          "Self Made Billionaires",
          "Inherited Wealth",
          "Inherited Wealth",
          "Self Made Billionaires",
          "Self Made Billionaires",
          "Self Made Billionaires",
          "Self Made Billionaires",
          "Inherited Wealth",
          "Inherited Wealth",
          "Inherited Wealth",
          "Self Made Billionaires",
          "Self Made Billionaires",
          "Inherited Wealth",
          "Self Made Billionaires",
          "Inherited Wealth",
          "Self Made Billionaires",
          "Self Made Billionaires",
          "Self Made Billionaires",
          "Inherited Wealth",
          "Self Made Billionaires",
          "Self Made Billionaires",
          "Self Made Billionaires",
          "Inherited Wealth",
          "Inherited Wealth",
          "Self Made Billionaires",
          "Self Made Billionaires",
          "Self Made Billionaires",
          "Inherited Wealth",
          "Inherited Wealth",
          "Inherited Wealth",
          "Inherited Wealth",
          "Inherited Wealth",
          "Self Made Billionaires",
          "Self Made Billionaires",
          "Self Made Billionaires",
          "Inherited Wealth",
          "Self Made Billionaires",
          "Inherited Wealth",
          "Inherited Wealth",
          "Self Made Billionaires",
          "Self Made Billionaires",
          "Inherited Wealth",
          "Self Made Billionaires",
          "Self Made Billionaires",
          "Self Made Billionaires",
          "Self Made Billionaires",
          "Self Made Billionaires",
          "Self Made Billionaires",
          "Self Made Billionaires",
          "Self Made Billionaires",
          "Inherited Wealth",
          "Self Made Billionaires",
          "Self Made Billionaires",
          "Inherited Wealth",
          "Self Made Billionaires",
          "Self Made Billionaires",
          "Self Made Billionaires",
          "Self Made Billionaires",
          "Self Made Billionaires",
          "Inherited Wealth",
          "Inherited Wealth",
          "Self Made Billionaires",
          "Self Made Billionaires",
          "Self Made Billionaires",
          "Self Made Billionaires",
          "Self Made Billionaires",
          "Self Made Billionaires",
          "Self Made Billionaires",
          "Inherited Wealth",
          "Self Made Billionaires",
          "Inherited Wealth",
          "Inherited Wealth",
          "Self Made Billionaires",
          "Inherited Wealth",
          "Self Made Billionaires",
          "Self Made Billionaires",
          "Self Made Billionaires",
          "Inherited Wealth",
          "Inherited Wealth",
          "Self Made Billionaires",
          "Inherited Wealth",
          "Self Made Billionaires",
          "Inherited Wealth",
          "Inherited Wealth",
          "Inherited Wealth",
          "Self Made Billionaires",
          "Inherited Wealth",
          "Self Made Billionaires",
          "Self Made Billionaires",
          "Inherited Wealth",
          "Self Made Billionaires",
          "Self Made Billionaires",
          "Self Made Billionaires",
          "Self Made Billionaires",
          "Self Made Billionaires",
          "Self Made Billionaires",
          "Inherited Wealth",
          "Inherited Wealth",
          "Self Made Billionaires",
          "Self Made Billionaires",
          "Self Made Billionaires",
          "Self Made Billionaires",
          "Self Made Billionaires",
          "Self Made Billionaires",
          "Self Made Billionaires",
          "Inherited Wealth",
          "Inherited Wealth",
          "Inherited Wealth",
          "Inherited Wealth",
          "Self Made Billionaires",
          "Self Made Billionaires",
          "Inherited Wealth",
          "Inherited Wealth",
          "Self Made Billionaires",
          "Self Made Billionaires",
          "Inherited Wealth",
          "Inherited Wealth",
          "Self Made Billionaires",
          "Self Made Billionaires",
          "Self Made Billionaires",
          "Inherited Wealth",
          "Inherited Wealth",
          "Self Made Billionaires",
          "Self Made Billionaires",
          "Self Made Billionaires",
          "Self Made Billionaires",
          "Self Made Billionaires",
          "Self Made Billionaires",
          "Self Made Billionaires",
          "Self Made Billionaires",
          "Self Made Billionaires",
          "Self Made Billionaires",
          "Inherited Wealth",
          "Inherited Wealth",
          "Self Made Billionaires",
          "Self Made Billionaires",
          "Inherited Wealth",
          "Inherited Wealth",
          "Inherited Wealth",
          "Inherited Wealth",
          "Self Made Billionaires",
          "Self Made Billionaires",
          "Self Made Billionaires",
          "Inherited Wealth",
          "Self Made Billionaires",
          "Self Made Billionaires",
          "Inherited Wealth",
          "Self Made Billionaires",
          "Self Made Billionaires",
          "Self Made Billionaires",
          "Inherited Wealth",
          "Self Made Billionaires",
          "Inherited Wealth",
          "Self Made Billionaires",
          "Self Made Billionaires",
          "Self Made Billionaires",
          "Self Made Billionaires",
          "Inherited Wealth",
          "Self Made Billionaires",
          "Self Made Billionaires",
          "Inherited Wealth",
          "Self Made Billionaires",
          "Self Made Billionaires",
          "Inherited Wealth",
          "Self Made Billionaires",
          "Inherited Wealth",
          "Self Made Billionaires",
          "Inherited Wealth",
          "Self Made Billionaires",
          "Self Made Billionaires",
          "Self Made Billionaires",
          "Self Made Billionaires",
          "Self Made Billionaires",
          "Self Made Billionaires",
          "Self Made Billionaires",
          "Self Made Billionaires",
          "Self Made Billionaires",
          "Self Made Billionaires",
          "Self Made Billionaires",
          "Self Made Billionaires",
          "Self Made Billionaires",
          "Inherited Wealth",
          "Self Made Billionaires",
          "Self Made Billionaires",
          "Inherited Wealth",
          "Self Made Billionaires",
          "Self Made Billionaires",
          "Inherited Wealth",
          "Inherited Wealth",
          "Inherited Wealth",
          "Self Made Billionaires",
          "Self Made Billionaires",
          "Self Made Billionaires",
          "Self Made Billionaires",
          "Inherited Wealth",
          "Self Made Billionaires",
          "Self Made Billionaires",
          "Self Made Billionaires",
          "Inherited Wealth",
          "Inherited Wealth",
          "Self Made Billionaires",
          "Self Made Billionaires",
          "Self Made Billionaires",
          "Self Made Billionaires",
          "Self Made Billionaires",
          "Self Made Billionaires",
          "Self Made Billionaires",
          "Inherited Wealth",
          "Inherited Wealth",
          "Self Made Billionaires",
          "Inherited Wealth",
          "Self Made Billionaires",
          "Self Made Billionaires",
          "Self Made Billionaires",
          "Self Made Billionaires",
          "Inherited Wealth",
          "Inherited Wealth",
          "Self Made Billionaires",
          "Self Made Billionaires",
          "Self Made Billionaires",
          "Inherited Wealth",
          "Inherited Wealth",
          "Self Made Billionaires",
          "Inherited Wealth",
          "Self Made Billionaires",
          "Inherited Wealth",
          "Inherited Wealth",
          "Inherited Wealth",
          "Self Made Billionaires",
          "Self Made Billionaires",
          "Self Made Billionaires",
          "Self Made Billionaires",
          "Self Made Billionaires",
          "Self Made Billionaires",
          "Inherited Wealth",
          "Self Made Billionaires",
          "Inherited Wealth",
          "Self Made Billionaires",
          "Inherited Wealth",
          "Self Made Billionaires",
          "Self Made Billionaires",
          "Self Made Billionaires",
          "Self Made Billionaires",
          "Self Made Billionaires",
          "Self Made Billionaires",
          "Self Made Billionaires",
          "Inherited Wealth",
          "Inherited Wealth",
          "Self Made Billionaires",
          "Inherited Wealth",
          "Self Made Billionaires",
          "Self Made Billionaires",
          "Self Made Billionaires",
          "Self Made Billionaires",
          "Self Made Billionaires",
          "Self Made Billionaires",
          "Inherited Wealth",
          "Inherited Wealth",
          "Inherited Wealth",
          "Self Made Billionaires",
          "Self Made Billionaires",
          "Inherited Wealth",
          "Inherited Wealth",
          "Inherited Wealth",
          "Self Made Billionaires",
          "Inherited Wealth",
          "Inherited Wealth",
          "Inherited Wealth",
          "Inherited Wealth",
          "Self Made Billionaires",
          "Inherited Wealth",
          "Inherited Wealth",
          "Self Made Billionaires",
          "Inherited Wealth",
          "Inherited Wealth",
          "Inherited Wealth",
          "Self Made Billionaires",
          "Self Made Billionaires",
          "Inherited Wealth",
          "Inherited Wealth",
          "Self Made Billionaires",
          "Self Made Billionaires",
          "Self Made Billionaires",
          "Inherited Wealth",
          "Self Made Billionaires",
          "Self Made Billionaires",
          "Self Made Billionaires",
          "Self Made Billionaires",
          "Self Made Billionaires",
          "Self Made Billionaires",
          "Inherited Wealth",
          "Self Made Billionaires",
          "Inherited Wealth",
          "Inherited Wealth",
          "Self Made Billionaires",
          "Self Made Billionaires",
          "Self Made Billionaires",
          "Inherited Wealth",
          "Self Made Billionaires",
          "Self Made Billionaires",
          "Self Made Billionaires",
          "Self Made Billionaires",
          "Self Made Billionaires",
          "Inherited Wealth",
          "Self Made Billionaires",
          "Self Made Billionaires",
          "Self Made Billionaires",
          "Self Made Billionaires",
          "Self Made Billionaires",
          "Self Made Billionaires",
          "Inherited Wealth",
          "Self Made Billionaires",
          "Self Made Billionaires",
          "Self Made Billionaires",
          "Self Made Billionaires",
          "Self Made Billionaires",
          "Inherited Wealth",
          "Self Made Billionaires",
          "Self Made Billionaires",
          "Self Made Billionaires",
          "Self Made Billionaires",
          "Self Made Billionaires",
          "Inherited Wealth",
          "Inherited Wealth",
          "Self Made Billionaires",
          "Self Made Billionaires",
          "Inherited Wealth",
          "Inherited Wealth",
          "Self Made Billionaires",
          "Inherited Wealth",
          "Inherited Wealth",
          "Self Made Billionaires",
          "Self Made Billionaires",
          "Inherited Wealth",
          "Self Made Billionaires",
          "Self Made Billionaires",
          "Inherited Wealth",
          "Self Made Billionaires",
          "Self Made Billionaires",
          "Self Made Billionaires",
          "Self Made Billionaires",
          "Self Made Billionaires",
          "Self Made Billionaires",
          "Self Made Billionaires",
          "Inherited Wealth",
          "Inherited Wealth",
          "Self Made Billionaires",
          "Self Made Billionaires",
          "Inherited Wealth",
          "Self Made Billionaires",
          "Self Made Billionaires",
          "Self Made Billionaires",
          "Self Made Billionaires",
          "Inherited Wealth",
          "Inherited Wealth",
          "Self Made Billionaires",
          "Self Made Billionaires",
          "Self Made Billionaires",
          "Inherited Wealth",
          "Inherited Wealth",
          "Inherited Wealth",
          "Inherited Wealth",
          "Inherited Wealth",
          "Inherited Wealth",
          "Self Made Billionaires",
          "Self Made Billionaires",
          "Self Made Billionaires",
          "Self Made Billionaires",
          "Self Made Billionaires",
          "Self Made Billionaires",
          "Self Made Billionaires",
          "Inherited Wealth",
          "Self Made Billionaires",
          "Self Made Billionaires",
          "Self Made Billionaires",
          "Self Made Billionaires",
          "Self Made Billionaires",
          "Inherited Wealth",
          "Self Made Billionaires",
          "Self Made Billionaires",
          "Self Made Billionaires",
          "Inherited Wealth",
          "Self Made Billionaires",
          "Self Made Billionaires",
          "Self Made Billionaires",
          "Inherited Wealth",
          "Inherited Wealth",
          "Self Made Billionaires",
          "Self Made Billionaires",
          "Self Made Billionaires",
          "Self Made Billionaires",
          "Self Made Billionaires",
          "Inherited Wealth",
          "Self Made Billionaires",
          "Inherited Wealth",
          "Inherited Wealth",
          "Self Made Billionaires",
          "Self Made Billionaires",
          "Inherited Wealth",
          "Self Made Billionaires",
          "Inherited Wealth",
          "Inherited Wealth",
          "Self Made Billionaires",
          "Self Made Billionaires",
          "Self Made Billionaires",
          "Self Made Billionaires",
          "Inherited Wealth",
          "Inherited Wealth",
          "Inherited Wealth",
          "Self Made Billionaires",
          "Self Made Billionaires",
          "Self Made Billionaires",
          "Self Made Billionaires",
          "Self Made Billionaires",
          "Self Made Billionaires",
          "Self Made Billionaires",
          "Self Made Billionaires",
          "Inherited Wealth",
          "Self Made Billionaires",
          "Inherited Wealth",
          "Self Made Billionaires",
          "Inherited Wealth",
          "Self Made Billionaires",
          "Inherited Wealth",
          "Self Made Billionaires",
          "Self Made Billionaires",
          "Self Made Billionaires",
          "Self Made Billionaires",
          "Self Made Billionaires",
          "Self Made Billionaires",
          "Inherited Wealth",
          "Self Made Billionaires",
          "Self Made Billionaires",
          "Self Made Billionaires",
          "Self Made Billionaires",
          "Self Made Billionaires",
          "Self Made Billionaires",
          "Inherited Wealth",
          "Self Made Billionaires",
          "Self Made Billionaires",
          "Inherited Wealth",
          "Self Made Billionaires",
          "Self Made Billionaires",
          "Inherited Wealth",
          "Self Made Billionaires",
          "Self Made Billionaires",
          "Self Made Billionaires",
          "Self Made Billionaires",
          "Self Made Billionaires",
          "Self Made Billionaires",
          "Self Made Billionaires",
          "Self Made Billionaires",
          "Self Made Billionaires",
          "Self Made Billionaires",
          "Self Made Billionaires",
          "Self Made Billionaires",
          "Self Made Billionaires",
          "Self Made Billionaires",
          "Self Made Billionaires",
          "Inherited Wealth",
          "Self Made Billionaires",
          "Self Made Billionaires",
          "Inherited Wealth",
          "Inherited Wealth",
          "Self Made Billionaires",
          "Inherited Wealth",
          "Self Made Billionaires",
          "Self Made Billionaires",
          "Self Made Billionaires",
          "Self Made Billionaires",
          "Self Made Billionaires",
          "Inherited Wealth",
          "Inherited Wealth",
          "Self Made Billionaires",
          "Inherited Wealth",
          "Inherited Wealth",
          "Self Made Billionaires",
          "Inherited Wealth",
          "Inherited Wealth",
          "Self Made Billionaires",
          "Self Made Billionaires",
          "Self Made Billionaires",
          "Self Made Billionaires",
          "Self Made Billionaires",
          "Self Made Billionaires",
          "Self Made Billionaires",
          "Self Made Billionaires",
          "Self Made Billionaires",
          "Self Made Billionaires",
          "Self Made Billionaires",
          "Self Made Billionaires",
          "Self Made Billionaires",
          "Self Made Billionaires",
          "Self Made Billionaires",
          "Self Made Billionaires",
          "Self Made Billionaires",
          "Self Made Billionaires",
          "Inherited Wealth",
          "Inherited Wealth",
          "Self Made Billionaires",
          "Self Made Billionaires",
          "Self Made Billionaires",
          "Self Made Billionaires",
          "Self Made Billionaires",
          "Self Made Billionaires",
          "Self Made Billionaires",
          "Self Made Billionaires",
          "Inherited Wealth",
          "Self Made Billionaires",
          "Inherited Wealth",
          "Inherited Wealth",
          "Self Made Billionaires",
          "Inherited Wealth",
          "Self Made Billionaires",
          "Self Made Billionaires",
          "Self Made Billionaires",
          "Self Made Billionaires",
          "Inherited Wealth",
          "Inherited Wealth",
          "Inherited Wealth",
          "Self Made Billionaires",
          "Self Made Billionaires",
          "Inherited Wealth",
          "Self Made Billionaires",
          "Inherited Wealth",
          "Inherited Wealth",
          "Self Made Billionaires",
          "Self Made Billionaires",
          "Self Made Billionaires",
          "Self Made Billionaires",
          "Inherited Wealth",
          "Inherited Wealth",
          "Self Made Billionaires",
          "Self Made Billionaires",
          "Self Made Billionaires",
          "Self Made Billionaires",
          "Inherited Wealth",
          "Inherited Wealth",
          "Self Made Billionaires",
          "Inherited Wealth",
          "Self Made Billionaires",
          "Self Made Billionaires",
          "Self Made Billionaires",
          "Self Made Billionaires",
          "Inherited Wealth",
          "Self Made Billionaires",
          "Inherited Wealth",
          "Self Made Billionaires",
          "Inherited Wealth",
          "Self Made Billionaires",
          "Inherited Wealth",
          "Inherited Wealth",
          "Self Made Billionaires",
          "Self Made Billionaires",
          "Self Made Billionaires",
          "Self Made Billionaires",
          "Self Made Billionaires",
          "Inherited Wealth",
          "Self Made Billionaires",
          "Self Made Billionaires",
          "Self Made Billionaires",
          "Self Made Billionaires",
          "Self Made Billionaires",
          "Inherited Wealth",
          "Self Made Billionaires",
          "Self Made Billionaires",
          "Self Made Billionaires",
          "Self Made Billionaires",
          "Self Made Billionaires",
          "Self Made Billionaires",
          "Self Made Billionaires",
          "Self Made Billionaires",
          "Inherited Wealth",
          "Self Made Billionaires",
          "Inherited Wealth",
          "Inherited Wealth",
          "Self Made Billionaires",
          "Self Made Billionaires",
          "Inherited Wealth",
          "Inherited Wealth",
          "Self Made Billionaires",
          "Self Made Billionaires",
          "Self Made Billionaires",
          "Self Made Billionaires",
          "Self Made Billionaires",
          "Inherited Wealth",
          "Self Made Billionaires",
          "Self Made Billionaires",
          "Self Made Billionaires",
          "Inherited Wealth",
          "Self Made Billionaires",
          "Self Made Billionaires",
          "Inherited Wealth",
          "Self Made Billionaires",
          "Self Made Billionaires",
          "Self Made Billionaires",
          "Self Made Billionaires",
          "Inherited Wealth",
          "Self Made Billionaires",
          "Inherited Wealth",
          "Self Made Billionaires",
          "Self Made Billionaires",
          "Inherited Wealth",
          "Self Made Billionaires",
          "Self Made Billionaires",
          "Self Made Billionaires",
          "Self Made Billionaires",
          "Inherited Wealth",
          "Inherited Wealth",
          "Inherited Wealth",
          "Self Made Billionaires",
          "Inherited Wealth",
          "Inherited Wealth",
          "Inherited Wealth",
          "Inherited Wealth",
          "Inherited Wealth",
          "Self Made Billionaires",
          "Self Made Billionaires",
          "Inherited Wealth",
          "Self Made Billionaires",
          "Self Made Billionaires",
          "Inherited Wealth",
          "Inherited Wealth",
          "Inherited Wealth",
          "Self Made Billionaires",
          "Inherited Wealth",
          "Inherited Wealth",
          "Inherited Wealth",
          "Inherited Wealth",
          "Self Made Billionaires",
          "Inherited Wealth",
          "Self Made Billionaires",
          "Self Made Billionaires",
          "Inherited Wealth",
          "Inherited Wealth",
          "Self Made Billionaires",
          "Self Made Billionaires",
          "Self Made Billionaires",
          "Self Made Billionaires",
          "Inherited Wealth",
          "Inherited Wealth",
          "Self Made Billionaires",
          "Inherited Wealth",
          "Inherited Wealth",
          "Inherited Wealth",
          "Self Made Billionaires",
          "Inherited Wealth",
          "Inherited Wealth",
          "Inherited Wealth",
          "Self Made Billionaires",
          "Self Made Billionaires",
          "Self Made Billionaires",
          "Self Made Billionaires",
          "Inherited Wealth",
          "Inherited Wealth",
          "Self Made Billionaires",
          "Inherited Wealth",
          "Self Made Billionaires",
          "Self Made Billionaires",
          "Inherited Wealth",
          "Inherited Wealth",
          "Self Made Billionaires",
          "Self Made Billionaires",
          "Self Made Billionaires",
          "Inherited Wealth",
          "Self Made Billionaires",
          "Inherited Wealth",
          "Inherited Wealth",
          "Self Made Billionaires",
          "Inherited Wealth",
          "Self Made Billionaires",
          "Inherited Wealth",
          "Self Made Billionaires",
          "Self Made Billionaires",
          "Self Made Billionaires",
          "Self Made Billionaires",
          "Self Made Billionaires",
          "Inherited Wealth",
          "Inherited Wealth",
          "Inherited Wealth",
          "Self Made Billionaires",
          "Self Made Billionaires",
          "Self Made Billionaires",
          "Inherited Wealth",
          "Inherited Wealth",
          "Self Made Billionaires",
          "Self Made Billionaires",
          "Self Made Billionaires",
          "Inherited Wealth",
          "Inherited Wealth",
          "Self Made Billionaires",
          "Self Made Billionaires",
          "Self Made Billionaires",
          "Self Made Billionaires",
          "Self Made Billionaires",
          "Inherited Wealth",
          "Self Made Billionaires",
          "Self Made Billionaires",
          "Self Made Billionaires",
          "Self Made Billionaires",
          "Self Made Billionaires",
          "Self Made Billionaires",
          "Self Made Billionaires",
          "Inherited Wealth",
          "Inherited Wealth",
          "Inherited Wealth",
          "Inherited Wealth",
          "Self Made Billionaires",
          "Inherited Wealth",
          "Self Made Billionaires",
          "Self Made Billionaires",
          "Self Made Billionaires",
          "Inherited Wealth",
          "Self Made Billionaires",
          "Inherited Wealth",
          "Inherited Wealth",
          "Inherited Wealth",
          "Inherited Wealth",
          "Self Made Billionaires",
          "Self Made Billionaires",
          "Self Made Billionaires",
          "Self Made Billionaires",
          "Inherited Wealth",
          "Inherited Wealth",
          "Self Made Billionaires",
          "Self Made Billionaires",
          "Self Made Billionaires",
          "Self Made Billionaires",
          "Self Made Billionaires",
          "Self Made Billionaires",
          "Inherited Wealth",
          "Self Made Billionaires",
          "Self Made Billionaires",
          "Self Made Billionaires",
          "Inherited Wealth",
          "Self Made Billionaires",
          "Inherited Wealth",
          "Self Made Billionaires",
          "Inherited Wealth",
          "Inherited Wealth",
          "Self Made Billionaires",
          "Inherited Wealth",
          "Self Made Billionaires",
          "Inherited Wealth",
          "Self Made Billionaires",
          "Inherited Wealth",
          "Inherited Wealth",
          "Inherited Wealth",
          "Inherited Wealth",
          "Inherited Wealth",
          "Self Made Billionaires",
          "Self Made Billionaires",
          "Self Made Billionaires",
          "Inherited Wealth",
          "Inherited Wealth",
          "Inherited Wealth",
          "Inherited Wealth",
          "Self Made Billionaires",
          "Inherited Wealth",
          "Inherited Wealth",
          "Self Made Billionaires",
          "Self Made Billionaires",
          "Self Made Billionaires",
          "Self Made Billionaires",
          "Self Made Billionaires",
          "Inherited Wealth",
          "Inherited Wealth",
          "Self Made Billionaires",
          "Self Made Billionaires",
          "Self Made Billionaires",
          "Self Made Billionaires",
          "Self Made Billionaires",
          "Self Made Billionaires",
          "Self Made Billionaires",
          "Inherited Wealth",
          "Self Made Billionaires",
          "Self Made Billionaires",
          "Inherited Wealth",
          "Inherited Wealth",
          "Self Made Billionaires",
          "Self Made Billionaires",
          "Self Made Billionaires",
          "Self Made Billionaires",
          "Self Made Billionaires",
          "Inherited Wealth",
          "Self Made Billionaires",
          "Inherited Wealth",
          "Self Made Billionaires",
          "Self Made Billionaires",
          "Self Made Billionaires",
          "Inherited Wealth",
          "Self Made Billionaires",
          "Inherited Wealth",
          "Self Made Billionaires",
          "Self Made Billionaires",
          "Self Made Billionaires",
          "Inherited Wealth",
          "Self Made Billionaires",
          "Self Made Billionaires",
          "Self Made Billionaires",
          "Inherited Wealth",
          "Self Made Billionaires",
          "Self Made Billionaires",
          "Self Made Billionaires",
          "Self Made Billionaires",
          "Self Made Billionaires",
          "Self Made Billionaires",
          "Self Made Billionaires",
          "Inherited Wealth",
          "Inherited Wealth",
          "Self Made Billionaires",
          "Inherited Wealth",
          "Self Made Billionaires",
          "Inherited Wealth",
          "Self Made Billionaires",
          "Self Made Billionaires",
          "Self Made Billionaires",
          "Self Made Billionaires",
          "Self Made Billionaires",
          "Self Made Billionaires",
          "Self Made Billionaires",
          "Self Made Billionaires",
          "Self Made Billionaires",
          "Inherited Wealth",
          "Inherited Wealth",
          "Self Made Billionaires",
          "Self Made Billionaires",
          "Self Made Billionaires",
          "Self Made Billionaires",
          "Self Made Billionaires",
          "Inherited Wealth",
          "Self Made Billionaires",
          "Self Made Billionaires",
          "Inherited Wealth",
          "Self Made Billionaires",
          "Self Made Billionaires",
          "Inherited Wealth",
          "Inherited Wealth",
          "Self Made Billionaires",
          "Self Made Billionaires",
          "Inherited Wealth",
          "Self Made Billionaires",
          "Self Made Billionaires",
          "Self Made Billionaires",
          "Self Made Billionaires",
          "Self Made Billionaires",
          "Self Made Billionaires",
          "Self Made Billionaires",
          "Inherited Wealth",
          "Self Made Billionaires",
          "Self Made Billionaires",
          "Self Made Billionaires",
          "Self Made Billionaires",
          "Self Made Billionaires",
          "Self Made Billionaires",
          "Self Made Billionaires",
          "Self Made Billionaires",
          "Self Made Billionaires",
          "Self Made Billionaires",
          "Self Made Billionaires",
          "Inherited Wealth",
          "Inherited Wealth",
          "Self Made Billionaires",
          "Inherited Wealth",
          "Self Made Billionaires",
          "Self Made Billionaires",
          "Self Made Billionaires",
          "Self Made Billionaires",
          "Self Made Billionaires",
          "Self Made Billionaires",
          "Inherited Wealth",
          "Self Made Billionaires",
          "Self Made Billionaires",
          "Inherited Wealth",
          "Inherited Wealth",
          "Self Made Billionaires",
          "Self Made Billionaires",
          "Self Made Billionaires",
          "Self Made Billionaires",
          "Self Made Billionaires",
          "Self Made Billionaires",
          "Inherited Wealth",
          "Inherited Wealth",
          "Inherited Wealth",
          "Inherited Wealth",
          "Inherited Wealth",
          "Inherited Wealth",
          "Inherited Wealth",
          "Inherited Wealth",
          "Inherited Wealth",
          "Self Made Billionaires",
          "Self Made Billionaires",
          "Inherited Wealth",
          "Self Made Billionaires",
          "Inherited Wealth",
          "Self Made Billionaires",
          "Self Made Billionaires",
          "Self Made Billionaires",
          "Self Made Billionaires",
          "Self Made Billionaires",
          "Self Made Billionaires",
          "Inherited Wealth",
          "Self Made Billionaires",
          "Self Made Billionaires",
          "Self Made Billionaires",
          "Self Made Billionaires",
          "Self Made Billionaires",
          "Self Made Billionaires",
          "Self Made Billionaires",
          "Inherited Wealth",
          "Inherited Wealth",
          "Self Made Billionaires",
          "Self Made Billionaires",
          "Self Made Billionaires",
          "Self Made Billionaires",
          "Self Made Billionaires",
          "Self Made Billionaires",
          "Self Made Billionaires",
          "Self Made Billionaires",
          "Inherited Wealth",
          "Self Made Billionaires",
          "Self Made Billionaires",
          "Self Made Billionaires",
          "Inherited Wealth",
          "Self Made Billionaires",
          "Self Made Billionaires",
          "Self Made Billionaires",
          "Self Made Billionaires",
          "Self Made Billionaires",
          "Self Made Billionaires",
          "Inherited Wealth",
          "Self Made Billionaires",
          "Self Made Billionaires",
          "Self Made Billionaires",
          "Self Made Billionaires",
          "Self Made Billionaires",
          "Self Made Billionaires",
          "Self Made Billionaires",
          "Inherited Wealth",
          "Self Made Billionaires",
          "Self Made Billionaires",
          "Self Made Billionaires",
          "Self Made Billionaires",
          "Self Made Billionaires",
          "Self Made Billionaires",
          "Self Made Billionaires",
          "Self Made Billionaires",
          "Self Made Billionaires",
          "Inherited Wealth",
          "Self Made Billionaires",
          "Self Made Billionaires",
          "Inherited Wealth",
          "Inherited Wealth",
          "Self Made Billionaires",
          "Self Made Billionaires",
          "Self Made Billionaires",
          "Inherited Wealth",
          "Inherited Wealth",
          "Inherited Wealth",
          "Self Made Billionaires",
          "Self Made Billionaires",
          "Inherited Wealth",
          "Self Made Billionaires",
          "Self Made Billionaires",
          "Self Made Billionaires",
          "Self Made Billionaires",
          "Self Made Billionaires",
          "Inherited Wealth",
          "Self Made Billionaires",
          "Self Made Billionaires",
          "Self Made Billionaires",
          "Inherited Wealth",
          "Inherited Wealth",
          "Self Made Billionaires",
          "Inherited Wealth",
          "Self Made Billionaires",
          "Self Made Billionaires",
          "Inherited Wealth",
          "Self Made Billionaires",
          "Self Made Billionaires",
          "Self Made Billionaires",
          "Self Made Billionaires",
          "Self Made Billionaires",
          "Self Made Billionaires",
          "Self Made Billionaires",
          "Self Made Billionaires",
          "Self Made Billionaires",
          "Self Made Billionaires",
          "Inherited Wealth",
          "Self Made Billionaires",
          "Self Made Billionaires",
          "Inherited Wealth",
          "Inherited Wealth",
          "Inherited Wealth",
          "Self Made Billionaires",
          "Inherited Wealth",
          "Inherited Wealth",
          "Inherited Wealth",
          "Self Made Billionaires",
          "Self Made Billionaires",
          "Self Made Billionaires",
          "Self Made Billionaires",
          "Self Made Billionaires",
          "Inherited Wealth",
          "Self Made Billionaires",
          "Self Made Billionaires",
          "Self Made Billionaires",
          "Self Made Billionaires",
          "Inherited Wealth",
          "Self Made Billionaires",
          "Self Made Billionaires",
          "Self Made Billionaires",
          "Self Made Billionaires",
          "Inherited Wealth",
          "Inherited Wealth",
          "Inherited Wealth",
          "Self Made Billionaires",
          "Inherited Wealth",
          "Self Made Billionaires",
          "Self Made Billionaires",
          "Self Made Billionaires",
          "Self Made Billionaires",
          "Self Made Billionaires",
          "Self Made Billionaires",
          "Self Made Billionaires",
          "Self Made Billionaires",
          "Self Made Billionaires",
          "Self Made Billionaires",
          "Self Made Billionaires",
          "Self Made Billionaires",
          "Self Made Billionaires",
          "Self Made Billionaires",
          "Inherited Wealth",
          "Self Made Billionaires",
          "Self Made Billionaires",
          "Self Made Billionaires",
          "Self Made Billionaires",
          "Inherited Wealth",
          "Self Made Billionaires",
          "Self Made Billionaires",
          "Self Made Billionaires",
          "Self Made Billionaires",
          "Self Made Billionaires",
          "Self Made Billionaires",
          "Self Made Billionaires",
          "Self Made Billionaires",
          "Self Made Billionaires",
          "Self Made Billionaires",
          "Self Made Billionaires",
          "Self Made Billionaires",
          "Inherited Wealth",
          "Inherited Wealth",
          "Self Made Billionaires",
          "Self Made Billionaires",
          "Self Made Billionaires",
          "Self Made Billionaires",
          "Self Made Billionaires",
          "Self Made Billionaires",
          "Self Made Billionaires",
          "Inherited Wealth",
          "Self Made Billionaires",
          "Inherited Wealth",
          "Self Made Billionaires",
          "Inherited Wealth",
          "Inherited Wealth",
          "Inherited Wealth",
          "Self Made Billionaires",
          "Self Made Billionaires",
          "Self Made Billionaires",
          "Self Made Billionaires",
          "Self Made Billionaires",
          "Inherited Wealth",
          "Self Made Billionaires",
          "Self Made Billionaires",
          "Self Made Billionaires",
          "Self Made Billionaires",
          "Self Made Billionaires",
          "Inherited Wealth",
          "Self Made Billionaires",
          "Inherited Wealth",
          "Self Made Billionaires",
          "Self Made Billionaires",
          "Inherited Wealth",
          "Self Made Billionaires",
          "Self Made Billionaires",
          "Inherited Wealth",
          "Self Made Billionaires",
          "Self Made Billionaires",
          "Inherited Wealth",
          "Self Made Billionaires",
          "Inherited Wealth",
          "Inherited Wealth",
          "Self Made Billionaires",
          "Self Made Billionaires",
          "Self Made Billionaires",
          "Inherited Wealth",
          "Inherited Wealth",
          "Self Made Billionaires",
          "Self Made Billionaires",
          "Self Made Billionaires",
          "Self Made Billionaires",
          "Inherited Wealth",
          "Self Made Billionaires",
          "Self Made Billionaires",
          "Self Made Billionaires",
          "Self Made Billionaires",
          "Self Made Billionaires",
          "Self Made Billionaires",
          "Self Made Billionaires",
          "Self Made Billionaires",
          "Inherited Wealth",
          "Self Made Billionaires",
          "Self Made Billionaires",
          "Self Made Billionaires",
          "Self Made Billionaires",
          "Inherited Wealth",
          "Inherited Wealth",
          "Inherited Wealth",
          "Self Made Billionaires",
          "Self Made Billionaires",
          "Self Made Billionaires",
          "Self Made Billionaires",
          "Inherited Wealth",
          "Inherited Wealth",
          "Inherited Wealth",
          "Inherited Wealth",
          "Inherited Wealth",
          "Self Made Billionaires",
          "Self Made Billionaires",
          "Inherited Wealth",
          "Inherited Wealth",
          "Inherited Wealth",
          "Self Made Billionaires",
          "Inherited Wealth",
          "Self Made Billionaires",
          "Inherited Wealth",
          "Inherited Wealth",
          "Self Made Billionaires",
          "Self Made Billionaires",
          "Self Made Billionaires",
          "Inherited Wealth",
          "Self Made Billionaires",
          "Self Made Billionaires",
          "Self Made Billionaires",
          "Inherited Wealth",
          "Self Made Billionaires",
          "Inherited Wealth",
          "Inherited Wealth",
          "Self Made Billionaires",
          "Self Made Billionaires",
          "Inherited Wealth",
          "Self Made Billionaires",
          "Self Made Billionaires",
          "Self Made Billionaires",
          "Self Made Billionaires",
          "Inherited Wealth",
          "Inherited Wealth",
          "Inherited Wealth",
          "Self Made Billionaires",
          "Self Made Billionaires",
          "Self Made Billionaires",
          "Self Made Billionaires",
          "Self Made Billionaires",
          "Self Made Billionaires",
          "Self Made Billionaires",
          "Self Made Billionaires",
          "Self Made Billionaires",
          "Inherited Wealth",
          "Inherited Wealth",
          "Inherited Wealth",
          "Inherited Wealth",
          "Self Made Billionaires",
          "Self Made Billionaires",
          "Inherited Wealth",
          "Self Made Billionaires",
          "Self Made Billionaires",
          "Inherited Wealth",
          "Inherited Wealth",
          "Self Made Billionaires",
          "Self Made Billionaires",
          "Self Made Billionaires",
          "Inherited Wealth",
          "Self Made Billionaires",
          "Inherited Wealth",
          "Self Made Billionaires",
          "Self Made Billionaires",
          "Self Made Billionaires",
          "Inherited Wealth",
          "Self Made Billionaires",
          "Self Made Billionaires",
          "Inherited Wealth",
          "Self Made Billionaires",
          "Inherited Wealth",
          "Self Made Billionaires",
          "Self Made Billionaires",
          "Self Made Billionaires",
          "Self Made Billionaires",
          "Inherited Wealth",
          "Self Made Billionaires",
          "Self Made Billionaires",
          "Inherited Wealth",
          "Self Made Billionaires",
          "Inherited Wealth",
          "Inherited Wealth",
          "Inherited Wealth",
          "Self Made Billionaires",
          "Self Made Billionaires",
          "Self Made Billionaires",
          "Self Made Billionaires",
          "Self Made Billionaires",
          "Self Made Billionaires",
          "Inherited Wealth",
          "Self Made Billionaires",
          "Self Made Billionaires",
          "Self Made Billionaires",
          "Inherited Wealth",
          "Self Made Billionaires",
          "Inherited Wealth",
          "Inherited Wealth",
          "Inherited Wealth",
          "Self Made Billionaires",
          "Self Made Billionaires",
          "Self Made Billionaires",
          "Self Made Billionaires",
          "Self Made Billionaires",
          "Inherited Wealth",
          "Self Made Billionaires",
          "Inherited Wealth",
          "Self Made Billionaires",
          "Self Made Billionaires",
          "Inherited Wealth",
          "Self Made Billionaires",
          "Self Made Billionaires",
          "Inherited Wealth",
          "Self Made Billionaires",
          "Inherited Wealth",
          "Self Made Billionaires",
          "Self Made Billionaires",
          "Self Made Billionaires",
          "Self Made Billionaires",
          "Inherited Wealth",
          "Self Made Billionaires",
          "Self Made Billionaires",
          "Self Made Billionaires",
          "Self Made Billionaires",
          "Self Made Billionaires",
          "Self Made Billionaires",
          "Self Made Billionaires",
          "Inherited Wealth",
          "Self Made Billionaires",
          "Self Made Billionaires",
          "Self Made Billionaires",
          "Inherited Wealth",
          "Inherited Wealth",
          "Self Made Billionaires",
          "Inherited Wealth",
          "Self Made Billionaires",
          "Self Made Billionaires",
          "Inherited Wealth",
          "Self Made Billionaires",
          "Inherited Wealth",
          "Self Made Billionaires",
          "Self Made Billionaires",
          "Inherited Wealth",
          "Self Made Billionaires",
          "Self Made Billionaires",
          "Self Made Billionaires",
          "Self Made Billionaires",
          "Inherited Wealth",
          "Self Made Billionaires",
          "Self Made Billionaires",
          "Self Made Billionaires",
          "Inherited Wealth",
          "Inherited Wealth",
          "Self Made Billionaires",
          "Self Made Billionaires",
          "Inherited Wealth",
          "Self Made Billionaires",
          "Self Made Billionaires",
          "Self Made Billionaires",
          "Self Made Billionaires",
          "Self Made Billionaires",
          "Self Made Billionaires",
          "Inherited Wealth",
          "Inherited Wealth",
          "Self Made Billionaires",
          "Inherited Wealth",
          "Self Made Billionaires",
          "Self Made Billionaires",
          "Self Made Billionaires",
          "Inherited Wealth",
          "Inherited Wealth",
          "Self Made Billionaires",
          "Inherited Wealth",
          "Inherited Wealth",
          "Self Made Billionaires",
          "Inherited Wealth",
          "Self Made Billionaires",
          "Self Made Billionaires",
          "Self Made Billionaires",
          "Self Made Billionaires",
          "Self Made Billionaires",
          "Self Made Billionaires",
          "Self Made Billionaires",
          "Self Made Billionaires",
          "Self Made Billionaires",
          "Self Made Billionaires",
          "Self Made Billionaires",
          "Self Made Billionaires",
          "Self Made Billionaires",
          "Inherited Wealth",
          "Self Made Billionaires",
          "Self Made Billionaires",
          "Self Made Billionaires",
          "Self Made Billionaires",
          "Inherited Wealth",
          "Inherited Wealth",
          "Self Made Billionaires",
          "Self Made Billionaires",
          "Self Made Billionaires",
          "Self Made Billionaires",
          "Self Made Billionaires",
          "Self Made Billionaires",
          "Self Made Billionaires",
          "Inherited Wealth",
          "Self Made Billionaires",
          "Self Made Billionaires",
          "Self Made Billionaires",
          "Self Made Billionaires",
          "Self Made Billionaires",
          "Inherited Wealth",
          "Self Made Billionaires",
          "Self Made Billionaires",
          "Self Made Billionaires",
          "Self Made Billionaires",
          "Self Made Billionaires",
          "Self Made Billionaires",
          "Self Made Billionaires",
          "Self Made Billionaires",
          "Self Made Billionaires",
          "Self Made Billionaires",
          "Inherited Wealth",
          "Self Made Billionaires",
          "Self Made Billionaires",
          "Self Made Billionaires",
          "Self Made Billionaires",
          "Inherited Wealth",
          "Inherited Wealth",
          "Self Made Billionaires",
          "Self Made Billionaires",
          "Self Made Billionaires",
          "Self Made Billionaires",
          "Inherited Wealth",
          "Self Made Billionaires",
          "Self Made Billionaires",
          "Self Made Billionaires",
          "Self Made Billionaires",
          "Self Made Billionaires",
          "Self Made Billionaires",
          "Self Made Billionaires",
          "Self Made Billionaires",
          "Inherited Wealth",
          "Self Made Billionaires",
          "Self Made Billionaires",
          "Self Made Billionaires",
          "Self Made Billionaires",
          "Inherited Wealth",
          "Self Made Billionaires",
          "Inherited Wealth",
          "Self Made Billionaires",
          "Inherited Wealth",
          "Inherited Wealth",
          "Self Made Billionaires",
          "Inherited Wealth",
          "Self Made Billionaires",
          "Self Made Billionaires",
          "Self Made Billionaires",
          "Self Made Billionaires",
          "Self Made Billionaires",
          "Self Made Billionaires",
          "Inherited Wealth",
          "Self Made Billionaires",
          "Self Made Billionaires",
          "Self Made Billionaires",
          "Self Made Billionaires",
          "Inherited Wealth",
          "Inherited Wealth",
          "Self Made Billionaires",
          "Self Made Billionaires",
          "Self Made Billionaires",
          "Self Made Billionaires",
          "Inherited Wealth",
          "Self Made Billionaires",
          "Self Made Billionaires",
          "Self Made Billionaires",
          "Inherited Wealth",
          "Inherited Wealth",
          "Self Made Billionaires",
          "Inherited Wealth",
          "Inherited Wealth",
          "Self Made Billionaires",
          "Inherited Wealth",
          "Inherited Wealth",
          "Inherited Wealth",
          "Self Made Billionaires",
          "Self Made Billionaires",
          "Self Made Billionaires",
          "Self Made Billionaires",
          "Self Made Billionaires",
          "Self Made Billionaires",
          "Inherited Wealth",
          "Inherited Wealth",
          "Inherited Wealth",
          "Self Made Billionaires",
          "Self Made Billionaires",
          "Inherited Wealth",
          "Self Made Billionaires",
          "Self Made Billionaires",
          "Self Made Billionaires",
          "Self Made Billionaires",
          "Self Made Billionaires",
          "Self Made Billionaires",
          "Inherited Wealth",
          "Inherited Wealth",
          "Inherited Wealth",
          "Self Made Billionaires",
          "Self Made Billionaires",
          "Self Made Billionaires",
          "Self Made Billionaires",
          "Self Made Billionaires",
          "Self Made Billionaires",
          "Self Made Billionaires",
          "Self Made Billionaires",
          "Self Made Billionaires",
          "Self Made Billionaires",
          "Self Made Billionaires",
          "Self Made Billionaires",
          "Self Made Billionaires",
          "Self Made Billionaires",
          "Self Made Billionaires",
          "Inherited Wealth",
          "Inherited Wealth",
          "Self Made Billionaires",
          "Self Made Billionaires",
          "Inherited Wealth",
          "Inherited Wealth",
          "Inherited Wealth",
          "Self Made Billionaires",
          "Inherited Wealth",
          "Inherited Wealth",
          "Self Made Billionaires",
          "Inherited Wealth",
          "Inherited Wealth",
          "Self Made Billionaires",
          "Self Made Billionaires",
          "Inherited Wealth",
          "Self Made Billionaires",
          "Self Made Billionaires",
          "Inherited Wealth",
          "Inherited Wealth",
          "Self Made Billionaires",
          "Inherited Wealth",
          "Self Made Billionaires",
          "Self Made Billionaires",
          "Self Made Billionaires",
          "Self Made Billionaires",
          "Self Made Billionaires",
          "Inherited Wealth",
          "Self Made Billionaires",
          "Self Made Billionaires",
          "Self Made Billionaires",
          "Self Made Billionaires",
          "Self Made Billionaires",
          "Self Made Billionaires",
          "Self Made Billionaires",
          "Self Made Billionaires",
          "Self Made Billionaires",
          "Self Made Billionaires",
          "Self Made Billionaires",
          "Self Made Billionaires",
          "Self Made Billionaires",
          "Self Made Billionaires",
          "Self Made Billionaires",
          "Self Made Billionaires",
          "Self Made Billionaires",
          "Inherited Wealth",
          "Inherited Wealth",
          "Inherited Wealth",
          "Inherited Wealth",
          "Self Made Billionaires",
          "Self Made Billionaires",
          "Self Made Billionaires",
          "Self Made Billionaires",
          "Self Made Billionaires",
          "Self Made Billionaires",
          "Self Made Billionaires",
          "Self Made Billionaires",
          "Self Made Billionaires",
          "Self Made Billionaires",
          "Self Made Billionaires",
          "Self Made Billionaires",
          "Self Made Billionaires",
          "Inherited Wealth",
          "Self Made Billionaires",
          "Self Made Billionaires",
          "Inherited Wealth",
          "Inherited Wealth",
          "Inherited Wealth",
          "Inherited Wealth",
          "Self Made Billionaires",
          "Inherited Wealth",
          "Inherited Wealth",
          "Self Made Billionaires",
          "Inherited Wealth",
          "Inherited Wealth",
          "Inherited Wealth",
          "Self Made Billionaires",
          "Self Made Billionaires",
          "Self Made Billionaires",
          "Self Made Billionaires",
          "Self Made Billionaires",
          "Self Made Billionaires",
          "Self Made Billionaires",
          "Self Made Billionaires",
          "Self Made Billionaires",
          "Self Made Billionaires",
          "Self Made Billionaires",
          "Self Made Billionaires",
          "Self Made Billionaires",
          "Self Made Billionaires",
          "Self Made Billionaires",
          "Self Made Billionaires",
          "Self Made Billionaires",
          "Self Made Billionaires",
          "Self Made Billionaires",
          "Self Made Billionaires",
          "Self Made Billionaires",
          "Self Made Billionaires",
          "Inherited Wealth",
          "Self Made Billionaires",
          "Self Made Billionaires",
          "Self Made Billionaires",
          "Self Made Billionaires",
          "Self Made Billionaires",
          "Self Made Billionaires",
          "Self Made Billionaires",
          "Self Made Billionaires",
          "Self Made Billionaires",
          "Self Made Billionaires",
          "Self Made Billionaires",
          "Self Made Billionaires",
          "Self Made Billionaires",
          "Self Made Billionaires",
          "Self Made Billionaires",
          "Self Made Billionaires",
          "Inherited Wealth",
          "Self Made Billionaires",
          "Self Made Billionaires",
          "Self Made Billionaires",
          "Self Made Billionaires",
          "Self Made Billionaires",
          "Self Made Billionaires",
          "Inherited Wealth",
          "Self Made Billionaires",
          "Self Made Billionaires",
          "Self Made Billionaires",
          "Self Made Billionaires",
          "Self Made Billionaires",
          "Self Made Billionaires",
          "Self Made Billionaires",
          "Self Made Billionaires",
          "Self Made Billionaires",
          "Self Made Billionaires",
          "Inherited Wealth",
          "Self Made Billionaires",
          "Self Made Billionaires",
          "Self Made Billionaires",
          "Inherited Wealth",
          "Self Made Billionaires",
          "Self Made Billionaires",
          "Inherited Wealth",
          "Inherited Wealth",
          "Self Made Billionaires",
          "Self Made Billionaires",
          "Self Made Billionaires",
          "Self Made Billionaires",
          "Self Made Billionaires",
          "Self Made Billionaires",
          "Self Made Billionaires",
          "Inherited Wealth",
          "Inherited Wealth",
          "Inherited Wealth",
          "Inherited Wealth",
          "Inherited Wealth",
          "Inherited Wealth",
          "Inherited Wealth",
          "Inherited Wealth",
          "Inherited Wealth",
          "Inherited Wealth",
          "Self Made Billionaires",
          "Inherited Wealth",
          "Self Made Billionaires",
          "Inherited Wealth",
          "Self Made Billionaires",
          "Inherited Wealth",
          "Self Made Billionaires",
          "Self Made Billionaires",
          "Self Made Billionaires",
          "Self Made Billionaires",
          "Inherited Wealth",
          "Self Made Billionaires",
          "Inherited Wealth",
          "Self Made Billionaires",
          "Self Made Billionaires",
          "Inherited Wealth",
          "Self Made Billionaires",
          "Self Made Billionaires",
          "Inherited Wealth",
          "Self Made Billionaires",
          "Inherited Wealth",
          "Self Made Billionaires",
          "Inherited Wealth",
          "Inherited Wealth",
          "Self Made Billionaires",
          "Self Made Billionaires",
          "Self Made Billionaires",
          "Inherited Wealth",
          "Self Made Billionaires",
          "Self Made Billionaires",
          "Self Made Billionaires",
          "Self Made Billionaires",
          "Self Made Billionaires",
          "Self Made Billionaires",
          "Self Made Billionaires",
          "Self Made Billionaires",
          "Inherited Wealth",
          "Self Made Billionaires",
          "Self Made Billionaires",
          "Self Made Billionaires",
          "Self Made Billionaires",
          "Self Made Billionaires",
          "Inherited Wealth",
          "Inherited Wealth",
          "Inherited Wealth",
          "Inherited Wealth",
          "Self Made Billionaires",
          "Self Made Billionaires",
          "Self Made Billionaires",
          "Inherited Wealth",
          "Inherited Wealth",
          "Self Made Billionaires",
          "Inherited Wealth",
          "Self Made Billionaires",
          "Self Made Billionaires",
          "Self Made Billionaires",
          "Self Made Billionaires",
          "Self Made Billionaires",
          "Self Made Billionaires",
          "Self Made Billionaires",
          "Inherited Wealth",
          "Self Made Billionaires",
          "Self Made Billionaires",
          "Self Made Billionaires",
          "Self Made Billionaires",
          "Self Made Billionaires",
          "Self Made Billionaires",
          "Self Made Billionaires",
          "Self Made Billionaires",
          "Self Made Billionaires",
          "Self Made Billionaires",
          "Self Made Billionaires",
          "Inherited Wealth",
          "Self Made Billionaires",
          "Self Made Billionaires",
          "Self Made Billionaires",
          "Self Made Billionaires",
          "Self Made Billionaires",
          "Self Made Billionaires",
          "Self Made Billionaires",
          "Inherited Wealth",
          "Inherited Wealth",
          "Inherited Wealth",
          "Self Made Billionaires",
          "Self Made Billionaires",
          "Self Made Billionaires",
          "Self Made Billionaires",
          "Self Made Billionaires",
          "Self Made Billionaires",
          "Self Made Billionaires",
          "Self Made Billionaires",
          "Self Made Billionaires",
          "Self Made Billionaires",
          "Self Made Billionaires",
          "Self Made Billionaires",
          "Self Made Billionaires",
          "Self Made Billionaires",
          "Inherited Wealth",
          "Inherited Wealth",
          "Self Made Billionaires",
          "Self Made Billionaires",
          "Self Made Billionaires",
          "Self Made Billionaires",
          "Self Made Billionaires",
          "Self Made Billionaires",
          "Inherited Wealth",
          "Self Made Billionaires",
          "Self Made Billionaires",
          "Inherited Wealth",
          "Self Made Billionaires",
          "Inherited Wealth",
          "Self Made Billionaires",
          "Inherited Wealth",
          "Self Made Billionaires",
          "Self Made Billionaires",
          "Self Made Billionaires",
          "Self Made Billionaires",
          "Self Made Billionaires",
          "Self Made Billionaires",
          "Self Made Billionaires",
          "Self Made Billionaires",
          "Self Made Billionaires",
          "Self Made Billionaires",
          "Self Made Billionaires",
          "Self Made Billionaires",
          "Self Made Billionaires",
          "Self Made Billionaires",
          "Inherited Wealth",
          "Self Made Billionaires",
          "Self Made Billionaires",
          "Self Made Billionaires",
          "Self Made Billionaires",
          "Self Made Billionaires",
          "Self Made Billionaires",
          "Self Made Billionaires",
          "Inherited Wealth",
          "Self Made Billionaires",
          "Self Made Billionaires",
          "Inherited Wealth",
          "Self Made Billionaires",
          "Self Made Billionaires",
          "Self Made Billionaires",
          "Self Made Billionaires",
          "Self Made Billionaires",
          "Inherited Wealth",
          "Self Made Billionaires",
          "Self Made Billionaires",
          "Self Made Billionaires",
          "Self Made Billionaires",
          "Self Made Billionaires",
          "Self Made Billionaires",
          "Inherited Wealth",
          "Self Made Billionaires",
          "Self Made Billionaires",
          "Self Made Billionaires",
          "Self Made Billionaires",
          "Self Made Billionaires",
          "Inherited Wealth",
          "Inherited Wealth",
          "Self Made Billionaires",
          "Self Made Billionaires",
          "Inherited Wealth",
          "Inherited Wealth",
          "Self Made Billionaires",
          "Self Made Billionaires",
          "Inherited Wealth",
          "Self Made Billionaires",
          "Self Made Billionaires",
          "Inherited Wealth",
          "Self Made Billionaires",
          "Self Made Billionaires",
          "Inherited Wealth",
          "Inherited Wealth",
          "Inherited Wealth",
          "Self Made Billionaires",
          "Self Made Billionaires",
          "Self Made Billionaires",
          "Inherited Wealth",
          "Self Made Billionaires",
          "Self Made Billionaires",
          "Self Made Billionaires",
          "Self Made Billionaires",
          "Self Made Billionaires",
          "Self Made Billionaires",
          "Self Made Billionaires",
          "Self Made Billionaires",
          "Self Made Billionaires",
          "Self Made Billionaires",
          "Self Made Billionaires",
          "Self Made Billionaires",
          "Self Made Billionaires",
          "Self Made Billionaires",
          "Self Made Billionaires",
          "Self Made Billionaires",
          "Self Made Billionaires",
          "Self Made Billionaires",
          "Inherited Wealth",
          "Self Made Billionaires",
          "Inherited Wealth",
          "Self Made Billionaires",
          "Self Made Billionaires",
          "Self Made Billionaires",
          "Inherited Wealth",
          "Inherited Wealth",
          "Inherited Wealth",
          "Self Made Billionaires",
          "Self Made Billionaires",
          "Inherited Wealth",
          "Inherited Wealth",
          "Inherited Wealth",
          "Self Made Billionaires",
          "Self Made Billionaires",
          "Self Made Billionaires",
          "Inherited Wealth",
          "Self Made Billionaires",
          "Inherited Wealth",
          "Self Made Billionaires",
          "Self Made Billionaires",
          "Inherited Wealth",
          "Self Made Billionaires",
          "Inherited Wealth",
          "Self Made Billionaires",
          "Inherited Wealth",
          "Inherited Wealth",
          "Self Made Billionaires",
          "Inherited Wealth",
          "Self Made Billionaires",
          "Self Made Billionaires",
          "Self Made Billionaires",
          "Inherited Wealth",
          "Self Made Billionaires",
          "Self Made Billionaires",
          "Self Made Billionaires",
          "Self Made Billionaires",
          "Inherited Wealth",
          "Self Made Billionaires",
          "Self Made Billionaires",
          "Self Made Billionaires",
          "Inherited Wealth",
          "Self Made Billionaires",
          "Self Made Billionaires",
          "Self Made Billionaires",
          "Inherited Wealth",
          "Self Made Billionaires",
          "Self Made Billionaires",
          "Self Made Billionaires",
          "Self Made Billionaires",
          "Self Made Billionaires",
          "Inherited Wealth",
          "Inherited Wealth",
          "Inherited Wealth",
          "Self Made Billionaires",
          "Self Made Billionaires",
          "Self Made Billionaires",
          "Self Made Billionaires",
          "Self Made Billionaires",
          "Self Made Billionaires",
          "Self Made Billionaires",
          "Self Made Billionaires",
          "Self Made Billionaires",
          "Inherited Wealth",
          "Inherited Wealth",
          "Inherited Wealth",
          "Inherited Wealth",
          "Inherited Wealth",
          "Self Made Billionaires",
          "Inherited Wealth",
          "Self Made Billionaires",
          "Self Made Billionaires",
          "Self Made Billionaires",
          "Self Made Billionaires",
          "Inherited Wealth",
          "Self Made Billionaires",
          "Inherited Wealth",
          "Inherited Wealth",
          "Self Made Billionaires",
          "Self Made Billionaires",
          "Self Made Billionaires",
          "Self Made Billionaires",
          "Self Made Billionaires",
          "Inherited Wealth",
          "Self Made Billionaires",
          "Self Made Billionaires",
          "Self Made Billionaires",
          "Self Made Billionaires",
          "Inherited Wealth",
          "Self Made Billionaires",
          "Inherited Wealth",
          "Self Made Billionaires",
          "Inherited Wealth",
          "Inherited Wealth",
          "Self Made Billionaires",
          "Self Made Billionaires",
          "Self Made Billionaires",
          "Self Made Billionaires",
          "Inherited Wealth",
          "Inherited Wealth",
          "Inherited Wealth",
          "Self Made Billionaires",
          "Self Made Billionaires",
          "Inherited Wealth",
          "Inherited Wealth",
          "Self Made Billionaires",
          "Self Made Billionaires",
          "Self Made Billionaires",
          "Self Made Billionaires",
          "Self Made Billionaires",
          "Self Made Billionaires",
          "Self Made Billionaires",
          "Inherited Wealth",
          "Self Made Billionaires",
          "Self Made Billionaires",
          "Self Made Billionaires",
          "Self Made Billionaires",
          "Self Made Billionaires",
          "Self Made Billionaires",
          "Self Made Billionaires",
          "Self Made Billionaires",
          "Self Made Billionaires",
          "Self Made Billionaires",
          "Inherited Wealth",
          "Self Made Billionaires",
          "Self Made Billionaires",
          "Inherited Wealth",
          "Inherited Wealth",
          "Self Made Billionaires",
          "Self Made Billionaires",
          "Self Made Billionaires",
          "Self Made Billionaires",
          "Self Made Billionaires",
          "Self Made Billionaires",
          "Self Made Billionaires",
          "Self Made Billionaires",
          "Self Made Billionaires",
          "Self Made Billionaires",
          "Self Made Billionaires",
          "Self Made Billionaires",
          "Self Made Billionaires",
          "Self Made Billionaires",
          "Self Made Billionaires",
          "Self Made Billionaires",
          "Self Made Billionaires",
          "Self Made Billionaires",
          "Inherited Wealth",
          "Self Made Billionaires",
          "Inherited Wealth",
          "Self Made Billionaires",
          "Self Made Billionaires",
          "Self Made Billionaires",
          "Self Made Billionaires",
          "Self Made Billionaires",
          "Self Made Billionaires",
          "Inherited Wealth",
          "Self Made Billionaires",
          "Inherited Wealth",
          "Self Made Billionaires",
          "Self Made Billionaires",
          "Inherited Wealth",
          "Inherited Wealth",
          "Self Made Billionaires",
          "Self Made Billionaires",
          "Self Made Billionaires",
          "Self Made Billionaires",
          "Self Made Billionaires",
          "Self Made Billionaires",
          "Self Made Billionaires",
          "Self Made Billionaires",
          "Self Made Billionaires",
          "Inherited Wealth",
          "Self Made Billionaires",
          "Self Made Billionaires",
          "Self Made Billionaires",
          "Self Made Billionaires",
          "Inherited Wealth",
          "Inherited Wealth",
          "Self Made Billionaires",
          "Self Made Billionaires",
          "Inherited Wealth",
          "Self Made Billionaires",
          "Self Made Billionaires",
          "Self Made Billionaires",
          "Inherited Wealth",
          "Self Made Billionaires",
          "Self Made Billionaires",
          "Self Made Billionaires",
          "Self Made Billionaires",
          "Inherited Wealth",
          "Inherited Wealth",
          "Self Made Billionaires",
          "Inherited Wealth",
          "Inherited Wealth",
          "Self Made Billionaires",
          "Self Made Billionaires",
          "Self Made Billionaires",
          "Inherited Wealth",
          "Inherited Wealth",
          "Self Made Billionaires",
          "Self Made Billionaires",
          "Inherited Wealth",
          "Inherited Wealth",
          "Inherited Wealth",
          "Self Made Billionaires",
          "Inherited Wealth",
          "Self Made Billionaires",
          "Self Made Billionaires",
          "Self Made Billionaires",
          "Inherited Wealth",
          "Self Made Billionaires",
          "Self Made Billionaires",
          "Inherited Wealth",
          "Self Made Billionaires",
          "Self Made Billionaires",
          "Inherited Wealth",
          "Inherited Wealth",
          "Inherited Wealth",
          "Self Made Billionaires",
          "Self Made Billionaires",
          "Inherited Wealth",
          "Self Made Billionaires",
          "Self Made Billionaires",
          "Self Made Billionaires",
          "Inherited Wealth",
          "Inherited Wealth",
          "Inherited Wealth",
          "Self Made Billionaires",
          "Inherited Wealth",
          "Self Made Billionaires",
          "Self Made Billionaires",
          "Self Made Billionaires",
          "Inherited Wealth",
          "Self Made Billionaires",
          "Self Made Billionaires",
          "Inherited Wealth",
          "Self Made Billionaires",
          "Self Made Billionaires",
          "Inherited Wealth",
          "Self Made Billionaires",
          "Self Made Billionaires",
          "Self Made Billionaires",
          "Inherited Wealth",
          "Self Made Billionaires",
          "Self Made Billionaires",
          "Self Made Billionaires",
          "Self Made Billionaires",
          "Self Made Billionaires",
          "Self Made Billionaires",
          "Self Made Billionaires",
          "Inherited Wealth",
          "Self Made Billionaires",
          "Self Made Billionaires",
          "Self Made Billionaires",
          "Inherited Wealth",
          "Self Made Billionaires",
          "Inherited Wealth",
          "Self Made Billionaires",
          "Self Made Billionaires",
          "Self Made Billionaires",
          "Self Made Billionaires",
          "Self Made Billionaires",
          "Self Made Billionaires",
          "Self Made Billionaires",
          "Self Made Billionaires",
          "Self Made Billionaires",
          "Self Made Billionaires",
          "Self Made Billionaires",
          "Self Made Billionaires",
          "Self Made Billionaires",
          "Self Made Billionaires",
          "Self Made Billionaires",
          "Inherited Wealth",
          "Self Made Billionaires",
          "Self Made Billionaires",
          "Self Made Billionaires",
          "Self Made Billionaires",
          "Self Made Billionaires",
          "Inherited Wealth",
          "Inherited Wealth",
          "Self Made Billionaires",
          "Self Made Billionaires",
          "Inherited Wealth",
          "Inherited Wealth",
          "Inherited Wealth",
          "Inherited Wealth",
          "Inherited Wealth",
          "Self Made Billionaires",
          "Inherited Wealth",
          "Self Made Billionaires",
          "Inherited Wealth",
          "Self Made Billionaires",
          "Self Made Billionaires",
          "Self Made Billionaires",
          "Self Made Billionaires",
          "Self Made Billionaires",
          "Self Made Billionaires",
          "Self Made Billionaires",
          "Self Made Billionaires",
          "Self Made Billionaires",
          "Self Made Billionaires",
          "Self Made Billionaires",
          "Self Made Billionaires",
          "Self Made Billionaires",
          "Self Made Billionaires",
          "Inherited Wealth",
          "Inherited Wealth",
          "Self Made Billionaires",
          "Self Made Billionaires",
          "Self Made Billionaires",
          "Inherited Wealth",
          "Inherited Wealth",
          "Self Made Billionaires",
          "Self Made Billionaires",
          "Inherited Wealth",
          "Self Made Billionaires",
          "Inherited Wealth",
          "Self Made Billionaires",
          "Self Made Billionaires",
          "Self Made Billionaires",
          "Self Made Billionaires",
          "Self Made Billionaires",
          "Inherited Wealth",
          "Self Made Billionaires",
          "Self Made Billionaires",
          "Self Made Billionaires",
          "Self Made Billionaires",
          "Self Made Billionaires",
          "Self Made Billionaires",
          "Self Made Billionaires",
          "Self Made Billionaires",
          "Self Made Billionaires",
          "Inherited Wealth",
          "Self Made Billionaires",
          "Self Made Billionaires",
          "Self Made Billionaires",
          "Self Made Billionaires",
          "Self Made Billionaires",
          "Self Made Billionaires",
          "Self Made Billionaires",
          "Self Made Billionaires",
          "Self Made Billionaires",
          "Self Made Billionaires",
          "Inherited Wealth",
          "Inherited Wealth",
          "Self Made Billionaires",
          "Self Made Billionaires",
          "Inherited Wealth",
          "Self Made Billionaires",
          "Self Made Billionaires",
          "Inherited Wealth",
          "Self Made Billionaires",
          "Self Made Billionaires",
          "Self Made Billionaires",
          "Self Made Billionaires",
          "Self Made Billionaires",
          "Self Made Billionaires",
          "Self Made Billionaires",
          "Inherited Wealth",
          "Inherited Wealth",
          "Self Made Billionaires",
          "Self Made Billionaires",
          "Self Made Billionaires",
          "Self Made Billionaires",
          "Self Made Billionaires",
          "Self Made Billionaires",
          "Self Made Billionaires",
          "Self Made Billionaires",
          "Self Made Billionaires",
          "Self Made Billionaires",
          "Inherited Wealth",
          "Self Made Billionaires",
          "Self Made Billionaires",
          "Self Made Billionaires",
          "Self Made Billionaires",
          "Self Made Billionaires",
          "Inherited Wealth",
          "Self Made Billionaires",
          "Self Made Billionaires",
          "Inherited Wealth"
         ],
         "legendgroup": "",
         "name": "",
         "showlegend": true,
         "type": "pie"
        }
       ],
       "layout": {
        "legend": {
         "tracegroupgap": 0
        },
        "template": {
         "data": {
          "bar": [
           {
            "error_x": {
             "color": "#2a3f5f"
            },
            "error_y": {
             "color": "#2a3f5f"
            },
            "marker": {
             "line": {
              "color": "#E5ECF6",
              "width": 0.5
             },
             "pattern": {
              "fillmode": "overlay",
              "size": 10,
              "solidity": 0.2
             }
            },
            "type": "bar"
           }
          ],
          "barpolar": [
           {
            "marker": {
             "line": {
              "color": "#E5ECF6",
              "width": 0.5
             },
             "pattern": {
              "fillmode": "overlay",
              "size": 10,
              "solidity": 0.2
             }
            },
            "type": "barpolar"
           }
          ],
          "carpet": [
           {
            "aaxis": {
             "endlinecolor": "#2a3f5f",
             "gridcolor": "white",
             "linecolor": "white",
             "minorgridcolor": "white",
             "startlinecolor": "#2a3f5f"
            },
            "baxis": {
             "endlinecolor": "#2a3f5f",
             "gridcolor": "white",
             "linecolor": "white",
             "minorgridcolor": "white",
             "startlinecolor": "#2a3f5f"
            },
            "type": "carpet"
           }
          ],
          "choropleth": [
           {
            "colorbar": {
             "outlinewidth": 0,
             "ticks": ""
            },
            "type": "choropleth"
           }
          ],
          "contour": [
           {
            "colorbar": {
             "outlinewidth": 0,
             "ticks": ""
            },
            "colorscale": [
             [
              0,
              "#0d0887"
             ],
             [
              0.1111111111111111,
              "#46039f"
             ],
             [
              0.2222222222222222,
              "#7201a8"
             ],
             [
              0.3333333333333333,
              "#9c179e"
             ],
             [
              0.4444444444444444,
              "#bd3786"
             ],
             [
              0.5555555555555556,
              "#d8576b"
             ],
             [
              0.6666666666666666,
              "#ed7953"
             ],
             [
              0.7777777777777778,
              "#fb9f3a"
             ],
             [
              0.8888888888888888,
              "#fdca26"
             ],
             [
              1,
              "#f0f921"
             ]
            ],
            "type": "contour"
           }
          ],
          "contourcarpet": [
           {
            "colorbar": {
             "outlinewidth": 0,
             "ticks": ""
            },
            "type": "contourcarpet"
           }
          ],
          "heatmap": [
           {
            "colorbar": {
             "outlinewidth": 0,
             "ticks": ""
            },
            "colorscale": [
             [
              0,
              "#0d0887"
             ],
             [
              0.1111111111111111,
              "#46039f"
             ],
             [
              0.2222222222222222,
              "#7201a8"
             ],
             [
              0.3333333333333333,
              "#9c179e"
             ],
             [
              0.4444444444444444,
              "#bd3786"
             ],
             [
              0.5555555555555556,
              "#d8576b"
             ],
             [
              0.6666666666666666,
              "#ed7953"
             ],
             [
              0.7777777777777778,
              "#fb9f3a"
             ],
             [
              0.8888888888888888,
              "#fdca26"
             ],
             [
              1,
              "#f0f921"
             ]
            ],
            "type": "heatmap"
           }
          ],
          "heatmapgl": [
           {
            "colorbar": {
             "outlinewidth": 0,
             "ticks": ""
            },
            "colorscale": [
             [
              0,
              "#0d0887"
             ],
             [
              0.1111111111111111,
              "#46039f"
             ],
             [
              0.2222222222222222,
              "#7201a8"
             ],
             [
              0.3333333333333333,
              "#9c179e"
             ],
             [
              0.4444444444444444,
              "#bd3786"
             ],
             [
              0.5555555555555556,
              "#d8576b"
             ],
             [
              0.6666666666666666,
              "#ed7953"
             ],
             [
              0.7777777777777778,
              "#fb9f3a"
             ],
             [
              0.8888888888888888,
              "#fdca26"
             ],
             [
              1,
              "#f0f921"
             ]
            ],
            "type": "heatmapgl"
           }
          ],
          "histogram": [
           {
            "marker": {
             "pattern": {
              "fillmode": "overlay",
              "size": 10,
              "solidity": 0.2
             }
            },
            "type": "histogram"
           }
          ],
          "histogram2d": [
           {
            "colorbar": {
             "outlinewidth": 0,
             "ticks": ""
            },
            "colorscale": [
             [
              0,
              "#0d0887"
             ],
             [
              0.1111111111111111,
              "#46039f"
             ],
             [
              0.2222222222222222,
              "#7201a8"
             ],
             [
              0.3333333333333333,
              "#9c179e"
             ],
             [
              0.4444444444444444,
              "#bd3786"
             ],
             [
              0.5555555555555556,
              "#d8576b"
             ],
             [
              0.6666666666666666,
              "#ed7953"
             ],
             [
              0.7777777777777778,
              "#fb9f3a"
             ],
             [
              0.8888888888888888,
              "#fdca26"
             ],
             [
              1,
              "#f0f921"
             ]
            ],
            "type": "histogram2d"
           }
          ],
          "histogram2dcontour": [
           {
            "colorbar": {
             "outlinewidth": 0,
             "ticks": ""
            },
            "colorscale": [
             [
              0,
              "#0d0887"
             ],
             [
              0.1111111111111111,
              "#46039f"
             ],
             [
              0.2222222222222222,
              "#7201a8"
             ],
             [
              0.3333333333333333,
              "#9c179e"
             ],
             [
              0.4444444444444444,
              "#bd3786"
             ],
             [
              0.5555555555555556,
              "#d8576b"
             ],
             [
              0.6666666666666666,
              "#ed7953"
             ],
             [
              0.7777777777777778,
              "#fb9f3a"
             ],
             [
              0.8888888888888888,
              "#fdca26"
             ],
             [
              1,
              "#f0f921"
             ]
            ],
            "type": "histogram2dcontour"
           }
          ],
          "mesh3d": [
           {
            "colorbar": {
             "outlinewidth": 0,
             "ticks": ""
            },
            "type": "mesh3d"
           }
          ],
          "parcoords": [
           {
            "line": {
             "colorbar": {
              "outlinewidth": 0,
              "ticks": ""
             }
            },
            "type": "parcoords"
           }
          ],
          "pie": [
           {
            "automargin": true,
            "type": "pie"
           }
          ],
          "scatter": [
           {
            "fillpattern": {
             "fillmode": "overlay",
             "size": 10,
             "solidity": 0.2
            },
            "type": "scatter"
           }
          ],
          "scatter3d": [
           {
            "line": {
             "colorbar": {
              "outlinewidth": 0,
              "ticks": ""
             }
            },
            "marker": {
             "colorbar": {
              "outlinewidth": 0,
              "ticks": ""
             }
            },
            "type": "scatter3d"
           }
          ],
          "scattercarpet": [
           {
            "marker": {
             "colorbar": {
              "outlinewidth": 0,
              "ticks": ""
             }
            },
            "type": "scattercarpet"
           }
          ],
          "scattergeo": [
           {
            "marker": {
             "colorbar": {
              "outlinewidth": 0,
              "ticks": ""
             }
            },
            "type": "scattergeo"
           }
          ],
          "scattergl": [
           {
            "marker": {
             "colorbar": {
              "outlinewidth": 0,
              "ticks": ""
             }
            },
            "type": "scattergl"
           }
          ],
          "scattermapbox": [
           {
            "marker": {
             "colorbar": {
              "outlinewidth": 0,
              "ticks": ""
             }
            },
            "type": "scattermapbox"
           }
          ],
          "scatterpolar": [
           {
            "marker": {
             "colorbar": {
              "outlinewidth": 0,
              "ticks": ""
             }
            },
            "type": "scatterpolar"
           }
          ],
          "scatterpolargl": [
           {
            "marker": {
             "colorbar": {
              "outlinewidth": 0,
              "ticks": ""
             }
            },
            "type": "scatterpolargl"
           }
          ],
          "scatterternary": [
           {
            "marker": {
             "colorbar": {
              "outlinewidth": 0,
              "ticks": ""
             }
            },
            "type": "scatterternary"
           }
          ],
          "surface": [
           {
            "colorbar": {
             "outlinewidth": 0,
             "ticks": ""
            },
            "colorscale": [
             [
              0,
              "#0d0887"
             ],
             [
              0.1111111111111111,
              "#46039f"
             ],
             [
              0.2222222222222222,
              "#7201a8"
             ],
             [
              0.3333333333333333,
              "#9c179e"
             ],
             [
              0.4444444444444444,
              "#bd3786"
             ],
             [
              0.5555555555555556,
              "#d8576b"
             ],
             [
              0.6666666666666666,
              "#ed7953"
             ],
             [
              0.7777777777777778,
              "#fb9f3a"
             ],
             [
              0.8888888888888888,
              "#fdca26"
             ],
             [
              1,
              "#f0f921"
             ]
            ],
            "type": "surface"
           }
          ],
          "table": [
           {
            "cells": {
             "fill": {
              "color": "#EBF0F8"
             },
             "line": {
              "color": "white"
             }
            },
            "header": {
             "fill": {
              "color": "#C8D4E3"
             },
             "line": {
              "color": "white"
             }
            },
            "type": "table"
           }
          ]
         },
         "layout": {
          "annotationdefaults": {
           "arrowcolor": "#2a3f5f",
           "arrowhead": 0,
           "arrowwidth": 1
          },
          "autotypenumbers": "strict",
          "coloraxis": {
           "colorbar": {
            "outlinewidth": 0,
            "ticks": ""
           }
          },
          "colorscale": {
           "diverging": [
            [
             0,
             "#8e0152"
            ],
            [
             0.1,
             "#c51b7d"
            ],
            [
             0.2,
             "#de77ae"
            ],
            [
             0.3,
             "#f1b6da"
            ],
            [
             0.4,
             "#fde0ef"
            ],
            [
             0.5,
             "#f7f7f7"
            ],
            [
             0.6,
             "#e6f5d0"
            ],
            [
             0.7,
             "#b8e186"
            ],
            [
             0.8,
             "#7fbc41"
            ],
            [
             0.9,
             "#4d9221"
            ],
            [
             1,
             "#276419"
            ]
           ],
           "sequential": [
            [
             0,
             "#0d0887"
            ],
            [
             0.1111111111111111,
             "#46039f"
            ],
            [
             0.2222222222222222,
             "#7201a8"
            ],
            [
             0.3333333333333333,
             "#9c179e"
            ],
            [
             0.4444444444444444,
             "#bd3786"
            ],
            [
             0.5555555555555556,
             "#d8576b"
            ],
            [
             0.6666666666666666,
             "#ed7953"
            ],
            [
             0.7777777777777778,
             "#fb9f3a"
            ],
            [
             0.8888888888888888,
             "#fdca26"
            ],
            [
             1,
             "#f0f921"
            ]
           ],
           "sequentialminus": [
            [
             0,
             "#0d0887"
            ],
            [
             0.1111111111111111,
             "#46039f"
            ],
            [
             0.2222222222222222,
             "#7201a8"
            ],
            [
             0.3333333333333333,
             "#9c179e"
            ],
            [
             0.4444444444444444,
             "#bd3786"
            ],
            [
             0.5555555555555556,
             "#d8576b"
            ],
            [
             0.6666666666666666,
             "#ed7953"
            ],
            [
             0.7777777777777778,
             "#fb9f3a"
            ],
            [
             0.8888888888888888,
             "#fdca26"
            ],
            [
             1,
             "#f0f921"
            ]
           ]
          },
          "colorway": [
           "#636efa",
           "#EF553B",
           "#00cc96",
           "#ab63fa",
           "#FFA15A",
           "#19d3f3",
           "#FF6692",
           "#B6E880",
           "#FF97FF",
           "#FECB52"
          ],
          "font": {
           "color": "#2a3f5f"
          },
          "geo": {
           "bgcolor": "white",
           "lakecolor": "white",
           "landcolor": "#E5ECF6",
           "showlakes": true,
           "showland": true,
           "subunitcolor": "white"
          },
          "hoverlabel": {
           "align": "left"
          },
          "hovermode": "closest",
          "mapbox": {
           "style": "light"
          },
          "paper_bgcolor": "white",
          "plot_bgcolor": "#E5ECF6",
          "polar": {
           "angularaxis": {
            "gridcolor": "white",
            "linecolor": "white",
            "ticks": ""
           },
           "bgcolor": "#E5ECF6",
           "radialaxis": {
            "gridcolor": "white",
            "linecolor": "white",
            "ticks": ""
           }
          },
          "scene": {
           "xaxis": {
            "backgroundcolor": "#E5ECF6",
            "gridcolor": "white",
            "gridwidth": 2,
            "linecolor": "white",
            "showbackground": true,
            "ticks": "",
            "zerolinecolor": "white"
           },
           "yaxis": {
            "backgroundcolor": "#E5ECF6",
            "gridcolor": "white",
            "gridwidth": 2,
            "linecolor": "white",
            "showbackground": true,
            "ticks": "",
            "zerolinecolor": "white"
           },
           "zaxis": {
            "backgroundcolor": "#E5ECF6",
            "gridcolor": "white",
            "gridwidth": 2,
            "linecolor": "white",
            "showbackground": true,
            "ticks": "",
            "zerolinecolor": "white"
           }
          },
          "shapedefaults": {
           "line": {
            "color": "#2a3f5f"
           }
          },
          "ternary": {
           "aaxis": {
            "gridcolor": "white",
            "linecolor": "white",
            "ticks": ""
           },
           "baxis": {
            "gridcolor": "white",
            "linecolor": "white",
            "ticks": ""
           },
           "bgcolor": "#E5ECF6",
           "caxis": {
            "gridcolor": "white",
            "linecolor": "white",
            "ticks": ""
           }
          },
          "title": {
           "x": 0.05
          },
          "xaxis": {
           "automargin": true,
           "gridcolor": "white",
           "linecolor": "white",
           "ticks": "",
           "title": {
            "standoff": 15
           },
           "zerolinecolor": "white",
           "zerolinewidth": 2
          },
          "yaxis": {
           "automargin": true,
           "gridcolor": "white",
           "linecolor": "white",
           "ticks": "",
           "title": {
            "standoff": 15
           },
           "zerolinecolor": "white",
           "zerolinewidth": 2
          }
         }
        },
        "title": {
         "text": "Selfmade vs Inherited"
        }
       }
      },
      "text/html": [
       "<div>                            <div id=\"3ad0e37c-f4a1-44a2-8593-3fcdb4ae7111\" class=\"plotly-graph-div\" style=\"height:525px; width:100%;\"></div>            <script type=\"text/javascript\">                require([\"plotly\"], function(Plotly) {                    window.PLOTLYENV=window.PLOTLYENV || {};                                    if (document.getElementById(\"3ad0e37c-f4a1-44a2-8593-3fcdb4ae7111\")) {                    Plotly.newPlot(                        \"3ad0e37c-f4a1-44a2-8593-3fcdb4ae7111\",                        [{\"domain\":{\"x\":[0.0,1.0],\"y\":[0.0,1.0]},\"hole\":0.4,\"hovertemplate\":\"selfMade_indicator=%{label}<extra></extra>\",\"labels\":[\"Inherited Wealth\",\"Self Made Billionaires\",\"Self Made Billionaires\",\"Self Made Billionaires\",\"Self Made Billionaires\",\"Self Made Billionaires\",\"Self Made Billionaires\",\"Self Made Billionaires\",\"Inherited Wealth\",\"Self Made Billionaires\",\"Inherited Wealth\",\"Self Made Billionaires\",\"Self Made Billionaires\",\"Self Made Billionaires\",\"Self Made Billionaires\",\"Self Made Billionaires\",\"Inherited Wealth\",\"Inherited Wealth\",\"Inherited Wealth\",\"Inherited Wealth\",\"Inherited Wealth\",\"Inherited Wealth\",\"Self Made Billionaires\",\"Self Made Billionaires\",\"Self Made Billionaires\",\"Self Made Billionaires\",\"Inherited Wealth\",\"Self Made Billionaires\",\"Inherited Wealth\",\"Inherited Wealth\",\"Inherited Wealth\",\"Inherited Wealth\",\"Self Made Billionaires\",\"Self Made Billionaires\",\"Inherited Wealth\",\"Self Made Billionaires\",\"Inherited Wealth\",\"Self Made Billionaires\",\"Self Made Billionaires\",\"Self Made Billionaires\",\"Inherited Wealth\",\"Inherited Wealth\",\"Self Made Billionaires\",\"Self Made Billionaires\",\"Self Made Billionaires\",\"Self Made Billionaires\",\"Self Made Billionaires\",\"Self Made Billionaires\",\"Self Made Billionaires\",\"Self Made Billionaires\",\"Inherited Wealth\",\"Inherited Wealth\",\"Self Made Billionaires\",\"Inherited Wealth\",\"Self Made Billionaires\",\"Self Made Billionaires\",\"Self Made Billionaires\",\"Self Made Billionaires\",\"Inherited Wealth\",\"Inherited Wealth\",\"Inherited Wealth\",\"Self Made Billionaires\",\"Self Made Billionaires\",\"Self Made Billionaires\",\"Inherited Wealth\",\"Inherited Wealth\",\"Self Made Billionaires\",\"Inherited Wealth\",\"Self Made Billionaires\",\"Self Made Billionaires\",\"Inherited Wealth\",\"Inherited Wealth\",\"Self Made Billionaires\",\"Inherited Wealth\",\"Self Made Billionaires\",\"Self Made Billionaires\",\"Inherited Wealth\",\"Self Made Billionaires\",\"Self Made Billionaires\",\"Self Made Billionaires\",\"Self Made Billionaires\",\"Self Made Billionaires\",\"Self Made Billionaires\",\"Self Made Billionaires\",\"Self Made Billionaires\",\"Inherited Wealth\",\"Self Made Billionaires\",\"Self Made Billionaires\",\"Self Made Billionaires\",\"Self Made Billionaires\",\"Self Made Billionaires\",\"Self Made Billionaires\",\"Inherited Wealth\",\"Self Made Billionaires\",\"Self Made Billionaires\",\"Inherited Wealth\",\"Self Made Billionaires\",\"Self Made Billionaires\",\"Inherited Wealth\",\"Inherited Wealth\",\"Inherited Wealth\",\"Inherited Wealth\",\"Self Made Billionaires\",\"Inherited Wealth\",\"Self Made Billionaires\",\"Self Made Billionaires\",\"Self Made Billionaires\",\"Inherited Wealth\",\"Inherited Wealth\",\"Self Made Billionaires\",\"Inherited Wealth\",\"Self Made Billionaires\",\"Self Made Billionaires\",\"Self Made Billionaires\",\"Self Made Billionaires\",\"Inherited Wealth\",\"Self Made Billionaires\",\"Self Made Billionaires\",\"Inherited Wealth\",\"Self Made Billionaires\",\"Self Made Billionaires\",\"Self Made Billionaires\",\"Self Made Billionaires\",\"Inherited Wealth\",\"Self Made Billionaires\",\"Inherited Wealth\",\"Inherited Wealth\",\"Self Made Billionaires\",\"Self Made Billionaires\",\"Self Made Billionaires\",\"Self Made Billionaires\",\"Self Made Billionaires\",\"Self Made Billionaires\",\"Inherited Wealth\",\"Self Made Billionaires\",\"Self Made Billionaires\",\"Self Made Billionaires\",\"Self Made Billionaires\",\"Self Made Billionaires\",\"Self Made Billionaires\",\"Self Made Billionaires\",\"Self Made Billionaires\",\"Self Made Billionaires\",\"Self Made Billionaires\",\"Inherited Wealth\",\"Self Made Billionaires\",\"Self Made Billionaires\",\"Self Made Billionaires\",\"Self Made Billionaires\",\"Self Made Billionaires\",\"Self Made Billionaires\",\"Self Made Billionaires\",\"Self Made Billionaires\",\"Self Made Billionaires\",\"Inherited Wealth\",\"Self Made Billionaires\",\"Self Made Billionaires\",\"Inherited Wealth\",\"Self Made Billionaires\",\"Self Made Billionaires\",\"Inherited Wealth\",\"Self Made Billionaires\",\"Inherited Wealth\",\"Inherited Wealth\",\"Self Made Billionaires\",\"Self Made Billionaires\",\"Self Made Billionaires\",\"Self Made Billionaires\",\"Self Made Billionaires\",\"Self Made Billionaires\",\"Self Made Billionaires\",\"Inherited Wealth\",\"Self Made Billionaires\",\"Self Made Billionaires\",\"Self Made Billionaires\",\"Self Made Billionaires\",\"Inherited Wealth\",\"Inherited Wealth\",\"Self Made Billionaires\",\"Inherited Wealth\",\"Self Made Billionaires\",\"Self Made Billionaires\",\"Self Made Billionaires\",\"Self Made Billionaires\",\"Inherited Wealth\",\"Inherited Wealth\",\"Inherited Wealth\",\"Inherited Wealth\",\"Self Made Billionaires\",\"Self Made Billionaires\",\"Self Made Billionaires\",\"Self Made Billionaires\",\"Inherited Wealth\",\"Self Made Billionaires\",\"Inherited Wealth\",\"Self Made Billionaires\",\"Self Made Billionaires\",\"Inherited Wealth\",\"Inherited Wealth\",\"Inherited Wealth\",\"Inherited Wealth\",\"Inherited Wealth\",\"Self Made Billionaires\",\"Inherited Wealth\",\"Self Made Billionaires\",\"Self Made Billionaires\",\"Self Made Billionaires\",\"Self Made Billionaires\",\"Inherited Wealth\",\"Self Made Billionaires\",\"Self Made Billionaires\",\"Inherited Wealth\",\"Self Made Billionaires\",\"Self Made Billionaires\",\"Self Made Billionaires\",\"Self Made Billionaires\",\"Inherited Wealth\",\"Self Made Billionaires\",\"Self Made Billionaires\",\"Inherited Wealth\",\"Inherited Wealth\",\"Inherited Wealth\",\"Self Made Billionaires\",\"Self Made Billionaires\",\"Self Made Billionaires\",\"Self Made Billionaires\",\"Self Made Billionaires\",\"Self Made Billionaires\",\"Inherited Wealth\",\"Self Made Billionaires\",\"Inherited Wealth\",\"Self Made Billionaires\",\"Self Made Billionaires\",\"Inherited Wealth\",\"Self Made Billionaires\",\"Self Made Billionaires\",\"Self Made Billionaires\",\"Self Made Billionaires\",\"Self Made Billionaires\",\"Inherited Wealth\",\"Self Made Billionaires\",\"Inherited Wealth\",\"Inherited Wealth\",\"Inherited Wealth\",\"Inherited Wealth\",\"Self Made Billionaires\",\"Inherited Wealth\",\"Inherited Wealth\",\"Self Made Billionaires\",\"Self Made Billionaires\",\"Inherited Wealth\",\"Self Made Billionaires\",\"Inherited Wealth\",\"Self Made Billionaires\",\"Inherited Wealth\",\"Inherited Wealth\",\"Inherited Wealth\",\"Self Made Billionaires\",\"Inherited Wealth\",\"Self Made Billionaires\",\"Self Made Billionaires\",\"Self Made Billionaires\",\"Self Made Billionaires\",\"Self Made Billionaires\",\"Self Made Billionaires\",\"Self Made Billionaires\",\"Inherited Wealth\",\"Self Made Billionaires\",\"Self Made Billionaires\",\"Inherited Wealth\",\"Inherited Wealth\",\"Self Made Billionaires\",\"Self Made Billionaires\",\"Self Made Billionaires\",\"Self Made Billionaires\",\"Self Made Billionaires\",\"Self Made Billionaires\",\"Self Made Billionaires\",\"Self Made Billionaires\",\"Self Made Billionaires\",\"Self Made Billionaires\",\"Inherited Wealth\",\"Inherited Wealth\",\"Self Made Billionaires\",\"Self Made Billionaires\",\"Self Made Billionaires\",\"Self Made Billionaires\",\"Self Made Billionaires\",\"Self Made Billionaires\",\"Self Made Billionaires\",\"Self Made Billionaires\",\"Self Made Billionaires\",\"Self Made Billionaires\",\"Inherited Wealth\",\"Self Made Billionaires\",\"Inherited Wealth\",\"Self Made Billionaires\",\"Self Made Billionaires\",\"Self Made Billionaires\",\"Inherited Wealth\",\"Self Made Billionaires\",\"Self Made Billionaires\",\"Self Made Billionaires\",\"Self Made Billionaires\",\"Self Made Billionaires\",\"Inherited Wealth\",\"Self Made Billionaires\",\"Inherited Wealth\",\"Self Made Billionaires\",\"Inherited Wealth\",\"Self Made Billionaires\",\"Inherited Wealth\",\"Self Made Billionaires\",\"Inherited Wealth\",\"Inherited Wealth\",\"Self Made Billionaires\",\"Self Made Billionaires\",\"Self Made Billionaires\",\"Self Made Billionaires\",\"Self Made Billionaires\",\"Self Made Billionaires\",\"Self Made Billionaires\",\"Inherited Wealth\",\"Self Made Billionaires\",\"Self Made Billionaires\",\"Self Made Billionaires\",\"Inherited Wealth\",\"Self Made Billionaires\",\"Inherited Wealth\",\"Inherited Wealth\",\"Self Made Billionaires\",\"Self Made Billionaires\",\"Self Made Billionaires\",\"Self Made Billionaires\",\"Self Made Billionaires\",\"Inherited Wealth\",\"Self Made Billionaires\",\"Inherited Wealth\",\"Inherited Wealth\",\"Inherited Wealth\",\"Self Made Billionaires\",\"Self Made Billionaires\",\"Self Made Billionaires\",\"Inherited Wealth\",\"Inherited Wealth\",\"Inherited Wealth\",\"Self Made Billionaires\",\"Self Made Billionaires\",\"Self Made Billionaires\",\"Inherited Wealth\",\"Inherited Wealth\",\"Inherited Wealth\",\"Self Made Billionaires\",\"Self Made Billionaires\",\"Inherited Wealth\",\"Inherited Wealth\",\"Inherited Wealth\",\"Self Made Billionaires\",\"Self Made Billionaires\",\"Self Made Billionaires\",\"Self Made Billionaires\",\"Self Made Billionaires\",\"Self Made Billionaires\",\"Inherited Wealth\",\"Self Made Billionaires\",\"Self Made Billionaires\",\"Inherited Wealth\",\"Inherited Wealth\",\"Inherited Wealth\",\"Inherited Wealth\",\"Self Made Billionaires\",\"Self Made Billionaires\",\"Inherited Wealth\",\"Self Made Billionaires\",\"Self Made Billionaires\",\"Inherited Wealth\",\"Self Made Billionaires\",\"Self Made Billionaires\",\"Self Made Billionaires\",\"Inherited Wealth\",\"Self Made Billionaires\",\"Self Made Billionaires\",\"Inherited Wealth\",\"Inherited Wealth\",\"Inherited Wealth\",\"Inherited Wealth\",\"Self Made Billionaires\",\"Self Made Billionaires\",\"Inherited Wealth\",\"Self Made Billionaires\",\"Inherited Wealth\",\"Self Made Billionaires\",\"Inherited Wealth\",\"Self Made Billionaires\",\"Self Made Billionaires\",\"Self Made Billionaires\",\"Self Made Billionaires\",\"Self Made Billionaires\",\"Self Made Billionaires\",\"Self Made Billionaires\",\"Self Made Billionaires\",\"Self Made Billionaires\",\"Self Made Billionaires\",\"Self Made Billionaires\",\"Inherited Wealth\",\"Self Made Billionaires\",\"Self Made Billionaires\",\"Inherited Wealth\",\"Self Made Billionaires\",\"Self Made Billionaires\",\"Inherited Wealth\",\"Self Made Billionaires\",\"Self Made Billionaires\",\"Self Made Billionaires\",\"Self Made Billionaires\",\"Self Made Billionaires\",\"Self Made Billionaires\",\"Self Made Billionaires\",\"Self Made Billionaires\",\"Inherited Wealth\",\"Inherited Wealth\",\"Inherited Wealth\",\"Self Made Billionaires\",\"Self Made Billionaires\",\"Self Made Billionaires\",\"Self Made Billionaires\",\"Self Made Billionaires\",\"Self Made Billionaires\",\"Self Made Billionaires\",\"Self Made Billionaires\",\"Inherited Wealth\",\"Self Made Billionaires\",\"Self Made Billionaires\",\"Self Made Billionaires\",\"Self Made Billionaires\",\"Self Made Billionaires\",\"Self Made Billionaires\",\"Inherited Wealth\",\"Self Made Billionaires\",\"Self Made Billionaires\",\"Inherited Wealth\",\"Self Made Billionaires\",\"Inherited Wealth\",\"Self Made Billionaires\",\"Self Made Billionaires\",\"Self Made Billionaires\",\"Self Made Billionaires\",\"Inherited Wealth\",\"Inherited Wealth\",\"Inherited Wealth\",\"Inherited Wealth\",\"Inherited Wealth\",\"Inherited Wealth\",\"Inherited Wealth\",\"Inherited Wealth\",\"Inherited Wealth\",\"Self Made Billionaires\",\"Inherited Wealth\",\"Self Made Billionaires\",\"Self Made Billionaires\",\"Inherited Wealth\",\"Inherited Wealth\",\"Self Made Billionaires\",\"Self Made Billionaires\",\"Self Made Billionaires\",\"Inherited Wealth\",\"Inherited Wealth\",\"Self Made Billionaires\",\"Self Made Billionaires\",\"Self Made Billionaires\",\"Self Made Billionaires\",\"Inherited Wealth\",\"Inherited Wealth\",\"Inherited Wealth\",\"Self Made Billionaires\",\"Self Made Billionaires\",\"Inherited Wealth\",\"Self Made Billionaires\",\"Inherited Wealth\",\"Self Made Billionaires\",\"Self Made Billionaires\",\"Self Made Billionaires\",\"Inherited Wealth\",\"Self Made Billionaires\",\"Self Made Billionaires\",\"Self Made Billionaires\",\"Inherited Wealth\",\"Inherited Wealth\",\"Self Made Billionaires\",\"Self Made Billionaires\",\"Self Made Billionaires\",\"Inherited Wealth\",\"Inherited Wealth\",\"Inherited Wealth\",\"Inherited Wealth\",\"Inherited Wealth\",\"Self Made Billionaires\",\"Self Made Billionaires\",\"Self Made Billionaires\",\"Inherited Wealth\",\"Self Made Billionaires\",\"Inherited Wealth\",\"Inherited Wealth\",\"Self Made Billionaires\",\"Self Made Billionaires\",\"Inherited Wealth\",\"Self Made Billionaires\",\"Self Made Billionaires\",\"Self Made Billionaires\",\"Self Made Billionaires\",\"Self Made Billionaires\",\"Self Made Billionaires\",\"Self Made Billionaires\",\"Self Made Billionaires\",\"Inherited Wealth\",\"Self Made Billionaires\",\"Self Made Billionaires\",\"Inherited Wealth\",\"Self Made Billionaires\",\"Self Made Billionaires\",\"Self Made Billionaires\",\"Self Made Billionaires\",\"Self Made Billionaires\",\"Inherited Wealth\",\"Inherited Wealth\",\"Self Made Billionaires\",\"Self Made Billionaires\",\"Self Made Billionaires\",\"Self Made Billionaires\",\"Self Made Billionaires\",\"Self Made Billionaires\",\"Self Made Billionaires\",\"Inherited Wealth\",\"Self Made Billionaires\",\"Inherited Wealth\",\"Inherited Wealth\",\"Self Made Billionaires\",\"Inherited Wealth\",\"Self Made Billionaires\",\"Self Made Billionaires\",\"Self Made Billionaires\",\"Inherited Wealth\",\"Inherited Wealth\",\"Self Made Billionaires\",\"Inherited Wealth\",\"Self Made Billionaires\",\"Inherited Wealth\",\"Inherited Wealth\",\"Inherited Wealth\",\"Self Made Billionaires\",\"Inherited Wealth\",\"Self Made Billionaires\",\"Self Made Billionaires\",\"Inherited Wealth\",\"Self Made Billionaires\",\"Self Made Billionaires\",\"Self Made Billionaires\",\"Self Made Billionaires\",\"Self Made Billionaires\",\"Self Made Billionaires\",\"Inherited Wealth\",\"Inherited Wealth\",\"Self Made Billionaires\",\"Self Made Billionaires\",\"Self Made Billionaires\",\"Self Made Billionaires\",\"Self Made Billionaires\",\"Self Made Billionaires\",\"Self Made Billionaires\",\"Inherited Wealth\",\"Inherited Wealth\",\"Inherited Wealth\",\"Inherited Wealth\",\"Self Made Billionaires\",\"Self Made Billionaires\",\"Inherited Wealth\",\"Inherited Wealth\",\"Self Made Billionaires\",\"Self Made Billionaires\",\"Inherited Wealth\",\"Inherited Wealth\",\"Self Made Billionaires\",\"Self Made Billionaires\",\"Self Made Billionaires\",\"Inherited Wealth\",\"Inherited Wealth\",\"Self Made Billionaires\",\"Self Made Billionaires\",\"Self Made Billionaires\",\"Self Made Billionaires\",\"Self Made Billionaires\",\"Self Made Billionaires\",\"Self Made Billionaires\",\"Self Made Billionaires\",\"Self Made Billionaires\",\"Self Made Billionaires\",\"Inherited Wealth\",\"Inherited Wealth\",\"Self Made Billionaires\",\"Self Made Billionaires\",\"Inherited Wealth\",\"Inherited Wealth\",\"Inherited Wealth\",\"Inherited Wealth\",\"Self Made Billionaires\",\"Self Made Billionaires\",\"Self Made Billionaires\",\"Inherited Wealth\",\"Self Made Billionaires\",\"Self Made Billionaires\",\"Inherited Wealth\",\"Self Made Billionaires\",\"Self Made Billionaires\",\"Self Made Billionaires\",\"Inherited Wealth\",\"Self Made Billionaires\",\"Inherited Wealth\",\"Self Made Billionaires\",\"Self Made Billionaires\",\"Self Made Billionaires\",\"Self Made Billionaires\",\"Inherited Wealth\",\"Self Made Billionaires\",\"Self Made Billionaires\",\"Inherited Wealth\",\"Self Made Billionaires\",\"Self Made Billionaires\",\"Inherited Wealth\",\"Self Made Billionaires\",\"Inherited Wealth\",\"Self Made Billionaires\",\"Inherited Wealth\",\"Self Made Billionaires\",\"Self Made Billionaires\",\"Self Made Billionaires\",\"Self Made Billionaires\",\"Self Made Billionaires\",\"Self Made Billionaires\",\"Self Made Billionaires\",\"Self Made Billionaires\",\"Self Made Billionaires\",\"Self Made Billionaires\",\"Self Made Billionaires\",\"Self Made Billionaires\",\"Self Made Billionaires\",\"Inherited Wealth\",\"Self Made Billionaires\",\"Self Made Billionaires\",\"Inherited Wealth\",\"Self Made Billionaires\",\"Self Made Billionaires\",\"Inherited Wealth\",\"Inherited Wealth\",\"Inherited Wealth\",\"Self Made Billionaires\",\"Self Made Billionaires\",\"Self Made Billionaires\",\"Self Made Billionaires\",\"Inherited Wealth\",\"Self Made Billionaires\",\"Self Made Billionaires\",\"Self Made Billionaires\",\"Inherited Wealth\",\"Inherited Wealth\",\"Self Made Billionaires\",\"Self Made Billionaires\",\"Self Made Billionaires\",\"Self Made Billionaires\",\"Self Made Billionaires\",\"Self Made Billionaires\",\"Self Made Billionaires\",\"Inherited Wealth\",\"Inherited Wealth\",\"Self Made Billionaires\",\"Inherited Wealth\",\"Self Made Billionaires\",\"Self Made Billionaires\",\"Self Made Billionaires\",\"Self Made Billionaires\",\"Inherited Wealth\",\"Inherited Wealth\",\"Self Made Billionaires\",\"Self Made Billionaires\",\"Self Made Billionaires\",\"Inherited Wealth\",\"Inherited Wealth\",\"Self Made Billionaires\",\"Inherited Wealth\",\"Self Made Billionaires\",\"Inherited Wealth\",\"Inherited Wealth\",\"Inherited Wealth\",\"Self Made Billionaires\",\"Self Made Billionaires\",\"Self Made Billionaires\",\"Self Made Billionaires\",\"Self Made Billionaires\",\"Self Made Billionaires\",\"Inherited Wealth\",\"Self Made Billionaires\",\"Inherited Wealth\",\"Self Made Billionaires\",\"Inherited Wealth\",\"Self Made Billionaires\",\"Self Made Billionaires\",\"Self Made Billionaires\",\"Self Made Billionaires\",\"Self Made Billionaires\",\"Self Made Billionaires\",\"Self Made Billionaires\",\"Inherited Wealth\",\"Inherited Wealth\",\"Self Made Billionaires\",\"Inherited Wealth\",\"Self Made Billionaires\",\"Self Made Billionaires\",\"Self Made Billionaires\",\"Self Made Billionaires\",\"Self Made Billionaires\",\"Self Made Billionaires\",\"Inherited Wealth\",\"Inherited Wealth\",\"Inherited Wealth\",\"Self Made Billionaires\",\"Self Made Billionaires\",\"Inherited Wealth\",\"Inherited Wealth\",\"Inherited Wealth\",\"Self Made Billionaires\",\"Inherited Wealth\",\"Inherited Wealth\",\"Inherited Wealth\",\"Inherited Wealth\",\"Self Made Billionaires\",\"Inherited Wealth\",\"Inherited Wealth\",\"Self Made Billionaires\",\"Inherited Wealth\",\"Inherited Wealth\",\"Inherited Wealth\",\"Self Made Billionaires\",\"Self Made Billionaires\",\"Inherited Wealth\",\"Inherited Wealth\",\"Self Made Billionaires\",\"Self Made Billionaires\",\"Self Made Billionaires\",\"Inherited Wealth\",\"Self Made Billionaires\",\"Self Made Billionaires\",\"Self Made Billionaires\",\"Self Made Billionaires\",\"Self Made Billionaires\",\"Self Made Billionaires\",\"Inherited Wealth\",\"Self Made Billionaires\",\"Inherited Wealth\",\"Inherited Wealth\",\"Self Made Billionaires\",\"Self Made Billionaires\",\"Self Made Billionaires\",\"Inherited Wealth\",\"Self Made Billionaires\",\"Self Made Billionaires\",\"Self Made Billionaires\",\"Self Made Billionaires\",\"Self Made Billionaires\",\"Inherited Wealth\",\"Self Made Billionaires\",\"Self Made Billionaires\",\"Self Made Billionaires\",\"Self Made Billionaires\",\"Self Made Billionaires\",\"Self Made Billionaires\",\"Inherited Wealth\",\"Self Made Billionaires\",\"Self Made Billionaires\",\"Self Made Billionaires\",\"Self Made Billionaires\",\"Self Made Billionaires\",\"Inherited Wealth\",\"Self Made Billionaires\",\"Self Made Billionaires\",\"Self Made Billionaires\",\"Self Made Billionaires\",\"Self Made Billionaires\",\"Inherited Wealth\",\"Inherited Wealth\",\"Self Made Billionaires\",\"Self Made Billionaires\",\"Inherited Wealth\",\"Inherited Wealth\",\"Self Made Billionaires\",\"Inherited Wealth\",\"Inherited Wealth\",\"Self Made Billionaires\",\"Self Made Billionaires\",\"Inherited Wealth\",\"Self Made Billionaires\",\"Self Made Billionaires\",\"Inherited Wealth\",\"Self Made Billionaires\",\"Self Made Billionaires\",\"Self Made Billionaires\",\"Self Made Billionaires\",\"Self Made Billionaires\",\"Self Made Billionaires\",\"Self Made Billionaires\",\"Inherited Wealth\",\"Inherited Wealth\",\"Self Made Billionaires\",\"Self Made Billionaires\",\"Inherited Wealth\",\"Self Made Billionaires\",\"Self Made Billionaires\",\"Self Made Billionaires\",\"Self Made Billionaires\",\"Inherited Wealth\",\"Inherited Wealth\",\"Self Made Billionaires\",\"Self Made Billionaires\",\"Self Made Billionaires\",\"Inherited Wealth\",\"Inherited Wealth\",\"Inherited Wealth\",\"Inherited Wealth\",\"Inherited Wealth\",\"Inherited Wealth\",\"Self Made Billionaires\",\"Self Made Billionaires\",\"Self Made Billionaires\",\"Self Made Billionaires\",\"Self Made Billionaires\",\"Self Made Billionaires\",\"Self Made Billionaires\",\"Inherited Wealth\",\"Self Made Billionaires\",\"Self Made Billionaires\",\"Self Made Billionaires\",\"Self Made Billionaires\",\"Self Made Billionaires\",\"Inherited Wealth\",\"Self Made Billionaires\",\"Self Made Billionaires\",\"Self Made Billionaires\",\"Inherited Wealth\",\"Self Made Billionaires\",\"Self Made Billionaires\",\"Self Made Billionaires\",\"Inherited Wealth\",\"Inherited Wealth\",\"Self Made Billionaires\",\"Self Made Billionaires\",\"Self Made Billionaires\",\"Self Made Billionaires\",\"Self Made Billionaires\",\"Inherited Wealth\",\"Self Made Billionaires\",\"Inherited Wealth\",\"Inherited Wealth\",\"Self Made Billionaires\",\"Self Made Billionaires\",\"Inherited Wealth\",\"Self Made Billionaires\",\"Inherited Wealth\",\"Inherited Wealth\",\"Self Made Billionaires\",\"Self Made Billionaires\",\"Self Made Billionaires\",\"Self Made Billionaires\",\"Inherited Wealth\",\"Inherited Wealth\",\"Inherited Wealth\",\"Self Made Billionaires\",\"Self Made Billionaires\",\"Self Made Billionaires\",\"Self Made Billionaires\",\"Self Made Billionaires\",\"Self Made Billionaires\",\"Self Made Billionaires\",\"Self Made Billionaires\",\"Inherited Wealth\",\"Self Made Billionaires\",\"Inherited Wealth\",\"Self Made Billionaires\",\"Inherited Wealth\",\"Self Made Billionaires\",\"Inherited Wealth\",\"Self Made Billionaires\",\"Self Made Billionaires\",\"Self Made Billionaires\",\"Self Made Billionaires\",\"Self Made Billionaires\",\"Self Made Billionaires\",\"Inherited Wealth\",\"Self Made Billionaires\",\"Self Made Billionaires\",\"Self Made Billionaires\",\"Self Made Billionaires\",\"Self Made Billionaires\",\"Self Made Billionaires\",\"Inherited Wealth\",\"Self Made Billionaires\",\"Self Made Billionaires\",\"Inherited Wealth\",\"Self Made Billionaires\",\"Self Made Billionaires\",\"Inherited Wealth\",\"Self Made Billionaires\",\"Self Made Billionaires\",\"Self Made Billionaires\",\"Self Made Billionaires\",\"Self Made Billionaires\",\"Self Made Billionaires\",\"Self Made Billionaires\",\"Self Made Billionaires\",\"Self Made Billionaires\",\"Self Made Billionaires\",\"Self Made Billionaires\",\"Self Made Billionaires\",\"Self Made Billionaires\",\"Self Made Billionaires\",\"Self Made Billionaires\",\"Inherited Wealth\",\"Self Made Billionaires\",\"Self Made Billionaires\",\"Inherited Wealth\",\"Inherited Wealth\",\"Self Made Billionaires\",\"Inherited Wealth\",\"Self Made Billionaires\",\"Self Made Billionaires\",\"Self Made Billionaires\",\"Self Made Billionaires\",\"Self Made Billionaires\",\"Inherited Wealth\",\"Inherited Wealth\",\"Self Made Billionaires\",\"Inherited Wealth\",\"Inherited Wealth\",\"Self Made Billionaires\",\"Inherited Wealth\",\"Inherited Wealth\",\"Self Made Billionaires\",\"Self Made Billionaires\",\"Self Made Billionaires\",\"Self Made Billionaires\",\"Self Made Billionaires\",\"Self Made Billionaires\",\"Self Made Billionaires\",\"Self Made Billionaires\",\"Self Made Billionaires\",\"Self Made Billionaires\",\"Self Made Billionaires\",\"Self Made Billionaires\",\"Self Made Billionaires\",\"Self Made Billionaires\",\"Self Made Billionaires\",\"Self Made Billionaires\",\"Self Made Billionaires\",\"Self Made Billionaires\",\"Inherited Wealth\",\"Inherited Wealth\",\"Self Made Billionaires\",\"Self Made Billionaires\",\"Self Made Billionaires\",\"Self Made Billionaires\",\"Self Made Billionaires\",\"Self Made Billionaires\",\"Self Made Billionaires\",\"Self Made Billionaires\",\"Inherited Wealth\",\"Self Made Billionaires\",\"Inherited Wealth\",\"Inherited Wealth\",\"Self Made Billionaires\",\"Inherited Wealth\",\"Self Made Billionaires\",\"Self Made Billionaires\",\"Self Made Billionaires\",\"Self Made Billionaires\",\"Inherited Wealth\",\"Inherited Wealth\",\"Inherited Wealth\",\"Self Made Billionaires\",\"Self Made Billionaires\",\"Inherited Wealth\",\"Self Made Billionaires\",\"Inherited Wealth\",\"Inherited Wealth\",\"Self Made Billionaires\",\"Self Made Billionaires\",\"Self Made Billionaires\",\"Self Made Billionaires\",\"Inherited Wealth\",\"Inherited Wealth\",\"Self Made Billionaires\",\"Self Made Billionaires\",\"Self Made Billionaires\",\"Self Made Billionaires\",\"Inherited Wealth\",\"Inherited Wealth\",\"Self Made Billionaires\",\"Inherited Wealth\",\"Self Made Billionaires\",\"Self Made Billionaires\",\"Self Made Billionaires\",\"Self Made Billionaires\",\"Inherited Wealth\",\"Self Made Billionaires\",\"Inherited Wealth\",\"Self Made Billionaires\",\"Inherited Wealth\",\"Self Made Billionaires\",\"Inherited Wealth\",\"Inherited Wealth\",\"Self Made Billionaires\",\"Self Made Billionaires\",\"Self Made Billionaires\",\"Self Made Billionaires\",\"Self Made Billionaires\",\"Inherited Wealth\",\"Self Made Billionaires\",\"Self Made Billionaires\",\"Self Made Billionaires\",\"Self Made Billionaires\",\"Self Made Billionaires\",\"Inherited Wealth\",\"Self Made Billionaires\",\"Self Made Billionaires\",\"Self Made Billionaires\",\"Self Made Billionaires\",\"Self Made Billionaires\",\"Self Made Billionaires\",\"Self Made Billionaires\",\"Self Made Billionaires\",\"Inherited Wealth\",\"Self Made Billionaires\",\"Inherited Wealth\",\"Inherited Wealth\",\"Self Made Billionaires\",\"Self Made Billionaires\",\"Inherited Wealth\",\"Inherited Wealth\",\"Self Made Billionaires\",\"Self Made Billionaires\",\"Self Made Billionaires\",\"Self Made Billionaires\",\"Self Made Billionaires\",\"Inherited Wealth\",\"Self Made Billionaires\",\"Self Made Billionaires\",\"Self Made Billionaires\",\"Inherited Wealth\",\"Self Made Billionaires\",\"Self Made Billionaires\",\"Inherited Wealth\",\"Self Made Billionaires\",\"Self Made Billionaires\",\"Self Made Billionaires\",\"Self Made Billionaires\",\"Inherited Wealth\",\"Self Made Billionaires\",\"Inherited Wealth\",\"Self Made Billionaires\",\"Self Made Billionaires\",\"Inherited Wealth\",\"Self Made Billionaires\",\"Self Made Billionaires\",\"Self Made Billionaires\",\"Self Made Billionaires\",\"Inherited Wealth\",\"Inherited Wealth\",\"Inherited Wealth\",\"Self Made Billionaires\",\"Inherited Wealth\",\"Inherited Wealth\",\"Inherited Wealth\",\"Inherited Wealth\",\"Inherited Wealth\",\"Self Made Billionaires\",\"Self Made Billionaires\",\"Inherited Wealth\",\"Self Made Billionaires\",\"Self Made Billionaires\",\"Inherited Wealth\",\"Inherited Wealth\",\"Inherited Wealth\",\"Self Made Billionaires\",\"Inherited Wealth\",\"Inherited Wealth\",\"Inherited Wealth\",\"Inherited Wealth\",\"Self Made Billionaires\",\"Inherited Wealth\",\"Self Made Billionaires\",\"Self Made Billionaires\",\"Inherited Wealth\",\"Inherited Wealth\",\"Self Made Billionaires\",\"Self Made Billionaires\",\"Self Made Billionaires\",\"Self Made Billionaires\",\"Inherited Wealth\",\"Inherited Wealth\",\"Self Made Billionaires\",\"Inherited Wealth\",\"Inherited Wealth\",\"Inherited Wealth\",\"Self Made Billionaires\",\"Inherited Wealth\",\"Inherited Wealth\",\"Inherited Wealth\",\"Self Made Billionaires\",\"Self Made Billionaires\",\"Self Made Billionaires\",\"Self Made Billionaires\",\"Inherited Wealth\",\"Inherited Wealth\",\"Self Made Billionaires\",\"Inherited Wealth\",\"Self Made Billionaires\",\"Self Made Billionaires\",\"Inherited Wealth\",\"Inherited Wealth\",\"Self Made Billionaires\",\"Self Made Billionaires\",\"Self Made Billionaires\",\"Inherited Wealth\",\"Self Made Billionaires\",\"Inherited Wealth\",\"Inherited Wealth\",\"Self Made Billionaires\",\"Inherited Wealth\",\"Self Made Billionaires\",\"Inherited Wealth\",\"Self Made Billionaires\",\"Self Made Billionaires\",\"Self Made Billionaires\",\"Self Made Billionaires\",\"Self Made Billionaires\",\"Inherited Wealth\",\"Inherited Wealth\",\"Inherited Wealth\",\"Self Made Billionaires\",\"Self Made Billionaires\",\"Self Made Billionaires\",\"Inherited Wealth\",\"Inherited Wealth\",\"Self Made Billionaires\",\"Self Made Billionaires\",\"Self Made Billionaires\",\"Inherited Wealth\",\"Inherited Wealth\",\"Self Made Billionaires\",\"Self Made Billionaires\",\"Self Made Billionaires\",\"Self Made Billionaires\",\"Self Made Billionaires\",\"Inherited Wealth\",\"Self Made Billionaires\",\"Self Made Billionaires\",\"Self Made Billionaires\",\"Self Made Billionaires\",\"Self Made Billionaires\",\"Self Made Billionaires\",\"Self Made Billionaires\",\"Inherited Wealth\",\"Inherited Wealth\",\"Inherited Wealth\",\"Inherited Wealth\",\"Self Made Billionaires\",\"Inherited Wealth\",\"Self Made Billionaires\",\"Self Made Billionaires\",\"Self Made Billionaires\",\"Inherited Wealth\",\"Self Made Billionaires\",\"Inherited Wealth\",\"Inherited Wealth\",\"Inherited Wealth\",\"Inherited Wealth\",\"Self Made Billionaires\",\"Self Made Billionaires\",\"Self Made Billionaires\",\"Self Made Billionaires\",\"Inherited Wealth\",\"Inherited Wealth\",\"Self Made Billionaires\",\"Self Made Billionaires\",\"Self Made Billionaires\",\"Self Made Billionaires\",\"Self Made Billionaires\",\"Self Made Billionaires\",\"Inherited Wealth\",\"Self Made Billionaires\",\"Self Made Billionaires\",\"Self Made Billionaires\",\"Inherited Wealth\",\"Self Made Billionaires\",\"Inherited Wealth\",\"Self Made Billionaires\",\"Inherited Wealth\",\"Inherited Wealth\",\"Self Made Billionaires\",\"Inherited Wealth\",\"Self Made Billionaires\",\"Inherited Wealth\",\"Self Made Billionaires\",\"Inherited Wealth\",\"Inherited Wealth\",\"Inherited Wealth\",\"Inherited Wealth\",\"Inherited Wealth\",\"Self Made Billionaires\",\"Self Made Billionaires\",\"Self Made Billionaires\",\"Inherited Wealth\",\"Inherited Wealth\",\"Inherited Wealth\",\"Inherited Wealth\",\"Self Made Billionaires\",\"Inherited Wealth\",\"Inherited Wealth\",\"Self Made Billionaires\",\"Self Made Billionaires\",\"Self Made Billionaires\",\"Self Made Billionaires\",\"Self Made Billionaires\",\"Inherited Wealth\",\"Inherited Wealth\",\"Self Made Billionaires\",\"Self Made Billionaires\",\"Self Made Billionaires\",\"Self Made Billionaires\",\"Self Made Billionaires\",\"Self Made Billionaires\",\"Self Made Billionaires\",\"Inherited Wealth\",\"Self Made Billionaires\",\"Self Made Billionaires\",\"Inherited Wealth\",\"Inherited Wealth\",\"Self Made Billionaires\",\"Self Made Billionaires\",\"Self Made Billionaires\",\"Self Made Billionaires\",\"Self Made Billionaires\",\"Inherited Wealth\",\"Self Made Billionaires\",\"Inherited Wealth\",\"Self Made Billionaires\",\"Self Made Billionaires\",\"Self Made Billionaires\",\"Inherited Wealth\",\"Self Made Billionaires\",\"Inherited Wealth\",\"Self Made Billionaires\",\"Self Made Billionaires\",\"Self Made Billionaires\",\"Inherited Wealth\",\"Self Made Billionaires\",\"Self Made Billionaires\",\"Self Made Billionaires\",\"Inherited Wealth\",\"Self Made Billionaires\",\"Self Made Billionaires\",\"Self Made Billionaires\",\"Self Made Billionaires\",\"Self Made Billionaires\",\"Self Made Billionaires\",\"Self Made Billionaires\",\"Inherited Wealth\",\"Inherited Wealth\",\"Self Made Billionaires\",\"Inherited Wealth\",\"Self Made Billionaires\",\"Inherited Wealth\",\"Self Made Billionaires\",\"Self Made Billionaires\",\"Self Made Billionaires\",\"Self Made Billionaires\",\"Self Made Billionaires\",\"Self Made Billionaires\",\"Self Made Billionaires\",\"Self Made Billionaires\",\"Self Made Billionaires\",\"Inherited Wealth\",\"Inherited Wealth\",\"Self Made Billionaires\",\"Self Made Billionaires\",\"Self Made Billionaires\",\"Self Made Billionaires\",\"Self Made Billionaires\",\"Inherited Wealth\",\"Self Made Billionaires\",\"Self Made Billionaires\",\"Inherited Wealth\",\"Self Made Billionaires\",\"Self Made Billionaires\",\"Inherited Wealth\",\"Inherited Wealth\",\"Self Made Billionaires\",\"Self Made Billionaires\",\"Inherited Wealth\",\"Self Made Billionaires\",\"Self Made Billionaires\",\"Self Made Billionaires\",\"Self Made Billionaires\",\"Self Made Billionaires\",\"Self Made Billionaires\",\"Self Made Billionaires\",\"Inherited Wealth\",\"Self Made Billionaires\",\"Self Made Billionaires\",\"Self Made Billionaires\",\"Self Made Billionaires\",\"Self Made Billionaires\",\"Self Made Billionaires\",\"Self Made Billionaires\",\"Self Made Billionaires\",\"Self Made Billionaires\",\"Self Made Billionaires\",\"Self Made Billionaires\",\"Inherited Wealth\",\"Inherited Wealth\",\"Self Made Billionaires\",\"Inherited Wealth\",\"Self Made Billionaires\",\"Self Made Billionaires\",\"Self Made Billionaires\",\"Self Made Billionaires\",\"Self Made Billionaires\",\"Self Made Billionaires\",\"Inherited Wealth\",\"Self Made Billionaires\",\"Self Made Billionaires\",\"Inherited Wealth\",\"Inherited Wealth\",\"Self Made Billionaires\",\"Self Made Billionaires\",\"Self Made Billionaires\",\"Self Made Billionaires\",\"Self Made Billionaires\",\"Self Made Billionaires\",\"Inherited Wealth\",\"Inherited Wealth\",\"Inherited Wealth\",\"Inherited Wealth\",\"Inherited Wealth\",\"Inherited Wealth\",\"Inherited Wealth\",\"Inherited Wealth\",\"Inherited Wealth\",\"Self Made Billionaires\",\"Self Made Billionaires\",\"Inherited Wealth\",\"Self Made Billionaires\",\"Inherited Wealth\",\"Self Made Billionaires\",\"Self Made Billionaires\",\"Self Made Billionaires\",\"Self Made Billionaires\",\"Self Made Billionaires\",\"Self Made Billionaires\",\"Inherited Wealth\",\"Self Made Billionaires\",\"Self Made Billionaires\",\"Self Made Billionaires\",\"Self Made Billionaires\",\"Self Made Billionaires\",\"Self Made Billionaires\",\"Self Made Billionaires\",\"Inherited Wealth\",\"Inherited Wealth\",\"Self Made Billionaires\",\"Self Made Billionaires\",\"Self Made Billionaires\",\"Self Made Billionaires\",\"Self Made Billionaires\",\"Self Made Billionaires\",\"Self Made Billionaires\",\"Self Made Billionaires\",\"Inherited Wealth\",\"Self Made Billionaires\",\"Self Made Billionaires\",\"Self Made Billionaires\",\"Inherited Wealth\",\"Self Made Billionaires\",\"Self Made Billionaires\",\"Self Made Billionaires\",\"Self Made Billionaires\",\"Self Made Billionaires\",\"Self Made Billionaires\",\"Inherited Wealth\",\"Self Made Billionaires\",\"Self Made Billionaires\",\"Self Made Billionaires\",\"Self Made Billionaires\",\"Self Made Billionaires\",\"Self Made Billionaires\",\"Self Made Billionaires\",\"Inherited Wealth\",\"Self Made Billionaires\",\"Self Made Billionaires\",\"Self Made Billionaires\",\"Self Made Billionaires\",\"Self Made Billionaires\",\"Self Made Billionaires\",\"Self Made Billionaires\",\"Self Made Billionaires\",\"Self Made Billionaires\",\"Inherited Wealth\",\"Self Made Billionaires\",\"Self Made Billionaires\",\"Inherited Wealth\",\"Inherited Wealth\",\"Self Made Billionaires\",\"Self Made Billionaires\",\"Self Made Billionaires\",\"Inherited Wealth\",\"Inherited Wealth\",\"Inherited Wealth\",\"Self Made Billionaires\",\"Self Made Billionaires\",\"Inherited Wealth\",\"Self Made Billionaires\",\"Self Made Billionaires\",\"Self Made Billionaires\",\"Self Made Billionaires\",\"Self Made Billionaires\",\"Inherited Wealth\",\"Self Made Billionaires\",\"Self Made Billionaires\",\"Self Made Billionaires\",\"Inherited Wealth\",\"Inherited Wealth\",\"Self Made Billionaires\",\"Inherited Wealth\",\"Self Made Billionaires\",\"Self Made Billionaires\",\"Inherited Wealth\",\"Self Made Billionaires\",\"Self Made Billionaires\",\"Self Made Billionaires\",\"Self Made Billionaires\",\"Self Made Billionaires\",\"Self Made Billionaires\",\"Self Made Billionaires\",\"Self Made Billionaires\",\"Self Made Billionaires\",\"Self Made Billionaires\",\"Inherited Wealth\",\"Self Made Billionaires\",\"Self Made Billionaires\",\"Inherited Wealth\",\"Inherited Wealth\",\"Inherited Wealth\",\"Self Made Billionaires\",\"Inherited Wealth\",\"Inherited Wealth\",\"Inherited Wealth\",\"Self Made Billionaires\",\"Self Made Billionaires\",\"Self Made Billionaires\",\"Self Made Billionaires\",\"Self Made Billionaires\",\"Inherited Wealth\",\"Self Made Billionaires\",\"Self Made Billionaires\",\"Self Made Billionaires\",\"Self Made Billionaires\",\"Inherited Wealth\",\"Self Made Billionaires\",\"Self Made Billionaires\",\"Self Made Billionaires\",\"Self Made Billionaires\",\"Inherited Wealth\",\"Inherited Wealth\",\"Inherited Wealth\",\"Self Made Billionaires\",\"Inherited Wealth\",\"Self Made Billionaires\",\"Self Made Billionaires\",\"Self Made Billionaires\",\"Self Made Billionaires\",\"Self Made Billionaires\",\"Self Made Billionaires\",\"Self Made Billionaires\",\"Self Made Billionaires\",\"Self Made Billionaires\",\"Self Made Billionaires\",\"Self Made Billionaires\",\"Self Made Billionaires\",\"Self Made Billionaires\",\"Self Made Billionaires\",\"Inherited Wealth\",\"Self Made Billionaires\",\"Self Made Billionaires\",\"Self Made Billionaires\",\"Self Made Billionaires\",\"Inherited Wealth\",\"Self Made Billionaires\",\"Self Made Billionaires\",\"Self Made Billionaires\",\"Self Made Billionaires\",\"Self Made Billionaires\",\"Self Made Billionaires\",\"Self Made Billionaires\",\"Self Made Billionaires\",\"Self Made Billionaires\",\"Self Made Billionaires\",\"Self Made Billionaires\",\"Self Made Billionaires\",\"Inherited Wealth\",\"Inherited Wealth\",\"Self Made Billionaires\",\"Self Made Billionaires\",\"Self Made Billionaires\",\"Self Made Billionaires\",\"Self Made Billionaires\",\"Self Made Billionaires\",\"Self Made Billionaires\",\"Inherited Wealth\",\"Self Made Billionaires\",\"Inherited Wealth\",\"Self Made Billionaires\",\"Inherited Wealth\",\"Inherited Wealth\",\"Inherited Wealth\",\"Self Made Billionaires\",\"Self Made Billionaires\",\"Self Made Billionaires\",\"Self Made Billionaires\",\"Self Made Billionaires\",\"Inherited Wealth\",\"Self Made Billionaires\",\"Self Made Billionaires\",\"Self Made Billionaires\",\"Self Made Billionaires\",\"Self Made Billionaires\",\"Inherited Wealth\",\"Self Made Billionaires\",\"Inherited Wealth\",\"Self Made Billionaires\",\"Self Made Billionaires\",\"Inherited Wealth\",\"Self Made Billionaires\",\"Self Made Billionaires\",\"Inherited Wealth\",\"Self Made Billionaires\",\"Self Made Billionaires\",\"Inherited Wealth\",\"Self Made Billionaires\",\"Inherited Wealth\",\"Inherited Wealth\",\"Self Made Billionaires\",\"Self Made Billionaires\",\"Self Made Billionaires\",\"Inherited Wealth\",\"Inherited Wealth\",\"Self Made Billionaires\",\"Self Made Billionaires\",\"Self Made Billionaires\",\"Self Made Billionaires\",\"Inherited Wealth\",\"Self Made Billionaires\",\"Self Made Billionaires\",\"Self Made Billionaires\",\"Self Made Billionaires\",\"Self Made Billionaires\",\"Self Made Billionaires\",\"Self Made Billionaires\",\"Self Made Billionaires\",\"Inherited Wealth\",\"Self Made Billionaires\",\"Self Made Billionaires\",\"Self Made Billionaires\",\"Self Made Billionaires\",\"Inherited Wealth\",\"Inherited Wealth\",\"Inherited Wealth\",\"Self Made Billionaires\",\"Self Made Billionaires\",\"Self Made Billionaires\",\"Self Made Billionaires\",\"Inherited Wealth\",\"Inherited Wealth\",\"Inherited Wealth\",\"Inherited Wealth\",\"Inherited Wealth\",\"Self Made Billionaires\",\"Self Made Billionaires\",\"Inherited Wealth\",\"Inherited Wealth\",\"Inherited Wealth\",\"Self Made Billionaires\",\"Inherited Wealth\",\"Self Made Billionaires\",\"Inherited Wealth\",\"Inherited Wealth\",\"Self Made Billionaires\",\"Self Made Billionaires\",\"Self Made Billionaires\",\"Inherited Wealth\",\"Self Made Billionaires\",\"Self Made Billionaires\",\"Self Made Billionaires\",\"Inherited Wealth\",\"Self Made Billionaires\",\"Inherited Wealth\",\"Inherited Wealth\",\"Self Made Billionaires\",\"Self Made Billionaires\",\"Inherited Wealth\",\"Self Made Billionaires\",\"Self Made Billionaires\",\"Self Made Billionaires\",\"Self Made Billionaires\",\"Inherited Wealth\",\"Inherited Wealth\",\"Inherited Wealth\",\"Self Made Billionaires\",\"Self Made Billionaires\",\"Self Made Billionaires\",\"Self Made Billionaires\",\"Self Made Billionaires\",\"Self Made Billionaires\",\"Self Made Billionaires\",\"Self Made Billionaires\",\"Self Made Billionaires\",\"Inherited Wealth\",\"Inherited Wealth\",\"Inherited Wealth\",\"Inherited Wealth\",\"Self Made Billionaires\",\"Self Made Billionaires\",\"Inherited Wealth\",\"Self Made Billionaires\",\"Self Made Billionaires\",\"Inherited Wealth\",\"Inherited Wealth\",\"Self Made Billionaires\",\"Self Made Billionaires\",\"Self Made Billionaires\",\"Inherited Wealth\",\"Self Made Billionaires\",\"Inherited Wealth\",\"Self Made Billionaires\",\"Self Made Billionaires\",\"Self Made Billionaires\",\"Inherited Wealth\",\"Self Made Billionaires\",\"Self Made Billionaires\",\"Inherited Wealth\",\"Self Made Billionaires\",\"Inherited Wealth\",\"Self Made Billionaires\",\"Self Made Billionaires\",\"Self Made Billionaires\",\"Self Made Billionaires\",\"Inherited Wealth\",\"Self Made Billionaires\",\"Self Made Billionaires\",\"Inherited Wealth\",\"Self Made Billionaires\",\"Inherited Wealth\",\"Inherited Wealth\",\"Inherited Wealth\",\"Self Made Billionaires\",\"Self Made Billionaires\",\"Self Made Billionaires\",\"Self Made Billionaires\",\"Self Made Billionaires\",\"Self Made Billionaires\",\"Inherited Wealth\",\"Self Made Billionaires\",\"Self Made Billionaires\",\"Self Made Billionaires\",\"Inherited Wealth\",\"Self Made Billionaires\",\"Inherited Wealth\",\"Inherited Wealth\",\"Inherited Wealth\",\"Self Made Billionaires\",\"Self Made Billionaires\",\"Self Made Billionaires\",\"Self Made Billionaires\",\"Self Made Billionaires\",\"Inherited Wealth\",\"Self Made Billionaires\",\"Inherited Wealth\",\"Self Made Billionaires\",\"Self Made Billionaires\",\"Inherited Wealth\",\"Self Made Billionaires\",\"Self Made Billionaires\",\"Inherited Wealth\",\"Self Made Billionaires\",\"Inherited Wealth\",\"Self Made Billionaires\",\"Self Made Billionaires\",\"Self Made Billionaires\",\"Self Made Billionaires\",\"Inherited Wealth\",\"Self Made Billionaires\",\"Self Made Billionaires\",\"Self Made Billionaires\",\"Self Made Billionaires\",\"Self Made Billionaires\",\"Self Made Billionaires\",\"Self Made Billionaires\",\"Inherited Wealth\",\"Self Made Billionaires\",\"Self Made Billionaires\",\"Self Made Billionaires\",\"Inherited Wealth\",\"Inherited Wealth\",\"Self Made Billionaires\",\"Inherited Wealth\",\"Self Made Billionaires\",\"Self Made Billionaires\",\"Inherited Wealth\",\"Self Made Billionaires\",\"Inherited Wealth\",\"Self Made Billionaires\",\"Self Made Billionaires\",\"Inherited Wealth\",\"Self Made Billionaires\",\"Self Made Billionaires\",\"Self Made Billionaires\",\"Self Made Billionaires\",\"Inherited Wealth\",\"Self Made Billionaires\",\"Self Made Billionaires\",\"Self Made Billionaires\",\"Inherited Wealth\",\"Inherited Wealth\",\"Self Made Billionaires\",\"Self Made Billionaires\",\"Inherited Wealth\",\"Self Made Billionaires\",\"Self Made Billionaires\",\"Self Made Billionaires\",\"Self Made Billionaires\",\"Self Made Billionaires\",\"Self Made Billionaires\",\"Inherited Wealth\",\"Inherited Wealth\",\"Self Made Billionaires\",\"Inherited Wealth\",\"Self Made Billionaires\",\"Self Made Billionaires\",\"Self Made Billionaires\",\"Inherited Wealth\",\"Inherited Wealth\",\"Self Made Billionaires\",\"Inherited Wealth\",\"Inherited Wealth\",\"Self Made Billionaires\",\"Inherited Wealth\",\"Self Made Billionaires\",\"Self Made Billionaires\",\"Self Made Billionaires\",\"Self Made Billionaires\",\"Self Made Billionaires\",\"Self Made Billionaires\",\"Self Made Billionaires\",\"Self Made Billionaires\",\"Self Made Billionaires\",\"Self Made Billionaires\",\"Self Made Billionaires\",\"Self Made Billionaires\",\"Self Made Billionaires\",\"Inherited Wealth\",\"Self Made Billionaires\",\"Self Made Billionaires\",\"Self Made Billionaires\",\"Self Made Billionaires\",\"Inherited Wealth\",\"Inherited Wealth\",\"Self Made Billionaires\",\"Self Made Billionaires\",\"Self Made Billionaires\",\"Self Made Billionaires\",\"Self Made Billionaires\",\"Self Made Billionaires\",\"Self Made Billionaires\",\"Inherited Wealth\",\"Self Made Billionaires\",\"Self Made Billionaires\",\"Self Made Billionaires\",\"Self Made Billionaires\",\"Self Made Billionaires\",\"Inherited Wealth\",\"Self Made Billionaires\",\"Self Made Billionaires\",\"Self Made Billionaires\",\"Self Made Billionaires\",\"Self Made Billionaires\",\"Self Made Billionaires\",\"Self Made Billionaires\",\"Self Made Billionaires\",\"Self Made Billionaires\",\"Self Made Billionaires\",\"Inherited Wealth\",\"Self Made Billionaires\",\"Self Made Billionaires\",\"Self Made Billionaires\",\"Self Made Billionaires\",\"Inherited Wealth\",\"Inherited Wealth\",\"Self Made Billionaires\",\"Self Made Billionaires\",\"Self Made Billionaires\",\"Self Made Billionaires\",\"Inherited Wealth\",\"Self Made Billionaires\",\"Self Made Billionaires\",\"Self Made Billionaires\",\"Self Made Billionaires\",\"Self Made Billionaires\",\"Self Made Billionaires\",\"Self Made Billionaires\",\"Self Made Billionaires\",\"Inherited Wealth\",\"Self Made Billionaires\",\"Self Made Billionaires\",\"Self Made Billionaires\",\"Self Made Billionaires\",\"Inherited Wealth\",\"Self Made Billionaires\",\"Inherited Wealth\",\"Self Made Billionaires\",\"Inherited Wealth\",\"Inherited Wealth\",\"Self Made Billionaires\",\"Inherited Wealth\",\"Self Made Billionaires\",\"Self Made Billionaires\",\"Self Made Billionaires\",\"Self Made Billionaires\",\"Self Made Billionaires\",\"Self Made Billionaires\",\"Inherited Wealth\",\"Self Made Billionaires\",\"Self Made Billionaires\",\"Self Made Billionaires\",\"Self Made Billionaires\",\"Inherited Wealth\",\"Inherited Wealth\",\"Self Made Billionaires\",\"Self Made Billionaires\",\"Self Made Billionaires\",\"Self Made Billionaires\",\"Inherited Wealth\",\"Self Made Billionaires\",\"Self Made Billionaires\",\"Self Made Billionaires\",\"Inherited Wealth\",\"Inherited Wealth\",\"Self Made Billionaires\",\"Inherited Wealth\",\"Inherited Wealth\",\"Self Made Billionaires\",\"Inherited Wealth\",\"Inherited Wealth\",\"Inherited Wealth\",\"Self Made Billionaires\",\"Self Made Billionaires\",\"Self Made Billionaires\",\"Self Made Billionaires\",\"Self Made Billionaires\",\"Self Made Billionaires\",\"Inherited Wealth\",\"Inherited Wealth\",\"Inherited Wealth\",\"Self Made Billionaires\",\"Self Made Billionaires\",\"Inherited Wealth\",\"Self Made Billionaires\",\"Self Made Billionaires\",\"Self Made Billionaires\",\"Self Made Billionaires\",\"Self Made Billionaires\",\"Self Made Billionaires\",\"Inherited Wealth\",\"Inherited Wealth\",\"Inherited Wealth\",\"Self Made Billionaires\",\"Self Made Billionaires\",\"Self Made Billionaires\",\"Self Made Billionaires\",\"Self Made Billionaires\",\"Self Made Billionaires\",\"Self Made Billionaires\",\"Self Made Billionaires\",\"Self Made Billionaires\",\"Self Made Billionaires\",\"Self Made Billionaires\",\"Self Made Billionaires\",\"Self Made Billionaires\",\"Self Made Billionaires\",\"Self Made Billionaires\",\"Inherited Wealth\",\"Inherited Wealth\",\"Self Made Billionaires\",\"Self Made Billionaires\",\"Inherited Wealth\",\"Inherited Wealth\",\"Inherited Wealth\",\"Self Made Billionaires\",\"Inherited Wealth\",\"Inherited Wealth\",\"Self Made Billionaires\",\"Inherited Wealth\",\"Inherited Wealth\",\"Self Made Billionaires\",\"Self Made Billionaires\",\"Inherited Wealth\",\"Self Made Billionaires\",\"Self Made Billionaires\",\"Inherited Wealth\",\"Inherited Wealth\",\"Self Made Billionaires\",\"Inherited Wealth\",\"Self Made Billionaires\",\"Self Made Billionaires\",\"Self Made Billionaires\",\"Self Made Billionaires\",\"Self Made Billionaires\",\"Inherited Wealth\",\"Self Made Billionaires\",\"Self Made Billionaires\",\"Self Made Billionaires\",\"Self Made Billionaires\",\"Self Made Billionaires\",\"Self Made Billionaires\",\"Self Made Billionaires\",\"Self Made Billionaires\",\"Self Made Billionaires\",\"Self Made Billionaires\",\"Self Made Billionaires\",\"Self Made Billionaires\",\"Self Made Billionaires\",\"Self Made Billionaires\",\"Self Made Billionaires\",\"Self Made Billionaires\",\"Self Made Billionaires\",\"Inherited Wealth\",\"Inherited Wealth\",\"Inherited Wealth\",\"Inherited Wealth\",\"Self Made Billionaires\",\"Self Made Billionaires\",\"Self Made Billionaires\",\"Self Made Billionaires\",\"Self Made Billionaires\",\"Self Made Billionaires\",\"Self Made Billionaires\",\"Self Made Billionaires\",\"Self Made Billionaires\",\"Self Made Billionaires\",\"Self Made Billionaires\",\"Self Made Billionaires\",\"Self Made Billionaires\",\"Inherited Wealth\",\"Self Made Billionaires\",\"Self Made Billionaires\",\"Inherited Wealth\",\"Inherited Wealth\",\"Inherited Wealth\",\"Inherited Wealth\",\"Self Made Billionaires\",\"Inherited Wealth\",\"Inherited Wealth\",\"Self Made Billionaires\",\"Inherited Wealth\",\"Inherited Wealth\",\"Inherited Wealth\",\"Self Made Billionaires\",\"Self Made Billionaires\",\"Self Made Billionaires\",\"Self Made Billionaires\",\"Self Made Billionaires\",\"Self Made Billionaires\",\"Self Made Billionaires\",\"Self Made Billionaires\",\"Self Made Billionaires\",\"Self Made Billionaires\",\"Self Made Billionaires\",\"Self Made Billionaires\",\"Self Made Billionaires\",\"Self Made Billionaires\",\"Self Made Billionaires\",\"Self Made Billionaires\",\"Self Made Billionaires\",\"Self Made Billionaires\",\"Self Made Billionaires\",\"Self Made Billionaires\",\"Self Made Billionaires\",\"Self Made Billionaires\",\"Inherited Wealth\",\"Self Made Billionaires\",\"Self Made Billionaires\",\"Self Made Billionaires\",\"Self Made Billionaires\",\"Self Made Billionaires\",\"Self Made Billionaires\",\"Self Made Billionaires\",\"Self Made Billionaires\",\"Self Made Billionaires\",\"Self Made Billionaires\",\"Self Made Billionaires\",\"Self Made Billionaires\",\"Self Made Billionaires\",\"Self Made Billionaires\",\"Self Made Billionaires\",\"Self Made Billionaires\",\"Inherited Wealth\",\"Self Made Billionaires\",\"Self Made Billionaires\",\"Self Made Billionaires\",\"Self Made Billionaires\",\"Self Made Billionaires\",\"Self Made Billionaires\",\"Inherited Wealth\",\"Self Made Billionaires\",\"Self Made Billionaires\",\"Self Made Billionaires\",\"Self Made Billionaires\",\"Self Made Billionaires\",\"Self Made Billionaires\",\"Self Made Billionaires\",\"Self Made Billionaires\",\"Self Made Billionaires\",\"Self Made Billionaires\",\"Inherited Wealth\",\"Self Made Billionaires\",\"Self Made Billionaires\",\"Self Made Billionaires\",\"Inherited Wealth\",\"Self Made Billionaires\",\"Self Made Billionaires\",\"Inherited Wealth\",\"Inherited Wealth\",\"Self Made Billionaires\",\"Self Made Billionaires\",\"Self Made Billionaires\",\"Self Made Billionaires\",\"Self Made Billionaires\",\"Self Made Billionaires\",\"Self Made Billionaires\",\"Inherited Wealth\",\"Inherited Wealth\",\"Inherited Wealth\",\"Inherited Wealth\",\"Inherited Wealth\",\"Inherited Wealth\",\"Inherited Wealth\",\"Inherited Wealth\",\"Inherited Wealth\",\"Inherited Wealth\",\"Self Made Billionaires\",\"Inherited Wealth\",\"Self Made Billionaires\",\"Inherited Wealth\",\"Self Made Billionaires\",\"Inherited Wealth\",\"Self Made Billionaires\",\"Self Made Billionaires\",\"Self Made Billionaires\",\"Self Made Billionaires\",\"Inherited Wealth\",\"Self Made Billionaires\",\"Inherited Wealth\",\"Self Made Billionaires\",\"Self Made Billionaires\",\"Inherited Wealth\",\"Self Made Billionaires\",\"Self Made Billionaires\",\"Inherited Wealth\",\"Self Made Billionaires\",\"Inherited Wealth\",\"Self Made Billionaires\",\"Inherited Wealth\",\"Inherited Wealth\",\"Self Made Billionaires\",\"Self Made Billionaires\",\"Self Made Billionaires\",\"Inherited Wealth\",\"Self Made Billionaires\",\"Self Made Billionaires\",\"Self Made Billionaires\",\"Self Made Billionaires\",\"Self Made Billionaires\",\"Self Made Billionaires\",\"Self Made Billionaires\",\"Self Made Billionaires\",\"Inherited Wealth\",\"Self Made Billionaires\",\"Self Made Billionaires\",\"Self Made Billionaires\",\"Self Made Billionaires\",\"Self Made Billionaires\",\"Inherited Wealth\",\"Inherited Wealth\",\"Inherited Wealth\",\"Inherited Wealth\",\"Self Made Billionaires\",\"Self Made Billionaires\",\"Self Made Billionaires\",\"Inherited Wealth\",\"Inherited Wealth\",\"Self Made Billionaires\",\"Inherited Wealth\",\"Self Made Billionaires\",\"Self Made Billionaires\",\"Self Made Billionaires\",\"Self Made Billionaires\",\"Self Made Billionaires\",\"Self Made Billionaires\",\"Self Made Billionaires\",\"Inherited Wealth\",\"Self Made Billionaires\",\"Self Made Billionaires\",\"Self Made Billionaires\",\"Self Made Billionaires\",\"Self Made Billionaires\",\"Self Made Billionaires\",\"Self Made Billionaires\",\"Self Made Billionaires\",\"Self Made Billionaires\",\"Self Made Billionaires\",\"Self Made Billionaires\",\"Inherited Wealth\",\"Self Made Billionaires\",\"Self Made Billionaires\",\"Self Made Billionaires\",\"Self Made Billionaires\",\"Self Made Billionaires\",\"Self Made Billionaires\",\"Self Made Billionaires\",\"Inherited Wealth\",\"Inherited Wealth\",\"Inherited Wealth\",\"Self Made Billionaires\",\"Self Made Billionaires\",\"Self Made Billionaires\",\"Self Made Billionaires\",\"Self Made Billionaires\",\"Self Made Billionaires\",\"Self Made Billionaires\",\"Self Made Billionaires\",\"Self Made Billionaires\",\"Self Made Billionaires\",\"Self Made Billionaires\",\"Self Made Billionaires\",\"Self Made Billionaires\",\"Self Made Billionaires\",\"Inherited Wealth\",\"Inherited Wealth\",\"Self Made Billionaires\",\"Self Made Billionaires\",\"Self Made Billionaires\",\"Self Made Billionaires\",\"Self Made Billionaires\",\"Self Made Billionaires\",\"Inherited Wealth\",\"Self Made Billionaires\",\"Self Made Billionaires\",\"Inherited Wealth\",\"Self Made Billionaires\",\"Inherited Wealth\",\"Self Made Billionaires\",\"Inherited Wealth\",\"Self Made Billionaires\",\"Self Made Billionaires\",\"Self Made Billionaires\",\"Self Made Billionaires\",\"Self Made Billionaires\",\"Self Made Billionaires\",\"Self Made Billionaires\",\"Self Made Billionaires\",\"Self Made Billionaires\",\"Self Made Billionaires\",\"Self Made Billionaires\",\"Self Made Billionaires\",\"Self Made Billionaires\",\"Self Made Billionaires\",\"Inherited Wealth\",\"Self Made Billionaires\",\"Self Made Billionaires\",\"Self Made Billionaires\",\"Self Made Billionaires\",\"Self Made Billionaires\",\"Self Made Billionaires\",\"Self Made Billionaires\",\"Inherited Wealth\",\"Self Made Billionaires\",\"Self Made Billionaires\",\"Inherited Wealth\",\"Self Made Billionaires\",\"Self Made Billionaires\",\"Self Made Billionaires\",\"Self Made Billionaires\",\"Self Made Billionaires\",\"Inherited Wealth\",\"Self Made Billionaires\",\"Self Made Billionaires\",\"Self Made Billionaires\",\"Self Made Billionaires\",\"Self Made Billionaires\",\"Self Made Billionaires\",\"Inherited Wealth\",\"Self Made Billionaires\",\"Self Made Billionaires\",\"Self Made Billionaires\",\"Self Made Billionaires\",\"Self Made Billionaires\",\"Inherited Wealth\",\"Inherited Wealth\",\"Self Made Billionaires\",\"Self Made Billionaires\",\"Inherited Wealth\",\"Inherited Wealth\",\"Self Made Billionaires\",\"Self Made Billionaires\",\"Inherited Wealth\",\"Self Made Billionaires\",\"Self Made Billionaires\",\"Inherited Wealth\",\"Self Made Billionaires\",\"Self Made Billionaires\",\"Inherited Wealth\",\"Inherited Wealth\",\"Inherited Wealth\",\"Self Made Billionaires\",\"Self Made Billionaires\",\"Self Made Billionaires\",\"Inherited Wealth\",\"Self Made Billionaires\",\"Self Made Billionaires\",\"Self Made Billionaires\",\"Self Made Billionaires\",\"Self Made Billionaires\",\"Self Made Billionaires\",\"Self Made Billionaires\",\"Self Made Billionaires\",\"Self Made Billionaires\",\"Self Made Billionaires\",\"Self Made Billionaires\",\"Self Made Billionaires\",\"Self Made Billionaires\",\"Self Made Billionaires\",\"Self Made Billionaires\",\"Self Made Billionaires\",\"Self Made Billionaires\",\"Self Made Billionaires\",\"Inherited Wealth\",\"Self Made Billionaires\",\"Inherited Wealth\",\"Self Made Billionaires\",\"Self Made Billionaires\",\"Self Made Billionaires\",\"Inherited Wealth\",\"Inherited Wealth\",\"Inherited Wealth\",\"Self Made Billionaires\",\"Self Made Billionaires\",\"Inherited Wealth\",\"Inherited Wealth\",\"Inherited Wealth\",\"Self Made Billionaires\",\"Self Made Billionaires\",\"Self Made Billionaires\",\"Inherited Wealth\",\"Self Made Billionaires\",\"Inherited Wealth\",\"Self Made Billionaires\",\"Self Made Billionaires\",\"Inherited Wealth\",\"Self Made Billionaires\",\"Inherited Wealth\",\"Self Made Billionaires\",\"Inherited Wealth\",\"Inherited Wealth\",\"Self Made Billionaires\",\"Inherited Wealth\",\"Self Made Billionaires\",\"Self Made Billionaires\",\"Self Made Billionaires\",\"Inherited Wealth\",\"Self Made Billionaires\",\"Self Made Billionaires\",\"Self Made Billionaires\",\"Self Made Billionaires\",\"Inherited Wealth\",\"Self Made Billionaires\",\"Self Made Billionaires\",\"Self Made Billionaires\",\"Inherited Wealth\",\"Self Made Billionaires\",\"Self Made Billionaires\",\"Self Made Billionaires\",\"Inherited Wealth\",\"Self Made Billionaires\",\"Self Made Billionaires\",\"Self Made Billionaires\",\"Self Made Billionaires\",\"Self Made Billionaires\",\"Inherited Wealth\",\"Inherited Wealth\",\"Inherited Wealth\",\"Self Made Billionaires\",\"Self Made Billionaires\",\"Self Made Billionaires\",\"Self Made Billionaires\",\"Self Made Billionaires\",\"Self Made Billionaires\",\"Self Made Billionaires\",\"Self Made Billionaires\",\"Self Made Billionaires\",\"Inherited Wealth\",\"Inherited Wealth\",\"Inherited Wealth\",\"Inherited Wealth\",\"Inherited Wealth\",\"Self Made Billionaires\",\"Inherited Wealth\",\"Self Made Billionaires\",\"Self Made Billionaires\",\"Self Made Billionaires\",\"Self Made Billionaires\",\"Inherited Wealth\",\"Self Made Billionaires\",\"Inherited Wealth\",\"Inherited Wealth\",\"Self Made Billionaires\",\"Self Made Billionaires\",\"Self Made Billionaires\",\"Self Made Billionaires\",\"Self Made Billionaires\",\"Inherited Wealth\",\"Self Made Billionaires\",\"Self Made Billionaires\",\"Self Made Billionaires\",\"Self Made Billionaires\",\"Inherited Wealth\",\"Self Made Billionaires\",\"Inherited Wealth\",\"Self Made Billionaires\",\"Inherited Wealth\",\"Inherited Wealth\",\"Self Made Billionaires\",\"Self Made Billionaires\",\"Self Made Billionaires\",\"Self Made Billionaires\",\"Inherited Wealth\",\"Inherited Wealth\",\"Inherited Wealth\",\"Self Made Billionaires\",\"Self Made Billionaires\",\"Inherited Wealth\",\"Inherited Wealth\",\"Self Made Billionaires\",\"Self Made Billionaires\",\"Self Made Billionaires\",\"Self Made Billionaires\",\"Self Made Billionaires\",\"Self Made Billionaires\",\"Self Made Billionaires\",\"Inherited Wealth\",\"Self Made Billionaires\",\"Self Made Billionaires\",\"Self Made Billionaires\",\"Self Made Billionaires\",\"Self Made Billionaires\",\"Self Made Billionaires\",\"Self Made Billionaires\",\"Self Made Billionaires\",\"Self Made Billionaires\",\"Self Made Billionaires\",\"Inherited Wealth\",\"Self Made Billionaires\",\"Self Made Billionaires\",\"Inherited Wealth\",\"Inherited Wealth\",\"Self Made Billionaires\",\"Self Made Billionaires\",\"Self Made Billionaires\",\"Self Made Billionaires\",\"Self Made Billionaires\",\"Self Made Billionaires\",\"Self Made Billionaires\",\"Self Made Billionaires\",\"Self Made Billionaires\",\"Self Made Billionaires\",\"Self Made Billionaires\",\"Self Made Billionaires\",\"Self Made Billionaires\",\"Self Made Billionaires\",\"Self Made Billionaires\",\"Self Made Billionaires\",\"Self Made Billionaires\",\"Self Made Billionaires\",\"Inherited Wealth\",\"Self Made Billionaires\",\"Inherited Wealth\",\"Self Made Billionaires\",\"Self Made Billionaires\",\"Self Made Billionaires\",\"Self Made Billionaires\",\"Self Made Billionaires\",\"Self Made Billionaires\",\"Inherited Wealth\",\"Self Made Billionaires\",\"Inherited Wealth\",\"Self Made Billionaires\",\"Self Made Billionaires\",\"Inherited Wealth\",\"Inherited Wealth\",\"Self Made Billionaires\",\"Self Made Billionaires\",\"Self Made Billionaires\",\"Self Made Billionaires\",\"Self Made Billionaires\",\"Self Made Billionaires\",\"Self Made Billionaires\",\"Self Made Billionaires\",\"Self Made Billionaires\",\"Inherited Wealth\",\"Self Made Billionaires\",\"Self Made Billionaires\",\"Self Made Billionaires\",\"Self Made Billionaires\",\"Inherited Wealth\",\"Inherited Wealth\",\"Self Made Billionaires\",\"Self Made Billionaires\",\"Inherited Wealth\",\"Self Made Billionaires\",\"Self Made Billionaires\",\"Self Made Billionaires\",\"Inherited Wealth\",\"Self Made Billionaires\",\"Self Made Billionaires\",\"Self Made Billionaires\",\"Self Made Billionaires\",\"Inherited Wealth\",\"Inherited Wealth\",\"Self Made Billionaires\",\"Inherited Wealth\",\"Inherited Wealth\",\"Self Made Billionaires\",\"Self Made Billionaires\",\"Self Made Billionaires\",\"Inherited Wealth\",\"Inherited Wealth\",\"Self Made Billionaires\",\"Self Made Billionaires\",\"Inherited Wealth\",\"Inherited Wealth\",\"Inherited Wealth\",\"Self Made Billionaires\",\"Inherited Wealth\",\"Self Made Billionaires\",\"Self Made Billionaires\",\"Self Made Billionaires\",\"Inherited Wealth\",\"Self Made Billionaires\",\"Self Made Billionaires\",\"Inherited Wealth\",\"Self Made Billionaires\",\"Self Made Billionaires\",\"Inherited Wealth\",\"Inherited Wealth\",\"Inherited Wealth\",\"Self Made Billionaires\",\"Self Made Billionaires\",\"Inherited Wealth\",\"Self Made Billionaires\",\"Self Made Billionaires\",\"Self Made Billionaires\",\"Inherited Wealth\",\"Inherited Wealth\",\"Inherited Wealth\",\"Self Made Billionaires\",\"Inherited Wealth\",\"Self Made Billionaires\",\"Self Made Billionaires\",\"Self Made Billionaires\",\"Inherited Wealth\",\"Self Made Billionaires\",\"Self Made Billionaires\",\"Inherited Wealth\",\"Self Made Billionaires\",\"Self Made Billionaires\",\"Inherited Wealth\",\"Self Made Billionaires\",\"Self Made Billionaires\",\"Self Made Billionaires\",\"Inherited Wealth\",\"Self Made Billionaires\",\"Self Made Billionaires\",\"Self Made Billionaires\",\"Self Made Billionaires\",\"Self Made Billionaires\",\"Self Made Billionaires\",\"Self Made Billionaires\",\"Inherited Wealth\",\"Self Made Billionaires\",\"Self Made Billionaires\",\"Self Made Billionaires\",\"Inherited Wealth\",\"Self Made Billionaires\",\"Inherited Wealth\",\"Self Made Billionaires\",\"Self Made Billionaires\",\"Self Made Billionaires\",\"Self Made Billionaires\",\"Self Made Billionaires\",\"Self Made Billionaires\",\"Self Made Billionaires\",\"Self Made Billionaires\",\"Self Made Billionaires\",\"Self Made Billionaires\",\"Self Made Billionaires\",\"Self Made Billionaires\",\"Self Made Billionaires\",\"Self Made Billionaires\",\"Self Made Billionaires\",\"Inherited Wealth\",\"Self Made Billionaires\",\"Self Made Billionaires\",\"Self Made Billionaires\",\"Self Made Billionaires\",\"Self Made Billionaires\",\"Inherited Wealth\",\"Inherited Wealth\",\"Self Made Billionaires\",\"Self Made Billionaires\",\"Inherited Wealth\",\"Inherited Wealth\",\"Inherited Wealth\",\"Inherited Wealth\",\"Inherited Wealth\",\"Self Made Billionaires\",\"Inherited Wealth\",\"Self Made Billionaires\",\"Inherited Wealth\",\"Self Made Billionaires\",\"Self Made Billionaires\",\"Self Made Billionaires\",\"Self Made Billionaires\",\"Self Made Billionaires\",\"Self Made Billionaires\",\"Self Made Billionaires\",\"Self Made Billionaires\",\"Self Made Billionaires\",\"Self Made Billionaires\",\"Self Made Billionaires\",\"Self Made Billionaires\",\"Self Made Billionaires\",\"Self Made Billionaires\",\"Inherited Wealth\",\"Inherited Wealth\",\"Self Made Billionaires\",\"Self Made Billionaires\",\"Self Made Billionaires\",\"Inherited Wealth\",\"Inherited Wealth\",\"Self Made Billionaires\",\"Self Made Billionaires\",\"Inherited Wealth\",\"Self Made Billionaires\",\"Inherited Wealth\",\"Self Made Billionaires\",\"Self Made Billionaires\",\"Self Made Billionaires\",\"Self Made Billionaires\",\"Self Made Billionaires\",\"Inherited Wealth\",\"Self Made Billionaires\",\"Self Made Billionaires\",\"Self Made Billionaires\",\"Self Made Billionaires\",\"Self Made Billionaires\",\"Self Made Billionaires\",\"Self Made Billionaires\",\"Self Made Billionaires\",\"Self Made Billionaires\",\"Inherited Wealth\",\"Self Made Billionaires\",\"Self Made Billionaires\",\"Self Made Billionaires\",\"Self Made Billionaires\",\"Self Made Billionaires\",\"Self Made Billionaires\",\"Self Made Billionaires\",\"Self Made Billionaires\",\"Self Made Billionaires\",\"Self Made Billionaires\",\"Inherited Wealth\",\"Inherited Wealth\",\"Self Made Billionaires\",\"Self Made Billionaires\",\"Inherited Wealth\",\"Self Made Billionaires\",\"Self Made Billionaires\",\"Inherited Wealth\",\"Self Made Billionaires\",\"Self Made Billionaires\",\"Self Made Billionaires\",\"Self Made Billionaires\",\"Self Made Billionaires\",\"Self Made Billionaires\",\"Self Made Billionaires\",\"Inherited Wealth\",\"Inherited Wealth\",\"Self Made Billionaires\",\"Self Made Billionaires\",\"Self Made Billionaires\",\"Self Made Billionaires\",\"Self Made Billionaires\",\"Self Made Billionaires\",\"Self Made Billionaires\",\"Self Made Billionaires\",\"Self Made Billionaires\",\"Self Made Billionaires\",\"Inherited Wealth\",\"Self Made Billionaires\",\"Self Made Billionaires\",\"Self Made Billionaires\",\"Self Made Billionaires\",\"Self Made Billionaires\",\"Inherited Wealth\",\"Self Made Billionaires\",\"Self Made Billionaires\",\"Inherited Wealth\"],\"legendgroup\":\"\",\"name\":\"\",\"showlegend\":true,\"type\":\"pie\"}],                        {\"template\":{\"data\":{\"histogram2dcontour\":[{\"type\":\"histogram2dcontour\",\"colorbar\":{\"outlinewidth\":0,\"ticks\":\"\"},\"colorscale\":[[0.0,\"#0d0887\"],[0.1111111111111111,\"#46039f\"],[0.2222222222222222,\"#7201a8\"],[0.3333333333333333,\"#9c179e\"],[0.4444444444444444,\"#bd3786\"],[0.5555555555555556,\"#d8576b\"],[0.6666666666666666,\"#ed7953\"],[0.7777777777777778,\"#fb9f3a\"],[0.8888888888888888,\"#fdca26\"],[1.0,\"#f0f921\"]]}],\"choropleth\":[{\"type\":\"choropleth\",\"colorbar\":{\"outlinewidth\":0,\"ticks\":\"\"}}],\"histogram2d\":[{\"type\":\"histogram2d\",\"colorbar\":{\"outlinewidth\":0,\"ticks\":\"\"},\"colorscale\":[[0.0,\"#0d0887\"],[0.1111111111111111,\"#46039f\"],[0.2222222222222222,\"#7201a8\"],[0.3333333333333333,\"#9c179e\"],[0.4444444444444444,\"#bd3786\"],[0.5555555555555556,\"#d8576b\"],[0.6666666666666666,\"#ed7953\"],[0.7777777777777778,\"#fb9f3a\"],[0.8888888888888888,\"#fdca26\"],[1.0,\"#f0f921\"]]}],\"heatmap\":[{\"type\":\"heatmap\",\"colorbar\":{\"outlinewidth\":0,\"ticks\":\"\"},\"colorscale\":[[0.0,\"#0d0887\"],[0.1111111111111111,\"#46039f\"],[0.2222222222222222,\"#7201a8\"],[0.3333333333333333,\"#9c179e\"],[0.4444444444444444,\"#bd3786\"],[0.5555555555555556,\"#d8576b\"],[0.6666666666666666,\"#ed7953\"],[0.7777777777777778,\"#fb9f3a\"],[0.8888888888888888,\"#fdca26\"],[1.0,\"#f0f921\"]]}],\"heatmapgl\":[{\"type\":\"heatmapgl\",\"colorbar\":{\"outlinewidth\":0,\"ticks\":\"\"},\"colorscale\":[[0.0,\"#0d0887\"],[0.1111111111111111,\"#46039f\"],[0.2222222222222222,\"#7201a8\"],[0.3333333333333333,\"#9c179e\"],[0.4444444444444444,\"#bd3786\"],[0.5555555555555556,\"#d8576b\"],[0.6666666666666666,\"#ed7953\"],[0.7777777777777778,\"#fb9f3a\"],[0.8888888888888888,\"#fdca26\"],[1.0,\"#f0f921\"]]}],\"contourcarpet\":[{\"type\":\"contourcarpet\",\"colorbar\":{\"outlinewidth\":0,\"ticks\":\"\"}}],\"contour\":[{\"type\":\"contour\",\"colorbar\":{\"outlinewidth\":0,\"ticks\":\"\"},\"colorscale\":[[0.0,\"#0d0887\"],[0.1111111111111111,\"#46039f\"],[0.2222222222222222,\"#7201a8\"],[0.3333333333333333,\"#9c179e\"],[0.4444444444444444,\"#bd3786\"],[0.5555555555555556,\"#d8576b\"],[0.6666666666666666,\"#ed7953\"],[0.7777777777777778,\"#fb9f3a\"],[0.8888888888888888,\"#fdca26\"],[1.0,\"#f0f921\"]]}],\"surface\":[{\"type\":\"surface\",\"colorbar\":{\"outlinewidth\":0,\"ticks\":\"\"},\"colorscale\":[[0.0,\"#0d0887\"],[0.1111111111111111,\"#46039f\"],[0.2222222222222222,\"#7201a8\"],[0.3333333333333333,\"#9c179e\"],[0.4444444444444444,\"#bd3786\"],[0.5555555555555556,\"#d8576b\"],[0.6666666666666666,\"#ed7953\"],[0.7777777777777778,\"#fb9f3a\"],[0.8888888888888888,\"#fdca26\"],[1.0,\"#f0f921\"]]}],\"mesh3d\":[{\"type\":\"mesh3d\",\"colorbar\":{\"outlinewidth\":0,\"ticks\":\"\"}}],\"scatter\":[{\"fillpattern\":{\"fillmode\":\"overlay\",\"size\":10,\"solidity\":0.2},\"type\":\"scatter\"}],\"parcoords\":[{\"type\":\"parcoords\",\"line\":{\"colorbar\":{\"outlinewidth\":0,\"ticks\":\"\"}}}],\"scatterpolargl\":[{\"type\":\"scatterpolargl\",\"marker\":{\"colorbar\":{\"outlinewidth\":0,\"ticks\":\"\"}}}],\"bar\":[{\"error_x\":{\"color\":\"#2a3f5f\"},\"error_y\":{\"color\":\"#2a3f5f\"},\"marker\":{\"line\":{\"color\":\"#E5ECF6\",\"width\":0.5},\"pattern\":{\"fillmode\":\"overlay\",\"size\":10,\"solidity\":0.2}},\"type\":\"bar\"}],\"scattergeo\":[{\"type\":\"scattergeo\",\"marker\":{\"colorbar\":{\"outlinewidth\":0,\"ticks\":\"\"}}}],\"scatterpolar\":[{\"type\":\"scatterpolar\",\"marker\":{\"colorbar\":{\"outlinewidth\":0,\"ticks\":\"\"}}}],\"histogram\":[{\"marker\":{\"pattern\":{\"fillmode\":\"overlay\",\"size\":10,\"solidity\":0.2}},\"type\":\"histogram\"}],\"scattergl\":[{\"type\":\"scattergl\",\"marker\":{\"colorbar\":{\"outlinewidth\":0,\"ticks\":\"\"}}}],\"scatter3d\":[{\"type\":\"scatter3d\",\"line\":{\"colorbar\":{\"outlinewidth\":0,\"ticks\":\"\"}},\"marker\":{\"colorbar\":{\"outlinewidth\":0,\"ticks\":\"\"}}}],\"scattermapbox\":[{\"type\":\"scattermapbox\",\"marker\":{\"colorbar\":{\"outlinewidth\":0,\"ticks\":\"\"}}}],\"scatterternary\":[{\"type\":\"scatterternary\",\"marker\":{\"colorbar\":{\"outlinewidth\":0,\"ticks\":\"\"}}}],\"scattercarpet\":[{\"type\":\"scattercarpet\",\"marker\":{\"colorbar\":{\"outlinewidth\":0,\"ticks\":\"\"}}}],\"carpet\":[{\"aaxis\":{\"endlinecolor\":\"#2a3f5f\",\"gridcolor\":\"white\",\"linecolor\":\"white\",\"minorgridcolor\":\"white\",\"startlinecolor\":\"#2a3f5f\"},\"baxis\":{\"endlinecolor\":\"#2a3f5f\",\"gridcolor\":\"white\",\"linecolor\":\"white\",\"minorgridcolor\":\"white\",\"startlinecolor\":\"#2a3f5f\"},\"type\":\"carpet\"}],\"table\":[{\"cells\":{\"fill\":{\"color\":\"#EBF0F8\"},\"line\":{\"color\":\"white\"}},\"header\":{\"fill\":{\"color\":\"#C8D4E3\"},\"line\":{\"color\":\"white\"}},\"type\":\"table\"}],\"barpolar\":[{\"marker\":{\"line\":{\"color\":\"#E5ECF6\",\"width\":0.5},\"pattern\":{\"fillmode\":\"overlay\",\"size\":10,\"solidity\":0.2}},\"type\":\"barpolar\"}],\"pie\":[{\"automargin\":true,\"type\":\"pie\"}]},\"layout\":{\"autotypenumbers\":\"strict\",\"colorway\":[\"#636efa\",\"#EF553B\",\"#00cc96\",\"#ab63fa\",\"#FFA15A\",\"#19d3f3\",\"#FF6692\",\"#B6E880\",\"#FF97FF\",\"#FECB52\"],\"font\":{\"color\":\"#2a3f5f\"},\"hovermode\":\"closest\",\"hoverlabel\":{\"align\":\"left\"},\"paper_bgcolor\":\"white\",\"plot_bgcolor\":\"#E5ECF6\",\"polar\":{\"bgcolor\":\"#E5ECF6\",\"angularaxis\":{\"gridcolor\":\"white\",\"linecolor\":\"white\",\"ticks\":\"\"},\"radialaxis\":{\"gridcolor\":\"white\",\"linecolor\":\"white\",\"ticks\":\"\"}},\"ternary\":{\"bgcolor\":\"#E5ECF6\",\"aaxis\":{\"gridcolor\":\"white\",\"linecolor\":\"white\",\"ticks\":\"\"},\"baxis\":{\"gridcolor\":\"white\",\"linecolor\":\"white\",\"ticks\":\"\"},\"caxis\":{\"gridcolor\":\"white\",\"linecolor\":\"white\",\"ticks\":\"\"}},\"coloraxis\":{\"colorbar\":{\"outlinewidth\":0,\"ticks\":\"\"}},\"colorscale\":{\"sequential\":[[0.0,\"#0d0887\"],[0.1111111111111111,\"#46039f\"],[0.2222222222222222,\"#7201a8\"],[0.3333333333333333,\"#9c179e\"],[0.4444444444444444,\"#bd3786\"],[0.5555555555555556,\"#d8576b\"],[0.6666666666666666,\"#ed7953\"],[0.7777777777777778,\"#fb9f3a\"],[0.8888888888888888,\"#fdca26\"],[1.0,\"#f0f921\"]],\"sequentialminus\":[[0.0,\"#0d0887\"],[0.1111111111111111,\"#46039f\"],[0.2222222222222222,\"#7201a8\"],[0.3333333333333333,\"#9c179e\"],[0.4444444444444444,\"#bd3786\"],[0.5555555555555556,\"#d8576b\"],[0.6666666666666666,\"#ed7953\"],[0.7777777777777778,\"#fb9f3a\"],[0.8888888888888888,\"#fdca26\"],[1.0,\"#f0f921\"]],\"diverging\":[[0,\"#8e0152\"],[0.1,\"#c51b7d\"],[0.2,\"#de77ae\"],[0.3,\"#f1b6da\"],[0.4,\"#fde0ef\"],[0.5,\"#f7f7f7\"],[0.6,\"#e6f5d0\"],[0.7,\"#b8e186\"],[0.8,\"#7fbc41\"],[0.9,\"#4d9221\"],[1,\"#276419\"]]},\"xaxis\":{\"gridcolor\":\"white\",\"linecolor\":\"white\",\"ticks\":\"\",\"title\":{\"standoff\":15},\"zerolinecolor\":\"white\",\"automargin\":true,\"zerolinewidth\":2},\"yaxis\":{\"gridcolor\":\"white\",\"linecolor\":\"white\",\"ticks\":\"\",\"title\":{\"standoff\":15},\"zerolinecolor\":\"white\",\"automargin\":true,\"zerolinewidth\":2},\"scene\":{\"xaxis\":{\"backgroundcolor\":\"#E5ECF6\",\"gridcolor\":\"white\",\"linecolor\":\"white\",\"showbackground\":true,\"ticks\":\"\",\"zerolinecolor\":\"white\",\"gridwidth\":2},\"yaxis\":{\"backgroundcolor\":\"#E5ECF6\",\"gridcolor\":\"white\",\"linecolor\":\"white\",\"showbackground\":true,\"ticks\":\"\",\"zerolinecolor\":\"white\",\"gridwidth\":2},\"zaxis\":{\"backgroundcolor\":\"#E5ECF6\",\"gridcolor\":\"white\",\"linecolor\":\"white\",\"showbackground\":true,\"ticks\":\"\",\"zerolinecolor\":\"white\",\"gridwidth\":2}},\"shapedefaults\":{\"line\":{\"color\":\"#2a3f5f\"}},\"annotationdefaults\":{\"arrowcolor\":\"#2a3f5f\",\"arrowhead\":0,\"arrowwidth\":1},\"geo\":{\"bgcolor\":\"white\",\"landcolor\":\"#E5ECF6\",\"subunitcolor\":\"white\",\"showland\":true,\"showlakes\":true,\"lakecolor\":\"white\"},\"title\":{\"x\":0.05},\"mapbox\":{\"style\":\"light\"}}},\"legend\":{\"tracegroupgap\":0},\"title\":{\"text\":\"Selfmade vs Inherited\"}},                        {\"responsive\": true}                    ).then(function(){\n",
       "                            \n",
       "var gd = document.getElementById('3ad0e37c-f4a1-44a2-8593-3fcdb4ae7111');\n",
       "var x = new MutationObserver(function (mutations, observer) {{\n",
       "        var display = window.getComputedStyle(gd).display;\n",
       "        if (!display || display === 'none') {{\n",
       "            console.log([gd, 'removed!']);\n",
       "            Plotly.purge(gd);\n",
       "            observer.disconnect();\n",
       "        }}\n",
       "}});\n",
       "\n",
       "// Listen for the removal of the full notebook cells\n",
       "var notebookContainer = gd.closest('#notebook-container');\n",
       "if (notebookContainer) {{\n",
       "    x.observe(notebookContainer, {childList: true});\n",
       "}}\n",
       "\n",
       "// Listen for the clearing of the current output cell\n",
       "var outputEl = gd.closest('.output');\n",
       "if (outputEl) {{\n",
       "    x.observe(outputEl, {childList: true});\n",
       "}}\n",
       "\n",
       "                        })                };                });            </script>        </div>"
      ]
     },
     "metadata": {},
     "output_type": "display_data"
    },
    {
     "data": {
      "application/vnd.plotly.v1+json": {
       "config": {
        "plotlyServerURL": "https://plot.ly"
       },
       "data": [
        {
         "alignmentgroup": "True",
         "hovertemplate": "Status=Inherited Wealth<br>gender=%{x}<br>Count=%{y}<extra></extra>",
         "legendgroup": "Inherited Wealth",
         "marker": {
          "color": "#636efa",
          "pattern": {
           "shape": ""
          }
         },
         "name": "Inherited Wealth",
         "offsetgroup": "Inherited Wealth",
         "orientation": "v",
         "showlegend": true,
         "textposition": "auto",
         "type": "bar",
         "x": [
          "F",
          "M"
         ],
         "xaxis": "x",
         "y": [
          241,
          587
         ],
         "yaxis": "y"
        },
        {
         "alignmentgroup": "True",
         "hovertemplate": "Status=Self Made Billionaires<br>gender=%{x}<br>Count=%{y}<extra></extra>",
         "legendgroup": "Self Made Billionaires",
         "marker": {
          "color": "#EF553B",
          "pattern": {
           "shape": ""
          }
         },
         "name": "Self Made Billionaires",
         "offsetgroup": "Self Made Billionaires",
         "orientation": "v",
         "showlegend": true,
         "textposition": "auto",
         "type": "bar",
         "x": [
          "F",
          "M"
         ],
         "xaxis": "x",
         "y": [
          96,
          1716
         ],
         "yaxis": "y"
        }
       ],
       "layout": {
        "barmode": "relative",
        "legend": {
         "title": {
          "text": "Status"
         },
         "tracegroupgap": 0
        },
        "template": {
         "data": {
          "bar": [
           {
            "error_x": {
             "color": "#2a3f5f"
            },
            "error_y": {
             "color": "#2a3f5f"
            },
            "marker": {
             "line": {
              "color": "#E5ECF6",
              "width": 0.5
             },
             "pattern": {
              "fillmode": "overlay",
              "size": 10,
              "solidity": 0.2
             }
            },
            "type": "bar"
           }
          ],
          "barpolar": [
           {
            "marker": {
             "line": {
              "color": "#E5ECF6",
              "width": 0.5
             },
             "pattern": {
              "fillmode": "overlay",
              "size": 10,
              "solidity": 0.2
             }
            },
            "type": "barpolar"
           }
          ],
          "carpet": [
           {
            "aaxis": {
             "endlinecolor": "#2a3f5f",
             "gridcolor": "white",
             "linecolor": "white",
             "minorgridcolor": "white",
             "startlinecolor": "#2a3f5f"
            },
            "baxis": {
             "endlinecolor": "#2a3f5f",
             "gridcolor": "white",
             "linecolor": "white",
             "minorgridcolor": "white",
             "startlinecolor": "#2a3f5f"
            },
            "type": "carpet"
           }
          ],
          "choropleth": [
           {
            "colorbar": {
             "outlinewidth": 0,
             "ticks": ""
            },
            "type": "choropleth"
           }
          ],
          "contour": [
           {
            "colorbar": {
             "outlinewidth": 0,
             "ticks": ""
            },
            "colorscale": [
             [
              0,
              "#0d0887"
             ],
             [
              0.1111111111111111,
              "#46039f"
             ],
             [
              0.2222222222222222,
              "#7201a8"
             ],
             [
              0.3333333333333333,
              "#9c179e"
             ],
             [
              0.4444444444444444,
              "#bd3786"
             ],
             [
              0.5555555555555556,
              "#d8576b"
             ],
             [
              0.6666666666666666,
              "#ed7953"
             ],
             [
              0.7777777777777778,
              "#fb9f3a"
             ],
             [
              0.8888888888888888,
              "#fdca26"
             ],
             [
              1,
              "#f0f921"
             ]
            ],
            "type": "contour"
           }
          ],
          "contourcarpet": [
           {
            "colorbar": {
             "outlinewidth": 0,
             "ticks": ""
            },
            "type": "contourcarpet"
           }
          ],
          "heatmap": [
           {
            "colorbar": {
             "outlinewidth": 0,
             "ticks": ""
            },
            "colorscale": [
             [
              0,
              "#0d0887"
             ],
             [
              0.1111111111111111,
              "#46039f"
             ],
             [
              0.2222222222222222,
              "#7201a8"
             ],
             [
              0.3333333333333333,
              "#9c179e"
             ],
             [
              0.4444444444444444,
              "#bd3786"
             ],
             [
              0.5555555555555556,
              "#d8576b"
             ],
             [
              0.6666666666666666,
              "#ed7953"
             ],
             [
              0.7777777777777778,
              "#fb9f3a"
             ],
             [
              0.8888888888888888,
              "#fdca26"
             ],
             [
              1,
              "#f0f921"
             ]
            ],
            "type": "heatmap"
           }
          ],
          "heatmapgl": [
           {
            "colorbar": {
             "outlinewidth": 0,
             "ticks": ""
            },
            "colorscale": [
             [
              0,
              "#0d0887"
             ],
             [
              0.1111111111111111,
              "#46039f"
             ],
             [
              0.2222222222222222,
              "#7201a8"
             ],
             [
              0.3333333333333333,
              "#9c179e"
             ],
             [
              0.4444444444444444,
              "#bd3786"
             ],
             [
              0.5555555555555556,
              "#d8576b"
             ],
             [
              0.6666666666666666,
              "#ed7953"
             ],
             [
              0.7777777777777778,
              "#fb9f3a"
             ],
             [
              0.8888888888888888,
              "#fdca26"
             ],
             [
              1,
              "#f0f921"
             ]
            ],
            "type": "heatmapgl"
           }
          ],
          "histogram": [
           {
            "marker": {
             "pattern": {
              "fillmode": "overlay",
              "size": 10,
              "solidity": 0.2
             }
            },
            "type": "histogram"
           }
          ],
          "histogram2d": [
           {
            "colorbar": {
             "outlinewidth": 0,
             "ticks": ""
            },
            "colorscale": [
             [
              0,
              "#0d0887"
             ],
             [
              0.1111111111111111,
              "#46039f"
             ],
             [
              0.2222222222222222,
              "#7201a8"
             ],
             [
              0.3333333333333333,
              "#9c179e"
             ],
             [
              0.4444444444444444,
              "#bd3786"
             ],
             [
              0.5555555555555556,
              "#d8576b"
             ],
             [
              0.6666666666666666,
              "#ed7953"
             ],
             [
              0.7777777777777778,
              "#fb9f3a"
             ],
             [
              0.8888888888888888,
              "#fdca26"
             ],
             [
              1,
              "#f0f921"
             ]
            ],
            "type": "histogram2d"
           }
          ],
          "histogram2dcontour": [
           {
            "colorbar": {
             "outlinewidth": 0,
             "ticks": ""
            },
            "colorscale": [
             [
              0,
              "#0d0887"
             ],
             [
              0.1111111111111111,
              "#46039f"
             ],
             [
              0.2222222222222222,
              "#7201a8"
             ],
             [
              0.3333333333333333,
              "#9c179e"
             ],
             [
              0.4444444444444444,
              "#bd3786"
             ],
             [
              0.5555555555555556,
              "#d8576b"
             ],
             [
              0.6666666666666666,
              "#ed7953"
             ],
             [
              0.7777777777777778,
              "#fb9f3a"
             ],
             [
              0.8888888888888888,
              "#fdca26"
             ],
             [
              1,
              "#f0f921"
             ]
            ],
            "type": "histogram2dcontour"
           }
          ],
          "mesh3d": [
           {
            "colorbar": {
             "outlinewidth": 0,
             "ticks": ""
            },
            "type": "mesh3d"
           }
          ],
          "parcoords": [
           {
            "line": {
             "colorbar": {
              "outlinewidth": 0,
              "ticks": ""
             }
            },
            "type": "parcoords"
           }
          ],
          "pie": [
           {
            "automargin": true,
            "type": "pie"
           }
          ],
          "scatter": [
           {
            "fillpattern": {
             "fillmode": "overlay",
             "size": 10,
             "solidity": 0.2
            },
            "type": "scatter"
           }
          ],
          "scatter3d": [
           {
            "line": {
             "colorbar": {
              "outlinewidth": 0,
              "ticks": ""
             }
            },
            "marker": {
             "colorbar": {
              "outlinewidth": 0,
              "ticks": ""
             }
            },
            "type": "scatter3d"
           }
          ],
          "scattercarpet": [
           {
            "marker": {
             "colorbar": {
              "outlinewidth": 0,
              "ticks": ""
             }
            },
            "type": "scattercarpet"
           }
          ],
          "scattergeo": [
           {
            "marker": {
             "colorbar": {
              "outlinewidth": 0,
              "ticks": ""
             }
            },
            "type": "scattergeo"
           }
          ],
          "scattergl": [
           {
            "marker": {
             "colorbar": {
              "outlinewidth": 0,
              "ticks": ""
             }
            },
            "type": "scattergl"
           }
          ],
          "scattermapbox": [
           {
            "marker": {
             "colorbar": {
              "outlinewidth": 0,
              "ticks": ""
             }
            },
            "type": "scattermapbox"
           }
          ],
          "scatterpolar": [
           {
            "marker": {
             "colorbar": {
              "outlinewidth": 0,
              "ticks": ""
             }
            },
            "type": "scatterpolar"
           }
          ],
          "scatterpolargl": [
           {
            "marker": {
             "colorbar": {
              "outlinewidth": 0,
              "ticks": ""
             }
            },
            "type": "scatterpolargl"
           }
          ],
          "scatterternary": [
           {
            "marker": {
             "colorbar": {
              "outlinewidth": 0,
              "ticks": ""
             }
            },
            "type": "scatterternary"
           }
          ],
          "surface": [
           {
            "colorbar": {
             "outlinewidth": 0,
             "ticks": ""
            },
            "colorscale": [
             [
              0,
              "#0d0887"
             ],
             [
              0.1111111111111111,
              "#46039f"
             ],
             [
              0.2222222222222222,
              "#7201a8"
             ],
             [
              0.3333333333333333,
              "#9c179e"
             ],
             [
              0.4444444444444444,
              "#bd3786"
             ],
             [
              0.5555555555555556,
              "#d8576b"
             ],
             [
              0.6666666666666666,
              "#ed7953"
             ],
             [
              0.7777777777777778,
              "#fb9f3a"
             ],
             [
              0.8888888888888888,
              "#fdca26"
             ],
             [
              1,
              "#f0f921"
             ]
            ],
            "type": "surface"
           }
          ],
          "table": [
           {
            "cells": {
             "fill": {
              "color": "#EBF0F8"
             },
             "line": {
              "color": "white"
             }
            },
            "header": {
             "fill": {
              "color": "#C8D4E3"
             },
             "line": {
              "color": "white"
             }
            },
            "type": "table"
           }
          ]
         },
         "layout": {
          "annotationdefaults": {
           "arrowcolor": "#2a3f5f",
           "arrowhead": 0,
           "arrowwidth": 1
          },
          "autotypenumbers": "strict",
          "coloraxis": {
           "colorbar": {
            "outlinewidth": 0,
            "ticks": ""
           }
          },
          "colorscale": {
           "diverging": [
            [
             0,
             "#8e0152"
            ],
            [
             0.1,
             "#c51b7d"
            ],
            [
             0.2,
             "#de77ae"
            ],
            [
             0.3,
             "#f1b6da"
            ],
            [
             0.4,
             "#fde0ef"
            ],
            [
             0.5,
             "#f7f7f7"
            ],
            [
             0.6,
             "#e6f5d0"
            ],
            [
             0.7,
             "#b8e186"
            ],
            [
             0.8,
             "#7fbc41"
            ],
            [
             0.9,
             "#4d9221"
            ],
            [
             1,
             "#276419"
            ]
           ],
           "sequential": [
            [
             0,
             "#0d0887"
            ],
            [
             0.1111111111111111,
             "#46039f"
            ],
            [
             0.2222222222222222,
             "#7201a8"
            ],
            [
             0.3333333333333333,
             "#9c179e"
            ],
            [
             0.4444444444444444,
             "#bd3786"
            ],
            [
             0.5555555555555556,
             "#d8576b"
            ],
            [
             0.6666666666666666,
             "#ed7953"
            ],
            [
             0.7777777777777778,
             "#fb9f3a"
            ],
            [
             0.8888888888888888,
             "#fdca26"
            ],
            [
             1,
             "#f0f921"
            ]
           ],
           "sequentialminus": [
            [
             0,
             "#0d0887"
            ],
            [
             0.1111111111111111,
             "#46039f"
            ],
            [
             0.2222222222222222,
             "#7201a8"
            ],
            [
             0.3333333333333333,
             "#9c179e"
            ],
            [
             0.4444444444444444,
             "#bd3786"
            ],
            [
             0.5555555555555556,
             "#d8576b"
            ],
            [
             0.6666666666666666,
             "#ed7953"
            ],
            [
             0.7777777777777778,
             "#fb9f3a"
            ],
            [
             0.8888888888888888,
             "#fdca26"
            ],
            [
             1,
             "#f0f921"
            ]
           ]
          },
          "colorway": [
           "#636efa",
           "#EF553B",
           "#00cc96",
           "#ab63fa",
           "#FFA15A",
           "#19d3f3",
           "#FF6692",
           "#B6E880",
           "#FF97FF",
           "#FECB52"
          ],
          "font": {
           "color": "#2a3f5f"
          },
          "geo": {
           "bgcolor": "white",
           "lakecolor": "white",
           "landcolor": "#E5ECF6",
           "showlakes": true,
           "showland": true,
           "subunitcolor": "white"
          },
          "hoverlabel": {
           "align": "left"
          },
          "hovermode": "closest",
          "mapbox": {
           "style": "light"
          },
          "paper_bgcolor": "white",
          "plot_bgcolor": "#E5ECF6",
          "polar": {
           "angularaxis": {
            "gridcolor": "white",
            "linecolor": "white",
            "ticks": ""
           },
           "bgcolor": "#E5ECF6",
           "radialaxis": {
            "gridcolor": "white",
            "linecolor": "white",
            "ticks": ""
           }
          },
          "scene": {
           "xaxis": {
            "backgroundcolor": "#E5ECF6",
            "gridcolor": "white",
            "gridwidth": 2,
            "linecolor": "white",
            "showbackground": true,
            "ticks": "",
            "zerolinecolor": "white"
           },
           "yaxis": {
            "backgroundcolor": "#E5ECF6",
            "gridcolor": "white",
            "gridwidth": 2,
            "linecolor": "white",
            "showbackground": true,
            "ticks": "",
            "zerolinecolor": "white"
           },
           "zaxis": {
            "backgroundcolor": "#E5ECF6",
            "gridcolor": "white",
            "gridwidth": 2,
            "linecolor": "white",
            "showbackground": true,
            "ticks": "",
            "zerolinecolor": "white"
           }
          },
          "shapedefaults": {
           "line": {
            "color": "#2a3f5f"
           }
          },
          "ternary": {
           "aaxis": {
            "gridcolor": "white",
            "linecolor": "white",
            "ticks": ""
           },
           "baxis": {
            "gridcolor": "white",
            "linecolor": "white",
            "ticks": ""
           },
           "bgcolor": "#E5ECF6",
           "caxis": {
            "gridcolor": "white",
            "linecolor": "white",
            "ticks": ""
           }
          },
          "title": {
           "x": 0.05
          },
          "xaxis": {
           "automargin": true,
           "gridcolor": "white",
           "linecolor": "white",
           "ticks": "",
           "title": {
            "standoff": 15
           },
           "zerolinecolor": "white",
           "zerolinewidth": 2
          },
          "yaxis": {
           "automargin": true,
           "gridcolor": "white",
           "linecolor": "white",
           "ticks": "",
           "title": {
            "standoff": 15
           },
           "zerolinecolor": "white",
           "zerolinewidth": 2
          }
         }
        },
        "title": {
         "text": "Selfmade vs Inherited Status Distribution by Gender"
        },
        "width": 600,
        "xaxis": {
         "anchor": "y",
         "domain": [
          0,
          1
         ],
         "title": {
          "text": "gender"
         }
        },
        "yaxis": {
         "anchor": "x",
         "domain": [
          0,
          1
         ],
         "title": {
          "text": "Count"
         }
        }
       }
      },
      "text/html": [
       "<div>                            <div id=\"d6e9f4f3-cebf-4108-8f0a-fb1495f654ae\" class=\"plotly-graph-div\" style=\"height:525px; width:600px;\"></div>            <script type=\"text/javascript\">                require([\"plotly\"], function(Plotly) {                    window.PLOTLYENV=window.PLOTLYENV || {};                                    if (document.getElementById(\"d6e9f4f3-cebf-4108-8f0a-fb1495f654ae\")) {                    Plotly.newPlot(                        \"d6e9f4f3-cebf-4108-8f0a-fb1495f654ae\",                        [{\"alignmentgroup\":\"True\",\"hovertemplate\":\"Status=Inherited Wealth<br>gender=%{x}<br>Count=%{y}<extra></extra>\",\"legendgroup\":\"Inherited Wealth\",\"marker\":{\"color\":\"#636efa\",\"pattern\":{\"shape\":\"\"}},\"name\":\"Inherited Wealth\",\"offsetgroup\":\"Inherited Wealth\",\"orientation\":\"v\",\"showlegend\":true,\"textposition\":\"auto\",\"x\":[\"F\",\"M\"],\"xaxis\":\"x\",\"y\":[241,587],\"yaxis\":\"y\",\"type\":\"bar\"},{\"alignmentgroup\":\"True\",\"hovertemplate\":\"Status=Self Made Billionaires<br>gender=%{x}<br>Count=%{y}<extra></extra>\",\"legendgroup\":\"Self Made Billionaires\",\"marker\":{\"color\":\"#EF553B\",\"pattern\":{\"shape\":\"\"}},\"name\":\"Self Made Billionaires\",\"offsetgroup\":\"Self Made Billionaires\",\"orientation\":\"v\",\"showlegend\":true,\"textposition\":\"auto\",\"x\":[\"F\",\"M\"],\"xaxis\":\"x\",\"y\":[96,1716],\"yaxis\":\"y\",\"type\":\"bar\"}],                        {\"template\":{\"data\":{\"histogram2dcontour\":[{\"type\":\"histogram2dcontour\",\"colorbar\":{\"outlinewidth\":0,\"ticks\":\"\"},\"colorscale\":[[0.0,\"#0d0887\"],[0.1111111111111111,\"#46039f\"],[0.2222222222222222,\"#7201a8\"],[0.3333333333333333,\"#9c179e\"],[0.4444444444444444,\"#bd3786\"],[0.5555555555555556,\"#d8576b\"],[0.6666666666666666,\"#ed7953\"],[0.7777777777777778,\"#fb9f3a\"],[0.8888888888888888,\"#fdca26\"],[1.0,\"#f0f921\"]]}],\"choropleth\":[{\"type\":\"choropleth\",\"colorbar\":{\"outlinewidth\":0,\"ticks\":\"\"}}],\"histogram2d\":[{\"type\":\"histogram2d\",\"colorbar\":{\"outlinewidth\":0,\"ticks\":\"\"},\"colorscale\":[[0.0,\"#0d0887\"],[0.1111111111111111,\"#46039f\"],[0.2222222222222222,\"#7201a8\"],[0.3333333333333333,\"#9c179e\"],[0.4444444444444444,\"#bd3786\"],[0.5555555555555556,\"#d8576b\"],[0.6666666666666666,\"#ed7953\"],[0.7777777777777778,\"#fb9f3a\"],[0.8888888888888888,\"#fdca26\"],[1.0,\"#f0f921\"]]}],\"heatmap\":[{\"type\":\"heatmap\",\"colorbar\":{\"outlinewidth\":0,\"ticks\":\"\"},\"colorscale\":[[0.0,\"#0d0887\"],[0.1111111111111111,\"#46039f\"],[0.2222222222222222,\"#7201a8\"],[0.3333333333333333,\"#9c179e\"],[0.4444444444444444,\"#bd3786\"],[0.5555555555555556,\"#d8576b\"],[0.6666666666666666,\"#ed7953\"],[0.7777777777777778,\"#fb9f3a\"],[0.8888888888888888,\"#fdca26\"],[1.0,\"#f0f921\"]]}],\"heatmapgl\":[{\"type\":\"heatmapgl\",\"colorbar\":{\"outlinewidth\":0,\"ticks\":\"\"},\"colorscale\":[[0.0,\"#0d0887\"],[0.1111111111111111,\"#46039f\"],[0.2222222222222222,\"#7201a8\"],[0.3333333333333333,\"#9c179e\"],[0.4444444444444444,\"#bd3786\"],[0.5555555555555556,\"#d8576b\"],[0.6666666666666666,\"#ed7953\"],[0.7777777777777778,\"#fb9f3a\"],[0.8888888888888888,\"#fdca26\"],[1.0,\"#f0f921\"]]}],\"contourcarpet\":[{\"type\":\"contourcarpet\",\"colorbar\":{\"outlinewidth\":0,\"ticks\":\"\"}}],\"contour\":[{\"type\":\"contour\",\"colorbar\":{\"outlinewidth\":0,\"ticks\":\"\"},\"colorscale\":[[0.0,\"#0d0887\"],[0.1111111111111111,\"#46039f\"],[0.2222222222222222,\"#7201a8\"],[0.3333333333333333,\"#9c179e\"],[0.4444444444444444,\"#bd3786\"],[0.5555555555555556,\"#d8576b\"],[0.6666666666666666,\"#ed7953\"],[0.7777777777777778,\"#fb9f3a\"],[0.8888888888888888,\"#fdca26\"],[1.0,\"#f0f921\"]]}],\"surface\":[{\"type\":\"surface\",\"colorbar\":{\"outlinewidth\":0,\"ticks\":\"\"},\"colorscale\":[[0.0,\"#0d0887\"],[0.1111111111111111,\"#46039f\"],[0.2222222222222222,\"#7201a8\"],[0.3333333333333333,\"#9c179e\"],[0.4444444444444444,\"#bd3786\"],[0.5555555555555556,\"#d8576b\"],[0.6666666666666666,\"#ed7953\"],[0.7777777777777778,\"#fb9f3a\"],[0.8888888888888888,\"#fdca26\"],[1.0,\"#f0f921\"]]}],\"mesh3d\":[{\"type\":\"mesh3d\",\"colorbar\":{\"outlinewidth\":0,\"ticks\":\"\"}}],\"scatter\":[{\"fillpattern\":{\"fillmode\":\"overlay\",\"size\":10,\"solidity\":0.2},\"type\":\"scatter\"}],\"parcoords\":[{\"type\":\"parcoords\",\"line\":{\"colorbar\":{\"outlinewidth\":0,\"ticks\":\"\"}}}],\"scatterpolargl\":[{\"type\":\"scatterpolargl\",\"marker\":{\"colorbar\":{\"outlinewidth\":0,\"ticks\":\"\"}}}],\"bar\":[{\"error_x\":{\"color\":\"#2a3f5f\"},\"error_y\":{\"color\":\"#2a3f5f\"},\"marker\":{\"line\":{\"color\":\"#E5ECF6\",\"width\":0.5},\"pattern\":{\"fillmode\":\"overlay\",\"size\":10,\"solidity\":0.2}},\"type\":\"bar\"}],\"scattergeo\":[{\"type\":\"scattergeo\",\"marker\":{\"colorbar\":{\"outlinewidth\":0,\"ticks\":\"\"}}}],\"scatterpolar\":[{\"type\":\"scatterpolar\",\"marker\":{\"colorbar\":{\"outlinewidth\":0,\"ticks\":\"\"}}}],\"histogram\":[{\"marker\":{\"pattern\":{\"fillmode\":\"overlay\",\"size\":10,\"solidity\":0.2}},\"type\":\"histogram\"}],\"scattergl\":[{\"type\":\"scattergl\",\"marker\":{\"colorbar\":{\"outlinewidth\":0,\"ticks\":\"\"}}}],\"scatter3d\":[{\"type\":\"scatter3d\",\"line\":{\"colorbar\":{\"outlinewidth\":0,\"ticks\":\"\"}},\"marker\":{\"colorbar\":{\"outlinewidth\":0,\"ticks\":\"\"}}}],\"scattermapbox\":[{\"type\":\"scattermapbox\",\"marker\":{\"colorbar\":{\"outlinewidth\":0,\"ticks\":\"\"}}}],\"scatterternary\":[{\"type\":\"scatterternary\",\"marker\":{\"colorbar\":{\"outlinewidth\":0,\"ticks\":\"\"}}}],\"scattercarpet\":[{\"type\":\"scattercarpet\",\"marker\":{\"colorbar\":{\"outlinewidth\":0,\"ticks\":\"\"}}}],\"carpet\":[{\"aaxis\":{\"endlinecolor\":\"#2a3f5f\",\"gridcolor\":\"white\",\"linecolor\":\"white\",\"minorgridcolor\":\"white\",\"startlinecolor\":\"#2a3f5f\"},\"baxis\":{\"endlinecolor\":\"#2a3f5f\",\"gridcolor\":\"white\",\"linecolor\":\"white\",\"minorgridcolor\":\"white\",\"startlinecolor\":\"#2a3f5f\"},\"type\":\"carpet\"}],\"table\":[{\"cells\":{\"fill\":{\"color\":\"#EBF0F8\"},\"line\":{\"color\":\"white\"}},\"header\":{\"fill\":{\"color\":\"#C8D4E3\"},\"line\":{\"color\":\"white\"}},\"type\":\"table\"}],\"barpolar\":[{\"marker\":{\"line\":{\"color\":\"#E5ECF6\",\"width\":0.5},\"pattern\":{\"fillmode\":\"overlay\",\"size\":10,\"solidity\":0.2}},\"type\":\"barpolar\"}],\"pie\":[{\"automargin\":true,\"type\":\"pie\"}]},\"layout\":{\"autotypenumbers\":\"strict\",\"colorway\":[\"#636efa\",\"#EF553B\",\"#00cc96\",\"#ab63fa\",\"#FFA15A\",\"#19d3f3\",\"#FF6692\",\"#B6E880\",\"#FF97FF\",\"#FECB52\"],\"font\":{\"color\":\"#2a3f5f\"},\"hovermode\":\"closest\",\"hoverlabel\":{\"align\":\"left\"},\"paper_bgcolor\":\"white\",\"plot_bgcolor\":\"#E5ECF6\",\"polar\":{\"bgcolor\":\"#E5ECF6\",\"angularaxis\":{\"gridcolor\":\"white\",\"linecolor\":\"white\",\"ticks\":\"\"},\"radialaxis\":{\"gridcolor\":\"white\",\"linecolor\":\"white\",\"ticks\":\"\"}},\"ternary\":{\"bgcolor\":\"#E5ECF6\",\"aaxis\":{\"gridcolor\":\"white\",\"linecolor\":\"white\",\"ticks\":\"\"},\"baxis\":{\"gridcolor\":\"white\",\"linecolor\":\"white\",\"ticks\":\"\"},\"caxis\":{\"gridcolor\":\"white\",\"linecolor\":\"white\",\"ticks\":\"\"}},\"coloraxis\":{\"colorbar\":{\"outlinewidth\":0,\"ticks\":\"\"}},\"colorscale\":{\"sequential\":[[0.0,\"#0d0887\"],[0.1111111111111111,\"#46039f\"],[0.2222222222222222,\"#7201a8\"],[0.3333333333333333,\"#9c179e\"],[0.4444444444444444,\"#bd3786\"],[0.5555555555555556,\"#d8576b\"],[0.6666666666666666,\"#ed7953\"],[0.7777777777777778,\"#fb9f3a\"],[0.8888888888888888,\"#fdca26\"],[1.0,\"#f0f921\"]],\"sequentialminus\":[[0.0,\"#0d0887\"],[0.1111111111111111,\"#46039f\"],[0.2222222222222222,\"#7201a8\"],[0.3333333333333333,\"#9c179e\"],[0.4444444444444444,\"#bd3786\"],[0.5555555555555556,\"#d8576b\"],[0.6666666666666666,\"#ed7953\"],[0.7777777777777778,\"#fb9f3a\"],[0.8888888888888888,\"#fdca26\"],[1.0,\"#f0f921\"]],\"diverging\":[[0,\"#8e0152\"],[0.1,\"#c51b7d\"],[0.2,\"#de77ae\"],[0.3,\"#f1b6da\"],[0.4,\"#fde0ef\"],[0.5,\"#f7f7f7\"],[0.6,\"#e6f5d0\"],[0.7,\"#b8e186\"],[0.8,\"#7fbc41\"],[0.9,\"#4d9221\"],[1,\"#276419\"]]},\"xaxis\":{\"gridcolor\":\"white\",\"linecolor\":\"white\",\"ticks\":\"\",\"title\":{\"standoff\":15},\"zerolinecolor\":\"white\",\"automargin\":true,\"zerolinewidth\":2},\"yaxis\":{\"gridcolor\":\"white\",\"linecolor\":\"white\",\"ticks\":\"\",\"title\":{\"standoff\":15},\"zerolinecolor\":\"white\",\"automargin\":true,\"zerolinewidth\":2},\"scene\":{\"xaxis\":{\"backgroundcolor\":\"#E5ECF6\",\"gridcolor\":\"white\",\"linecolor\":\"white\",\"showbackground\":true,\"ticks\":\"\",\"zerolinecolor\":\"white\",\"gridwidth\":2},\"yaxis\":{\"backgroundcolor\":\"#E5ECF6\",\"gridcolor\":\"white\",\"linecolor\":\"white\",\"showbackground\":true,\"ticks\":\"\",\"zerolinecolor\":\"white\",\"gridwidth\":2},\"zaxis\":{\"backgroundcolor\":\"#E5ECF6\",\"gridcolor\":\"white\",\"linecolor\":\"white\",\"showbackground\":true,\"ticks\":\"\",\"zerolinecolor\":\"white\",\"gridwidth\":2}},\"shapedefaults\":{\"line\":{\"color\":\"#2a3f5f\"}},\"annotationdefaults\":{\"arrowcolor\":\"#2a3f5f\",\"arrowhead\":0,\"arrowwidth\":1},\"geo\":{\"bgcolor\":\"white\",\"landcolor\":\"#E5ECF6\",\"subunitcolor\":\"white\",\"showland\":true,\"showlakes\":true,\"lakecolor\":\"white\"},\"title\":{\"x\":0.05},\"mapbox\":{\"style\":\"light\"}}},\"xaxis\":{\"anchor\":\"y\",\"domain\":[0.0,1.0],\"title\":{\"text\":\"gender\"}},\"yaxis\":{\"anchor\":\"x\",\"domain\":[0.0,1.0],\"title\":{\"text\":\"Count\"}},\"legend\":{\"title\":{\"text\":\"Status\"},\"tracegroupgap\":0},\"title\":{\"text\":\"Selfmade vs Inherited Status Distribution by Gender\"},\"barmode\":\"relative\",\"width\":600},                        {\"responsive\": true}                    ).then(function(){\n",
       "                            \n",
       "var gd = document.getElementById('d6e9f4f3-cebf-4108-8f0a-fb1495f654ae');\n",
       "var x = new MutationObserver(function (mutations, observer) {{\n",
       "        var display = window.getComputedStyle(gd).display;\n",
       "        if (!display || display === 'none') {{\n",
       "            console.log([gd, 'removed!']);\n",
       "            Plotly.purge(gd);\n",
       "            observer.disconnect();\n",
       "        }}\n",
       "}});\n",
       "\n",
       "// Listen for the removal of the full notebook cells\n",
       "var notebookContainer = gd.closest('#notebook-container');\n",
       "if (notebookContainer) {{\n",
       "    x.observe(notebookContainer, {childList: true});\n",
       "}}\n",
       "\n",
       "// Listen for the clearing of the current output cell\n",
       "var outputEl = gd.closest('.output');\n",
       "if (outputEl) {{\n",
       "    x.observe(outputEl, {childList: true});\n",
       "}}\n",
       "\n",
       "                        })                };                });            </script>        </div>"
      ]
     },
     "metadata": {},
     "output_type": "display_data"
    }
   ],
   "source": [
    "#5.Who Are More Likely to be Self-Made Billionaires, Men or Women?\n",
    "#Analyzing the self-made status among billionaires, differentiated by gender.\n",
    "\n",
    "df['selfMade'].value_counts()\n",
    "#first let's create the new column with mapped value of Selfmade i.e. Selfmade for True and !selfmade for False.\n",
    "df['selfMade_indicator']=df['selfMade'].map({True:'Self Made Billionaires',False:'Inherited Wealth'})\n",
    "#df['selfMade_indicator'].head(10)\n",
    "\n",
    "#now let's create a plotly donut chart\n",
    "fig1=px.pie(df,names='selfMade_indicator',title='Selfmade vs Inherited',hole=0.4)\n",
    "fig1.show()\n",
    "\n",
    "#Almost 69% billionaire seems to be self made and remaining are not self made.\n",
    "\n",
    "#lets create stacked bar chart to indicate the ratio of male vs female in the self made vs inherited race\n",
    "selfmadeMF = df.groupby(['gender', 'selfMade_indicator']).size().reset_index(name='count')\n",
    "\n",
    "fig2 = px.bar(selfmadeMF, x='gender', y='count', color='selfMade_indicator',\n",
    "             labels={'count': 'Count', 'selfMade_indicator': 'Status'},\n",
    "             title='Selfmade vs Inherited Status Distribution by Gender',\n",
    "             barmode='relative',\n",
    "            width=600)\n",
    "\n",
    "fig2.show()"
   ]
  },
  {
   "cell_type": "code",
   "execution_count": null,
   "id": "8175b072",
   "metadata": {},
   "outputs": [],
   "source": [
    "#If we study the above stacked bar plot we see that more than 70% of female billionaire are not self made \n",
    "#in contrast to the almost 75% self made male billionaire's population."
   ]
  },
  {
   "cell_type": "code",
   "execution_count": 246,
   "id": "d73db8bd",
   "metadata": {},
   "outputs": [
    {
     "data": {
      "image/png": "[encoded data removed]",
      "text/plain": [
       "<Figure size 1400x400 with 1 Axes>"
      ]
     },
     "metadata": {},
     "output_type": "display_data"
    }
   ],
   "source": [
    "#6.Plot a wordcloud to visualize the most number of billionaire titles\n",
    "df_title = df.dropna(subset=['title'])\n",
    "\n",
    "text_title = ' '.join(df_title['title'])\n",
    "\n",
    "wc = WordCloud(width=800, height=400, background_color='white',mode = 'RGBA').generate(text_title)\n",
    "\n",
    "plt.figure(figsize=(14,4))\n",
    "plt.imshow(wc, interpolation='bilinear')\n",
    "plt.axis('off')\n",
    "plt.show()"
   ]
  },
  {
   "cell_type": "code",
   "execution_count": 177,
   "id": "f729c5bf",
   "metadata": {},
   "outputs": [],
   "source": [
    "df.to_csv('Cleaned_billionaire_data.csv', index=False)"
   ]
  },
  {
   "cell_type": "code",
   "execution_count": null,
   "id": "fd2c7b2f",
   "metadata": {},
   "outputs": [],
   "source": [
    "\n"
   ]
  },
  {
   "cell_type": "code",
   "execution_count": null,
   "id": "c519ccdc",
   "metadata": {},
   "outputs": [],
   "source": []
  },
  {
   "cell_type": "code",
   "execution_count": null,
   "id": "d4668eca",
   "metadata": {},
   "outputs": [],
   "source": []
  }
 ],
 "metadata": {
  "kernelspec": {
   "display_name": "Python 3 (ipykernel)",
   "language": "python",
   "name": "python3"
  },
  "language_info": {
   "codemirror_mode": {
    "name": "ipython",
    "version": 3
   },
   "file_extension": ".py",
   "mimetype": "text/x-python",
   "name": "python",
   "nbconvert_exporter": "python",
   "pygments_lexer": "ipython3",
   "version": "3.11.5"
  }
 },
 "nbformat": 4,
 "nbformat_minor": 5
}
